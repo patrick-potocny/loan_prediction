{
 "nbformat": 4,
 "nbformat_minor": 0,
 "metadata": {
  "colab": {
   "name": "01_loan_prediction_eda.ipynb",
   "provenance": [],
   "collapsed_sections": [
    "qIfwWW73xgbD",
    "ejGdieyExgbG",
    "AXISdD18xgbJ",
    "d4EUVGCKxgbL",
    "SC5asp3qxgbM",
    "ckks7vtvxgbN",
    "02wB_X9YxgbQ",
    "yO-oJbQVxgbR",
    "VGyLN6GTxgbT",
    "a1zczk8HxgbU"
   ]
  },
  "kernelspec": {
   "display_name": "Python 3",
   "language": "python",
   "name": "python3"
  },
  "language_info": {
   "codemirror_mode": {
    "name": "ipython",
    "version": 2
   },
   "file_extension": ".py",
   "mimetype": "text/x-python",
   "name": "python",
   "nbconvert_exporter": "python",
   "pygments_lexer": "ipython2",
   "version": "2.7.6"
  }
 },
 "cells": [
  {
   "cell_type": "markdown",
   "metadata": {
    "collapsed": true,
    "id": "Fv4gyLKuxgav"
   },
   "source": [
    "# EDA\n",
    "\n"
   ]
  },
  {
   "cell_type": "code",
   "metadata": {
    "colab": {
     "base_uri": "https://localhost:8080/"
    },
    "id": "HnWu1ETQxi-V",
    "executionInfo": {
     "elapsed": 1679,
     "status": "ok",
     "timestamp": 1614801704315,
     "user": {
      "displayName": "Patrik Potocny",
      "photoUrl": "https://lh3.googleusercontent.com/a-/AOh14GihT-mq_XUTP--A3MCz0TsmtvX9TzyVQUXW8HDdvA=s64",
      "userId": "11915763958531241617"
     },
     "user_tz": -60
    },
    "outputId": "e1418084-93ef-40e2-b83d-c01726f5bdc3"
   },
   "source": [
    "# For google colab \n",
    "\n",
    "from google.colab import drive\n",
    "drive.mount('/content/gdrive')"
   ],
   "execution_count": null,
   "outputs": [
    {
     "output_type": "stream",
     "text": [
      "Drive already mounted at /content/gdrive; to attempt to forcibly remount, call drive.mount(\"/content/gdrive\", force_remount=True).\n"
     ],
     "name": "stdout"
    }
   ]
  },
  {
   "cell_type": "code",
   "metadata": {
    "id": "B84MY79cx7ZU"
   },
   "source": [
    "# For google colab \n",
    "import sys\n",
    "sys.path.append('/content/gdrive/MyDrive/Colab Notebooks/loan_prediction')"
   ],
   "execution_count": null,
   "outputs": []
  },
  {
   "cell_type": "code",
   "metadata": {
    "id": "dtRuroKsxga7"
   },
   "source": [
    "import pandas as pd\n",
    "import seaborn as sns\n",
    "\n",
    "from loan_prediction.config import split_train\n",
    "from loan_prediction.custom_funcs import *"
   ],
   "execution_count": null,
   "outputs": []
  },
  {
   "cell_type": "code",
   "metadata": {
    "colab": {
     "base_uri": "https://localhost:8080/"
    },
    "id": "9hySGQmFxga8",
    "executionInfo": {
     "elapsed": 6980,
     "status": "ok",
     "timestamp": 1614801709645,
     "user": {
      "displayName": "Patrik Potocny",
      "photoUrl": "https://lh3.googleusercontent.com/a-/AOh14GihT-mq_XUTP--A3MCz0TsmtvX9TzyVQUXW8HDdvA=s64",
      "userId": "11915763958531241617"
     },
     "user_tz": -60
    },
    "outputId": "a15796da-180a-4ec6-e61e-ca5c64fb28c9"
   },
   "source": [
    "df = pd.read_csv(split_train, index_col='LoanNr_ChkDgt')\n",
    "label = 'MIS_Status'"
   ],
   "execution_count": null,
   "outputs": [
    {
     "output_type": "stream",
     "text": [
      "/usr/local/lib/python3.7/dist-packages/IPython/core/interactiveshell.py:2718: DtypeWarning: Columns (9) have mixed types.Specify dtype option on import or set low_memory=False.\n",
      "  interactivity=interactivity, compiler=compiler, result=result)\n"
     ],
     "name": "stderr"
    }
   ]
  },
  {
   "cell_type": "code",
   "metadata": {
    "colab": {
     "base_uri": "https://localhost:8080/",
     "height": 297
    },
    "id": "9G_xTQJ1xgbA",
    "executionInfo": {
     "elapsed": 6990,
     "status": "ok",
     "timestamp": 1614801709667,
     "user": {
      "displayName": "Patrik Potocny",
      "photoUrl": "https://lh3.googleusercontent.com/a-/AOh14GihT-mq_XUTP--A3MCz0TsmtvX9TzyVQUXW8HDdvA=s64",
      "userId": "11915763958531241617"
     },
     "user_tz": -60
    },
    "outputId": "8aaf8182-1185-4e94-ec26-85f940479ca3"
   },
   "source": [
    "df.describe()"
   ],
   "execution_count": null,
   "outputs": [
    {
     "output_type": "execute_result",
     "data": {
      "text/html": [
       "<div>\n",
       "<style scoped>\n",
       "    .dataframe tbody tr th:only-of-type {\n",
       "        vertical-align: middle;\n",
       "    }\n",
       "\n",
       "    .dataframe tbody tr th {\n",
       "        vertical-align: top;\n",
       "    }\n",
       "\n",
       "    .dataframe thead th {\n",
       "        text-align: right;\n",
       "    }\n",
       "</style>\n",
       "<table border=\"1\" class=\"dataframe\">\n",
       "  <thead>\n",
       "    <tr style=\"text-align: right;\">\n",
       "      <th></th>\n",
       "      <th>Zip</th>\n",
       "      <th>NAICS</th>\n",
       "      <th>Term</th>\n",
       "      <th>NoEmp</th>\n",
       "      <th>NewExist</th>\n",
       "      <th>CreateJob</th>\n",
       "      <th>RetainedJob</th>\n",
       "      <th>FranchiseCode</th>\n",
       "      <th>UrbanRural</th>\n",
       "    </tr>\n",
       "  </thead>\n",
       "  <tbody>\n",
       "    <tr>\n",
       "      <th>count</th>\n",
       "      <td>717733.000000</td>\n",
       "      <td>717733.000000</td>\n",
       "      <td>717733.000000</td>\n",
       "      <td>717733.000000</td>\n",
       "      <td>717633.000000</td>\n",
       "      <td>717733.00000</td>\n",
       "      <td>717733.000000</td>\n",
       "      <td>717733.000000</td>\n",
       "      <td>717733.000000</td>\n",
       "    </tr>\n",
       "    <tr>\n",
       "      <th>mean</th>\n",
       "      <td>53843.424372</td>\n",
       "      <td>398731.357524</td>\n",
       "      <td>110.815890</td>\n",
       "      <td>11.395040</td>\n",
       "      <td>1.280255</td>\n",
       "      <td>8.40327</td>\n",
       "      <td>10.780751</td>\n",
       "      <td>2756.751296</td>\n",
       "      <td>0.756929</td>\n",
       "    </tr>\n",
       "    <tr>\n",
       "      <th>std</th>\n",
       "      <td>31170.958176</td>\n",
       "      <td>263247.877447</td>\n",
       "      <td>78.897445</td>\n",
       "      <td>73.554447</td>\n",
       "      <td>0.451716</td>\n",
       "      <td>236.30060</td>\n",
       "      <td>236.906138</td>\n",
       "      <td>12765.072159</td>\n",
       "      <td>0.646117</td>\n",
       "    </tr>\n",
       "    <tr>\n",
       "      <th>min</th>\n",
       "      <td>0.000000</td>\n",
       "      <td>0.000000</td>\n",
       "      <td>0.000000</td>\n",
       "      <td>0.000000</td>\n",
       "      <td>0.000000</td>\n",
       "      <td>0.00000</td>\n",
       "      <td>0.000000</td>\n",
       "      <td>0.000000</td>\n",
       "      <td>0.000000</td>\n",
       "    </tr>\n",
       "    <tr>\n",
       "      <th>25%</th>\n",
       "      <td>27609.000000</td>\n",
       "      <td>235210.000000</td>\n",
       "      <td>60.000000</td>\n",
       "      <td>2.000000</td>\n",
       "      <td>1.000000</td>\n",
       "      <td>0.00000</td>\n",
       "      <td>0.000000</td>\n",
       "      <td>1.000000</td>\n",
       "      <td>0.000000</td>\n",
       "    </tr>\n",
       "    <tr>\n",
       "      <th>50%</th>\n",
       "      <td>55413.000000</td>\n",
       "      <td>445310.000000</td>\n",
       "      <td>84.000000</td>\n",
       "      <td>4.000000</td>\n",
       "      <td>1.000000</td>\n",
       "      <td>0.00000</td>\n",
       "      <td>1.000000</td>\n",
       "      <td>1.000000</td>\n",
       "      <td>1.000000</td>\n",
       "    </tr>\n",
       "    <tr>\n",
       "      <th>75%</th>\n",
       "      <td>83705.000000</td>\n",
       "      <td>561730.000000</td>\n",
       "      <td>120.000000</td>\n",
       "      <td>10.000000</td>\n",
       "      <td>2.000000</td>\n",
       "      <td>1.00000</td>\n",
       "      <td>4.000000</td>\n",
       "      <td>1.000000</td>\n",
       "      <td>1.000000</td>\n",
       "    </tr>\n",
       "    <tr>\n",
       "      <th>max</th>\n",
       "      <td>99999.000000</td>\n",
       "      <td>928120.000000</td>\n",
       "      <td>569.000000</td>\n",
       "      <td>9999.000000</td>\n",
       "      <td>2.000000</td>\n",
       "      <td>8800.00000</td>\n",
       "      <td>9500.000000</td>\n",
       "      <td>99999.000000</td>\n",
       "      <td>2.000000</td>\n",
       "    </tr>\n",
       "  </tbody>\n",
       "</table>\n",
       "</div>"
      ],
      "text/plain": [
       "                 Zip          NAICS  ...  FranchiseCode     UrbanRural\n",
       "count  717733.000000  717733.000000  ...  717733.000000  717733.000000\n",
       "mean    53843.424372  398731.357524  ...    2756.751296       0.756929\n",
       "std     31170.958176  263247.877447  ...   12765.072159       0.646117\n",
       "min         0.000000       0.000000  ...       0.000000       0.000000\n",
       "25%     27609.000000  235210.000000  ...       1.000000       0.000000\n",
       "50%     55413.000000  445310.000000  ...       1.000000       1.000000\n",
       "75%     83705.000000  561730.000000  ...       1.000000       1.000000\n",
       "max     99999.000000  928120.000000  ...   99999.000000       2.000000\n",
       "\n",
       "[8 rows x 9 columns]"
      ]
     },
     "metadata": {
      "tags": []
     },
     "execution_count": 5
    }
   ]
  },
  {
   "cell_type": "code",
   "metadata": {
    "colab": {
     "base_uri": "https://localhost:8080/"
    },
    "id": "ZtgZhg8NxgbB",
    "executionInfo": {
     "elapsed": 7960,
     "status": "ok",
     "timestamp": 1614801710650,
     "user": {
      "displayName": "Patrik Potocny",
      "photoUrl": "https://lh3.googleusercontent.com/a-/AOh14GihT-mq_XUTP--A3MCz0TsmtvX9TzyVQUXW8HDdvA=s64",
      "userId": "11915763958531241617"
     },
     "user_tz": -60
    },
    "outputId": "024e496a-b4c2-4e88-f4dc-476b7d69454e"
   },
   "source": [
    "df.info()"
   ],
   "execution_count": null,
   "outputs": [
    {
     "output_type": "stream",
     "text": [
      "<class 'pandas.core.frame.DataFrame'>\n",
      "Int64Index: 717733 entries, 5893754007 to 2185585006\n",
      "Data columns (total 26 columns):\n",
      " #   Column             Non-Null Count   Dtype  \n",
      "---  ------             --------------   -----  \n",
      " 0   Name               717723 non-null  object \n",
      " 1   City               717708 non-null  object \n",
      " 2   State              717721 non-null  object \n",
      " 3   Zip                717733 non-null  int64  \n",
      " 4   Bank               716506 non-null  object \n",
      " 5   BankState          716499 non-null  object \n",
      " 6   NAICS              717733 non-null  int64  \n",
      " 7   ApprovalDate       717733 non-null  object \n",
      " 8   ApprovalFY         717733 non-null  object \n",
      " 9   Term               717733 non-null  int64  \n",
      " 10  NoEmp              717733 non-null  int64  \n",
      " 11  NewExist           717633 non-null  float64\n",
      " 12  CreateJob          717733 non-null  int64  \n",
      " 13  RetainedJob        717733 non-null  int64  \n",
      " 14  FranchiseCode      717733 non-null  int64  \n",
      " 15  UrbanRural         717733 non-null  int64  \n",
      " 16  RevLineCr          714120 non-null  object \n",
      " 17  LowDoc             715669 non-null  object \n",
      " 18  ChgOffDate         129893 non-null  object \n",
      " 19  DisbursementDate   715982 non-null  object \n",
      " 20  DisbursementGross  717733 non-null  object \n",
      " 21  BalanceGross       717733 non-null  object \n",
      " 22  MIS_Status         717733 non-null  object \n",
      " 23  ChgOffPrinGr       717733 non-null  object \n",
      " 24  GrAppv             717733 non-null  object \n",
      " 25  SBA_Appv           717733 non-null  object \n",
      "dtypes: float64(1), int64(8), object(17)\n",
      "memory usage: 147.8+ MB\n"
     ],
     "name": "stdout"
    }
   ]
  },
  {
   "cell_type": "code",
   "metadata": {
    "colab": {
     "base_uri": "https://localhost:8080/"
    },
    "id": "lT1gZaSkxgbB",
    "executionInfo": {
     "elapsed": 9018,
     "status": "ok",
     "timestamp": 1614801711719,
     "user": {
      "displayName": "Patrik Potocny",
      "photoUrl": "https://lh3.googleusercontent.com/a-/AOh14GihT-mq_XUTP--A3MCz0TsmtvX9TzyVQUXW8HDdvA=s64",
      "userId": "11915763958531241617"
     },
     "user_tz": -60
    },
    "outputId": "1717409c-4d16-466d-ba9d-a45415b9ba0b"
   },
   "source": [
    "df.isnull().sum()"
   ],
   "execution_count": null,
   "outputs": [
    {
     "output_type": "execute_result",
     "data": {
      "text/plain": [
       "Name                     10\n",
       "City                     25\n",
       "State                    12\n",
       "Zip                       0\n",
       "Bank                   1227\n",
       "BankState              1234\n",
       "NAICS                     0\n",
       "ApprovalDate              0\n",
       "ApprovalFY                0\n",
       "Term                      0\n",
       "NoEmp                     0\n",
       "NewExist                100\n",
       "CreateJob                 0\n",
       "RetainedJob               0\n",
       "FranchiseCode             0\n",
       "UrbanRural                0\n",
       "RevLineCr              3613\n",
       "LowDoc                 2064\n",
       "ChgOffDate           587840\n",
       "DisbursementDate       1751\n",
       "DisbursementGross         0\n",
       "BalanceGross              0\n",
       "MIS_Status                0\n",
       "ChgOffPrinGr              0\n",
       "GrAppv                    0\n",
       "SBA_Appv                  0\n",
       "dtype: int64"
      ]
     },
     "metadata": {
      "tags": []
     },
     "execution_count": 7
    }
   ]
  },
  {
   "cell_type": "code",
   "metadata": {
    "id": "UZb7nbwJxgbC"
   },
   "source": [
    "# preprocessing\n",
    "df = drop_na(df)"
   ],
   "execution_count": null,
   "outputs": []
  },
  {
   "cell_type": "code",
   "metadata": {
    "colab": {
     "base_uri": "https://localhost:8080/"
    },
    "id": "ovqvNMWOxgbC",
    "executionInfo": {
     "elapsed": 9915,
     "status": "ok",
     "timestamp": 1614801712632,
     "user": {
      "displayName": "Patrik Potocny",
      "photoUrl": "https://lh3.googleusercontent.com/a-/AOh14GihT-mq_XUTP--A3MCz0TsmtvX9TzyVQUXW8HDdvA=s64",
      "userId": "11915763958531241617"
     },
     "user_tz": -60
    },
    "outputId": "a65df2ff-5af5-44fb-9138-b820277cf9be"
   },
   "source": [
    "df.isnull().sum()\n"
   ],
   "execution_count": null,
   "outputs": [
    {
     "output_type": "execute_result",
     "data": {
      "text/plain": [
       "Name                      0\n",
       "City                      0\n",
       "State                     0\n",
       "Zip                       0\n",
       "Bank                      0\n",
       "BankState                 0\n",
       "NAICS                     0\n",
       "ApprovalDate              0\n",
       "ApprovalFY                0\n",
       "Term                      0\n",
       "NoEmp                     0\n",
       "NewExist                  0\n",
       "CreateJob                 0\n",
       "RetainedJob               0\n",
       "FranchiseCode             0\n",
       "UrbanRural                0\n",
       "RevLineCr                 0\n",
       "LowDoc                    0\n",
       "ChgOffDate           580324\n",
       "DisbursementDate          0\n",
       "DisbursementGross         0\n",
       "BalanceGross              0\n",
       "MIS_Status                0\n",
       "ChgOffPrinGr              0\n",
       "GrAppv                    0\n",
       "SBA_Appv                  0\n",
       "dtype: int64"
      ]
     },
     "metadata": {
      "tags": []
     },
     "execution_count": 9
    }
   ]
  },
  {
   "cell_type": "markdown",
   "metadata": {
    "collapsed": false,
    "id": "qIfwWW73xgbD"
   },
   "source": [
    "## Name"
   ]
  },
  {
   "cell_type": "code",
   "metadata": {
    "colab": {
     "base_uri": "https://localhost:8080/"
    },
    "id": "cFI6HezJxgbE",
    "executionInfo": {
     "elapsed": 10958,
     "status": "ok",
     "timestamp": 1614801713684,
     "user": {
      "displayName": "Patrik Potocny",
      "photoUrl": "https://lh3.googleusercontent.com/a-/AOh14GihT-mq_XUTP--A3MCz0TsmtvX9TzyVQUXW8HDdvA=s64",
      "userId": "11915763958531241617"
     },
     "user_tz": -60
    },
    "outputId": "25c210e7-42c7-419e-e17d-6ca64dd0a67f"
   },
   "source": [
    "df['Name'].isnull().sum()\n"
   ],
   "execution_count": null,
   "outputs": [
    {
     "output_type": "execute_result",
     "data": {
      "text/plain": [
       "0"
      ]
     },
     "metadata": {
      "tags": []
     },
     "execution_count": 10
    }
   ]
  },
  {
   "cell_type": "code",
   "metadata": {
    "colab": {
     "base_uri": "https://localhost:8080/"
    },
    "id": "3cF5URjRxgbE",
    "executionInfo": {
     "elapsed": 10952,
     "status": "ok",
     "timestamp": 1614801713685,
     "user": {
      "displayName": "Patrik Potocny",
      "photoUrl": "https://lh3.googleusercontent.com/a-/AOh14GihT-mq_XUTP--A3MCz0TsmtvX9TzyVQUXW8HDdvA=s64",
      "userId": "11915763958531241617"
     },
     "user_tz": -60
    },
    "outputId": "cb564cf0-46a4-4bda-dff4-9244f36717bd"
   },
   "source": [
    "df['Name']"
   ],
   "execution_count": null,
   "outputs": [
    {
     "output_type": "execute_result",
     "data": {
      "text/plain": [
       "LoanNr_ChkDgt\n",
       "5893754007           KUT-N-KLIP LAWN SERVICE\n",
       "3842804010    AMERICANA VINEYARDS/WINERY,INC\n",
       "9096044001       WILD WOOD CHAINSAW CARVINGS\n",
       "2982214007               SQUEAKY DOOR MARKET\n",
       "2576085006    RAMZI AFIF KHOURY DBA DOLLAR Z\n",
       "                           ...              \n",
       "3204824000        THE CORNER ANIMAL HOSPITAL\n",
       "1497205002                     USAccessories\n",
       "1333844003                ZADEDA FARMS, INC.\n",
       "9612943001                  DR. ROB'S GARAGE\n",
       "2185585006     SANG YUL LEE DBA MEN IN BLACK\n",
       "Name: Name, Length: 708966, dtype: object"
      ]
     },
     "metadata": {
      "tags": []
     },
     "execution_count": 11
    }
   ]
  },
  {
   "cell_type": "code",
   "metadata": {
    "colab": {
     "base_uri": "https://localhost:8080/"
    },
    "id": "jxDmtcVsxgbE",
    "executionInfo": {
     "elapsed": 10948,
     "status": "ok",
     "timestamp": 1614801713687,
     "user": {
      "displayName": "Patrik Potocny",
      "photoUrl": "https://lh3.googleusercontent.com/a-/AOh14GihT-mq_XUTP--A3MCz0TsmtvX9TzyVQUXW8HDdvA=s64",
      "userId": "11915763958531241617"
     },
     "user_tz": -60
    },
    "outputId": "9f7b941b-5f3e-4bc6-babb-80c4f1dd9747"
   },
   "source": [
    "test = df['Name'].apply(lambda x: str(x)[-4:])\n",
    "test.value_counts()[:10]\n"
   ],
   "execution_count": null,
   "outputs": [
    {
     "output_type": "execute_result",
     "data": {
      "text/plain": [
       " INC    84375\n",
       "INC.    82305\n",
       " LLC    55047\n",
       "Inc.    27429\n",
       "TION    10792\n",
       " Inc     7779\n",
       "PANY     6755\n",
       "NTER     5580\n",
       "VICE     4653\n",
       "CORP     4360\n",
       "Name: Name, dtype: int64"
      ]
     },
     "metadata": {
      "tags": []
     },
     "execution_count": 12
    }
   ]
  },
  {
   "cell_type": "code",
   "metadata": {
    "colab": {
     "base_uri": "https://localhost:8080/"
    },
    "id": "KC8Yd5BsxgbF",
    "executionInfo": {
     "elapsed": 12992,
     "status": "ok",
     "timestamp": 1614801715738,
     "user": {
      "displayName": "Patrik Potocny",
      "photoUrl": "https://lh3.googleusercontent.com/a-/AOh14GihT-mq_XUTP--A3MCz0TsmtvX9TzyVQUXW8HDdvA=s64",
      "userId": "11915763958531241617"
     },
     "user_tz": -60
    },
    "outputId": "d7b17f07-4d98-416b-b0a5-84ebf4068652"
   },
   "source": [
    "most_used_ends = ['INC', 'INC.', 'LLC', 'Inc.', 'TION', 'Inc', 'PANY']\n",
    "for end in most_used_ends:\n",
    "    end_filt = df['Name'].str.endswith(end, na=False)\n",
    "    print(end)\n",
    "    print(df[end_filt][label].value_counts(normalize=True))\n",
    "\n"
   ],
   "execution_count": null,
   "outputs": [
    {
     "output_type": "stream",
     "text": [
      "INC\n",
      "P I F     0.842281\n",
      "CHGOFF    0.157719\n",
      "Name: MIS_Status, dtype: float64\n",
      "INC.\n",
      "P I F     0.881733\n",
      "CHGOFF    0.118267\n",
      "Name: MIS_Status, dtype: float64\n",
      "LLC\n",
      "P I F     0.77819\n",
      "CHGOFF    0.22181\n",
      "Name: MIS_Status, dtype: float64\n",
      "Inc.\n",
      "P I F     0.684531\n",
      "CHGOFF    0.315469\n",
      "Name: MIS_Status, dtype: float64\n",
      "TION\n",
      "P I F     0.850259\n",
      "CHGOFF    0.149741\n",
      "Name: MIS_Status, dtype: float64\n",
      "Inc\n",
      "P I F     0.705686\n",
      "CHGOFF    0.294314\n",
      "Name: MIS_Status, dtype: float64\n",
      "PANY\n",
      "P I F     0.878905\n",
      "CHGOFF    0.121095\n",
      "Name: MIS_Status, dtype: float64\n"
     ],
     "name": "stdout"
    }
   ]
  },
  {
   "cell_type": "code",
   "metadata": {
    "colab": {
     "base_uri": "https://localhost:8080/"
    },
    "id": "vODk17FKxgbF",
    "executionInfo": {
     "elapsed": 16327,
     "status": "ok",
     "timestamp": 1614801719079,
     "user": {
      "displayName": "Patrik Potocny",
      "photoUrl": "https://lh3.googleusercontent.com/a-/AOh14GihT-mq_XUTP--A3MCz0TsmtvX9TzyVQUXW8HDdvA=s64",
      "userId": "11915763958531241617"
     },
     "user_tz": -60
    },
    "outputId": "9841f68e-b54f-456a-9cd8-b67388968368"
   },
   "source": [
    "df = get_endings(df)\n",
    "df[df['name_end'] == 'Other'][label].value_counts(normalize=True)\n"
   ],
   "execution_count": null,
   "outputs": [
    {
     "output_type": "execute_result",
     "data": {
      "text/plain": [
       "P I F     0.824697\n",
       "CHGOFF    0.175303\n",
       "Name: MIS_Status, dtype: float64"
      ]
     },
     "metadata": {
      "tags": []
     },
     "execution_count": 14
    }
   ]
  },
  {
   "cell_type": "code",
   "metadata": {
    "colab": {
     "base_uri": "https://localhost:8080/"
    },
    "id": "sTvHbHd2xgbG",
    "executionInfo": {
     "elapsed": 16321,
     "status": "ok",
     "timestamp": 1614801719080,
     "user": {
      "displayName": "Patrik Potocny",
      "photoUrl": "https://lh3.googleusercontent.com/a-/AOh14GihT-mq_XUTP--A3MCz0TsmtvX9TzyVQUXW8HDdvA=s64",
      "userId": "11915763958531241617"
     },
     "user_tz": -60
    },
    "outputId": "d9edc0d6-fd3d-4a56-caf7-90cddca51d24"
   },
   "source": [
    "df['name_end'].value_counts()\n"
   ],
   "execution_count": null,
   "outputs": [
    {
     "output_type": "execute_result",
     "data": {
      "text/plain": [
       "Other    430876\n",
       "INC       86375\n",
       "INC.      82305\n",
       "LLC       56643\n",
       "Inc.      27429\n",
       "TION      10792\n",
       "Inc        7791\n",
       "PANY       6755\n",
       "Name: name_end, dtype: int64"
      ]
     },
     "metadata": {
      "tags": []
     },
     "execution_count": 15
    }
   ]
  },
  {
   "cell_type": "markdown",
   "metadata": {
    "collapsed": false,
    "id": "ejGdieyExgbG"
   },
   "source": [
    "## City"
   ]
  },
  {
   "cell_type": "code",
   "metadata": {
    "colab": {
     "base_uri": "https://localhost:8080/"
    },
    "id": "p0oMTceCxgbG",
    "executionInfo": {
     "elapsed": 16317,
     "status": "ok",
     "timestamp": 1614801719082,
     "user": {
      "displayName": "Patrik Potocny",
      "photoUrl": "https://lh3.googleusercontent.com/a-/AOh14GihT-mq_XUTP--A3MCz0TsmtvX9TzyVQUXW8HDdvA=s64",
      "userId": "11915763958531241617"
     },
     "user_tz": -60
    },
    "outputId": "38a17289-4729-4609-b300-f78e59175e53"
   },
   "source": [
    "df['City'].isnull().sum()"
   ],
   "execution_count": null,
   "outputs": [
    {
     "output_type": "execute_result",
     "data": {
      "text/plain": [
       "0"
      ]
     },
     "metadata": {
      "tags": []
     },
     "execution_count": 16
    }
   ]
  },
  {
   "cell_type": "code",
   "metadata": {
    "colab": {
     "base_uri": "https://localhost:8080/"
    },
    "id": "x5GJk04KxgbH",
    "executionInfo": {
     "elapsed": 16310,
     "status": "ok",
     "timestamp": 1614801719084,
     "user": {
      "displayName": "Patrik Potocny",
      "photoUrl": "https://lh3.googleusercontent.com/a-/AOh14GihT-mq_XUTP--A3MCz0TsmtvX9TzyVQUXW8HDdvA=s64",
      "userId": "11915763958531241617"
     },
     "user_tz": -60
    },
    "outputId": "c7b7ae03-c6e3-454a-bd70-1846de5ec0c8"
   },
   "source": [
    "df[df['City'].isnull()]"
   ],
   "execution_count": null,
   "outputs": [
    {
     "output_type": "execute_result",
     "data": {
      "text/html": [
       "<div>\n",
       "<style scoped>\n",
       "    .dataframe tbody tr th:only-of-type {\n",
       "        vertical-align: middle;\n",
       "    }\n",
       "\n",
       "    .dataframe tbody tr th {\n",
       "        vertical-align: top;\n",
       "    }\n",
       "\n",
       "    .dataframe thead th {\n",
       "        text-align: right;\n",
       "    }\n",
       "</style>\n",
       "<table border=\"1\" class=\"dataframe\">\n",
       "  <thead>\n",
       "    <tr style=\"text-align: right;\">\n",
       "      <th></th>\n",
       "      <th>name_end</th>\n",
       "      <th>City</th>\n",
       "      <th>State</th>\n",
       "      <th>Zip</th>\n",
       "      <th>Bank</th>\n",
       "      <th>BankState</th>\n",
       "      <th>NAICS</th>\n",
       "      <th>ApprovalDate</th>\n",
       "      <th>ApprovalFY</th>\n",
       "      <th>Term</th>\n",
       "      <th>NoEmp</th>\n",
       "      <th>NewExist</th>\n",
       "      <th>CreateJob</th>\n",
       "      <th>RetainedJob</th>\n",
       "      <th>FranchiseCode</th>\n",
       "      <th>UrbanRural</th>\n",
       "      <th>RevLineCr</th>\n",
       "      <th>LowDoc</th>\n",
       "      <th>ChgOffDate</th>\n",
       "      <th>DisbursementDate</th>\n",
       "      <th>DisbursementGross</th>\n",
       "      <th>BalanceGross</th>\n",
       "      <th>MIS_Status</th>\n",
       "      <th>ChgOffPrinGr</th>\n",
       "      <th>GrAppv</th>\n",
       "      <th>SBA_Appv</th>\n",
       "    </tr>\n",
       "    <tr>\n",
       "      <th>LoanNr_ChkDgt</th>\n",
       "      <th></th>\n",
       "      <th></th>\n",
       "      <th></th>\n",
       "      <th></th>\n",
       "      <th></th>\n",
       "      <th></th>\n",
       "      <th></th>\n",
       "      <th></th>\n",
       "      <th></th>\n",
       "      <th></th>\n",
       "      <th></th>\n",
       "      <th></th>\n",
       "      <th></th>\n",
       "      <th></th>\n",
       "      <th></th>\n",
       "      <th></th>\n",
       "      <th></th>\n",
       "      <th></th>\n",
       "      <th></th>\n",
       "      <th></th>\n",
       "      <th></th>\n",
       "      <th></th>\n",
       "      <th></th>\n",
       "      <th></th>\n",
       "      <th></th>\n",
       "      <th></th>\n",
       "    </tr>\n",
       "  </thead>\n",
       "  <tbody>\n",
       "  </tbody>\n",
       "</table>\n",
       "</div>"
      ],
      "text/plain": [
       "Empty DataFrame\n",
       "Columns: [name_end, City, State, Zip, Bank, BankState, NAICS, ApprovalDate, ApprovalFY, Term, NoEmp, NewExist, CreateJob, RetainedJob, FranchiseCode, UrbanRural, RevLineCr, LowDoc, ChgOffDate, DisbursementDate, DisbursementGross, BalanceGross, MIS_Status, ChgOffPrinGr, GrAppv, SBA_Appv]\n",
       "Index: []"
      ]
     },
     "metadata": {
      "tags": []
     },
     "execution_count": 17
    }
   ]
  },
  {
   "cell_type": "code",
   "metadata": {
    "colab": {
     "base_uri": "https://localhost:8080/"
    },
    "id": "gwYMh2LIxgbH",
    "executionInfo": {
     "elapsed": 16855,
     "status": "ok",
     "timestamp": 1614801719639,
     "user": {
      "displayName": "Patrik Potocny",
      "photoUrl": "https://lh3.googleusercontent.com/a-/AOh14GihT-mq_XUTP--A3MCz0TsmtvX9TzyVQUXW8HDdvA=s64",
      "userId": "11915763958531241617"
     },
     "user_tz": -60
    },
    "outputId": "01e1ccf7-1395-4a2f-95f6-4223380e2068"
   },
   "source": [
    "df['City'].nunique()"
   ],
   "execution_count": null,
   "outputs": [
    {
     "output_type": "execute_result",
     "data": {
      "text/plain": [
       "29575"
      ]
     },
     "metadata": {
      "tags": []
     },
     "execution_count": 18
    }
   ]
  },
  {
   "cell_type": "code",
   "metadata": {
    "colab": {
     "base_uri": "https://localhost:8080/"
    },
    "id": "z72l63pzxgbI",
    "executionInfo": {
     "elapsed": 16850,
     "status": "ok",
     "timestamp": 1614801719641,
     "user": {
      "displayName": "Patrik Potocny",
      "photoUrl": "https://lh3.googleusercontent.com/a-/AOh14GihT-mq_XUTP--A3MCz0TsmtvX9TzyVQUXW8HDdvA=s64",
      "userId": "11915763958531241617"
     },
     "user_tz": -60
    },
    "outputId": "5a526870-9c7d-4caf-8d27-8c37edbcdee8"
   },
   "source": [
    "city_val_counts = df['City'].value_counts()[:10]\n",
    "city_val_counts"
   ],
   "execution_count": null,
   "outputs": [
    {
     "output_type": "execute_result",
     "data": {
      "text/plain": [
       "LOS ANGELES    9188\n",
       "HOUSTON        8114\n",
       "NEW YORK       6264\n",
       "CHICAGO        4802\n",
       "MIAMI          4444\n",
       "SAN DIEGO      4232\n",
       "DALLAS         3992\n",
       "PHOENIX        3546\n",
       "LAS VEGAS      3474\n",
       "BROOKLYN       2970\n",
       "Name: City, dtype: int64"
      ]
     },
     "metadata": {
      "tags": []
     },
     "execution_count": 19
    }
   ]
  },
  {
   "cell_type": "code",
   "metadata": {
    "colab": {
     "base_uri": "https://localhost:8080/"
    },
    "id": "me1XV4lYxgbI",
    "executionInfo": {
     "elapsed": 17445,
     "status": "ok",
     "timestamp": 1614801720244,
     "user": {
      "displayName": "Patrik Potocny",
      "photoUrl": "https://lh3.googleusercontent.com/a-/AOh14GihT-mq_XUTP--A3MCz0TsmtvX9TzyVQUXW8HDdvA=s64",
      "userId": "11915763958531241617"
     },
     "user_tz": -60
    },
    "outputId": "84d90e59-bae2-44d4-8e4a-39d4ef2fa131"
   },
   "source": [
    "top_cities = city_val_counts.index\n",
    "for city in top_cities:\n",
    "    print(f'Current city: {city}')\n",
    "    print(df[df['City'] == city][label].value_counts(normalize=True))"
   ],
   "execution_count": null,
   "outputs": [
    {
     "output_type": "stream",
     "text": [
      "Current city: LOS ANGELES\n",
      "P I F     0.722573\n",
      "CHGOFF    0.277427\n",
      "Name: MIS_Status, dtype: float64\n",
      "Current city: HOUSTON\n",
      "P I F     0.785556\n",
      "CHGOFF    0.214444\n",
      "Name: MIS_Status, dtype: float64\n",
      "Current city: NEW YORK\n",
      "P I F     0.777778\n",
      "CHGOFF    0.222222\n",
      "Name: MIS_Status, dtype: float64\n",
      "Current city: CHICAGO\n",
      "P I F     0.724698\n",
      "CHGOFF    0.275302\n",
      "Name: MIS_Status, dtype: float64\n",
      "Current city: MIAMI\n",
      "P I F     0.671242\n",
      "CHGOFF    0.328758\n",
      "Name: MIS_Status, dtype: float64\n",
      "Current city: SAN DIEGO\n",
      "P I F     0.849716\n",
      "CHGOFF    0.150284\n",
      "Name: MIS_Status, dtype: float64\n",
      "Current city: DALLAS\n",
      "P I F     0.802104\n",
      "CHGOFF    0.197896\n",
      "Name: MIS_Status, dtype: float64\n",
      "Current city: PHOENIX\n",
      "P I F     0.812183\n",
      "CHGOFF    0.187817\n",
      "Name: MIS_Status, dtype: float64\n",
      "Current city: LAS VEGAS\n",
      "P I F     0.748129\n",
      "CHGOFF    0.251871\n",
      "Name: MIS_Status, dtype: float64\n",
      "Current city: BROOKLYN\n",
      "P I F     0.664983\n",
      "CHGOFF    0.335017\n",
      "Name: MIS_Status, dtype: float64\n"
     ],
     "name": "stdout"
    }
   ]
  },
  {
   "cell_type": "code",
   "metadata": {
    "id": "TUKA2vIfxgbI"
   },
   "source": [
    "# preprocessing\n",
    "df = drop_col(df, 'City')\n"
   ],
   "execution_count": null,
   "outputs": []
  },
  {
   "cell_type": "markdown",
   "metadata": {
    "collapsed": false,
    "id": "AXISdD18xgbJ"
   },
   "source": [
    "## State"
   ]
  },
  {
   "cell_type": "code",
   "metadata": {
    "colab": {
     "base_uri": "https://localhost:8080/"
    },
    "id": "OHb_aIenxgbJ",
    "executionInfo": {
     "elapsed": 21440,
     "status": "ok",
     "timestamp": 1614801724255,
     "user": {
      "displayName": "Patrik Potocny",
      "photoUrl": "https://lh3.googleusercontent.com/a-/AOh14GihT-mq_XUTP--A3MCz0TsmtvX9TzyVQUXW8HDdvA=s64",
      "userId": "11915763958531241617"
     },
     "user_tz": -60
    },
    "outputId": "5edd4482-78b3-417d-9e8e-6b056ac73311"
   },
   "source": [
    "basic_cat_col_data(df, 'State', label, show_vals=51)"
   ],
   "execution_count": null,
   "outputs": [
    {
     "output_type": "stream",
     "text": [
      "Null values: 0\n",
      "Unique: 51\n",
      "Vals: \n",
      " CA    103482\n",
      "TX     55378\n",
      "NY     45599\n",
      "FL     32489\n",
      "PA     27557\n",
      "OH     25748\n",
      "IL     23318\n",
      "MA     19800\n",
      "MN     19346\n",
      "NJ     19072\n",
      "WA     18346\n",
      "GA     17555\n",
      "WI     16664\n",
      "MO     16293\n",
      "CO     16257\n",
      "MI     16231\n",
      "UT     14835\n",
      "AZ     13932\n",
      "NC     11174\n",
      "IN     11079\n",
      "MD     10474\n",
      "VA     10380\n",
      "CT      9538\n",
      "NH      9461\n",
      "IA      9455\n",
      "KS      9085\n",
      "OR      8801\n",
      "OK      7789\n",
      "LA      7546\n",
      "TN      7471\n",
      "ID      7413\n",
      "RI      7105\n",
      "MT      6864\n",
      "AL      6571\n",
      "NV      6328\n",
      "KY      6128\n",
      "MS      6040\n",
      "NE      5027\n",
      "AR      5026\n",
      "NM      4758\n",
      "ME      4734\n",
      "SC      4425\n",
      "VT      4279\n",
      "ND      4176\n",
      "SD      3451\n",
      "HI      2806\n",
      "WV      2569\n",
      "WY      2219\n",
      "AK      1891\n",
      "DE      1720\n",
      "DC      1281\n",
      "Name: State, dtype: int64\n",
      "Current category: CA\n",
      "P I F     0.814567\n",
      "CHGOFF    0.185433\n",
      "Name: MIS_Status, dtype: float64\n",
      "Current category: TX\n",
      "P I F     0.811297\n",
      "CHGOFF    0.188703\n",
      "Name: MIS_Status, dtype: float64\n",
      "Current category: NY\n",
      "P I F     0.798175\n",
      "CHGOFF    0.201825\n",
      "Name: MIS_Status, dtype: float64\n",
      "Current category: FL\n",
      "P I F     0.725815\n",
      "CHGOFF    0.274185\n",
      "Name: MIS_Status, dtype: float64\n",
      "Current category: PA\n",
      "P I F     0.852451\n",
      "CHGOFF    0.147549\n",
      "Name: MIS_Status, dtype: float64\n",
      "Current category: OH\n",
      "P I F     0.83591\n",
      "CHGOFF    0.16409\n",
      "Name: MIS_Status, dtype: float64\n",
      "Current category: IL\n",
      "P I F     0.773094\n",
      "CHGOFF    0.226906\n",
      "Name: MIS_Status, dtype: float64\n",
      "Current category: MA\n",
      "P I F     0.870404\n",
      "CHGOFF    0.129596\n",
      "Name: MIS_Status, dtype: float64\n",
      "Current category: MN\n",
      "P I F     0.882146\n",
      "CHGOFF    0.117854\n",
      "Name: MIS_Status, dtype: float64\n",
      "Current category: NJ\n",
      "P I F     0.799969\n",
      "CHGOFF    0.200031\n",
      "Name: MIS_Status, dtype: float64\n",
      "Current category: WA\n",
      "P I F     0.857244\n",
      "CHGOFF    0.142756\n",
      "Name: MIS_Status, dtype: float64\n",
      "Current category: GA\n",
      "P I F     0.760125\n",
      "CHGOFF    0.239875\n",
      "Name: MIS_Status, dtype: float64\n",
      "Current category: WI\n",
      "P I F     0.8777\n",
      "CHGOFF    0.1223\n",
      "Name: MIS_Status, dtype: float64\n",
      "Current category: MO\n",
      "P I F     0.846253\n",
      "CHGOFF    0.153747\n",
      "Name: MIS_Status, dtype: float64\n",
      "Current category: CO\n",
      "P I F     0.820324\n",
      "CHGOFF    0.179676\n",
      "Name: MIS_Status, dtype: float64\n",
      "Current category: MI\n",
      "P I F     0.775122\n",
      "CHGOFF    0.224878\n",
      "Name: MIS_Status, dtype: float64\n",
      "Current category: UT\n",
      "P I F     0.822649\n",
      "CHGOFF    0.177351\n",
      "Name: MIS_Status, dtype: float64\n",
      "Current category: AZ\n",
      "P I F     0.790841\n",
      "CHGOFF    0.209159\n",
      "Name: MIS_Status, dtype: float64\n",
      "Current category: NC\n",
      "P I F     0.809468\n",
      "CHGOFF    0.190532\n",
      "Name: MIS_Status, dtype: float64\n",
      "Current category: IN\n",
      "P I F     0.822728\n",
      "CHGOFF    0.177272\n",
      "Name: MIS_Status, dtype: float64\n",
      "Current category: MD\n",
      "P I F     0.803227\n",
      "CHGOFF    0.196773\n",
      "Name: MIS_Status, dtype: float64\n",
      "Current category: VA\n",
      "P I F     0.810501\n",
      "CHGOFF    0.189499\n",
      "Name: MIS_Status, dtype: float64\n",
      "Current category: CT\n",
      "P I F     0.857517\n",
      "CHGOFF    0.142483\n",
      "Name: MIS_Status, dtype: float64\n",
      "Current category: NH\n",
      "P I F     0.892189\n",
      "CHGOFF    0.107811\n",
      "Name: MIS_Status, dtype: float64\n",
      "Current category: IA\n",
      "P I F     0.885034\n",
      "CHGOFF    0.114966\n",
      "Name: MIS_Status, dtype: float64\n",
      "Current category: KS\n",
      "P I F     0.867694\n",
      "CHGOFF    0.132306\n",
      "Name: MIS_Status, dtype: float64\n",
      "Current category: OR\n",
      "P I F     0.847517\n",
      "CHGOFF    0.152483\n",
      "Name: MIS_Status, dtype: float64\n",
      "Current category: OK\n",
      "P I F     0.846579\n",
      "CHGOFF    0.153421\n",
      "Name: MIS_Status, dtype: float64\n",
      "Current category: LA\n",
      "P I F     0.816592\n",
      "CHGOFF    0.183408\n",
      "Name: MIS_Status, dtype: float64\n",
      "Current category: TN\n",
      "P I F     0.785972\n",
      "CHGOFF    0.214028\n",
      "Name: MIS_Status, dtype: float64\n",
      "Current category: ID\n",
      "P I F     0.859166\n",
      "CHGOFF    0.140834\n",
      "Name: MIS_Status, dtype: float64\n",
      "Current category: RI\n",
      "P I F     0.884448\n",
      "CHGOFF    0.115552\n",
      "Name: MIS_Status, dtype: float64\n",
      "Current category: MT\n",
      "P I F     0.933712\n",
      "CHGOFF    0.066288\n",
      "Name: MIS_Status, dtype: float64\n",
      "Current category: AL\n",
      "P I F     0.834424\n",
      "CHGOFF    0.165576\n",
      "Name: MIS_Status, dtype: float64\n",
      "Current category: NV\n",
      "P I F     0.770386\n",
      "CHGOFF    0.229614\n",
      "Name: MIS_Status, dtype: float64\n",
      "Current category: KY\n",
      "P I F     0.806789\n",
      "CHGOFF    0.193211\n",
      "Name: MIS_Status, dtype: float64\n",
      "Current category: MS\n",
      "P I F     0.841391\n",
      "CHGOFF    0.158609\n",
      "Name: MIS_Status, dtype: float64\n",
      "Current category: NE\n",
      "P I F     0.889596\n",
      "CHGOFF    0.110404\n",
      "Name: MIS_Status, dtype: float64\n",
      "Current category: AR\n",
      "P I F     0.831277\n",
      "CHGOFF    0.168723\n",
      "Name: MIS_Status, dtype: float64\n",
      "Current category: NM\n",
      "P I F     0.894704\n",
      "CHGOFF    0.105296\n",
      "Name: MIS_Status, dtype: float64\n",
      "Current category: ME\n",
      "P I F     0.902408\n",
      "CHGOFF    0.097592\n",
      "Name: MIS_Status, dtype: float64\n",
      "Current category: SC\n",
      "P I F     0.797288\n",
      "CHGOFF    0.202712\n",
      "Name: MIS_Status, dtype: float64\n",
      "Current category: VT\n",
      "P I F     0.925917\n",
      "CHGOFF    0.074083\n",
      "Name: MIS_Status, dtype: float64\n",
      "Current category: ND\n",
      "P I F     0.922414\n",
      "CHGOFF    0.077586\n",
      "Name: MIS_Status, dtype: float64\n",
      "Current category: SD\n",
      "P I F     0.922921\n",
      "CHGOFF    0.077079\n",
      "Name: MIS_Status, dtype: float64\n",
      "Current category: HI\n",
      "P I F     0.84355\n",
      "CHGOFF    0.15645\n",
      "Name: MIS_Status, dtype: float64\n",
      "Current category: WV\n",
      "P I F     0.838848\n",
      "CHGOFF    0.161152\n",
      "Name: MIS_Status, dtype: float64\n",
      "Current category: WY\n",
      "P I F     0.92429\n",
      "CHGOFF    0.07571\n",
      "Name: MIS_Status, dtype: float64\n",
      "Current category: AK\n",
      "P I F     0.879429\n",
      "CHGOFF    0.120571\n",
      "Name: MIS_Status, dtype: float64\n",
      "Current category: DE\n",
      "P I F     0.82093\n",
      "CHGOFF    0.17907\n",
      "Name: MIS_Status, dtype: float64\n",
      "Current category: DC\n",
      "P I F     0.754879\n",
      "CHGOFF    0.245121\n",
      "Name: MIS_Status, dtype: float64\n"
     ],
     "name": "stdout"
    }
   ]
  },
  {
   "cell_type": "code",
   "metadata": {
    "id": "uuYJRHlRxgbK"
   },
   "source": [
    "# df = states_to_rate_categories(df, label)\n"
   ],
   "execution_count": null,
   "outputs": []
  },
  {
   "cell_type": "code",
   "metadata": {
    "colab": {
     "base_uri": "https://localhost:8080/"
    },
    "id": "vvtL0C6uxgbK",
    "executionInfo": {
     "elapsed": 21426,
     "status": "ok",
     "timestamp": 1614801724258,
     "user": {
      "displayName": "Patrik Potocny",
      "photoUrl": "https://lh3.googleusercontent.com/a-/AOh14GihT-mq_XUTP--A3MCz0TsmtvX9TzyVQUXW8HDdvA=s64",
      "userId": "11915763958531241617"
     },
     "user_tz": -60
    },
    "outputId": "cbbd9de3-0bbc-41ce-ca1b-0c5bc58360ac"
   },
   "source": [
    "df[df['State'] == 'u_11'][label].value_counts(normalize=True)"
   ],
   "execution_count": null,
   "outputs": [
    {
     "output_type": "execute_result",
     "data": {
      "text/plain": [
       "Series([], Name: MIS_Status, dtype: float64)"
      ]
     },
     "metadata": {
      "tags": []
     },
     "execution_count": 24
    }
   ]
  },
  {
   "cell_type": "code",
   "metadata": {
    "colab": {
     "base_uri": "https://localhost:8080/"
    },
    "id": "XsLTrt4jxgbK",
    "executionInfo": {
     "elapsed": 21420,
     "status": "ok",
     "timestamp": 1614801724258,
     "user": {
      "displayName": "Patrik Potocny",
      "photoUrl": "https://lh3.googleusercontent.com/a-/AOh14GihT-mq_XUTP--A3MCz0TsmtvX9TzyVQUXW8HDdvA=s64",
      "userId": "11915763958531241617"
     },
     "user_tz": -60
    },
    "outputId": "65fe40ff-479a-4f3e-fe19-83bb0aeee6a9"
   },
   "source": [
    "val_counts = df['State'].value_counts()\n",
    "val_counts"
   ],
   "execution_count": null,
   "outputs": [
    {
     "output_type": "execute_result",
     "data": {
      "text/plain": [
       "CA    103482\n",
       "TX     55378\n",
       "NY     45599\n",
       "FL     32489\n",
       "PA     27557\n",
       "OH     25748\n",
       "IL     23318\n",
       "MA     19800\n",
       "MN     19346\n",
       "NJ     19072\n",
       "WA     18346\n",
       "GA     17555\n",
       "WI     16664\n",
       "MO     16293\n",
       "CO     16257\n",
       "MI     16231\n",
       "UT     14835\n",
       "AZ     13932\n",
       "NC     11174\n",
       "IN     11079\n",
       "MD     10474\n",
       "VA     10380\n",
       "CT      9538\n",
       "NH      9461\n",
       "IA      9455\n",
       "KS      9085\n",
       "OR      8801\n",
       "OK      7789\n",
       "LA      7546\n",
       "TN      7471\n",
       "ID      7413\n",
       "RI      7105\n",
       "MT      6864\n",
       "AL      6571\n",
       "NV      6328\n",
       "KY      6128\n",
       "MS      6040\n",
       "NE      5027\n",
       "AR      5026\n",
       "NM      4758\n",
       "ME      4734\n",
       "SC      4425\n",
       "VT      4279\n",
       "ND      4176\n",
       "SD      3451\n",
       "HI      2806\n",
       "WV      2569\n",
       "WY      2219\n",
       "AK      1891\n",
       "DE      1720\n",
       "DC      1281\n",
       "Name: State, dtype: int64"
      ]
     },
     "metadata": {
      "tags": []
     },
     "execution_count": 25
    }
   ]
  },
  {
   "cell_type": "markdown",
   "metadata": {
    "collapsed": false,
    "id": "d4EUVGCKxgbL"
   },
   "source": [
    "## Zip"
   ]
  },
  {
   "cell_type": "code",
   "metadata": {
    "colab": {
     "base_uri": "https://localhost:8080/"
    },
    "id": "YAo9ltMBxgbL",
    "executionInfo": {
     "elapsed": 21414,
     "status": "ok",
     "timestamp": 1614801724259,
     "user": {
      "displayName": "Patrik Potocny",
      "photoUrl": "https://lh3.googleusercontent.com/a-/AOh14GihT-mq_XUTP--A3MCz0TsmtvX9TzyVQUXW8HDdvA=s64",
      "userId": "11915763958531241617"
     },
     "user_tz": -60
    },
    "outputId": "d7c45791-3d12-4800-e823-f6717204aaa1"
   },
   "source": [
    "basic_cat_col_data(df, 'Zip', label, 5)"
   ],
   "execution_count": null,
   "outputs": [
    {
     "output_type": "stream",
     "text": [
      "Null values: 0\n",
      "Unique: 31654\n",
      "Vals: \n",
      " 10001    749\n",
      "90015    732\n",
      "93401    611\n",
      "90010    583\n",
      "33166    525\n",
      "Name: Zip, dtype: int64\n",
      "Current category: 10001\n",
      "P I F     0.738318\n",
      "CHGOFF    0.261682\n",
      "Name: MIS_Status, dtype: float64\n",
      "Current category: 90015\n",
      "P I F     0.692623\n",
      "CHGOFF    0.307377\n",
      "Name: MIS_Status, dtype: float64\n",
      "Current category: 93401\n",
      "P I F     0.903437\n",
      "CHGOFF    0.096563\n",
      "Name: MIS_Status, dtype: float64\n",
      "Current category: 90010\n",
      "CHGOFF    0.540309\n",
      "P I F     0.459691\n",
      "Name: MIS_Status, dtype: float64\n",
      "Current category: 33166\n",
      "P I F     0.695238\n",
      "CHGOFF    0.304762\n",
      "Name: MIS_Status, dtype: float64\n"
     ],
     "name": "stdout"
    }
   ]
  },
  {
   "cell_type": "code",
   "metadata": {
    "id": "mLc1jaorxgbL"
   },
   "source": [
    "df = drop_col(df, 'Zip')"
   ],
   "execution_count": null,
   "outputs": []
  },
  {
   "cell_type": "code",
   "metadata": {
    "colab": {
     "base_uri": "https://localhost:8080/"
    },
    "id": "Q3eTfrF5xgbL",
    "executionInfo": {
     "elapsed": 22419,
     "status": "ok",
     "timestamp": 1614801725278,
     "user": {
      "displayName": "Patrik Potocny",
      "photoUrl": "https://lh3.googleusercontent.com/a-/AOh14GihT-mq_XUTP--A3MCz0TsmtvX9TzyVQUXW8HDdvA=s64",
      "userId": "11915763958531241617"
     },
     "user_tz": -60
    },
    "outputId": "517d823b-805f-4684-e110-b959ef12bedc"
   },
   "source": [
    "df"
   ],
   "execution_count": null,
   "outputs": [
    {
     "output_type": "execute_result",
     "data": {
      "text/html": [
       "<div>\n",
       "<style scoped>\n",
       "    .dataframe tbody tr th:only-of-type {\n",
       "        vertical-align: middle;\n",
       "    }\n",
       "\n",
       "    .dataframe tbody tr th {\n",
       "        vertical-align: top;\n",
       "    }\n",
       "\n",
       "    .dataframe thead th {\n",
       "        text-align: right;\n",
       "    }\n",
       "</style>\n",
       "<table border=\"1\" class=\"dataframe\">\n",
       "  <thead>\n",
       "    <tr style=\"text-align: right;\">\n",
       "      <th></th>\n",
       "      <th>name_end</th>\n",
       "      <th>State</th>\n",
       "      <th>Bank</th>\n",
       "      <th>BankState</th>\n",
       "      <th>NAICS</th>\n",
       "      <th>ApprovalDate</th>\n",
       "      <th>ApprovalFY</th>\n",
       "      <th>Term</th>\n",
       "      <th>NoEmp</th>\n",
       "      <th>NewExist</th>\n",
       "      <th>CreateJob</th>\n",
       "      <th>RetainedJob</th>\n",
       "      <th>FranchiseCode</th>\n",
       "      <th>UrbanRural</th>\n",
       "      <th>RevLineCr</th>\n",
       "      <th>LowDoc</th>\n",
       "      <th>ChgOffDate</th>\n",
       "      <th>DisbursementDate</th>\n",
       "      <th>DisbursementGross</th>\n",
       "      <th>BalanceGross</th>\n",
       "      <th>MIS_Status</th>\n",
       "      <th>ChgOffPrinGr</th>\n",
       "      <th>GrAppv</th>\n",
       "      <th>SBA_Appv</th>\n",
       "    </tr>\n",
       "    <tr>\n",
       "      <th>LoanNr_ChkDgt</th>\n",
       "      <th></th>\n",
       "      <th></th>\n",
       "      <th></th>\n",
       "      <th></th>\n",
       "      <th></th>\n",
       "      <th></th>\n",
       "      <th></th>\n",
       "      <th></th>\n",
       "      <th></th>\n",
       "      <th></th>\n",
       "      <th></th>\n",
       "      <th></th>\n",
       "      <th></th>\n",
       "      <th></th>\n",
       "      <th></th>\n",
       "      <th></th>\n",
       "      <th></th>\n",
       "      <th></th>\n",
       "      <th></th>\n",
       "      <th></th>\n",
       "      <th></th>\n",
       "      <th></th>\n",
       "      <th></th>\n",
       "      <th></th>\n",
       "    </tr>\n",
       "  </thead>\n",
       "  <tbody>\n",
       "    <tr>\n",
       "      <th>5893754007</th>\n",
       "      <td>Other</td>\n",
       "      <td>FL</td>\n",
       "      <td>BANK OF AMERICA NATL ASSOC</td>\n",
       "      <td>NC</td>\n",
       "      <td>561730</td>\n",
       "      <td>22-Nov-02</td>\n",
       "      <td>2003</td>\n",
       "      <td>84</td>\n",
       "      <td>1</td>\n",
       "      <td>1.0</td>\n",
       "      <td>0</td>\n",
       "      <td>1</td>\n",
       "      <td>1</td>\n",
       "      <td>1</td>\n",
       "      <td>Y</td>\n",
       "      <td>N</td>\n",
       "      <td>NaN</td>\n",
       "      <td>31-Jan-03</td>\n",
       "      <td>$10,000.00</td>\n",
       "      <td>$0.00</td>\n",
       "      <td>P I F</td>\n",
       "      <td>$0.00</td>\n",
       "      <td>$10,000.00</td>\n",
       "      <td>$5,000.00</td>\n",
       "    </tr>\n",
       "    <tr>\n",
       "      <th>3842804010</th>\n",
       "      <td>INC</td>\n",
       "      <td>NY</td>\n",
       "      <td>ALTERNATIVES FCU</td>\n",
       "      <td>NY</td>\n",
       "      <td>312130</td>\n",
       "      <td>18-Jul-00</td>\n",
       "      <td>2000</td>\n",
       "      <td>12</td>\n",
       "      <td>9</td>\n",
       "      <td>1.0</td>\n",
       "      <td>0</td>\n",
       "      <td>0</td>\n",
       "      <td>1</td>\n",
       "      <td>2</td>\n",
       "      <td>N</td>\n",
       "      <td>N</td>\n",
       "      <td>NaN</td>\n",
       "      <td>30-Sep-00</td>\n",
       "      <td>$60,000.00</td>\n",
       "      <td>$0.00</td>\n",
       "      <td>P I F</td>\n",
       "      <td>$0.00</td>\n",
       "      <td>$60,000.00</td>\n",
       "      <td>$45,000.00</td>\n",
       "    </tr>\n",
       "    <tr>\n",
       "      <th>9096044001</th>\n",
       "      <td>Other</td>\n",
       "      <td>IA</td>\n",
       "      <td>BBCN BANK</td>\n",
       "      <td>CA</td>\n",
       "      <td>453998</td>\n",
       "      <td>13-Sep-05</td>\n",
       "      <td>2005</td>\n",
       "      <td>48</td>\n",
       "      <td>1</td>\n",
       "      <td>1.0</td>\n",
       "      <td>0</td>\n",
       "      <td>1</td>\n",
       "      <td>1</td>\n",
       "      <td>1</td>\n",
       "      <td>0</td>\n",
       "      <td>N</td>\n",
       "      <td>3-Nov-08</td>\n",
       "      <td>30-Sep-05</td>\n",
       "      <td>$10,000.00</td>\n",
       "      <td>$0.00</td>\n",
       "      <td>CHGOFF</td>\n",
       "      <td>$7,422.00</td>\n",
       "      <td>$10,000.00</td>\n",
       "      <td>$5,000.00</td>\n",
       "    </tr>\n",
       "    <tr>\n",
       "      <th>2982214007</th>\n",
       "      <td>Other</td>\n",
       "      <td>SD</td>\n",
       "      <td>WELLS FARGO BANK NATL ASSOC</td>\n",
       "      <td>SD</td>\n",
       "      <td>445110</td>\n",
       "      <td>2-Jun-99</td>\n",
       "      <td>1999</td>\n",
       "      <td>60</td>\n",
       "      <td>9</td>\n",
       "      <td>1.0</td>\n",
       "      <td>0</td>\n",
       "      <td>0</td>\n",
       "      <td>1</td>\n",
       "      <td>0</td>\n",
       "      <td>0</td>\n",
       "      <td>Y</td>\n",
       "      <td>NaN</td>\n",
       "      <td>30-Sep-99</td>\n",
       "      <td>$26,000.00</td>\n",
       "      <td>$0.00</td>\n",
       "      <td>P I F</td>\n",
       "      <td>$0.00</td>\n",
       "      <td>$26,000.00</td>\n",
       "      <td>$20,800.00</td>\n",
       "    </tr>\n",
       "    <tr>\n",
       "      <th>2576085006</th>\n",
       "      <td>Other</td>\n",
       "      <td>CA</td>\n",
       "      <td>CAPITAL ONE NATL ASSOC</td>\n",
       "      <td>VA</td>\n",
       "      <td>452990</td>\n",
       "      <td>17-Jul-07</td>\n",
       "      <td>2007</td>\n",
       "      <td>66</td>\n",
       "      <td>3</td>\n",
       "      <td>1.0</td>\n",
       "      <td>1</td>\n",
       "      <td>3</td>\n",
       "      <td>0</td>\n",
       "      <td>1</td>\n",
       "      <td>N</td>\n",
       "      <td>N</td>\n",
       "      <td>10-Jul-10</td>\n",
       "      <td>31-Aug-07</td>\n",
       "      <td>$100,000.00</td>\n",
       "      <td>$0.00</td>\n",
       "      <td>CHGOFF</td>\n",
       "      <td>$86,893.00</td>\n",
       "      <td>$100,000.00</td>\n",
       "      <td>$50,000.00</td>\n",
       "    </tr>\n",
       "    <tr>\n",
       "      <th>...</th>\n",
       "      <td>...</td>\n",
       "      <td>...</td>\n",
       "      <td>...</td>\n",
       "      <td>...</td>\n",
       "      <td>...</td>\n",
       "      <td>...</td>\n",
       "      <td>...</td>\n",
       "      <td>...</td>\n",
       "      <td>...</td>\n",
       "      <td>...</td>\n",
       "      <td>...</td>\n",
       "      <td>...</td>\n",
       "      <td>...</td>\n",
       "      <td>...</td>\n",
       "      <td>...</td>\n",
       "      <td>...</td>\n",
       "      <td>...</td>\n",
       "      <td>...</td>\n",
       "      <td>...</td>\n",
       "      <td>...</td>\n",
       "      <td>...</td>\n",
       "      <td>...</td>\n",
       "      <td>...</td>\n",
       "      <td>...</td>\n",
       "    </tr>\n",
       "    <tr>\n",
       "      <th>3204824000</th>\n",
       "      <td>Other</td>\n",
       "      <td>NY</td>\n",
       "      <td>UNITY BANK</td>\n",
       "      <td>NJ</td>\n",
       "      <td>541940</td>\n",
       "      <td>27-Sep-99</td>\n",
       "      <td>1999</td>\n",
       "      <td>228</td>\n",
       "      <td>2</td>\n",
       "      <td>2.0</td>\n",
       "      <td>4</td>\n",
       "      <td>2</td>\n",
       "      <td>1</td>\n",
       "      <td>1</td>\n",
       "      <td>0</td>\n",
       "      <td>N</td>\n",
       "      <td>NaN</td>\n",
       "      <td>30-Apr-00</td>\n",
       "      <td>$500,000.00</td>\n",
       "      <td>$0.00</td>\n",
       "      <td>P I F</td>\n",
       "      <td>$0.00</td>\n",
       "      <td>$500,000.00</td>\n",
       "      <td>$375,000.00</td>\n",
       "    </tr>\n",
       "    <tr>\n",
       "      <th>1497205002</th>\n",
       "      <td>Other</td>\n",
       "      <td>CA</td>\n",
       "      <td>BANK OF AMERICA NATL ASSOC</td>\n",
       "      <td>NC</td>\n",
       "      <td>422320</td>\n",
       "      <td>13-Oct-05</td>\n",
       "      <td>2006</td>\n",
       "      <td>57</td>\n",
       "      <td>1</td>\n",
       "      <td>2.0</td>\n",
       "      <td>0</td>\n",
       "      <td>1</td>\n",
       "      <td>0</td>\n",
       "      <td>1</td>\n",
       "      <td>T</td>\n",
       "      <td>N</td>\n",
       "      <td>14-Aug-08</td>\n",
       "      <td>31-Mar-06</td>\n",
       "      <td>$45,450.00</td>\n",
       "      <td>$0.00</td>\n",
       "      <td>CHGOFF</td>\n",
       "      <td>$44,450.00</td>\n",
       "      <td>$45,000.00</td>\n",
       "      <td>$22,500.00</td>\n",
       "    </tr>\n",
       "    <tr>\n",
       "      <th>1333844003</th>\n",
       "      <td>INC.</td>\n",
       "      <td>NH</td>\n",
       "      <td>GRANITE ST. ECONOMIC DEVEL COR</td>\n",
       "      <td>NH</td>\n",
       "      <td>0</td>\n",
       "      <td>10-Jun-97</td>\n",
       "      <td>1997</td>\n",
       "      <td>240</td>\n",
       "      <td>8</td>\n",
       "      <td>2.0</td>\n",
       "      <td>8</td>\n",
       "      <td>0</td>\n",
       "      <td>1</td>\n",
       "      <td>0</td>\n",
       "      <td>N</td>\n",
       "      <td>N</td>\n",
       "      <td>NaN</td>\n",
       "      <td>11-Mar-98</td>\n",
       "      <td>$291,000.00</td>\n",
       "      <td>$0.00</td>\n",
       "      <td>P I F</td>\n",
       "      <td>$0.00</td>\n",
       "      <td>$291,000.00</td>\n",
       "      <td>$291,000.00</td>\n",
       "    </tr>\n",
       "    <tr>\n",
       "      <th>9612943001</th>\n",
       "      <td>Other</td>\n",
       "      <td>ME</td>\n",
       "      <td>NORTHEAST BANK</td>\n",
       "      <td>ME</td>\n",
       "      <td>811111</td>\n",
       "      <td>7-Oct-96</td>\n",
       "      <td>1997</td>\n",
       "      <td>120</td>\n",
       "      <td>1</td>\n",
       "      <td>1.0</td>\n",
       "      <td>0</td>\n",
       "      <td>0</td>\n",
       "      <td>1</td>\n",
       "      <td>0</td>\n",
       "      <td>N</td>\n",
       "      <td>Y</td>\n",
       "      <td>NaN</td>\n",
       "      <td>31-Dec-96</td>\n",
       "      <td>$30,000.00</td>\n",
       "      <td>$0.00</td>\n",
       "      <td>P I F</td>\n",
       "      <td>$0.00</td>\n",
       "      <td>$30,000.00</td>\n",
       "      <td>$24,000.00</td>\n",
       "    </tr>\n",
       "    <tr>\n",
       "      <th>2185585006</th>\n",
       "      <td>Other</td>\n",
       "      <td>VA</td>\n",
       "      <td>PNC BANK, NATIONAL ASSOCIATION</td>\n",
       "      <td>DE</td>\n",
       "      <td>722110</td>\n",
       "      <td>20-Dec-06</td>\n",
       "      <td>2007</td>\n",
       "      <td>12</td>\n",
       "      <td>1</td>\n",
       "      <td>1.0</td>\n",
       "      <td>3</td>\n",
       "      <td>1</td>\n",
       "      <td>0</td>\n",
       "      <td>1</td>\n",
       "      <td>Y</td>\n",
       "      <td>N</td>\n",
       "      <td>9-Mar-08</td>\n",
       "      <td>31-Jan-07</td>\n",
       "      <td>$50,000.00</td>\n",
       "      <td>$0.00</td>\n",
       "      <td>CHGOFF</td>\n",
       "      <td>$50,000.00</td>\n",
       "      <td>$50,000.00</td>\n",
       "      <td>$25,000.00</td>\n",
       "    </tr>\n",
       "  </tbody>\n",
       "</table>\n",
       "<p>708966 rows × 24 columns</p>\n",
       "</div>"
      ],
      "text/plain": [
       "              name_end State  ...        GrAppv      SBA_Appv\n",
       "LoanNr_ChkDgt                 ...                            \n",
       "5893754007       Other    FL  ...   $10,000.00     $5,000.00 \n",
       "3842804010         INC    NY  ...   $60,000.00    $45,000.00 \n",
       "9096044001       Other    IA  ...   $10,000.00     $5,000.00 \n",
       "2982214007       Other    SD  ...   $26,000.00    $20,800.00 \n",
       "2576085006       Other    CA  ...  $100,000.00    $50,000.00 \n",
       "...                ...   ...  ...           ...           ...\n",
       "3204824000       Other    NY  ...  $500,000.00   $375,000.00 \n",
       "1497205002       Other    CA  ...   $45,000.00    $22,500.00 \n",
       "1333844003        INC.    NH  ...  $291,000.00   $291,000.00 \n",
       "9612943001       Other    ME  ...   $30,000.00    $24,000.00 \n",
       "2185585006       Other    VA  ...   $50,000.00    $25,000.00 \n",
       "\n",
       "[708966 rows x 24 columns]"
      ]
     },
     "metadata": {
      "tags": []
     },
     "execution_count": 28
    }
   ]
  },
  {
   "cell_type": "markdown",
   "metadata": {
    "collapsed": false,
    "id": "SC5asp3qxgbM"
   },
   "source": [
    "## Bank"
   ]
  },
  {
   "cell_type": "code",
   "metadata": {
    "colab": {
     "base_uri": "https://localhost:8080/"
    },
    "id": "IlcZ-VkFxgbM",
    "executionInfo": {
     "elapsed": 23266,
     "status": "ok",
     "timestamp": 1614801726175,
     "user": {
      "displayName": "Patrik Potocny",
      "photoUrl": "https://lh3.googleusercontent.com/a-/AOh14GihT-mq_XUTP--A3MCz0TsmtvX9TzyVQUXW8HDdvA=s64",
      "userId": "11915763958531241617"
     },
     "user_tz": -60
    },
    "outputId": "2ae58a31-37f8-42c4-f803-16381ed037ac"
   },
   "source": [
    "basic_cat_col_data(df, 'Bank', label, 10)\n"
   ],
   "execution_count": null,
   "outputs": [
    {
     "output_type": "stream",
     "text": [
      "Null values: 0\n",
      "Unique: 5579\n",
      "Vals: \n",
      " BANK OF AMERICA NATL ASSOC        69043\n",
      "WELLS FARGO BANK NATL ASSOC       50210\n",
      "JPMORGAN CHASE BANK NATL ASSOC    37954\n",
      "U.S. BANK NATIONAL ASSOCIATION    27853\n",
      "CITIZENS BANK NATL ASSOC          26727\n",
      "PNC BANK, NATIONAL ASSOCIATION    21774\n",
      "BBCN BANK                         18238\n",
      "CAPITAL ONE NATL ASSOC            17766\n",
      "MANUFACTURERS & TRADERS TR CO      8912\n",
      "READYCAP LENDING, LLC              8459\n",
      "Name: Bank, dtype: int64\n",
      "Current category: BANK OF AMERICA NATL ASSOC\n",
      "P I F     0.723245\n",
      "CHGOFF    0.276755\n",
      "Name: MIS_Status, dtype: float64\n",
      "Current category: WELLS FARGO BANK NATL ASSOC\n",
      "P I F     0.858096\n",
      "CHGOFF    0.141904\n",
      "Name: MIS_Status, dtype: float64\n",
      "Current category: JPMORGAN CHASE BANK NATL ASSOC\n",
      "P I F     0.721242\n",
      "CHGOFF    0.278758\n",
      "Name: MIS_Status, dtype: float64\n",
      "Current category: U.S. BANK NATIONAL ASSOCIATION\n",
      "P I F     0.826949\n",
      "CHGOFF    0.173051\n",
      "Name: MIS_Status, dtype: float64\n",
      "Current category: CITIZENS BANK NATL ASSOC\n",
      "P I F     0.773749\n",
      "CHGOFF    0.226251\n",
      "Name: MIS_Status, dtype: float64\n",
      "Current category: PNC BANK, NATIONAL ASSOCIATION\n",
      "P I F     0.804859\n",
      "CHGOFF    0.195141\n",
      "Name: MIS_Status, dtype: float64\n",
      "Current category: BBCN BANK\n",
      "CHGOFF    0.547757\n",
      "P I F     0.452243\n",
      "Name: MIS_Status, dtype: float64\n",
      "Current category: CAPITAL ONE NATL ASSOC\n",
      "P I F     0.589215\n",
      "CHGOFF    0.410785\n",
      "Name: MIS_Status, dtype: float64\n",
      "Current category: MANUFACTURERS & TRADERS TR CO\n",
      "P I F     0.86838\n",
      "CHGOFF    0.13162\n",
      "Name: MIS_Status, dtype: float64\n",
      "Current category: READYCAP LENDING, LLC\n",
      "P I F     0.735193\n",
      "CHGOFF    0.264807\n",
      "Name: MIS_Status, dtype: float64\n"
     ],
     "name": "stdout"
    }
   ]
  },
  {
   "cell_type": "code",
   "metadata": {
    "colab": {
     "base_uri": "https://localhost:8080/"
    },
    "id": "FUYb0GdlxgbM",
    "executionInfo": {
     "elapsed": 23259,
     "status": "ok",
     "timestamp": 1614801726176,
     "user": {
      "displayName": "Patrik Potocny",
      "photoUrl": "https://lh3.googleusercontent.com/a-/AOh14GihT-mq_XUTP--A3MCz0TsmtvX9TzyVQUXW8HDdvA=s64",
      "userId": "11915763958531241617"
     },
     "user_tz": -60
    },
    "outputId": "07d93f90-b35e-48a2-e29c-a1b5db8dc6c6"
   },
   "source": [
    "df['Bank'].value_counts()[:10].sum()"
   ],
   "execution_count": null,
   "outputs": [
    {
     "output_type": "execute_result",
     "data": {
      "text/plain": [
       "286936"
      ]
     },
     "metadata": {
      "tags": []
     },
     "execution_count": 30
    }
   ]
  },
  {
   "cell_type": "code",
   "metadata": {
    "id": "5NmpeUBhxgbN"
   },
   "source": [
    "df = drop_col(df, 'Bank')"
   ],
   "execution_count": null,
   "outputs": []
  },
  {
   "cell_type": "markdown",
   "metadata": {
    "collapsed": false,
    "id": "ckks7vtvxgbN"
   },
   "source": [
    "## BankState\n"
   ]
  },
  {
   "cell_type": "code",
   "metadata": {
    "colab": {
     "base_uri": "https://localhost:8080/"
    },
    "id": "cre3rEU1xgbN",
    "executionInfo": {
     "elapsed": 27040,
     "status": "ok",
     "timestamp": 1614801730009,
     "user": {
      "displayName": "Patrik Potocny",
      "photoUrl": "https://lh3.googleusercontent.com/a-/AOh14GihT-mq_XUTP--A3MCz0TsmtvX9TzyVQUXW8HDdvA=s64",
      "userId": "11915763958531241617"
     },
     "user_tz": -60
    },
    "outputId": "77298eb9-1ec5-4f5a-c84b-d102f4a4fb83"
   },
   "source": [
    "basic_cat_col_data(df, 'BankState', label, 56)"
   ],
   "execution_count": null,
   "outputs": [
    {
     "output_type": "stream",
     "text": [
      "Null values: 0\n",
      "Unique: 56\n",
      "Vals: \n",
      " CA    93247\n",
      "NC    63161\n",
      "IL    51949\n",
      "OH    46278\n",
      "SD    40366\n",
      "TX    37761\n",
      "RI    35066\n",
      "NY    31405\n",
      "VA    23041\n",
      "DE    19555\n",
      "MN    15883\n",
      "UT    14992\n",
      "PA    13525\n",
      "WI    12257\n",
      "MO    11730\n",
      "GA    10918\n",
      "FL    10884\n",
      "MA    10883\n",
      "AL     9620\n",
      "OR     8941\n",
      "WA     8431\n",
      "CO     8364\n",
      "CT     7817\n",
      "IA     7811\n",
      "NJ     7525\n",
      "KS     7010\n",
      "MT     6173\n",
      "IN     6024\n",
      "SC     5927\n",
      "MI     5821\n",
      "OK     5732\n",
      "MD     5550\n",
      "NH     5339\n",
      "AR     4990\n",
      "MS     4675\n",
      "TN     4451\n",
      "NE     4201\n",
      "ND     4055\n",
      "LA     3985\n",
      "VT     3753\n",
      "NM     3460\n",
      "NV     3447\n",
      "KY     3443\n",
      "ID     3426\n",
      "DC     3149\n",
      "AZ     3141\n",
      "ME     2928\n",
      "HI     2320\n",
      "WY     1709\n",
      "WV     1577\n",
      "AK     1133\n",
      "PR      129\n",
      "GU        5\n",
      "AN        1\n",
      "EN        1\n",
      "VI        1\n",
      "Name: BankState, dtype: int64\n",
      "Current category: CA\n",
      "P I F     0.781687\n",
      "CHGOFF    0.218313\n",
      "Name: MIS_Status, dtype: float64\n",
      "Current category: NC\n",
      "P I F     0.705229\n",
      "CHGOFF    0.294771\n",
      "Name: MIS_Status, dtype: float64\n",
      "Current category: IL\n",
      "P I F     0.774702\n",
      "CHGOFF    0.225298\n",
      "Name: MIS_Status, dtype: float64\n",
      "Current category: OH\n",
      "P I F     0.841501\n",
      "CHGOFF    0.158499\n",
      "Name: MIS_Status, dtype: float64\n",
      "Current category: SD\n",
      "P I F     0.819477\n",
      "CHGOFF    0.180523\n",
      "Name: MIS_Status, dtype: float64\n",
      "Current category: TX\n",
      "P I F     0.862053\n",
      "CHGOFF    0.137947\n",
      "Name: MIS_Status, dtype: float64\n",
      "Current category: RI\n",
      "P I F     0.794359\n",
      "CHGOFF    0.205641\n",
      "Name: MIS_Status, dtype: float64\n",
      "Current category: NY\n",
      "P I F     0.830919\n",
      "CHGOFF    0.169081\n",
      "Name: MIS_Status, dtype: float64\n",
      "Current category: VA\n",
      "P I F     0.616857\n",
      "CHGOFF    0.383143\n",
      "Name: MIS_Status, dtype: float64\n",
      "Current category: DE\n",
      "P I F     0.746152\n",
      "CHGOFF    0.253848\n",
      "Name: MIS_Status, dtype: float64\n",
      "Current category: MN\n",
      "P I F     0.921929\n",
      "CHGOFF    0.078071\n",
      "Name: MIS_Status, dtype: float64\n",
      "Current category: UT\n",
      "P I F     0.832577\n",
      "CHGOFF    0.167423\n",
      "Name: MIS_Status, dtype: float64\n",
      "Current category: PA\n",
      "P I F     0.92281\n",
      "CHGOFF    0.07719\n",
      "Name: MIS_Status, dtype: float64\n",
      "Current category: WI\n",
      "P I F     0.880966\n",
      "CHGOFF    0.119034\n",
      "Name: MIS_Status, dtype: float64\n",
      "Current category: MO\n",
      "P I F     0.872549\n",
      "CHGOFF    0.127451\n",
      "Name: MIS_Status, dtype: float64\n",
      "Current category: GA\n",
      "P I F     0.903279\n",
      "CHGOFF    0.096721\n",
      "Name: MIS_Status, dtype: float64\n",
      "Current category: FL\n",
      "P I F     0.840408\n",
      "CHGOFF    0.159592\n",
      "Name: MIS_Status, dtype: float64\n",
      "Current category: MA\n",
      "P I F     0.933566\n",
      "CHGOFF    0.066434\n",
      "Name: MIS_Status, dtype: float64\n",
      "Current category: AL\n",
      "P I F     0.866008\n",
      "CHGOFF    0.133992\n",
      "Name: MIS_Status, dtype: float64\n",
      "Current category: OR\n",
      "P I F     0.824181\n",
      "CHGOFF    0.175819\n",
      "Name: MIS_Status, dtype: float64\n",
      "Current category: WA\n",
      "P I F     0.92148\n",
      "CHGOFF    0.07852\n",
      "Name: MIS_Status, dtype: float64\n",
      "Current category: CO\n",
      "P I F     0.934242\n",
      "CHGOFF    0.065758\n",
      "Name: MIS_Status, dtype: float64\n",
      "Current category: CT\n",
      "P I F     0.861584\n",
      "CHGOFF    0.138416\n",
      "Name: MIS_Status, dtype: float64\n",
      "Current category: IA\n",
      "P I F     0.895148\n",
      "CHGOFF    0.104852\n",
      "Name: MIS_Status, dtype: float64\n",
      "Current category: NJ\n",
      "P I F     0.907774\n",
      "CHGOFF    0.092226\n",
      "Name: MIS_Status, dtype: float64\n",
      "Current category: KS\n",
      "P I F     0.901427\n",
      "CHGOFF    0.098573\n",
      "Name: MIS_Status, dtype: float64\n",
      "Current category: MT\n",
      "P I F     0.945731\n",
      "CHGOFF    0.054269\n",
      "Name: MIS_Status, dtype: float64\n",
      "Current category: IN\n",
      "P I F     0.90488\n",
      "CHGOFF    0.09512\n",
      "Name: MIS_Status, dtype: float64\n",
      "Current category: SC\n",
      "P I F     0.84714\n",
      "CHGOFF    0.15286\n",
      "Name: MIS_Status, dtype: float64\n",
      "Current category: MI\n",
      "P I F     0.914619\n",
      "CHGOFF    0.085381\n",
      "Name: MIS_Status, dtype: float64\n",
      "Current category: OK\n",
      "P I F     0.888521\n",
      "CHGOFF    0.111479\n",
      "Name: MIS_Status, dtype: float64\n",
      "Current category: MD\n",
      "P I F     0.920901\n",
      "CHGOFF    0.079099\n",
      "Name: MIS_Status, dtype: float64\n",
      "Current category: NH\n",
      "P I F     0.946994\n",
      "CHGOFF    0.053006\n",
      "Name: MIS_Status, dtype: float64\n",
      "Current category: AR\n",
      "P I F     0.870341\n",
      "CHGOFF    0.129659\n",
      "Name: MIS_Status, dtype: float64\n",
      "Current category: MS\n",
      "P I F     0.896684\n",
      "CHGOFF    0.103316\n",
      "Name: MIS_Status, dtype: float64\n",
      "Current category: TN\n",
      "P I F     0.895304\n",
      "CHGOFF    0.104696\n",
      "Name: MIS_Status, dtype: float64\n",
      "Current category: NE\n",
      "P I F     0.901928\n",
      "CHGOFF    0.098072\n",
      "Name: MIS_Status, dtype: float64\n",
      "Current category: ND\n",
      "P I F     0.924538\n",
      "CHGOFF    0.075462\n",
      "Name: MIS_Status, dtype: float64\n",
      "Current category: LA\n",
      "P I F     0.890841\n",
      "CHGOFF    0.109159\n",
      "Name: MIS_Status, dtype: float64\n",
      "Current category: VT\n",
      "P I F     0.945111\n",
      "CHGOFF    0.054889\n",
      "Name: MIS_Status, dtype: float64\n",
      "Current category: NM\n",
      "P I F     0.918497\n",
      "CHGOFF    0.081503\n",
      "Name: MIS_Status, dtype: float64\n",
      "Current category: NV\n",
      "P I F     0.910647\n",
      "CHGOFF    0.089353\n",
      "Name: MIS_Status, dtype: float64\n",
      "Current category: KY\n",
      "P I F     0.857392\n",
      "CHGOFF    0.142608\n",
      "Name: MIS_Status, dtype: float64\n",
      "Current category: ID\n",
      "P I F     0.905429\n",
      "CHGOFF    0.094571\n",
      "Name: MIS_Status, dtype: float64\n",
      "Current category: DC\n",
      "P I F     0.918387\n",
      "CHGOFF    0.081613\n",
      "Name: MIS_Status, dtype: float64\n",
      "Current category: AZ\n",
      "P I F     0.930277\n",
      "CHGOFF    0.069723\n",
      "Name: MIS_Status, dtype: float64\n",
      "Current category: ME\n",
      "P I F     0.928962\n",
      "CHGOFF    0.071038\n",
      "Name: MIS_Status, dtype: float64\n",
      "Current category: HI\n",
      "P I F     0.897845\n",
      "CHGOFF    0.102155\n",
      "Name: MIS_Status, dtype: float64\n",
      "Current category: WY\n",
      "P I F     0.946752\n",
      "CHGOFF    0.053248\n",
      "Name: MIS_Status, dtype: float64\n",
      "Current category: WV\n",
      "P I F     0.862397\n",
      "CHGOFF    0.137603\n",
      "Name: MIS_Status, dtype: float64\n",
      "Current category: AK\n",
      "P I F     0.913504\n",
      "CHGOFF    0.086496\n",
      "Name: MIS_Status, dtype: float64\n",
      "Current category: PR\n",
      "P I F     0.767442\n",
      "CHGOFF    0.232558\n",
      "Name: MIS_Status, dtype: float64\n",
      "Current category: GU\n",
      "P I F    1.0\n",
      "Name: MIS_Status, dtype: float64\n",
      "Current category: AN\n",
      "P I F    1.0\n",
      "Name: MIS_Status, dtype: float64\n",
      "Current category: EN\n",
      "P I F    1.0\n",
      "Name: MIS_Status, dtype: float64\n",
      "Current category: VI\n",
      "P I F    1.0\n",
      "Name: MIS_Status, dtype: float64\n"
     ],
     "name": "stdout"
    }
   ]
  },
  {
   "cell_type": "code",
   "metadata": {
    "id": "kzLME6u0xgbO"
   },
   "source": [
    "# df = replace_small_states(df)\n",
    "#\n",
    "# basic_cat_col_data(df, 'BankState', label, 56)"
   ],
   "execution_count": null,
   "outputs": []
  },
  {
   "cell_type": "code",
   "metadata": {
    "colab": {
     "base_uri": "https://localhost:8080/"
    },
    "id": "eZmcndcHxgbP",
    "executionInfo": {
     "elapsed": 27027,
     "status": "ok",
     "timestamp": 1614801730012,
     "user": {
      "displayName": "Patrik Potocny",
      "photoUrl": "https://lh3.googleusercontent.com/a-/AOh14GihT-mq_XUTP--A3MCz0TsmtvX9TzyVQUXW8HDdvA=s64",
      "userId": "11915763958531241617"
     },
     "user_tz": -60
    },
    "outputId": "84812d62-98df-4f1a-ab19-4c13fac5fb72"
   },
   "source": [
    "df[df['State'] == df['BankState']][label].value_counts(normalize=True)"
   ],
   "execution_count": null,
   "outputs": [
    {
     "output_type": "execute_result",
     "data": {
      "text/plain": [
       "P I F     0.894745\n",
       "CHGOFF    0.105255\n",
       "Name: MIS_Status, dtype: float64"
      ]
     },
     "metadata": {
      "tags": []
     },
     "execution_count": 34
    }
   ]
  },
  {
   "cell_type": "code",
   "metadata": {
    "colab": {
     "base_uri": "https://localhost:8080/"
    },
    "id": "QsnRi01hxgbP",
    "executionInfo": {
     "elapsed": 27576,
     "status": "ok",
     "timestamp": 1614801730569,
     "user": {
      "displayName": "Patrik Potocny",
      "photoUrl": "https://lh3.googleusercontent.com/a-/AOh14GihT-mq_XUTP--A3MCz0TsmtvX9TzyVQUXW8HDdvA=s64",
      "userId": "11915763958531241617"
     },
     "user_tz": -60
    },
    "outputId": "ffc3ffc4-e98d-40f0-f4b9-949084c60e0d"
   },
   "source": [
    "df[df['State'] != df['BankState']][label].value_counts(normalize=True)\n"
   ],
   "execution_count": null,
   "outputs": [
    {
     "output_type": "execute_result",
     "data": {
      "text/plain": [
       "P I F     0.744667\n",
       "CHGOFF    0.255333\n",
       "Name: MIS_Status, dtype: float64"
      ]
     },
     "metadata": {
      "tags": []
     },
     "execution_count": 35
    }
   ]
  },
  {
   "cell_type": "code",
   "metadata": {
    "id": "LR_9UHDvxgbP"
   },
   "source": [
    "df = tranform_bank_state(df)"
   ],
   "execution_count": null,
   "outputs": []
  },
  {
   "cell_type": "code",
   "metadata": {
    "colab": {
     "base_uri": "https://localhost:8080/"
    },
    "id": "EqfLicilxgbQ",
    "executionInfo": {
     "elapsed": 27556,
     "status": "ok",
     "timestamp": 1614801730576,
     "user": {
      "displayName": "Patrik Potocny",
      "photoUrl": "https://lh3.googleusercontent.com/a-/AOh14GihT-mq_XUTP--A3MCz0TsmtvX9TzyVQUXW8HDdvA=s64",
      "userId": "11915763958531241617"
     },
     "user_tz": -60
    },
    "outputId": "1c524d6e-1555-454b-befe-ada34d397003"
   },
   "source": [
    "df"
   ],
   "execution_count": null,
   "outputs": [
    {
     "output_type": "execute_result",
     "data": {
      "text/html": [
       "<div>\n",
       "<style scoped>\n",
       "    .dataframe tbody tr th:only-of-type {\n",
       "        vertical-align: middle;\n",
       "    }\n",
       "\n",
       "    .dataframe tbody tr th {\n",
       "        vertical-align: top;\n",
       "    }\n",
       "\n",
       "    .dataframe thead th {\n",
       "        text-align: right;\n",
       "    }\n",
       "</style>\n",
       "<table border=\"1\" class=\"dataframe\">\n",
       "  <thead>\n",
       "    <tr style=\"text-align: right;\">\n",
       "      <th></th>\n",
       "      <th>name_end</th>\n",
       "      <th>State</th>\n",
       "      <th>same_state</th>\n",
       "      <th>NAICS</th>\n",
       "      <th>ApprovalDate</th>\n",
       "      <th>ApprovalFY</th>\n",
       "      <th>Term</th>\n",
       "      <th>NoEmp</th>\n",
       "      <th>NewExist</th>\n",
       "      <th>CreateJob</th>\n",
       "      <th>RetainedJob</th>\n",
       "      <th>FranchiseCode</th>\n",
       "      <th>UrbanRural</th>\n",
       "      <th>RevLineCr</th>\n",
       "      <th>LowDoc</th>\n",
       "      <th>ChgOffDate</th>\n",
       "      <th>DisbursementDate</th>\n",
       "      <th>DisbursementGross</th>\n",
       "      <th>BalanceGross</th>\n",
       "      <th>MIS_Status</th>\n",
       "      <th>ChgOffPrinGr</th>\n",
       "      <th>GrAppv</th>\n",
       "      <th>SBA_Appv</th>\n",
       "    </tr>\n",
       "    <tr>\n",
       "      <th>LoanNr_ChkDgt</th>\n",
       "      <th></th>\n",
       "      <th></th>\n",
       "      <th></th>\n",
       "      <th></th>\n",
       "      <th></th>\n",
       "      <th></th>\n",
       "      <th></th>\n",
       "      <th></th>\n",
       "      <th></th>\n",
       "      <th></th>\n",
       "      <th></th>\n",
       "      <th></th>\n",
       "      <th></th>\n",
       "      <th></th>\n",
       "      <th></th>\n",
       "      <th></th>\n",
       "      <th></th>\n",
       "      <th></th>\n",
       "      <th></th>\n",
       "      <th></th>\n",
       "      <th></th>\n",
       "      <th></th>\n",
       "      <th></th>\n",
       "    </tr>\n",
       "  </thead>\n",
       "  <tbody>\n",
       "    <tr>\n",
       "      <th>5893754007</th>\n",
       "      <td>Other</td>\n",
       "      <td>FL</td>\n",
       "      <td>False</td>\n",
       "      <td>561730</td>\n",
       "      <td>22-Nov-02</td>\n",
       "      <td>2003</td>\n",
       "      <td>84</td>\n",
       "      <td>1</td>\n",
       "      <td>1.0</td>\n",
       "      <td>0</td>\n",
       "      <td>1</td>\n",
       "      <td>1</td>\n",
       "      <td>1</td>\n",
       "      <td>Y</td>\n",
       "      <td>N</td>\n",
       "      <td>NaN</td>\n",
       "      <td>31-Jan-03</td>\n",
       "      <td>$10,000.00</td>\n",
       "      <td>$0.00</td>\n",
       "      <td>P I F</td>\n",
       "      <td>$0.00</td>\n",
       "      <td>$10,000.00</td>\n",
       "      <td>$5,000.00</td>\n",
       "    </tr>\n",
       "    <tr>\n",
       "      <th>3842804010</th>\n",
       "      <td>INC</td>\n",
       "      <td>NY</td>\n",
       "      <td>True</td>\n",
       "      <td>312130</td>\n",
       "      <td>18-Jul-00</td>\n",
       "      <td>2000</td>\n",
       "      <td>12</td>\n",
       "      <td>9</td>\n",
       "      <td>1.0</td>\n",
       "      <td>0</td>\n",
       "      <td>0</td>\n",
       "      <td>1</td>\n",
       "      <td>2</td>\n",
       "      <td>N</td>\n",
       "      <td>N</td>\n",
       "      <td>NaN</td>\n",
       "      <td>30-Sep-00</td>\n",
       "      <td>$60,000.00</td>\n",
       "      <td>$0.00</td>\n",
       "      <td>P I F</td>\n",
       "      <td>$0.00</td>\n",
       "      <td>$60,000.00</td>\n",
       "      <td>$45,000.00</td>\n",
       "    </tr>\n",
       "    <tr>\n",
       "      <th>9096044001</th>\n",
       "      <td>Other</td>\n",
       "      <td>IA</td>\n",
       "      <td>False</td>\n",
       "      <td>453998</td>\n",
       "      <td>13-Sep-05</td>\n",
       "      <td>2005</td>\n",
       "      <td>48</td>\n",
       "      <td>1</td>\n",
       "      <td>1.0</td>\n",
       "      <td>0</td>\n",
       "      <td>1</td>\n",
       "      <td>1</td>\n",
       "      <td>1</td>\n",
       "      <td>0</td>\n",
       "      <td>N</td>\n",
       "      <td>3-Nov-08</td>\n",
       "      <td>30-Sep-05</td>\n",
       "      <td>$10,000.00</td>\n",
       "      <td>$0.00</td>\n",
       "      <td>CHGOFF</td>\n",
       "      <td>$7,422.00</td>\n",
       "      <td>$10,000.00</td>\n",
       "      <td>$5,000.00</td>\n",
       "    </tr>\n",
       "    <tr>\n",
       "      <th>2982214007</th>\n",
       "      <td>Other</td>\n",
       "      <td>SD</td>\n",
       "      <td>True</td>\n",
       "      <td>445110</td>\n",
       "      <td>2-Jun-99</td>\n",
       "      <td>1999</td>\n",
       "      <td>60</td>\n",
       "      <td>9</td>\n",
       "      <td>1.0</td>\n",
       "      <td>0</td>\n",
       "      <td>0</td>\n",
       "      <td>1</td>\n",
       "      <td>0</td>\n",
       "      <td>0</td>\n",
       "      <td>Y</td>\n",
       "      <td>NaN</td>\n",
       "      <td>30-Sep-99</td>\n",
       "      <td>$26,000.00</td>\n",
       "      <td>$0.00</td>\n",
       "      <td>P I F</td>\n",
       "      <td>$0.00</td>\n",
       "      <td>$26,000.00</td>\n",
       "      <td>$20,800.00</td>\n",
       "    </tr>\n",
       "    <tr>\n",
       "      <th>2576085006</th>\n",
       "      <td>Other</td>\n",
       "      <td>CA</td>\n",
       "      <td>False</td>\n",
       "      <td>452990</td>\n",
       "      <td>17-Jul-07</td>\n",
       "      <td>2007</td>\n",
       "      <td>66</td>\n",
       "      <td>3</td>\n",
       "      <td>1.0</td>\n",
       "      <td>1</td>\n",
       "      <td>3</td>\n",
       "      <td>0</td>\n",
       "      <td>1</td>\n",
       "      <td>N</td>\n",
       "      <td>N</td>\n",
       "      <td>10-Jul-10</td>\n",
       "      <td>31-Aug-07</td>\n",
       "      <td>$100,000.00</td>\n",
       "      <td>$0.00</td>\n",
       "      <td>CHGOFF</td>\n",
       "      <td>$86,893.00</td>\n",
       "      <td>$100,000.00</td>\n",
       "      <td>$50,000.00</td>\n",
       "    </tr>\n",
       "    <tr>\n",
       "      <th>...</th>\n",
       "      <td>...</td>\n",
       "      <td>...</td>\n",
       "      <td>...</td>\n",
       "      <td>...</td>\n",
       "      <td>...</td>\n",
       "      <td>...</td>\n",
       "      <td>...</td>\n",
       "      <td>...</td>\n",
       "      <td>...</td>\n",
       "      <td>...</td>\n",
       "      <td>...</td>\n",
       "      <td>...</td>\n",
       "      <td>...</td>\n",
       "      <td>...</td>\n",
       "      <td>...</td>\n",
       "      <td>...</td>\n",
       "      <td>...</td>\n",
       "      <td>...</td>\n",
       "      <td>...</td>\n",
       "      <td>...</td>\n",
       "      <td>...</td>\n",
       "      <td>...</td>\n",
       "      <td>...</td>\n",
       "    </tr>\n",
       "    <tr>\n",
       "      <th>3204824000</th>\n",
       "      <td>Other</td>\n",
       "      <td>NY</td>\n",
       "      <td>False</td>\n",
       "      <td>541940</td>\n",
       "      <td>27-Sep-99</td>\n",
       "      <td>1999</td>\n",
       "      <td>228</td>\n",
       "      <td>2</td>\n",
       "      <td>2.0</td>\n",
       "      <td>4</td>\n",
       "      <td>2</td>\n",
       "      <td>1</td>\n",
       "      <td>1</td>\n",
       "      <td>0</td>\n",
       "      <td>N</td>\n",
       "      <td>NaN</td>\n",
       "      <td>30-Apr-00</td>\n",
       "      <td>$500,000.00</td>\n",
       "      <td>$0.00</td>\n",
       "      <td>P I F</td>\n",
       "      <td>$0.00</td>\n",
       "      <td>$500,000.00</td>\n",
       "      <td>$375,000.00</td>\n",
       "    </tr>\n",
       "    <tr>\n",
       "      <th>1497205002</th>\n",
       "      <td>Other</td>\n",
       "      <td>CA</td>\n",
       "      <td>False</td>\n",
       "      <td>422320</td>\n",
       "      <td>13-Oct-05</td>\n",
       "      <td>2006</td>\n",
       "      <td>57</td>\n",
       "      <td>1</td>\n",
       "      <td>2.0</td>\n",
       "      <td>0</td>\n",
       "      <td>1</td>\n",
       "      <td>0</td>\n",
       "      <td>1</td>\n",
       "      <td>T</td>\n",
       "      <td>N</td>\n",
       "      <td>14-Aug-08</td>\n",
       "      <td>31-Mar-06</td>\n",
       "      <td>$45,450.00</td>\n",
       "      <td>$0.00</td>\n",
       "      <td>CHGOFF</td>\n",
       "      <td>$44,450.00</td>\n",
       "      <td>$45,000.00</td>\n",
       "      <td>$22,500.00</td>\n",
       "    </tr>\n",
       "    <tr>\n",
       "      <th>1333844003</th>\n",
       "      <td>INC.</td>\n",
       "      <td>NH</td>\n",
       "      <td>True</td>\n",
       "      <td>0</td>\n",
       "      <td>10-Jun-97</td>\n",
       "      <td>1997</td>\n",
       "      <td>240</td>\n",
       "      <td>8</td>\n",
       "      <td>2.0</td>\n",
       "      <td>8</td>\n",
       "      <td>0</td>\n",
       "      <td>1</td>\n",
       "      <td>0</td>\n",
       "      <td>N</td>\n",
       "      <td>N</td>\n",
       "      <td>NaN</td>\n",
       "      <td>11-Mar-98</td>\n",
       "      <td>$291,000.00</td>\n",
       "      <td>$0.00</td>\n",
       "      <td>P I F</td>\n",
       "      <td>$0.00</td>\n",
       "      <td>$291,000.00</td>\n",
       "      <td>$291,000.00</td>\n",
       "    </tr>\n",
       "    <tr>\n",
       "      <th>9612943001</th>\n",
       "      <td>Other</td>\n",
       "      <td>ME</td>\n",
       "      <td>True</td>\n",
       "      <td>811111</td>\n",
       "      <td>7-Oct-96</td>\n",
       "      <td>1997</td>\n",
       "      <td>120</td>\n",
       "      <td>1</td>\n",
       "      <td>1.0</td>\n",
       "      <td>0</td>\n",
       "      <td>0</td>\n",
       "      <td>1</td>\n",
       "      <td>0</td>\n",
       "      <td>N</td>\n",
       "      <td>Y</td>\n",
       "      <td>NaN</td>\n",
       "      <td>31-Dec-96</td>\n",
       "      <td>$30,000.00</td>\n",
       "      <td>$0.00</td>\n",
       "      <td>P I F</td>\n",
       "      <td>$0.00</td>\n",
       "      <td>$30,000.00</td>\n",
       "      <td>$24,000.00</td>\n",
       "    </tr>\n",
       "    <tr>\n",
       "      <th>2185585006</th>\n",
       "      <td>Other</td>\n",
       "      <td>VA</td>\n",
       "      <td>False</td>\n",
       "      <td>722110</td>\n",
       "      <td>20-Dec-06</td>\n",
       "      <td>2007</td>\n",
       "      <td>12</td>\n",
       "      <td>1</td>\n",
       "      <td>1.0</td>\n",
       "      <td>3</td>\n",
       "      <td>1</td>\n",
       "      <td>0</td>\n",
       "      <td>1</td>\n",
       "      <td>Y</td>\n",
       "      <td>N</td>\n",
       "      <td>9-Mar-08</td>\n",
       "      <td>31-Jan-07</td>\n",
       "      <td>$50,000.00</td>\n",
       "      <td>$0.00</td>\n",
       "      <td>CHGOFF</td>\n",
       "      <td>$50,000.00</td>\n",
       "      <td>$50,000.00</td>\n",
       "      <td>$25,000.00</td>\n",
       "    </tr>\n",
       "  </tbody>\n",
       "</table>\n",
       "<p>708966 rows × 23 columns</p>\n",
       "</div>"
      ],
      "text/plain": [
       "              name_end State  ...        GrAppv      SBA_Appv\n",
       "LoanNr_ChkDgt                 ...                            \n",
       "5893754007       Other    FL  ...   $10,000.00     $5,000.00 \n",
       "3842804010         INC    NY  ...   $60,000.00    $45,000.00 \n",
       "9096044001       Other    IA  ...   $10,000.00     $5,000.00 \n",
       "2982214007       Other    SD  ...   $26,000.00    $20,800.00 \n",
       "2576085006       Other    CA  ...  $100,000.00    $50,000.00 \n",
       "...                ...   ...  ...           ...           ...\n",
       "3204824000       Other    NY  ...  $500,000.00   $375,000.00 \n",
       "1497205002       Other    CA  ...   $45,000.00    $22,500.00 \n",
       "1333844003        INC.    NH  ...  $291,000.00   $291,000.00 \n",
       "9612943001       Other    ME  ...   $30,000.00    $24,000.00 \n",
       "2185585006       Other    VA  ...   $50,000.00    $25,000.00 \n",
       "\n",
       "[708966 rows x 23 columns]"
      ]
     },
     "metadata": {
      "tags": []
     },
     "execution_count": 37
    }
   ]
  },
  {
   "cell_type": "markdown",
   "metadata": {
    "collapsed": false,
    "id": "02wB_X9YxgbQ"
   },
   "source": [
    "## NAICS"
   ]
  },
  {
   "cell_type": "code",
   "metadata": {
    "colab": {
     "base_uri": "https://localhost:8080/"
    },
    "id": "0FdgoQsGxgbQ",
    "executionInfo": {
     "elapsed": 27975,
     "status": "ok",
     "timestamp": 1614801731004,
     "user": {
      "displayName": "Patrik Potocny",
      "photoUrl": "https://lh3.googleusercontent.com/a-/AOh14GihT-mq_XUTP--A3MCz0TsmtvX9TzyVQUXW8HDdvA=s64",
      "userId": "11915763958531241617"
     },
     "user_tz": -60
    },
    "outputId": "0bb11210-6e94-463f-b26a-d088b76de515"
   },
   "source": [
    "basic_cat_col_data(df, 'NAICS', label, 10)"
   ],
   "execution_count": null,
   "outputs": [
    {
     "output_type": "stream",
     "text": [
      "Null values: 0\n",
      "Unique: 1304\n",
      "Vals: \n",
      " 0         158409\n",
      "722110     22232\n",
      "722211     15454\n",
      "811111     11554\n",
      "621210     11189\n",
      "624410      8048\n",
      "812112      7223\n",
      "561730      7032\n",
      "621310      6926\n",
      "812320      6273\n",
      "Name: NAICS, dtype: int64\n",
      "Current category: 0\n",
      "P I F     0.916886\n",
      "CHGOFF    0.083114\n",
      "Name: MIS_Status, dtype: float64\n",
      "Current category: 722110\n",
      "P I F     0.761965\n",
      "CHGOFF    0.238035\n",
      "Name: MIS_Status, dtype: float64\n",
      "Current category: 722211\n",
      "P I F     0.747509\n",
      "CHGOFF    0.252491\n",
      "Name: MIS_Status, dtype: float64\n",
      "Current category: 811111\n",
      "P I F     0.843864\n",
      "CHGOFF    0.156136\n",
      "Name: MIS_Status, dtype: float64\n",
      "Current category: 621210\n",
      "P I F     0.96005\n",
      "CHGOFF    0.03995\n",
      "Name: MIS_Status, dtype: float64\n",
      "Current category: 624410\n",
      "P I F     0.877982\n",
      "CHGOFF    0.122018\n",
      "Name: MIS_Status, dtype: float64\n",
      "Current category: 812112\n",
      "P I F     0.742351\n",
      "CHGOFF    0.257649\n",
      "Name: MIS_Status, dtype: float64\n",
      "Current category: 561730\n",
      "P I F     0.807594\n",
      "CHGOFF    0.192406\n",
      "Name: MIS_Status, dtype: float64\n",
      "Current category: 621310\n",
      "P I F     0.860959\n",
      "CHGOFF    0.139041\n",
      "Name: MIS_Status, dtype: float64\n",
      "Current category: 812320\n",
      "P I F     0.809501\n",
      "CHGOFF    0.190499\n",
      "Name: MIS_Status, dtype: float64\n"
     ],
     "name": "stdout"
    }
   ]
  },
  {
   "cell_type": "code",
   "metadata": {
    "id": "JvFPd4nbxgbR"
   },
   "source": [
    "df = transform_naics_col(df)"
   ],
   "execution_count": null,
   "outputs": []
  },
  {
   "cell_type": "code",
   "metadata": {
    "colab": {
     "base_uri": "https://localhost:8080/"
    },
    "id": "E3srTBmTxgbR",
    "executionInfo": {
     "elapsed": 31367,
     "status": "ok",
     "timestamp": 1614801734411,
     "user": {
      "displayName": "Patrik Potocny",
      "photoUrl": "https://lh3.googleusercontent.com/a-/AOh14GihT-mq_XUTP--A3MCz0TsmtvX9TzyVQUXW8HDdvA=s64",
      "userId": "11915763958531241617"
     },
     "user_tz": -60
    },
    "outputId": "49368fba-9227-480f-dc3a-10bb44c69cf3"
   },
   "source": [
    "basic_cat_col_data(df, 'NAICS', label, 25)"
   ],
   "execution_count": null,
   "outputs": [
    {
     "output_type": "stream",
     "text": [
      "Null values: 0\n",
      "Unique: 20\n",
      "Vals: \n",
      " 0        158409\n",
      "44        67047\n",
      "81        57331\n",
      "54        53725\n",
      "72        53635\n",
      "23        52507\n",
      "62        43783\n",
      "42        38462\n",
      "45        33607\n",
      "33        30233\n",
      "56        25763\n",
      "48        16053\n",
      "32        14041\n",
      "71        11575\n",
      "53        10812\n",
      "31         9285\n",
      "Other      9206\n",
      "51         8977\n",
      "52         7474\n",
      "11         7041\n",
      "Name: NAICS, dtype: int64\n",
      "Current category: 0\n",
      "P I F     0.916886\n",
      "CHGOFF    0.083114\n",
      "Name: MIS_Status, dtype: float64\n",
      "Current category: 44\n",
      "P I F     0.775426\n",
      "CHGOFF    0.224574\n",
      "Name: MIS_Status, dtype: float64\n",
      "Current category: 81\n",
      "P I F     0.802271\n",
      "CHGOFF    0.197729\n",
      "Name: MIS_Status, dtype: float64\n",
      "Current category: 54\n",
      "P I F     0.81033\n",
      "CHGOFF    0.18967\n",
      "Name: MIS_Status, dtype: float64\n",
      "Current category: 72\n",
      "P I F     0.779211\n",
      "CHGOFF    0.220789\n",
      "Name: MIS_Status, dtype: float64\n",
      "Current category: 23\n",
      "P I F     0.765307\n",
      "CHGOFF    0.234693\n",
      "Name: MIS_Status, dtype: float64\n",
      "Current category: 62\n",
      "P I F     0.89754\n",
      "CHGOFF    0.10246\n",
      "Name: MIS_Status, dtype: float64\n",
      "Current category: 42\n",
      "P I F     0.80482\n",
      "CHGOFF    0.19518\n",
      "Name: MIS_Status, dtype: float64\n",
      "Current category: 45\n",
      "P I F     0.764186\n",
      "CHGOFF    0.235814\n",
      "Name: MIS_Status, dtype: float64\n",
      "Current category: 33\n",
      "P I F     0.864254\n",
      "CHGOFF    0.135746\n",
      "Name: MIS_Status, dtype: float64\n",
      "Current category: 56\n",
      "P I F     0.764779\n",
      "CHGOFF    0.235221\n",
      "Name: MIS_Status, dtype: float64\n",
      "Current category: 48\n",
      "P I F     0.730455\n",
      "CHGOFF    0.269545\n",
      "Name: MIS_Status, dtype: float64\n",
      "Current category: 32\n",
      "P I F     0.834983\n",
      "CHGOFF    0.165017\n",
      "Name: MIS_Status, dtype: float64\n",
      "Current category: 71\n",
      "P I F     0.794816\n",
      "CHGOFF    0.205184\n",
      "Name: MIS_Status, dtype: float64\n",
      "Current category: 53\n",
      "P I F     0.709767\n",
      "CHGOFF    0.290233\n",
      "Name: MIS_Status, dtype: float64\n",
      "Current category: 31\n",
      "P I F     0.806462\n",
      "CHGOFF    0.193538\n",
      "Name: MIS_Status, dtype: float64\n",
      "Current category: Other\n",
      "P I F     0.791875\n",
      "CHGOFF    0.208125\n",
      "Name: MIS_Status, dtype: float64\n",
      "Current category: 51\n",
      "P I F     0.752813\n",
      "CHGOFF    0.247187\n",
      "Name: MIS_Status, dtype: float64\n",
      "Current category: 52\n",
      "P I F     0.718625\n",
      "CHGOFF    0.281375\n",
      "Name: MIS_Status, dtype: float64\n",
      "Current category: 11\n",
      "P I F     0.90811\n",
      "CHGOFF    0.09189\n",
      "Name: MIS_Status, dtype: float64\n"
     ],
     "name": "stdout"
    }
   ]
  },
  {
   "cell_type": "markdown",
   "metadata": {
    "collapsed": false,
    "id": "yO-oJbQVxgbR"
   },
   "source": [
    "## ApprovalDate"
   ]
  },
  {
   "cell_type": "code",
   "metadata": {
    "colab": {
     "base_uri": "https://localhost:8080/"
    },
    "id": "g2mtO6XNxgbS",
    "executionInfo": {
     "elapsed": 32249,
     "status": "ok",
     "timestamp": 1614801735300,
     "user": {
      "displayName": "Patrik Potocny",
      "photoUrl": "https://lh3.googleusercontent.com/a-/AOh14GihT-mq_XUTP--A3MCz0TsmtvX9TzyVQUXW8HDdvA=s64",
      "userId": "11915763958531241617"
     },
     "user_tz": -60
    },
    "outputId": "f90df482-c026-4c04-9c55-43627510577a"
   },
   "source": [
    "basic_cat_col_data(df, 'ApprovalDate', label, 10)\n"
   ],
   "execution_count": null,
   "outputs": [
    {
     "output_type": "stream",
     "text": [
      "Null values: 0\n",
      "Unique: 9543\n",
      "Vals: \n",
      " 7-Jul-93     910\n",
      "30-Jan-04    831\n",
      "8-Jul-93     623\n",
      "4-Oct-04     511\n",
      "30-Sep-03    501\n",
      "30-Jun-05    431\n",
      "6-Jul-93     427\n",
      "18-Apr-05    419\n",
      "21-Jan-05    385\n",
      "19-Dec-03    384\n",
      "Name: ApprovalDate, dtype: int64\n",
      "Current category: 7-Jul-93\n",
      "P I F     0.976923\n",
      "CHGOFF    0.023077\n",
      "Name: MIS_Status, dtype: float64\n",
      "Current category: 30-Jan-04\n",
      "P I F     0.807461\n",
      "CHGOFF    0.192539\n",
      "Name: MIS_Status, dtype: float64\n",
      "Current category: 8-Jul-93\n",
      "P I F     0.990369\n",
      "CHGOFF    0.009631\n",
      "Name: MIS_Status, dtype: float64\n",
      "Current category: 4-Oct-04\n",
      "P I F     0.798434\n",
      "CHGOFF    0.201566\n",
      "Name: MIS_Status, dtype: float64\n",
      "Current category: 30-Sep-03\n",
      "P I F     0.846307\n",
      "CHGOFF    0.153693\n",
      "Name: MIS_Status, dtype: float64\n",
      "Current category: 30-Jun-05\n",
      "P I F     0.698376\n",
      "CHGOFF    0.301624\n",
      "Name: MIS_Status, dtype: float64\n",
      "Current category: 6-Jul-93\n",
      "P I F     0.985948\n",
      "CHGOFF    0.014052\n",
      "Name: MIS_Status, dtype: float64\n",
      "Current category: 18-Apr-05\n",
      "P I F     0.701671\n",
      "CHGOFF    0.298329\n",
      "Name: MIS_Status, dtype: float64\n",
      "Current category: 21-Jan-05\n",
      "P I F     0.714286\n",
      "CHGOFF    0.285714\n",
      "Name: MIS_Status, dtype: float64\n",
      "Current category: 19-Dec-03\n",
      "P I F     0.828125\n",
      "CHGOFF    0.171875\n",
      "Name: MIS_Status, dtype: float64\n"
     ],
     "name": "stdout"
    }
   ]
  },
  {
   "cell_type": "code",
   "metadata": {
    "id": "fhCXuVNJxgbS"
   },
   "source": [
    "df = approval_date_to_datetime(df)"
   ],
   "execution_count": null,
   "outputs": []
  },
  {
   "cell_type": "code",
   "metadata": {
    "colab": {
     "base_uri": "https://localhost:8080/"
    },
    "id": "rmfKRqs3xgbS",
    "executionInfo": {
     "elapsed": 91941,
     "status": "ok",
     "timestamp": 1614801795007,
     "user": {
      "displayName": "Patrik Potocny",
      "photoUrl": "https://lh3.googleusercontent.com/a-/AOh14GihT-mq_XUTP--A3MCz0TsmtvX9TzyVQUXW8HDdvA=s64",
      "userId": "11915763958531241617"
     },
     "user_tz": -60
    },
    "outputId": "5bb5455c-08ed-4aa0-b3bf-546354b2ffd1"
   },
   "source": [
    "df[df['ApprovalDate'] > '2010']['ApprovalDate']"
   ],
   "execution_count": null,
   "outputs": [
    {
     "output_type": "execute_result",
     "data": {
      "text/plain": [
       "LoanNr_ChkDgt\n",
       "5008795002   2011-12-21\n",
       "5612875009   2012-12-05\n",
       "4941095007   2011-11-03\n",
       "4530705006   2011-02-02\n",
       "5936685007   2013-02-21\n",
       "                ...    \n",
       "4955775000   2011-11-15\n",
       "5270665004   2012-06-18\n",
       "4461495010   2010-12-21\n",
       "4141855001   2010-06-24\n",
       "3978415006   2010-03-19\n",
       "Name: ApprovalDate, Length: 25078, dtype: datetime64[ns]"
      ]
     },
     "metadata": {
      "tags": []
     },
     "execution_count": 43
    }
   ]
  },
  {
   "cell_type": "markdown",
   "metadata": {
    "collapsed": false,
    "id": "VGyLN6GTxgbT"
   },
   "source": [
    "## ApprovalFY"
   ]
  },
  {
   "cell_type": "code",
   "metadata": {
    "colab": {
     "base_uri": "https://localhost:8080/"
    },
    "id": "_MR-abVexgbT",
    "executionInfo": {
     "elapsed": 92800,
     "status": "ok",
     "timestamp": 1614801795873,
     "user": {
      "displayName": "Patrik Potocny",
      "photoUrl": "https://lh3.googleusercontent.com/a-/AOh14GihT-mq_XUTP--A3MCz0TsmtvX9TzyVQUXW8HDdvA=s64",
      "userId": "11915763958531241617"
     },
     "user_tz": -60
    },
    "outputId": "459e5df2-afba-4027-b596-f346f02b13b6"
   },
   "source": [
    "basic_cat_col_data(df, 'ApprovalFY', label, 10)\n",
    "\n"
   ],
   "execution_count": null,
   "outputs": [
    {
     "output_type": "stream",
     "text": [
      "Null values: 0\n",
      "Unique: 94\n",
      "Vals: \n",
      " 2005    33856\n",
      "2006    32956\n",
      "2007    31165\n",
      "2004    29847\n",
      "2005    27608\n",
      "2006    27492\n",
      "2007    26033\n",
      "2003    25289\n",
      "2004    24634\n",
      "2003    20937\n",
      "Name: ApprovalFY, dtype: int64\n",
      "Current category: 2005\n",
      "P I F     0.746603\n",
      "CHGOFF    0.253397\n",
      "Name: MIS_Status, dtype: float64\n",
      "Current category: 2006\n",
      "P I F     0.647925\n",
      "CHGOFF    0.352075\n",
      "Name: MIS_Status, dtype: float64\n",
      "Current category: 2007\n",
      "P I F     0.5691\n",
      "CHGOFF    0.4309\n",
      "Name: MIS_Status, dtype: float64\n",
      "Current category: 2004\n",
      "P I F     0.819111\n",
      "CHGOFF    0.180889\n",
      "Name: MIS_Status, dtype: float64\n",
      "Current category: 2005\n",
      "P I F     0.749602\n",
      "CHGOFF    0.250398\n",
      "Name: MIS_Status, dtype: float64\n",
      "Current category: 2006\n",
      "P I F     0.649534\n",
      "CHGOFF    0.350466\n",
      "Name: MIS_Status, dtype: float64\n",
      "Current category: 2007\n",
      "P I F     0.57308\n",
      "CHGOFF    0.42692\n",
      "Name: MIS_Status, dtype: float64\n",
      "Current category: 2003\n",
      "P I F     0.851161\n",
      "CHGOFF    0.148839\n",
      "Name: MIS_Status, dtype: float64\n",
      "Current category: 2004\n",
      "P I F     0.820533\n",
      "CHGOFF    0.179467\n",
      "Name: MIS_Status, dtype: float64\n",
      "Current category: 2003\n",
      "P I F     0.855949\n",
      "CHGOFF    0.144051\n",
      "Name: MIS_Status, dtype: float64\n"
     ],
     "name": "stdout"
    }
   ]
  },
  {
   "cell_type": "code",
   "metadata": {
    "colab": {
     "base_uri": "https://localhost:8080/"
    },
    "id": "SHijarY2xgbT",
    "executionInfo": {
     "elapsed": 92794,
     "status": "ok",
     "timestamp": 1614801795874,
     "user": {
      "displayName": "Patrik Potocny",
      "photoUrl": "https://lh3.googleusercontent.com/a-/AOh14GihT-mq_XUTP--A3MCz0TsmtvX9TzyVQUXW8HDdvA=s64",
      "userId": "11915763958531241617"
     },
     "user_tz": -60
    },
    "outputId": "cdd74b7d-f27d-4c33-8423-6509b7b4b12d"
   },
   "source": [
    "df['ApprovalFY'].value_counts().index"
   ],
   "execution_count": null,
   "outputs": [
    {
     "output_type": "execute_result",
     "data": {
      "text/plain": [
       "Index([   2005,    2006,    2007,    2004,  '2005',  '2006',  '2007',    2003,\n",
       "        '2004',  '2003',    2002,    1995,    1996,    2008,    1999,    1997,\n",
       "          2001,    2000,  '2002',    1998,  '1995',  '1996',  '2008',    1994,\n",
       "        '1997',  '2000',  '1999',  '2001',  '1998',  '1994',    1993,    1992,\n",
       "        '1993',    2009,  '1992',    2010,    1991,  '2009',    1990,  '2010',\n",
       "          1989,  '1991',  '1990',    2011,  '1989',  '2011',    2012,  '2012',\n",
       "          2013,    1987,    1986,  '2013',    1984,    1985,    1988,  '1987',\n",
       "        '1986',  '1984',  '1988',    1983,  '1985',  '1983',    1982,    1981,\n",
       "        '1982',  '1981',    1980,  '1980',    1979,  '1979',    2014,  '2014',\n",
       "          1978,  '1978',    1977,  '1977',  '1976',    1976,    1974,    1973,\n",
       "        '1973',    1975,    1972,  '1974', '1976A',  '1971',  '1975',  '1970',\n",
       "        '1972',    1971,  '1969',    1970,  '1968',    1969],\n",
       "      dtype='object')"
      ]
     },
     "metadata": {
      "tags": []
     },
     "execution_count": 45
    }
   ]
  },
  {
   "cell_type": "code",
   "metadata": {
    "id": "xcAP3eGexgbT"
   },
   "source": [
    "df = clean_approval_fy_col(df)"
   ],
   "execution_count": null,
   "outputs": []
  },
  {
   "cell_type": "code",
   "metadata": {
    "colab": {
     "base_uri": "https://localhost:8080/"
    },
    "id": "OEuwDd37xgbU",
    "executionInfo": {
     "elapsed": 94213,
     "status": "ok",
     "timestamp": 1614801797310,
     "user": {
      "displayName": "Patrik Potocny",
      "photoUrl": "https://lh3.googleusercontent.com/a-/AOh14GihT-mq_XUTP--A3MCz0TsmtvX9TzyVQUXW8HDdvA=s64",
      "userId": "11915763958531241617"
     },
     "user_tz": -60
    },
    "outputId": "ab1ca39c-c389-4082-ae64-78d2b0bd7ed7"
   },
   "source": [
    "basic_cat_col_data(df, 'ApprovalFY', label, 10)\n"
   ],
   "execution_count": null,
   "outputs": [
    {
     "output_type": "stream",
     "text": [
      "Null values: 0\n",
      "Unique: 47\n",
      "Vals: \n",
      " 2005    61464\n",
      "2006    60448\n",
      "2007    57198\n",
      "2004    54481\n",
      "2003    46226\n",
      "2002    35360\n",
      "1995    33409\n",
      "1996    31989\n",
      "2008    30834\n",
      "1997    30056\n",
      "Name: ApprovalFY, dtype: int64\n",
      "Current category: 2005\n",
      "P I F     0.74795\n",
      "CHGOFF    0.25205\n",
      "Name: MIS_Status, dtype: float64\n",
      "Current category: 2006\n",
      "P I F     0.648657\n",
      "CHGOFF    0.351343\n",
      "Name: MIS_Status, dtype: float64\n",
      "Current category: 2007\n",
      "P I F     0.570912\n",
      "CHGOFF    0.429088\n",
      "Name: MIS_Status, dtype: float64\n",
      "Current category: 2004\n",
      "P I F     0.819754\n",
      "CHGOFF    0.180246\n",
      "Name: MIS_Status, dtype: float64\n",
      "Current category: 2003\n",
      "P I F     0.853329\n",
      "CHGOFF    0.146671\n",
      "Name: MIS_Status, dtype: float64\n",
      "Current category: 2002\n",
      "P I F     0.881787\n",
      "CHGOFF    0.118213\n",
      "Name: MIS_Status, dtype: float64\n",
      "Current category: 1995\n",
      "P I F     0.971774\n",
      "CHGOFF    0.028226\n",
      "Name: MIS_Status, dtype: float64\n",
      "Current category: 1996\n",
      "P I F     0.958861\n",
      "CHGOFF    0.041139\n",
      "Name: MIS_Status, dtype: float64\n",
      "Current category: 2008\n",
      "P I F     0.59136\n",
      "CHGOFF    0.40864\n",
      "Name: MIS_Status, dtype: float64\n",
      "Current category: 1997\n",
      "P I F     0.940311\n",
      "CHGOFF    0.059689\n",
      "Name: MIS_Status, dtype: float64\n"
     ],
     "name": "stdout"
    }
   ]
  },
  {
   "cell_type": "code",
   "metadata": {
    "colab": {
     "base_uri": "https://localhost:8080/"
    },
    "id": "vslH0URVxgbU",
    "executionInfo": {
     "elapsed": 94208,
     "status": "ok",
     "timestamp": 1614801797312,
     "user": {
      "displayName": "Patrik Potocny",
      "photoUrl": "https://lh3.googleusercontent.com/a-/AOh14GihT-mq_XUTP--A3MCz0TsmtvX9TzyVQUXW8HDdvA=s64",
      "userId": "11915763958531241617"
     },
     "user_tz": -60
    },
    "outputId": "9001a5a8-e2b9-4319-814b-34b2e1d7a278"
   },
   "source": [
    "df['ApprovalFY'].value_counts()"
   ],
   "execution_count": null,
   "outputs": [
    {
     "output_type": "execute_result",
     "data": {
      "text/plain": [
       "2005    61464\n",
       "2006    60448\n",
       "2007    57198\n",
       "2004    54481\n",
       "2003    46226\n",
       "2002    35360\n",
       "1995    33409\n",
       "1996    31989\n",
       "2008    30834\n",
       "1997    30056\n",
       "1999    29917\n",
       "2000    29764\n",
       "2001    29673\n",
       "1998    28649\n",
       "1994    25089\n",
       "1993    18522\n",
       "1992    16579\n",
       "2009    14671\n",
       "2010    12832\n",
       "1991    12394\n",
       "1990    11689\n",
       "1989    10385\n",
       "2011     9371\n",
       "2012     4498\n",
       "2013     1877\n",
       "1987     1768\n",
       "1986     1657\n",
       "1984     1562\n",
       "1985     1517\n",
       "1988     1488\n",
       "1983     1291\n",
       "1982      550\n",
       "1981      444\n",
       "1980      335\n",
       "1979      280\n",
       "2014      219\n",
       "1978      185\n",
       "1977      103\n",
       "1976       63\n",
       "1973       34\n",
       "1974       31\n",
       "1975       20\n",
       "1972       19\n",
       "1971       13\n",
       "1970        8\n",
       "1969        3\n",
       "1968        1\n",
       "Name: ApprovalFY, dtype: int64"
      ]
     },
     "metadata": {
      "tags": []
     },
     "execution_count": 48
    }
   ]
  },
  {
   "cell_type": "markdown",
   "metadata": {
    "collapsed": false,
    "id": "a1zczk8HxgbU"
   },
   "source": [
    "## Term"
   ]
  },
  {
   "cell_type": "code",
   "metadata": {
    "colab": {
     "base_uri": "https://localhost:8080/"
    },
    "id": "NWSvCGyexgbU",
    "executionInfo": {
     "elapsed": 94583,
     "status": "ok",
     "timestamp": 1614801797694,
     "user": {
      "displayName": "Patrik Potocny",
      "photoUrl": "https://lh3.googleusercontent.com/a-/AOh14GihT-mq_XUTP--A3MCz0TsmtvX9TzyVQUXW8HDdvA=s64",
      "userId": "11915763958531241617"
     },
     "user_tz": -60
    },
    "outputId": "51102c0d-416a-497e-ef3a-cbf6b620e440"
   },
   "source": [
    "basic_cat_col_data(df, 'Term', label, 40)"
   ],
   "execution_count": null,
   "outputs": [
    {
     "output_type": "stream",
     "text": [
      "Null values: 0\n",
      "Unique: 399\n",
      "Vals: \n",
      " 84     180464\n",
      "60      70936\n",
      "240     67941\n",
      "120     61338\n",
      "300     35510\n",
      "180     22179\n",
      "36      15462\n",
      "12      13389\n",
      "48      12285\n",
      "72       7463\n",
      "24       5724\n",
      "96       5535\n",
      "90       5475\n",
      "66       4131\n",
      "87       3987\n",
      "63       3617\n",
      "83       3285\n",
      "108      3140\n",
      "144      2552\n",
      "6        2430\n",
      "59       2417\n",
      "61       2409\n",
      "42       2359\n",
      "288      2309\n",
      "54       2248\n",
      "62       2243\n",
      "64       2136\n",
      "78       2128\n",
      "58       2087\n",
      "55       2001\n",
      "276      1996\n",
      "50       1993\n",
      "82       1988\n",
      "57       1979\n",
      "47       1957\n",
      "40       1953\n",
      "49       1952\n",
      "39       1950\n",
      "56       1949\n",
      "51       1946\n",
      "Name: Term, dtype: int64\n",
      "Current category: 84\n",
      "P I F     0.991599\n",
      "CHGOFF    0.008401\n",
      "Name: MIS_Status, dtype: float64\n",
      "Current category: 60\n",
      "P I F     0.972877\n",
      "CHGOFF    0.027123\n",
      "Name: MIS_Status, dtype: float64\n",
      "Current category: 240\n",
      "P I F     0.997836\n",
      "CHGOFF    0.002164\n",
      "Name: MIS_Status, dtype: float64\n",
      "Current category: 120\n",
      "P I F     0.987626\n",
      "CHGOFF    0.012374\n",
      "Name: MIS_Status, dtype: float64\n",
      "Current category: 300\n",
      "P I F     0.998536\n",
      "CHGOFF    0.001464\n",
      "Name: MIS_Status, dtype: float64\n",
      "Current category: 180\n",
      "P I F     0.988097\n",
      "CHGOFF    0.011903\n",
      "Name: MIS_Status, dtype: float64\n",
      "Current category: 36\n",
      "P I F     0.897491\n",
      "CHGOFF    0.102509\n",
      "Name: MIS_Status, dtype: float64\n",
      "Current category: 12\n",
      "P I F     0.927254\n",
      "CHGOFF    0.072746\n",
      "Name: MIS_Status, dtype: float64\n",
      "Current category: 48\n",
      "P I F     0.864062\n",
      "CHGOFF    0.135938\n",
      "Name: MIS_Status, dtype: float64\n",
      "Current category: 72\n",
      "P I F     0.850998\n",
      "CHGOFF    0.149002\n",
      "Name: MIS_Status, dtype: float64\n",
      "Current category: 24\n",
      "P I F     0.809923\n",
      "CHGOFF    0.190077\n",
      "Name: MIS_Status, dtype: float64\n",
      "Current category: 96\n",
      "P I F     0.912918\n",
      "CHGOFF    0.087082\n",
      "Name: MIS_Status, dtype: float64\n",
      "Current category: 90\n",
      "P I F     0.925297\n",
      "CHGOFF    0.074703\n",
      "Name: MIS_Status, dtype: float64\n",
      "Current category: 66\n",
      "P I F     0.635681\n",
      "CHGOFF    0.364319\n",
      "Name: MIS_Status, dtype: float64\n",
      "Current category: 87\n",
      "P I F     0.905694\n",
      "CHGOFF    0.094306\n",
      "Name: MIS_Status, dtype: float64\n",
      "Current category: 63\n",
      "P I F     0.542715\n",
      "CHGOFF    0.457285\n",
      "Name: MIS_Status, dtype: float64\n",
      "Current category: 83\n",
      "P I F     0.877626\n",
      "CHGOFF    0.122374\n",
      "Name: MIS_Status, dtype: float64\n",
      "Current category: 108\n",
      "P I F     0.907006\n",
      "CHGOFF    0.092994\n",
      "Name: MIS_Status, dtype: float64\n",
      "Current category: 144\n",
      "P I F     0.962774\n",
      "CHGOFF    0.037226\n",
      "Name: MIS_Status, dtype: float64\n",
      "Current category: 6\n",
      "P I F     0.536214\n",
      "CHGOFF    0.463786\n",
      "Name: MIS_Status, dtype: float64\n",
      "Current category: 59\n",
      "CHGOFF    0.679355\n",
      "P I F     0.320645\n",
      "Name: MIS_Status, dtype: float64\n",
      "Current category: 61\n",
      "CHGOFF    0.717725\n",
      "P I F     0.282275\n",
      "Name: MIS_Status, dtype: float64\n",
      "Current category: 42\n",
      "CHGOFF    0.740992\n",
      "P I F     0.259008\n",
      "Name: MIS_Status, dtype: float64\n",
      "Current category: 288\n",
      "P I F     0.990472\n",
      "CHGOFF    0.009528\n",
      "Name: MIS_Status, dtype: float64\n",
      "Current category: 54\n",
      "CHGOFF    0.769573\n",
      "P I F     0.230427\n",
      "Name: MIS_Status, dtype: float64\n",
      "Current category: 62\n",
      "CHGOFF    0.744984\n",
      "P I F     0.255016\n",
      "Name: MIS_Status, dtype: float64\n",
      "Current category: 64\n",
      "CHGOFF    0.735955\n",
      "P I F     0.264045\n",
      "Name: MIS_Status, dtype: float64\n",
      "Current category: 78\n",
      "P I F     0.794173\n",
      "CHGOFF    0.205827\n",
      "Name: MIS_Status, dtype: float64\n",
      "Current category: 58\n",
      "CHGOFF    0.781505\n",
      "P I F     0.218495\n",
      "Name: MIS_Status, dtype: float64\n",
      "Current category: 55\n",
      "CHGOFF    0.86057\n",
      "P I F     0.13943\n",
      "Name: MIS_Status, dtype: float64\n",
      "Current category: 276\n",
      "P I F     0.981463\n",
      "CHGOFF    0.018537\n",
      "Name: MIS_Status, dtype: float64\n",
      "Current category: 50\n",
      "CHGOFF    0.839438\n",
      "P I F     0.160562\n",
      "Name: MIS_Status, dtype: float64\n",
      "Current category: 82\n",
      "P I F     0.81992\n",
      "CHGOFF    0.18008\n",
      "Name: MIS_Status, dtype: float64\n",
      "Current category: 57\n",
      "CHGOFF    0.836786\n",
      "P I F     0.163214\n",
      "Name: MIS_Status, dtype: float64\n",
      "Current category: 47\n",
      "CHGOFF    0.814512\n",
      "P I F     0.185488\n",
      "Name: MIS_Status, dtype: float64\n",
      "Current category: 40\n",
      "CHGOFF    0.875064\n",
      "P I F     0.124936\n",
      "Name: MIS_Status, dtype: float64\n",
      "Current category: 49\n",
      "CHGOFF    0.850922\n",
      "P I F     0.149078\n",
      "Name: MIS_Status, dtype: float64\n",
      "Current category: 39\n",
      "CHGOFF    0.82359\n",
      "P I F     0.17641\n",
      "Name: MIS_Status, dtype: float64\n",
      "Current category: 56\n",
      "CHGOFF    0.860441\n",
      "P I F     0.139559\n",
      "Name: MIS_Status, dtype: float64\n",
      "Current category: 51\n",
      "CHGOFF    0.840699\n",
      "P I F     0.159301\n",
      "Name: MIS_Status, dtype: float64\n"
     ],
     "name": "stdout"
    }
   ]
  },
  {
   "cell_type": "code",
   "metadata": {
    "id": "YBSqlZxexgbV"
   },
   "source": [
    "val_counts = df['Term'].value_counts()"
   ],
   "execution_count": null,
   "outputs": []
  },
  {
   "cell_type": "code",
   "metadata": {
    "colab": {
     "base_uri": "https://localhost:8080/"
    },
    "id": "fCJKJ8amxgbW",
    "executionInfo": {
     "elapsed": 95327,
     "status": "ok",
     "timestamp": 1614801798455,
     "user": {
      "displayName": "Patrik Potocny",
      "photoUrl": "https://lh3.googleusercontent.com/a-/AOh14GihT-mq_XUTP--A3MCz0TsmtvX9TzyVQUXW8HDdvA=s64",
      "userId": "11915763958531241617"
     },
     "user_tz": -60
    },
    "outputId": "cb57d707-b574-463e-f92a-9a20b444223b"
   },
   "source": [
    "df['Term'].hist()"
   ],
   "execution_count": null,
   "outputs": [
    {
     "output_type": "execute_result",
     "data": {
      "text/plain": [
       "<matplotlib.axes._subplots.AxesSubplot at 0x7fc5a8466290>"
      ]
     },
     "metadata": {
      "tags": []
     },
     "execution_count": 51
    },
    {
     "output_type": "display_data",
     "data": {
      "image/png": "[encoded data removed]",
      "text/plain": [
       "<Figure size 432x288 with 1 Axes>"
      ]
     },
     "metadata": {
      "tags": []
     }
    }
   ]
  },
  {
   "cell_type": "code",
   "metadata": {
    "colab": {
     "base_uri": "https://localhost:8080/"
    },
    "id": "Mhob5wQqxgbW",
    "executionInfo": {
     "elapsed": 95320,
     "status": "ok",
     "timestamp": 1614801798457,
     "user": {
      "displayName": "Patrik Potocny",
      "photoUrl": "https://lh3.googleusercontent.com/a-/AOh14GihT-mq_XUTP--A3MCz0TsmtvX9TzyVQUXW8HDdvA=s64",
      "userId": "11915763958531241617"
     },
     "user_tz": -60
    },
    "outputId": "55fae16e-6bd8-4745-dfd4-44ecab7fc139"
   },
   "source": [
    "df[df['Term'] > 200][label].value_counts(normalize=True)"
   ],
   "execution_count": null,
   "outputs": [
    {
     "output_type": "execute_result",
     "data": {
      "text/plain": [
       "P I F     0.971899\n",
       "CHGOFF    0.028101\n",
       "Name: MIS_Status, dtype: float64"
      ]
     },
     "metadata": {
      "tags": []
     },
     "execution_count": 52
    }
   ]
  },
  {
   "cell_type": "code",
   "metadata": {
    "colab": {
     "base_uri": "https://localhost:8080/"
    },
    "id": "1Jbz7Qa7A979",
    "executionInfo": {
     "elapsed": 95899,
     "status": "ok",
     "timestamp": 1614801799051,
     "user": {
      "displayName": "Patrik Potocny",
      "photoUrl": "https://lh3.googleusercontent.com/a-/AOh14GihT-mq_XUTP--A3MCz0TsmtvX9TzyVQUXW8HDdvA=s64",
      "userId": "11915763958531241617"
     },
     "user_tz": -60
    },
    "outputId": "78f91d61-f56b-440b-d3b1-7d63366d2264"
   },
   "source": [
    "df = term_transformer(df)"
   ],
   "execution_count": null,
   "outputs": [
    {
     "output_type": "stream",
     "text": [
      "/usr/local/lib/python3.7/dist-packages/ipykernel_launcher.py:5: SettingWithCopyWarning: \n",
      "A value is trying to be set on a copy of a slice from a DataFrame.\n",
      "Try using .loc[row_indexer,col_indexer] = value instead\n",
      "\n",
      "See the caveats in the documentation: https://pandas.pydata.org/pandas-docs/stable/user_guide/indexing.html#returning-a-view-versus-a-copy\n",
      "  \"\"\"\n"
     ],
     "name": "stderr"
    }
   ]
  },
  {
   "cell_type": "code",
   "metadata": {
    "colab": {
     "base_uri": "https://localhost:8080/"
    },
    "id": "J4T7RVoS6IUn",
    "executionInfo": {
     "elapsed": 95891,
     "status": "ok",
     "timestamp": 1614801799052,
     "user": {
      "displayName": "Patrik Potocny",
      "photoUrl": "https://lh3.googleusercontent.com/a-/AOh14GihT-mq_XUTP--A3MCz0TsmtvX9TzyVQUXW8HDdvA=s64",
      "userId": "11915763958531241617"
     },
     "user_tz": -60
    },
    "outputId": "beb3b6ae-f305-43e2-d976-cbf074fb079e"
   },
   "source": [
    "pd.set_option('display.max_rows', None)\n",
    "df['Term'].value_counts().sort_index()"
   ],
   "execution_count": null,
   "outputs": [
    {
     "output_type": "execute_result",
     "data": {
      "text/plain": [
       "1        1263\n",
       "2        1417\n",
       "3        1686\n",
       "4        1704\n",
       "5        1485\n",
       "6        2430\n",
       "7        1412\n",
       "8        1358\n",
       "9        1494\n",
       "10       1217\n",
       "11       1361\n",
       "12      13389\n",
       "13       1622\n",
       "14       1208\n",
       "15       1236\n",
       "16       1153\n",
       "17       1175\n",
       "18       1494\n",
       "19       1249\n",
       "20       1300\n",
       "21       1260\n",
       "22       1250\n",
       "23       1484\n",
       "24       5724\n",
       "25       1452\n",
       "26       1398\n",
       "27       1438\n",
       "28       1468\n",
       "29       1386\n",
       "30       1730\n",
       "31       1580\n",
       "32       1509\n",
       "33       1542\n",
       "34       1672\n",
       "35       1809\n",
       "36      15462\n",
       "37       1793\n",
       "38       1837\n",
       "39       1950\n",
       "40       1953\n",
       "41       1859\n",
       "42       2359\n",
       "43       1801\n",
       "44       1781\n",
       "45       1775\n",
       "46       1851\n",
       "47       1957\n",
       "48      12285\n",
       "49       1952\n",
       "50       1993\n",
       "51       1946\n",
       "52       1921\n",
       "53       1906\n",
       "54       2248\n",
       "55       2001\n",
       "56       1949\n",
       "57       1979\n",
       "58       2087\n",
       "59       2417\n",
       "60      70936\n",
       "61       2409\n",
       "62       2243\n",
       "63       3617\n",
       "64       2136\n",
       "65       1940\n",
       "66       4131\n",
       "67       1701\n",
       "68       1680\n",
       "69       1703\n",
       "70       1677\n",
       "71       1794\n",
       "72       7463\n",
       "73       1473\n",
       "74       1178\n",
       "75       1270\n",
       "76        970\n",
       "77        853\n",
       "78       2128\n",
       "79        903\n",
       "80       1008\n",
       "81       1222\n",
       "82       1988\n",
       "83       3285\n",
       "84     180464\n",
       "85       1389\n",
       "86       1102\n",
       "87       3987\n",
       "88       1143\n",
       "89        813\n",
       "90       5475\n",
       "91        653\n",
       "92        670\n",
       "93        827\n",
       "94        668\n",
       "95        737\n",
       "96       5535\n",
       "97        604\n",
       "98        630\n",
       "99        768\n",
       "100       592\n",
       "101       546\n",
       "102      1176\n",
       "103       531\n",
       "104       522\n",
       "105       585\n",
       "106       477\n",
       "107       511\n",
       "108      3140\n",
       "109       417\n",
       "110       444\n",
       "111       563\n",
       "112       382\n",
       "113       352\n",
       "114       611\n",
       "115       317\n",
       "116       275\n",
       "117       459\n",
       "118       558\n",
       "119       798\n",
       "120     61338\n",
       "121       503\n",
       "122       455\n",
       "123      1639\n",
       "124       546\n",
       "125       310\n",
       "126      1554\n",
       "127       143\n",
       "128       167\n",
       "129       214\n",
       "130       180\n",
       "131       188\n",
       "132       566\n",
       "133       110\n",
       "134       141\n",
       "135       121\n",
       "136       131\n",
       "137       139\n",
       "138       156\n",
       "139        98\n",
       "140       179\n",
       "141       137\n",
       "142       129\n",
       "143       176\n",
       "144      2552\n",
       "145       125\n",
       "146       134\n",
       "147       176\n",
       "148       129\n",
       "149       122\n",
       "150       217\n",
       "151       104\n",
       "152       108\n",
       "153       114\n",
       "154       112\n",
       "155       119\n",
       "156       786\n",
       "157       104\n",
       "158        94\n",
       "159       115\n",
       "160        95\n",
       "161        93\n",
       "162       153\n",
       "163       116\n",
       "164        94\n",
       "165        90\n",
       "166        99\n",
       "167       103\n",
       "168       834\n",
       "169        85\n",
       "170        96\n",
       "171        95\n",
       "172        75\n",
       "173        65\n",
       "174       204\n",
       "175       122\n",
       "176       115\n",
       "177       164\n",
       "178       183\n",
       "179       344\n",
       "180     22179\n",
       "181       220\n",
       "182       182\n",
       "183       479\n",
       "184       186\n",
       "185       143\n",
       "186       813\n",
       "187       107\n",
       "188        89\n",
       "189       148\n",
       "190        93\n",
       "191        80\n",
       "192       757\n",
       "193        68\n",
       "194        75\n",
       "195       101\n",
       "196        76\n",
       "197        75\n",
       "198       135\n",
       "199        69\n",
       "200       104\n",
       "201        98\n",
       "202        91\n",
       "203        94\n",
       "204       977\n",
       "205       105\n",
       "206        82\n",
       "207       120\n",
       "208        90\n",
       "209       101\n",
       "210       206\n",
       "211        70\n",
       "212        91\n",
       "213        89\n",
       "214        75\n",
       "215        90\n",
       "216      1542\n",
       "217        87\n",
       "218        96\n",
       "219       154\n",
       "220       103\n",
       "221        82\n",
       "222       188\n",
       "223        79\n",
       "224        76\n",
       "225        96\n",
       "226        70\n",
       "227        81\n",
       "228       948\n",
       "229        85\n",
       "230        86\n",
       "231        98\n",
       "232        85\n",
       "233        71\n",
       "234       133\n",
       "235        75\n",
       "236        83\n",
       "237       101\n",
       "238       142\n",
       "239       193\n",
       "240     67941\n",
       "241       220\n",
       "242       171\n",
       "243       463\n",
       "244       223\n",
       "245       134\n",
       "246       944\n",
       "247        97\n",
       "248       113\n",
       "249       262\n",
       "250        89\n",
       "251        74\n",
       "252      1333\n",
       "253        79\n",
       "254        82\n",
       "255       109\n",
       "256        81\n",
       "257        76\n",
       "258       174\n",
       "259        84\n",
       "260        78\n",
       "261        98\n",
       "262        74\n",
       "263        69\n",
       "264      1759\n",
       "265        99\n",
       "266        77\n",
       "267       118\n",
       "268       103\n",
       "269        90\n",
       "270       240\n",
       "271        62\n",
       "272        71\n",
       "273       110\n",
       "274        77\n",
       "275        68\n",
       "276      1996\n",
       "277        80\n",
       "278        97\n",
       "279       127\n",
       "280        87\n",
       "281        70\n",
       "282       293\n",
       "283        56\n",
       "284        74\n",
       "285       106\n",
       "286        52\n",
       "287        50\n",
       "288      2309\n",
       "289        67\n",
       "290        69\n",
       "291       151\n",
       "292        55\n",
       "293        61\n",
       "294       303\n",
       "295        66\n",
       "296        66\n",
       "297       105\n",
       "298        97\n",
       "299       187\n",
       "300     35510\n",
       "310      2437\n",
       "Name: Term, dtype: int64"
      ]
     },
     "metadata": {
      "tags": []
     },
     "execution_count": 55
    }
   ]
  },
  {
   "cell_type": "code",
   "metadata": {
    "colab": {
     "base_uri": "https://localhost:8080/"
    },
    "id": "2Jp8tf5B-OPe",
    "executionInfo": {
     "elapsed": 95885,
     "status": "ok",
     "timestamp": 1614801799053,
     "user": {
      "displayName": "Patrik Potocny",
      "photoUrl": "https://lh3.googleusercontent.com/a-/AOh14GihT-mq_XUTP--A3MCz0TsmtvX9TzyVQUXW8HDdvA=s64",
      "userId": "11915763958531241617"
     },
     "user_tz": -60
    },
    "outputId": "b65f5f3d-8d3b-4767-a712-9c4a6015510f"
   },
   "source": [
    "df[df['Term'] > 300][label].value_counts(normalize=True)\n"
   ],
   "execution_count": null,
   "outputs": [
    {
     "output_type": "execute_result",
     "data": {
      "text/plain": [
       "P I F     0.973328\n",
       "CHGOFF    0.026672\n",
       "Name: MIS_Status, dtype: float64"
      ]
     },
     "metadata": {
      "tags": []
     },
     "execution_count": 56
    }
   ]
  },
  {
   "cell_type": "code",
   "metadata": {
    "colab": {
     "base_uri": "https://localhost:8080/"
    },
    "id": "uEB9XQ9k-Ync",
    "executionInfo": {
     "elapsed": 95878,
     "status": "ok",
     "timestamp": 1614801799054,
     "user": {
      "displayName": "Patrik Potocny",
      "photoUrl": "https://lh3.googleusercontent.com/a-/AOh14GihT-mq_XUTP--A3MCz0TsmtvX9TzyVQUXW8HDdvA=s64",
      "userId": "11915763958531241617"
     },
     "user_tz": -60
    },
    "outputId": "5159c44d-31a7-44b0-df8a-a1be1106963b"
   },
   "source": [
    "df[df['Term'] == 84][label].value_counts(normalize=True)\n"
   ],
   "execution_count": null,
   "outputs": [
    {
     "output_type": "execute_result",
     "data": {
      "text/plain": [
       "P I F     0.991599\n",
       "CHGOFF    0.008401\n",
       "Name: MIS_Status, dtype: float64"
      ]
     },
     "metadata": {
      "tags": []
     },
     "execution_count": 57
    }
   ]
  },
  {
   "cell_type": "code",
   "metadata": {
    "colab": {
     "base_uri": "https://localhost:8080/"
    },
    "id": "4LWaCnga_g05",
    "executionInfo": {
     "elapsed": 95872,
     "status": "ok",
     "timestamp": 1614801799055,
     "user": {
      "displayName": "Patrik Potocny",
      "photoUrl": "https://lh3.googleusercontent.com/a-/AOh14GihT-mq_XUTP--A3MCz0TsmtvX9TzyVQUXW8HDdvA=s64",
      "userId": "11915763958531241617"
     },
     "user_tz": -60
    },
    "outputId": "7963b656-4d81-486b-a37a-917daf9408c5"
   },
   "source": [
    "df[(df['Term'] < 120) & (df['Term'] > 84)][label].value_counts(normalize=True)"
   ],
   "execution_count": null,
   "outputs": [
    {
     "output_type": "execute_result",
     "data": {
      "text/plain": [
       "P I F     0.728233\n",
       "CHGOFF    0.271767\n",
       "Name: MIS_Status, dtype: float64"
      ]
     },
     "metadata": {
      "tags": []
     },
     "execution_count": 58
    }
   ]
  },
  {
   "cell_type": "code",
   "metadata": {
    "colab": {
     "base_uri": "https://localhost:8080/"
    },
    "id": "bEniGUQHTj5V",
    "executionInfo": {
     "elapsed": 95862,
     "status": "ok",
     "timestamp": 1614801799055,
     "user": {
      "displayName": "Patrik Potocny",
      "photoUrl": "https://lh3.googleusercontent.com/a-/AOh14GihT-mq_XUTP--A3MCz0TsmtvX9TzyVQUXW8HDdvA=s64",
      "userId": "11915763958531241617"
     },
     "user_tz": -60
    },
    "outputId": "f6aba778-0ff8-4774-c502-78d6391c4ccf"
   },
   "source": [
    "df[df['Term'] == 250].shape"
   ],
   "execution_count": null,
   "outputs": [
    {
     "output_type": "execute_result",
     "data": {
      "text/plain": [
       "(89, 23)"
      ]
     },
     "metadata": {
      "tags": []
     },
     "execution_count": 59
    }
   ]
  },
  {
   "cell_type": "markdown",
   "metadata": {
    "id": "2ZXSlkl8VNMO"
   },
   "source": [
    "## NoEmp"
   ]
  },
  {
   "cell_type": "code",
   "metadata": {
    "colab": {
     "base_uri": "https://localhost:8080/"
    },
    "id": "E4LVE5rqVaYy",
    "executionInfo": {
     "elapsed": 96243,
     "status": "ok",
     "timestamp": 1614801799443,
     "user": {
      "displayName": "Patrik Potocny",
      "photoUrl": "https://lh3.googleusercontent.com/a-/AOh14GihT-mq_XUTP--A3MCz0TsmtvX9TzyVQUXW8HDdvA=s64",
      "userId": "11915763958531241617"
     },
     "user_tz": -60
    },
    "outputId": "f27d6908-89c4-47c6-bb56-034c9e885034"
   },
   "source": [
    "basic_cat_col_data(df, 'NoEmp')"
   ],
   "execution_count": null,
   "outputs": [
    {
     "output_type": "stream",
     "text": [
      "Null values: 0\n",
      "Unique: 542\n",
      "Vals: \n",
      " 1     120991\n",
      "2     108753\n",
      "3      71485\n",
      "4      57973\n",
      "5      47640\n",
      "6      36217\n",
      "10     24840\n",
      "8      24721\n",
      "7      24703\n",
      "12     16387\n",
      "Name: NoEmp, dtype: int64\n",
      "Current category: 1\n",
      "P I F     0.771785\n",
      "CHGOFF    0.228215\n",
      "Name: MIS_Status, dtype: float64\n",
      "Current category: 2\n",
      "P I F     0.793771\n",
      "CHGOFF    0.206229\n",
      "Name: MIS_Status, dtype: float64\n",
      "Current category: 3\n",
      "P I F     0.794558\n",
      "CHGOFF    0.205442\n",
      "Name: MIS_Status, dtype: float64\n",
      "Current category: 4\n",
      "P I F     0.805306\n",
      "CHGOFF    0.194694\n",
      "Name: MIS_Status, dtype: float64\n",
      "Current category: 5\n",
      "P I F     0.809362\n",
      "CHGOFF    0.190638\n",
      "Name: MIS_Status, dtype: float64\n",
      "Current category: 6\n",
      "P I F     0.822017\n",
      "CHGOFF    0.177983\n",
      "Name: MIS_Status, dtype: float64\n",
      "Current category: 10\n",
      "P I F     0.852013\n",
      "CHGOFF    0.147987\n",
      "Name: MIS_Status, dtype: float64\n",
      "Current category: 8\n",
      "P I F     0.84588\n",
      "CHGOFF    0.15412\n",
      "Name: MIS_Status, dtype: float64\n",
      "Current category: 7\n",
      "P I F     0.833381\n",
      "CHGOFF    0.166619\n",
      "Name: MIS_Status, dtype: float64\n",
      "Current category: 12\n",
      "P I F     0.860011\n",
      "CHGOFF    0.139989\n",
      "Name: MIS_Status, dtype: float64\n"
     ],
     "name": "stdout"
    }
   ]
  },
  {
   "cell_type": "code",
   "metadata": {
    "colab": {
     "base_uri": "https://localhost:8080/"
    },
    "id": "UgXAmCW0WLSB",
    "executionInfo": {
     "elapsed": 96238,
     "status": "ok",
     "timestamp": 1614801799445,
     "user": {
      "displayName": "Patrik Potocny",
      "photoUrl": "https://lh3.googleusercontent.com/a-/AOh14GihT-mq_XUTP--A3MCz0TsmtvX9TzyVQUXW8HDdvA=s64",
      "userId": "11915763958531241617"
     },
     "user_tz": -60
    },
    "outputId": "8df99c68-6151-44f4-8031-4994c3b5c4f4"
   },
   "source": [
    "pd.set_option('display.max_rows', None)\n",
    "df['NoEmp'].value_counts().sort_index()"
   ],
   "execution_count": null,
   "outputs": [
    {
     "output_type": "execute_result",
     "data": {
      "text/plain": [
       "0         5224\n",
       "1       120991\n",
       "2       108753\n",
       "3        71485\n",
       "4        57973\n",
       "5        47640\n",
       "6        36217\n",
       "7        24703\n",
       "8        24721\n",
       "9        14232\n",
       "10       24840\n",
       "11        9338\n",
       "12       16387\n",
       "13        7380\n",
       "14        8439\n",
       "15       14438\n",
       "16        6213\n",
       "17        4927\n",
       "18        6228\n",
       "19        3011\n",
       "20       11267\n",
       "21        2872\n",
       "22        4154\n",
       "23        2773\n",
       "24        2922\n",
       "25        7813\n",
       "26        2173\n",
       "27        1936\n",
       "28        2366\n",
       "29        1202\n",
       "30        6846\n",
       "31        1147\n",
       "32        1824\n",
       "33        1090\n",
       "34        1155\n",
       "35        3956\n",
       "36        1090\n",
       "37         859\n",
       "38        1134\n",
       "39         602\n",
       "40        3963\n",
       "41         546\n",
       "42        1015\n",
       "43         697\n",
       "44         537\n",
       "45        2315\n",
       "46         516\n",
       "47         532\n",
       "48         682\n",
       "49         378\n",
       "50        3238\n",
       "51         309\n",
       "52         530\n",
       "53         351\n",
       "54         323\n",
       "55        1119\n",
       "56         275\n",
       "57         271\n",
       "58         311\n",
       "59         182\n",
       "60        1937\n",
       "61         169\n",
       "62         335\n",
       "63         237\n",
       "64         196\n",
       "65        1028\n",
       "66         154\n",
       "67         180\n",
       "68         232\n",
       "69         104\n",
       "70        1035\n",
       "71         103\n",
       "72         207\n",
       "73         154\n",
       "74         141\n",
       "75         958\n",
       "76         125\n",
       "77         115\n",
       "78         153\n",
       "79          78\n",
       "80         945\n",
       "81          82\n",
       "82         134\n",
       "83          94\n",
       "84         110\n",
       "85         470\n",
       "86          88\n",
       "87          81\n",
       "88          94\n",
       "89          52\n",
       "90         542\n",
       "91          57\n",
       "92         101\n",
       "93          67\n",
       "94          67\n",
       "95         277\n",
       "96          71\n",
       "97          77\n",
       "98          82\n",
       "99          46\n",
       "100        921\n",
       "101         49\n",
       "102         63\n",
       "103         50\n",
       "104         43\n",
       "105        182\n",
       "106         32\n",
       "107         41\n",
       "108         43\n",
       "109         33\n",
       "110        304\n",
       "111         24\n",
       "112         43\n",
       "113         33\n",
       "114         29\n",
       "115        136\n",
       "116         34\n",
       "117         29\n",
       "118         34\n",
       "119         19\n",
       "120        357\n",
       "121         28\n",
       "122         37\n",
       "123         28\n",
       "124         20\n",
       "125        265\n",
       "126         23\n",
       "127         28\n",
       "128         28\n",
       "129         22\n",
       "130        223\n",
       "131         18\n",
       "132         19\n",
       "133         11\n",
       "134         10\n",
       "135        115\n",
       "136         18\n",
       "137         29\n",
       "138         19\n",
       "139         11\n",
       "140        191\n",
       "141         17\n",
       "142         18\n",
       "143         15\n",
       "144         15\n",
       "145         64\n",
       "146         16\n",
       "147         16\n",
       "148         12\n",
       "149          9\n",
       "150        409\n",
       "151         10\n",
       "152         19\n",
       "153         13\n",
       "154          7\n",
       "155         41\n",
       "156         17\n",
       "157         13\n",
       "158         14\n",
       "160        107\n",
       "161         15\n",
       "162         14\n",
       "163          7\n",
       "165         66\n",
       "166         10\n",
       "167         12\n",
       "168          7\n",
       "169          6\n",
       "170         62\n",
       "171          5\n",
       "172          8\n",
       "173         10\n",
       "174          7\n",
       "175         87\n",
       "176          7\n",
       "177          9\n",
       "178          7\n",
       "179          7\n",
       "180        105\n",
       "181          4\n",
       "182          4\n",
       "183          2\n",
       "184          4\n",
       "185         30\n",
       "186          2\n",
       "187         10\n",
       "188          9\n",
       "189          5\n",
       "190         41\n",
       "191          6\n",
       "192          8\n",
       "193          3\n",
       "194          5\n",
       "195         19\n",
       "196          5\n",
       "197          5\n",
       "198          2\n",
       "199          3\n",
       "200        224\n",
       "201          1\n",
       "202          4\n",
       "203          7\n",
       "204          2\n",
       "205         16\n",
       "206          3\n",
       "207          2\n",
       "208          7\n",
       "209          5\n",
       "210         33\n",
       "211          3\n",
       "212          4\n",
       "213          2\n",
       "214          8\n",
       "215         16\n",
       "216          6\n",
       "217          4\n",
       "218          3\n",
       "220         53\n",
       "221          4\n",
       "222          2\n",
       "223          6\n",
       "224          3\n",
       "225         28\n",
       "226          4\n",
       "227          4\n",
       "228          5\n",
       "229          3\n",
       "230         35\n",
       "231          2\n",
       "232          3\n",
       "233          4\n",
       "234          2\n",
       "235         10\n",
       "236          3\n",
       "237          3\n",
       "238          2\n",
       "240         27\n",
       "241          3\n",
       "242          3\n",
       "243          2\n",
       "244          2\n",
       "245          4\n",
       "246          2\n",
       "247          4\n",
       "248          2\n",
       "249          4\n",
       "250        100\n",
       "252          1\n",
       "253          3\n",
       "254          3\n",
       "255          8\n",
       "256          5\n",
       "257          5\n",
       "258          7\n",
       "259          3\n",
       "260         19\n",
       "261          3\n",
       "262          2\n",
       "263          4\n",
       "265          5\n",
       "266          2\n",
       "268          3\n",
       "269          1\n",
       "270         13\n",
       "273          1\n",
       "274          4\n",
       "275         20\n",
       "276          2\n",
       "277          4\n",
       "279          1\n",
       "280         15\n",
       "281          2\n",
       "282          2\n",
       "283          1\n",
       "284          1\n",
       "285          7\n",
       "287          2\n",
       "288          2\n",
       "289          2\n",
       "290          7\n",
       "293          1\n",
       "295          5\n",
       "298          2\n",
       "299          2\n",
       "300        108\n",
       "301          1\n",
       "302          3\n",
       "304          1\n",
       "305          6\n",
       "306          2\n",
       "307          5\n",
       "308          4\n",
       "310          7\n",
       "312          2\n",
       "314          2\n",
       "315          6\n",
       "316          1\n",
       "317          3\n",
       "318          4\n",
       "319          1\n",
       "320          7\n",
       "322          2\n",
       "323          2\n",
       "325         14\n",
       "327          1\n",
       "328          2\n",
       "329          2\n",
       "330         10\n",
       "332          2\n",
       "336          2\n",
       "339          1\n",
       "340          8\n",
       "341          1\n",
       "342          1\n",
       "343          1\n",
       "344          1\n",
       "345          1\n",
       "346          2\n",
       "348          1\n",
       "350         40\n",
       "351          1\n",
       "354          1\n",
       "355          3\n",
       "358          1\n",
       "360         10\n",
       "362          2\n",
       "363          2\n",
       "365          3\n",
       "367          1\n",
       "368          1\n",
       "369          1\n",
       "370          3\n",
       "375         12\n",
       "376          2\n",
       "377          1\n",
       "380          3\n",
       "382          1\n",
       "384          1\n",
       "385          3\n",
       "386          2\n",
       "387          2\n",
       "390          2\n",
       "394          1\n",
       "395          2\n",
       "396          1\n",
       "400         45\n",
       "401          1\n",
       "403          2\n",
       "404          4\n",
       "405          1\n",
       "407          2\n",
       "408          1\n",
       "410          1\n",
       "413          2\n",
       "414          1\n",
       "420          9\n",
       "421          1\n",
       "423          1\n",
       "424          2\n",
       "425          5\n",
       "426          1\n",
       "427          1\n",
       "429          1\n",
       "430          4\n",
       "433          2\n",
       "435          2\n",
       "441          1\n",
       "442          1\n",
       "445          1\n",
       "447          1\n",
       "450         29\n",
       "454          1\n",
       "455          1\n",
       "456          1\n",
       "458          2\n",
       "460          1\n",
       "463          2\n",
       "475          3\n",
       "479          1\n",
       "480          2\n",
       "484          1\n",
       "488          1\n",
       "495          1\n",
       "498          2\n",
       "500         26\n",
       "505          4\n",
       "510          2\n",
       "512          1\n",
       "520          4\n",
       "521          2\n",
       "523          2\n",
       "525          3\n",
       "530          1\n",
       "535          1\n",
       "538          1\n",
       "550          6\n",
       "560          1\n",
       "570          2\n",
       "576          1\n",
       "585          2\n",
       "600         18\n",
       "602          1\n",
       "604          1\n",
       "605          1\n",
       "609          1\n",
       "625          2\n",
       "640          2\n",
       "650          2\n",
       "660          1\n",
       "680          1\n",
       "700          5\n",
       "712          1\n",
       "713          2\n",
       "717          1\n",
       "720          3\n",
       "740          1\n",
       "750          3\n",
       "760          1\n",
       "761          1\n",
       "782          1\n",
       "800          3\n",
       "808          1\n",
       "823          1\n",
       "828          1\n",
       "840          1\n",
       "850          1\n",
       "900          6\n",
       "967          1\n",
       "985          1\n",
       "1000        17\n",
       "1003         8\n",
       "1005         1\n",
       "1010         2\n",
       "1012         1\n",
       "1015         1\n",
       "1020         1\n",
       "1030         1\n",
       "1050         1\n",
       "1073         1\n",
       "1100         2\n",
       "1101         1\n",
       "1112         1\n",
       "1125         1\n",
       "1145         1\n",
       "1150         2\n",
       "1200         9\n",
       "1233         1\n",
       "1235         1\n",
       "1250         1\n",
       "1280         1\n",
       "1300         4\n",
       "1340         1\n",
       "1382         1\n",
       "1400         1\n",
       "1500         8\n",
       "1502         1\n",
       "1515         2\n",
       "1520         1\n",
       "1524         1\n",
       "1542         1\n",
       "1600         1\n",
       "1603         1\n",
       "1644         1\n",
       "1700         3\n",
       "1706         1\n",
       "1711         1\n",
       "1718         1\n",
       "1800         3\n",
       "1900         1\n",
       "1920         1\n",
       "1940         1\n",
       "1960         1\n",
       "1980         1\n",
       "2000         8\n",
       "2005         1\n",
       "2010         1\n",
       "2020         1\n",
       "2100         1\n",
       "2112         1\n",
       "2120         1\n",
       "2121         1\n",
       "2151         1\n",
       "2200         2\n",
       "2202         2\n",
       "2232         1\n",
       "2400         1\n",
       "2500         3\n",
       "2501         1\n",
       "2520         1\n",
       "2610         1\n",
       "2700         1\n",
       "2725         1\n",
       "2900         1\n",
       "3000         4\n",
       "3009         1\n",
       "3030         5\n",
       "3100         1\n",
       "3170         1\n",
       "3200         2\n",
       "3500         3\n",
       "3713         1\n",
       "3732         1\n",
       "3737         1\n",
       "4000         7\n",
       "4012         1\n",
       "4100         1\n",
       "4501         1\n",
       "4658         1\n",
       "4685         1\n",
       "4800         1\n",
       "4847         1\n",
       "4953         1\n",
       "5000         6\n",
       "5084         1\n",
       "5149         1\n",
       "5200         1\n",
       "5211         1\n",
       "5511         1\n",
       "5555         1\n",
       "5680         1\n",
       "5812         4\n",
       "5921         1\n",
       "5947         1\n",
       "6000         7\n",
       "6501         1\n",
       "7000         2\n",
       "7007         1\n",
       "7111         1\n",
       "7216         1\n",
       "7231         1\n",
       "7389         2\n",
       "7538         1\n",
       "7999         1\n",
       "8000         5\n",
       "8018         1\n",
       "8041         1\n",
       "8500         1\n",
       "9000         2\n",
       "9090         1\n",
       "9945         1\n",
       "9992         1\n",
       "9999         4\n",
       "Name: NoEmp, dtype: int64"
      ]
     },
     "metadata": {
      "tags": []
     },
     "execution_count": 61
    }
   ]
  },
  {
   "cell_type": "code",
   "metadata": {
    "colab": {
     "base_uri": "https://localhost:8080/"
    },
    "id": "-RNldCDUWCz6",
    "executionInfo": {
     "elapsed": 96968,
     "status": "ok",
     "timestamp": 1614801800182,
     "user": {
      "displayName": "Patrik Potocny",
      "photoUrl": "https://lh3.googleusercontent.com/a-/AOh14GihT-mq_XUTP--A3MCz0TsmtvX9TzyVQUXW8HDdvA=s64",
      "userId": "11915763958531241617"
     },
     "user_tz": -60
    },
    "outputId": "714e9799-a0e4-487a-cf33-0c39b991ff1f"
   },
   "source": [
    "df[df['NoEmp'] == 31][label].value_counts(normalize=True)"
   ],
   "execution_count": null,
   "outputs": [
    {
     "output_type": "execute_result",
     "data": {
      "text/plain": [
       "P I F     0.920663\n",
       "CHGOFF    0.079337\n",
       "Name: MIS_Status, dtype: float64"
      ]
     },
     "metadata": {
      "tags": []
     },
     "execution_count": 62
    }
   ]
  },
  {
   "cell_type": "code",
   "metadata": {
    "colab": {
     "base_uri": "https://localhost:8080/"
    },
    "id": "JPm0mxJwbc0j",
    "executionInfo": {
     "elapsed": 96962,
     "status": "ok",
     "timestamp": 1614801800183,
     "user": {
      "displayName": "Patrik Potocny",
      "photoUrl": "https://lh3.googleusercontent.com/a-/AOh14GihT-mq_XUTP--A3MCz0TsmtvX9TzyVQUXW8HDdvA=s64",
      "userId": "11915763958531241617"
     },
     "user_tz": -60
    },
    "outputId": "264ae295-e4be-4606-ac1b-31ff1077b596"
   },
   "source": [
    "df[df['NoEmp'] > 100].shape[0]"
   ],
   "execution_count": null,
   "outputs": [
    {
     "output_type": "execute_result",
     "data": {
      "text/plain": [
       "5817"
      ]
     },
     "metadata": {
      "tags": []
     },
     "execution_count": 63
    }
   ]
  },
  {
   "cell_type": "code",
   "metadata": {
    "colab": {
     "base_uri": "https://localhost:8080/"
    },
    "id": "Gi-Ow213goo4",
    "executionInfo": {
     "elapsed": 97546,
     "status": "ok",
     "timestamp": 1614801800782,
     "user": {
      "displayName": "Patrik Potocny",
      "photoUrl": "https://lh3.googleusercontent.com/a-/AOh14GihT-mq_XUTP--A3MCz0TsmtvX9TzyVQUXW8HDdvA=s64",
      "userId": "11915763958531241617"
     },
     "user_tz": -60
    },
    "outputId": "d0d9def6-1bd2-4913-a4d0-1846cccde0da"
   },
   "source": [
    "df = transform_noemp(df)\n",
    "df['NoEmp'].value_counts().sort_index()"
   ],
   "execution_count": null,
   "outputs": [
    {
     "output_type": "stream",
     "text": [
      "/usr/local/lib/python3.7/dist-packages/ipykernel_launcher.py:3: SettingWithCopyWarning: \n",
      "A value is trying to be set on a copy of a slice from a DataFrame.\n",
      "Try using .loc[row_indexer,col_indexer] = value instead\n",
      "\n",
      "See the caveats in the documentation: https://pandas.pydata.org/pandas-docs/stable/user_guide/indexing.html#returning-a-view-versus-a-copy\n",
      "  This is separate from the ipykernel package so we can avoid doing imports until\n",
      "/usr/local/lib/python3.7/dist-packages/ipykernel_launcher.py:7: SettingWithCopyWarning: \n",
      "A value is trying to be set on a copy of a slice from a DataFrame.\n",
      "Try using .loc[row_indexer,col_indexer] = value instead\n",
      "\n",
      "See the caveats in the documentation: https://pandas.pydata.org/pandas-docs/stable/user_guide/indexing.html#returning-a-view-versus-a-copy\n",
      "  import sys\n",
      "/usr/local/lib/python3.7/dist-packages/ipykernel_launcher.py:11: SettingWithCopyWarning: \n",
      "A value is trying to be set on a copy of a slice from a DataFrame.\n",
      "Try using .loc[row_indexer,col_indexer] = value instead\n",
      "\n",
      "See the caveats in the documentation: https://pandas.pydata.org/pandas-docs/stable/user_guide/indexing.html#returning-a-view-versus-a-copy\n",
      "  # This is added back by InteractiveShellApp.init_path()\n"
     ],
     "name": "stderr"
    },
    {
     "output_type": "execute_result",
     "data": {
      "text/plain": [
       "0        5224\n",
       "1      120991\n",
       "2      108753\n",
       "3       71485\n",
       "4       57973\n",
       "5       47640\n",
       "6       36217\n",
       "7       24703\n",
       "8       24721\n",
       "9       14232\n",
       "10      24840\n",
       "11       9338\n",
       "12      16387\n",
       "13       7380\n",
       "14       8439\n",
       "15      14438\n",
       "16       6213\n",
       "17       4927\n",
       "18       6228\n",
       "19       3011\n",
       "20      11267\n",
       "21       2872\n",
       "22       4154\n",
       "23       2773\n",
       "24       2922\n",
       "25       7813\n",
       "26       2173\n",
       "27       1936\n",
       "28       2366\n",
       "29       1202\n",
       "30       6846\n",
       "31       1147\n",
       "32       1824\n",
       "33       1090\n",
       "34       1155\n",
       "35       3956\n",
       "36       1090\n",
       "37        859\n",
       "38       1134\n",
       "39        602\n",
       "40       3963\n",
       "41        546\n",
       "42       1015\n",
       "43        697\n",
       "44        537\n",
       "45       2315\n",
       "46        516\n",
       "47        532\n",
       "48        682\n",
       "49        378\n",
       "50       3238\n",
       "51        309\n",
       "52        530\n",
       "53        351\n",
       "54        323\n",
       "55       1119\n",
       "56        275\n",
       "57        271\n",
       "58        311\n",
       "59        182\n",
       "60       1937\n",
       "61        169\n",
       "62        335\n",
       "63        237\n",
       "64        196\n",
       "65       1028\n",
       "66        154\n",
       "67        180\n",
       "68        232\n",
       "69        104\n",
       "70       1035\n",
       "71        103\n",
       "72        207\n",
       "73        154\n",
       "74        141\n",
       "75        958\n",
       "76        125\n",
       "77        115\n",
       "78        153\n",
       "79         78\n",
       "80       2150\n",
       "90       1387\n",
       "100       921\n",
       "110      5817\n",
       "Name: NoEmp, dtype: int64"
      ]
     },
     "metadata": {
      "tags": []
     },
     "execution_count": 65
    }
   ]
  },
  {
   "cell_type": "markdown",
   "metadata": {
    "id": "KR71ZVmPfTEc"
   },
   "source": [
    "## NewExist"
   ]
  },
  {
   "cell_type": "code",
   "metadata": {
    "colab": {
     "base_uri": "https://localhost:8080/"
    },
    "id": "cJjX4SUwfW-x",
    "executionInfo": {
     "elapsed": 97933,
     "status": "ok",
     "timestamp": 1614801801177,
     "user": {
      "displayName": "Patrik Potocny",
      "photoUrl": "https://lh3.googleusercontent.com/a-/AOh14GihT-mq_XUTP--A3MCz0TsmtvX9TzyVQUXW8HDdvA=s64",
      "userId": "11915763958531241617"
     },
     "user_tz": -60
    },
    "outputId": "15b45780-be72-41e7-e81c-a45884dc288b"
   },
   "source": [
    "basic_cat_col_data(df, 'NewExist', show_vals=2)"
   ],
   "execution_count": null,
   "outputs": [
    {
     "output_type": "stream",
     "text": [
      "Null values: 0\n",
      "Unique: 3\n",
      "Vals: \n",
      " 1.0    508489\n",
      "2.0    199007\n",
      "Name: NewExist, dtype: int64\n",
      "Current category: 1.0\n",
      "P I F     0.828903\n",
      "CHGOFF    0.171097\n",
      "Name: MIS_Status, dtype: float64\n",
      "Current category: 2.0\n",
      "P I F     0.813087\n",
      "CHGOFF    0.186913\n",
      "Name: MIS_Status, dtype: float64\n"
     ],
     "name": "stdout"
    }
   ]
  },
  {
   "cell_type": "code",
   "metadata": {
    "colab": {
     "base_uri": "https://localhost:8080/"
    },
    "id": "cwUZz81Uf4gI",
    "executionInfo": {
     "elapsed": 97924,
     "status": "ok",
     "timestamp": 1614801801178,
     "user": {
      "displayName": "Patrik Potocny",
      "photoUrl": "https://lh3.googleusercontent.com/a-/AOh14GihT-mq_XUTP--A3MCz0TsmtvX9TzyVQUXW8HDdvA=s64",
      "userId": "11915763958531241617"
     },
     "user_tz": -60
    },
    "outputId": "1e4f12e5-08cf-49b7-8ff7-bddc72a943b4"
   },
   "source": [
    "df['NewExist'].dtype"
   ],
   "execution_count": null,
   "outputs": [
    {
     "output_type": "execute_result",
     "data": {
      "text/plain": [
       "dtype('float64')"
      ]
     },
     "metadata": {
      "tags": []
     },
     "execution_count": 67
    }
   ]
  },
  {
   "cell_type": "markdown",
   "metadata": {
    "id": "QSCm9Kslg26y"
   },
   "source": [
    "## CreateJob"
   ]
  },
  {
   "cell_type": "code",
   "metadata": {
    "colab": {
     "base_uri": "https://localhost:8080/"
    },
    "id": "U66UTulPg4Mz",
    "executionInfo": {
     "elapsed": 98787,
     "status": "ok",
     "timestamp": 1614801802051,
     "user": {
      "displayName": "Patrik Potocny",
      "photoUrl": "https://lh3.googleusercontent.com/a-/AOh14GihT-mq_XUTP--A3MCz0TsmtvX9TzyVQUXW8HDdvA=s64",
      "userId": "11915763958531241617"
     },
     "user_tz": -60
    },
    "outputId": "2f53d01d-b250-4b93-846b-6faf7a73726b"
   },
   "source": [
    "basic_cat_col_data(df, 'CreateJob')"
   ],
   "execution_count": null,
   "outputs": [
    {
     "output_type": "stream",
     "text": [
      "Null values: 0\n",
      "Unique: 228\n",
      "Vals: \n",
      " 0     495371\n",
      "1      49907\n",
      "2      45584\n",
      "3      22774\n",
      "4      16212\n",
      "5      14694\n",
      "10      9106\n",
      "6       8623\n",
      "8       5848\n",
      "7       5082\n",
      "Name: CreateJob, dtype: int64\n",
      "Current category: 0\n",
      "P I F     0.842805\n",
      "CHGOFF    0.157195\n",
      "Name: MIS_Status, dtype: float64\n",
      "Current category: 1\n",
      "P I F     0.702667\n",
      "CHGOFF    0.297333\n",
      "Name: MIS_Status, dtype: float64\n",
      "Current category: 2\n",
      "P I F     0.732538\n",
      "CHGOFF    0.267462\n",
      "Name: MIS_Status, dtype: float64\n",
      "Current category: 3\n",
      "P I F     0.767849\n",
      "CHGOFF    0.232151\n",
      "Name: MIS_Status, dtype: float64\n",
      "Current category: 4\n",
      "P I F     0.79546\n",
      "CHGOFF    0.20454\n",
      "Name: MIS_Status, dtype: float64\n",
      "Current category: 5\n",
      "P I F     0.811624\n",
      "CHGOFF    0.188376\n",
      "Name: MIS_Status, dtype: float64\n",
      "Current category: 10\n",
      "P I F     0.848122\n",
      "CHGOFF    0.151878\n",
      "Name: MIS_Status, dtype: float64\n",
      "Current category: 6\n",
      "P I F     0.84379\n",
      "CHGOFF    0.15621\n",
      "Name: MIS_Status, dtype: float64\n",
      "Current category: 8\n",
      "P I F     0.858755\n",
      "CHGOFF    0.141245\n",
      "Name: MIS_Status, dtype: float64\n",
      "Current category: 7\n",
      "P I F     0.867375\n",
      "CHGOFF    0.132625\n",
      "Name: MIS_Status, dtype: float64\n"
     ],
     "name": "stdout"
    }
   ]
  },
  {
   "cell_type": "code",
   "metadata": {
    "colab": {
     "base_uri": "https://localhost:8080/"
    },
    "id": "VtaUsjZrijRP",
    "executionInfo": {
     "elapsed": 98777,
     "status": "ok",
     "timestamp": 1614801802052,
     "user": {
      "displayName": "Patrik Potocny",
      "photoUrl": "https://lh3.googleusercontent.com/a-/AOh14GihT-mq_XUTP--A3MCz0TsmtvX9TzyVQUXW8HDdvA=s64",
      "userId": "11915763958531241617"
     },
     "user_tz": -60
    },
    "outputId": "2c27ad01-75a6-48d7-d960-7c4cd219aa1a"
   },
   "source": [
    "df['CreateJob'].value_counts().sort_index()"
   ],
   "execution_count": null,
   "outputs": [
    {
     "output_type": "execute_result",
     "data": {
      "text/plain": [
       "0       495371\n",
       "1        49907\n",
       "2        45584\n",
       "3        22774\n",
       "4        16212\n",
       "5        14694\n",
       "6         8623\n",
       "7         5082\n",
       "8         5848\n",
       "9         2659\n",
       "10        9106\n",
       "11        1619\n",
       "12        3380\n",
       "13        1420\n",
       "14        1510\n",
       "15        4275\n",
       "16        1155\n",
       "17         783\n",
       "18        1142\n",
       "19         572\n",
       "20        3497\n",
       "21         524\n",
       "22         757\n",
       "23         475\n",
       "24         499\n",
       "25        1840\n",
       "26         288\n",
       "27         259\n",
       "28         363\n",
       "29         285\n",
       "30        1602\n",
       "31         110\n",
       "32         213\n",
       "33         151\n",
       "34         139\n",
       "35         595\n",
       "36         110\n",
       "37         101\n",
       "38         129\n",
       "39          71\n",
       "40         767\n",
       "41          44\n",
       "42          69\n",
       "43          73\n",
       "44          46\n",
       "45         225\n",
       "46          35\n",
       "47          36\n",
       "48          69\n",
       "49          41\n",
       "50         734\n",
       "51          21\n",
       "52          22\n",
       "53          31\n",
       "54          24\n",
       "55         115\n",
       "56          27\n",
       "57          23\n",
       "58          28\n",
       "59          19\n",
       "60         227\n",
       "61          12\n",
       "62          23\n",
       "63          15\n",
       "64          18\n",
       "65          89\n",
       "66          14\n",
       "67           8\n",
       "68          13\n",
       "69          11\n",
       "70          83\n",
       "71           3\n",
       "72          15\n",
       "73           9\n",
       "74           9\n",
       "75         115\n",
       "76          13\n",
       "77           6\n",
       "78          12\n",
       "79           5\n",
       "80          94\n",
       "81           7\n",
       "82          14\n",
       "83           2\n",
       "84          10\n",
       "85          25\n",
       "86           4\n",
       "87           2\n",
       "88           3\n",
       "89           3\n",
       "90          48\n",
       "91           1\n",
       "92           9\n",
       "93           3\n",
       "94           1\n",
       "95          17\n",
       "96           3\n",
       "97          12\n",
       "98          11\n",
       "99           9\n",
       "100        216\n",
       "102          3\n",
       "104          2\n",
       "105          8\n",
       "106          2\n",
       "108          2\n",
       "109          2\n",
       "110         19\n",
       "112          2\n",
       "114          2\n",
       "115          5\n",
       "118          3\n",
       "119          2\n",
       "120         31\n",
       "121          1\n",
       "122          1\n",
       "123          1\n",
       "124          5\n",
       "125         24\n",
       "126          3\n",
       "127          1\n",
       "128          1\n",
       "129          1\n",
       "130          5\n",
       "131          2\n",
       "134          1\n",
       "135          7\n",
       "136          2\n",
       "137          2\n",
       "138          3\n",
       "139          2\n",
       "140          8\n",
       "143          1\n",
       "144          2\n",
       "145          2\n",
       "146          1\n",
       "149          2\n",
       "150         41\n",
       "151          2\n",
       "152          2\n",
       "153          2\n",
       "154          1\n",
       "155          1\n",
       "157          2\n",
       "160          8\n",
       "162          1\n",
       "163          1\n",
       "164          1\n",
       "165          1\n",
       "166          1\n",
       "167          5\n",
       "168          1\n",
       "169          1\n",
       "170          4\n",
       "171          1\n",
       "174          1\n",
       "175          3\n",
       "177          1\n",
       "179          1\n",
       "180          2\n",
       "182          1\n",
       "183          1\n",
       "189          1\n",
       "190          1\n",
       "195          1\n",
       "198          2\n",
       "200         32\n",
       "206          1\n",
       "210          1\n",
       "220          1\n",
       "221          1\n",
       "222          1\n",
       "223          1\n",
       "225          3\n",
       "226          1\n",
       "235          1\n",
       "240          1\n",
       "250         10\n",
       "252          1\n",
       "255          1\n",
       "256          1\n",
       "264          1\n",
       "270          1\n",
       "280          1\n",
       "300          8\n",
       "310          2\n",
       "320          1\n",
       "350          1\n",
       "360          1\n",
       "363          1\n",
       "365          1\n",
       "375          1\n",
       "386          1\n",
       "400          2\n",
       "409          1\n",
       "433          1\n",
       "450         33\n",
       "451         21\n",
       "452         11\n",
       "453          1\n",
       "454          8\n",
       "455          3\n",
       "456          4\n",
       "457          1\n",
       "480          1\n",
       "500          3\n",
       "569          1\n",
       "600          5\n",
       "750          1\n",
       "800          1\n",
       "860          1\n",
       "1000         3\n",
       "1016         1\n",
       "1027         1\n",
       "1100         1\n",
       "1200         1\n",
       "1229         1\n",
       "1530         1\n",
       "1618         1\n",
       "1711         1\n",
       "2020         1\n",
       "2140         1\n",
       "2515         1\n",
       "3000         3\n",
       "3100         1\n",
       "3500         1\n",
       "5199         1\n",
       "8800       512\n",
       "Name: CreateJob, dtype: int64"
      ]
     },
     "metadata": {
      "tags": []
     },
     "execution_count": 69
    }
   ]
  },
  {
   "cell_type": "code",
   "metadata": {
    "colab": {
     "base_uri": "https://localhost:8080/"
    },
    "id": "bNnGEkXbi0AW",
    "executionInfo": {
     "elapsed": 98769,
     "status": "ok",
     "timestamp": 1614801802054,
     "user": {
      "displayName": "Patrik Potocny",
      "photoUrl": "https://lh3.googleusercontent.com/a-/AOh14GihT-mq_XUTP--A3MCz0TsmtvX9TzyVQUXW8HDdvA=s64",
      "userId": "11915763958531241617"
     },
     "user_tz": -60
    },
    "outputId": "86cc2249-974d-4f1b-bcea-1c2eb489f6eb"
   },
   "source": [
    "df[(df['CreateJob'] > 40) & (df['CreateJob'] < 100)][label].value_counts(normalize=True)"
   ],
   "execution_count": null,
   "outputs": [
    {
     "output_type": "execute_result",
     "data": {
      "text/plain": [
       "P I F     0.917669\n",
       "CHGOFF    0.082331\n",
       "Name: MIS_Status, dtype: float64"
      ]
     },
     "metadata": {
      "tags": []
     },
     "execution_count": 70
    }
   ]
  },
  {
   "cell_type": "code",
   "metadata": {
    "colab": {
     "base_uri": "https://localhost:8080/"
    },
    "id": "3HaOA3Nui7y2",
    "executionInfo": {
     "elapsed": 98760,
     "status": "ok",
     "timestamp": 1614801802055,
     "user": {
      "displayName": "Patrik Potocny",
      "photoUrl": "https://lh3.googleusercontent.com/a-/AOh14GihT-mq_XUTP--A3MCz0TsmtvX9TzyVQUXW8HDdvA=s64",
      "userId": "11915763958531241617"
     },
     "user_tz": -60
    },
    "outputId": "96b8c5fe-982f-4d47-e3fc-93c3ba576e5c"
   },
   "source": [
    "df[df['CreateJob'] > 100][label].value_counts(normalize=True)\n",
    "\n",
    "pd.set_option('display.max_rows', 10)"
   ],
   "execution_count": null,
   "outputs": [
    {
     "output_type": "execute_result",
     "data": {
      "text/plain": [
       "P I F     0.730208\n",
       "CHGOFF    0.269792\n",
       "Name: MIS_Status, dtype: float64"
      ]
     },
     "metadata": {
      "tags": []
     },
     "execution_count": 71
    }
   ]
  },
  {
   "cell_type": "code",
   "metadata": {
    "id": "s67pFAt6lhZN",
    "colab": {
     "base_uri": "https://localhost:8080/"
    },
    "executionInfo": {
     "status": "ok",
     "timestamp": 1614805581935,
     "user_tz": -60,
     "elapsed": 2505,
     "user": {
      "displayName": "Patrik Potocny",
      "photoUrl": "https://lh3.googleusercontent.com/a-/AOh14GihT-mq_XUTP--A3MCz0TsmtvX9TzyVQUXW8HDdvA=s64",
      "userId": "11915763958531241617"
     }
    },
    "outputId": "99798114-4fdd-4aa9-ac02-aa2a7cd0d335"
   },
   "source": [
    "create_jobs_range_list = [(200, df['CreateJob'].max() + 1),\n",
    "                          (100, 200),\n",
    "                          (30, 100),\n",
    "                          (20, 30),\n",
    "                          (15, 20)]\n",
    "df = group_values(df, 'CreateJob', create_jobs_range_list)"
   ],
   "execution_count": 104,
   "outputs": [
    {
     "output_type": "stream",
     "text": [
      "/usr/local/lib/python3.7/dist-packages/ipykernel_launcher.py:4: SettingWithCopyWarning: \n",
      "A value is trying to be set on a copy of a slice from a DataFrame.\n",
      "Try using .loc[row_indexer,col_indexer] = value instead\n",
      "\n",
      "See the caveats in the documentation: https://pandas.pydata.org/pandas-docs/stable/user_guide/indexing.html#returning-a-view-versus-a-copy\n",
      "  after removing the cwd from sys.path.\n"
     ],
     "name": "stderr"
    }
   ]
  },
  {
   "cell_type": "code",
   "metadata": {
    "colab": {
     "base_uri": "https://localhost:8080/"
    },
    "id": "FYlv4I-u5YA6",
    "executionInfo": {
     "status": "ok",
     "timestamp": 1614805586617,
     "user_tz": -60,
     "elapsed": 976,
     "user": {
      "displayName": "Patrik Potocny",
      "photoUrl": "https://lh3.googleusercontent.com/a-/AOh14GihT-mq_XUTP--A3MCz0TsmtvX9TzyVQUXW8HDdvA=s64",
      "userId": "11915763958531241617"
     }
    },
    "outputId": "98abfb1d-b895-4d64-ad95-4c3a08a244d5"
   },
   "source": [
    "pd.set_option('display.max_rows', None)\n",
    "df['CreateJob'].value_counts().sort_index()\n"
   ],
   "execution_count": 105,
   "outputs": [
    {
     "output_type": "execute_result",
     "data": {
      "text/plain": [
       "0      495371\n",
       "1       49907\n",
       "2       45584\n",
       "3       22774\n",
       "4       16212\n",
       "5       14694\n",
       "6        8623\n",
       "7        5082\n",
       "8        5848\n",
       "9        2659\n",
       "10       9106\n",
       "11       1619\n",
       "12       3380\n",
       "13       1420\n",
       "14       1510\n",
       "15       7927\n",
       "20       8787\n",
       "30       6648\n",
       "100       468\n",
       "200       708\n",
       "Name: CreateJob, dtype: int64"
      ]
     },
     "metadata": {
      "tags": []
     },
     "execution_count": 105
    }
   ]
  },
  {
   "cell_type": "markdown",
   "metadata": {
    "id": "VLQsPHSA6geS"
   },
   "source": [
    "## RetainedJob"
   ]
  },
  {
   "cell_type": "code",
   "metadata": {
    "id": "R36A0HXv6zgh"
   },
   "source": [
    ""
   ],
   "execution_count": null,
   "outputs": []
  }
 ]
}