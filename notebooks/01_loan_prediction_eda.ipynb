{
 "cells": [
  {
   "cell_type": "markdown",
   "metadata": {
    "collapsed": true,
    "pycharm": {
     "name": "#%% md\n"
    }
   },
   "source": [
    "# EDA\n",
    "\n"
   ]
  },
  {
   "cell_type": "code",
   "execution_count": 1,
   "outputs": [],
   "source": [
    "import pandas as pd\n",
    "\n",
    "\n",
    "from loan_prediction.config import split_train\n",
    "from loan_prediction.custom_funcs import *"
   ],
   "metadata": {
    "collapsed": false,
    "pycharm": {
     "name": "#%%\n"
    }
   }
  },
  {
   "cell_type": "code",
   "execution_count": 2,
   "outputs": [
    {
     "name": "stderr",
     "output_type": "stream",
     "text": [
      "c:\\users\\patoj\\anaconda3\\envs\\deep_learning\\lib\\site-packages\\IPython\\core\\interactiveshell.py:3155: DtypeWarning: Columns (9) have mixed types.Specify dtype option on import or set low_memory=False.\n",
      "  has_raised = await self.run_ast_nodes(code_ast.body, cell_name,\n"
     ]
    }
   ],
   "source": [
    "df = pd.read_csv(split_train, index_col='LoanNr_ChkDgt')\n",
    "label = 'MIS_Status'"
   ],
   "metadata": {
    "collapsed": false,
    "pycharm": {
     "name": "#%%\n"
    }
   }
  },
  {
   "cell_type": "code",
   "execution_count": 3,
   "outputs": [
    {
     "data": {
      "text/plain": "                 Zip          NAICS           Term          NoEmp  \\\ncount  717733.000000  717733.000000  717733.000000  717733.000000   \nmean    53843.424372  398731.357524     110.815890      11.395040   \nstd     31170.958176  263247.877448      78.897445      73.554447   \nmin         0.000000       0.000000       0.000000       0.000000   \n25%     27609.000000  235210.000000      60.000000       2.000000   \n50%     55413.000000  445310.000000      84.000000       4.000000   \n75%     83705.000000  561730.000000     120.000000      10.000000   \nmax     99999.000000  928120.000000     569.000000    9999.000000   \n\n            NewExist     CreateJob    RetainedJob  FranchiseCode  \\\ncount  717633.000000  717733.00000  717733.000000  717733.000000   \nmean        1.280255       8.40327      10.780751    2756.751296   \nstd         0.451716     236.30060     236.906138   12765.072160   \nmin         0.000000       0.00000       0.000000       0.000000   \n25%         1.000000       0.00000       0.000000       1.000000   \n50%         1.000000       0.00000       1.000000       1.000000   \n75%         2.000000       1.00000       4.000000       1.000000   \nmax         2.000000    8800.00000    9500.000000   99999.000000   \n\n          UrbanRural  \ncount  717733.000000  \nmean        0.756929  \nstd         0.646117  \nmin         0.000000  \n25%         0.000000  \n50%         1.000000  \n75%         1.000000  \nmax         2.000000  ",
      "text/html": "<div>\n<style scoped>\n    .dataframe tbody tr th:only-of-type {\n        vertical-align: middle;\n    }\n\n    .dataframe tbody tr th {\n        vertical-align: top;\n    }\n\n    .dataframe thead th {\n        text-align: right;\n    }\n</style>\n<table border=\"1\" class=\"dataframe\">\n  <thead>\n    <tr style=\"text-align: right;\">\n      <th></th>\n      <th>Zip</th>\n      <th>NAICS</th>\n      <th>Term</th>\n      <th>NoEmp</th>\n      <th>NewExist</th>\n      <th>CreateJob</th>\n      <th>RetainedJob</th>\n      <th>FranchiseCode</th>\n      <th>UrbanRural</th>\n    </tr>\n  </thead>\n  <tbody>\n    <tr>\n      <th>count</th>\n      <td>717733.000000</td>\n      <td>717733.000000</td>\n      <td>717733.000000</td>\n      <td>717733.000000</td>\n      <td>717633.000000</td>\n      <td>717733.00000</td>\n      <td>717733.000000</td>\n      <td>717733.000000</td>\n      <td>717733.000000</td>\n    </tr>\n    <tr>\n      <th>mean</th>\n      <td>53843.424372</td>\n      <td>398731.357524</td>\n      <td>110.815890</td>\n      <td>11.395040</td>\n      <td>1.280255</td>\n      <td>8.40327</td>\n      <td>10.780751</td>\n      <td>2756.751296</td>\n      <td>0.756929</td>\n    </tr>\n    <tr>\n      <th>std</th>\n      <td>31170.958176</td>\n      <td>263247.877448</td>\n      <td>78.897445</td>\n      <td>73.554447</td>\n      <td>0.451716</td>\n      <td>236.30060</td>\n      <td>236.906138</td>\n      <td>12765.072160</td>\n      <td>0.646117</td>\n    </tr>\n    <tr>\n      <th>min</th>\n      <td>0.000000</td>\n      <td>0.000000</td>\n      <td>0.000000</td>\n      <td>0.000000</td>\n      <td>0.000000</td>\n      <td>0.00000</td>\n      <td>0.000000</td>\n      <td>0.000000</td>\n      <td>0.000000</td>\n    </tr>\n    <tr>\n      <th>25%</th>\n      <td>27609.000000</td>\n      <td>235210.000000</td>\n      <td>60.000000</td>\n      <td>2.000000</td>\n      <td>1.000000</td>\n      <td>0.00000</td>\n      <td>0.000000</td>\n      <td>1.000000</td>\n      <td>0.000000</td>\n    </tr>\n    <tr>\n      <th>50%</th>\n      <td>55413.000000</td>\n      <td>445310.000000</td>\n      <td>84.000000</td>\n      <td>4.000000</td>\n      <td>1.000000</td>\n      <td>0.00000</td>\n      <td>1.000000</td>\n      <td>1.000000</td>\n      <td>1.000000</td>\n    </tr>\n    <tr>\n      <th>75%</th>\n      <td>83705.000000</td>\n      <td>561730.000000</td>\n      <td>120.000000</td>\n      <td>10.000000</td>\n      <td>2.000000</td>\n      <td>1.00000</td>\n      <td>4.000000</td>\n      <td>1.000000</td>\n      <td>1.000000</td>\n    </tr>\n    <tr>\n      <th>max</th>\n      <td>99999.000000</td>\n      <td>928120.000000</td>\n      <td>569.000000</td>\n      <td>9999.000000</td>\n      <td>2.000000</td>\n      <td>8800.00000</td>\n      <td>9500.000000</td>\n      <td>99999.000000</td>\n      <td>2.000000</td>\n    </tr>\n  </tbody>\n</table>\n</div>"
     },
     "execution_count": 3,
     "metadata": {},
     "output_type": "execute_result"
    }
   ],
   "source": [
    "df.describe()"
   ],
   "metadata": {
    "collapsed": false,
    "pycharm": {
     "name": "#%%\n"
    }
   }
  },
  {
   "cell_type": "code",
   "execution_count": 4,
   "outputs": [
    {
     "name": "stdout",
     "output_type": "stream",
     "text": [
      "<class 'pandas.core.frame.DataFrame'>\n",
      "Int64Index: 717733 entries, 5893754007 to 2185585006\n",
      "Data columns (total 26 columns):\n",
      " #   Column             Non-Null Count   Dtype  \n",
      "---  ------             --------------   -----  \n",
      " 0   Name               717723 non-null  object \n",
      " 1   City               717708 non-null  object \n",
      " 2   State              717721 non-null  object \n",
      " 3   Zip                717733 non-null  int64  \n",
      " 4   Bank               716506 non-null  object \n",
      " 5   BankState          716499 non-null  object \n",
      " 6   NAICS              717733 non-null  int64  \n",
      " 7   ApprovalDate       717733 non-null  object \n",
      " 8   ApprovalFY         717733 non-null  object \n",
      " 9   Term               717733 non-null  int64  \n",
      " 10  NoEmp              717733 non-null  int64  \n",
      " 11  NewExist           717633 non-null  float64\n",
      " 12  CreateJob          717733 non-null  int64  \n",
      " 13  RetainedJob        717733 non-null  int64  \n",
      " 14  FranchiseCode      717733 non-null  int64  \n",
      " 15  UrbanRural         717733 non-null  int64  \n",
      " 16  RevLineCr          714120 non-null  object \n",
      " 17  LowDoc             715669 non-null  object \n",
      " 18  ChgOffDate         129893 non-null  object \n",
      " 19  DisbursementDate   715982 non-null  object \n",
      " 20  DisbursementGross  717733 non-null  object \n",
      " 21  BalanceGross       717733 non-null  object \n",
      " 22  MIS_Status         717733 non-null  object \n",
      " 23  ChgOffPrinGr       717733 non-null  object \n",
      " 24  GrAppv             717733 non-null  object \n",
      " 25  SBA_Appv           717733 non-null  object \n",
      "dtypes: float64(1), int64(8), object(17)\n",
      "memory usage: 147.8+ MB\n"
     ]
    }
   ],
   "source": [
    "df.info()"
   ],
   "metadata": {
    "collapsed": false,
    "pycharm": {
     "name": "#%%\n"
    }
   }
  },
  {
   "cell_type": "code",
   "execution_count": 5,
   "outputs": [],
   "source": [
    "# preprocessing\n",
    "df = drop_na(df)"
   ],
   "metadata": {
    "collapsed": false,
    "pycharm": {
     "name": "#%%\n"
    }
   }
  },
  {
   "cell_type": "code",
   "execution_count": 6,
   "outputs": [
    {
     "data": {
      "text/plain": "                                         Name         City State    Zip  \\\nLoanNr_ChkDgt                                                             \n5893754007            KUT-N-KLIP LAWN SERVICE      DUNEDIN    FL  34597   \n3842804010     AMERICANA VINEYARDS/WINERY,INC   INTERLAKEN    NY  14748   \n9096044001        WILD WOOD CHAINSAW CARVINGS    MAQUOKETA    IA  52060   \n2982214007                SQUEAKY DOOR MARKET  LOWER BRULE    SD  57548   \n4365925008               BGR The Burger Joint       Mobile    AL  36693   \n...                                       ...          ...   ...    ...   \n3204824000         THE CORNER ANIMAL HOSPITAL     SETAUKET    NY  11733   \n1497205002                      USAccessories     EL MONTE    CA  91731   \n1333844003                 ZADEDA FARMS, INC.     KINGSTON    NH   3848   \n9612943001                   DR. ROB'S GARAGE       OXFORD    ME   4270   \n2185585006      SANG YUL LEE DBA MEN IN BLACK    ANNANDALE    VA  22003   \n\n                                         Bank BankState   NAICS ApprovalDate  \\\nLoanNr_ChkDgt                                                                  \n5893754007         BANK OF AMERICA NATL ASSOC        NC  561730    22-Nov-02   \n3842804010                   ALTERNATIVES FCU        NY  312130    18-Jul-00   \n9096044001                          BBCN BANK        CA  453998    13-Sep-05   \n2982214007        WELLS FARGO BANK NATL ASSOC        SD  445110     2-Jun-99   \n4365925008            TRUSTMARK NATIONAL BANK        AL  722110    15-Nov-10   \n...                                       ...       ...     ...          ...   \n3204824000                         UNITY BANK        NJ  541940    27-Sep-99   \n1497205002         BANK OF AMERICA NATL ASSOC        NC  422320    13-Oct-05   \n1333844003     GRANITE ST. ECONOMIC DEVEL COR        NH       0    10-Jun-97   \n9612943001                     NORTHEAST BANK        ME  811111     7-Oct-96   \n2185585006     PNC BANK, NATIONAL ASSOCIATION        DE  722110    20-Dec-06   \n\n              ApprovalFY  Term  ...  RevLineCr  LowDoc  ChgOffDate  \\\nLoanNr_ChkDgt                   ...                                  \n5893754007          2003    84  ...          Y       N         NaN   \n3842804010          2000    12  ...          N       N         NaN   \n9096044001          2005    48  ...          0       N    3-Nov-08   \n2982214007          1999    60  ...          0       Y         NaN   \n4365925008          2011    84  ...          N     NaN         NaN   \n...                  ...   ...  ...        ...     ...         ...   \n3204824000          1999   228  ...          0       N         NaN   \n1497205002          2006    57  ...          T       N   14-Aug-08   \n1333844003          1997   240  ...          N       N         NaN   \n9612943001          1997   120  ...          N       Y         NaN   \n2185585006          2007    12  ...          Y       N    9-Mar-08   \n\n               DisbursementDate  DisbursementGross  BalanceGross MIS_Status  \\\nLoanNr_ChkDgt                                                                 \n5893754007            31-Jan-03        $10,000.00         $0.00       P I F   \n3842804010            30-Sep-00        $60,000.00         $0.00       P I F   \n9096044001            30-Sep-05        $10,000.00         $0.00      CHGOFF   \n2982214007            30-Sep-99        $26,000.00         $0.00       P I F   \n4365925008             1-Mar-11       $201,500.00         $0.00       P I F   \n...                         ...                ...           ...        ...   \n3204824000            30-Apr-00       $500,000.00         $0.00       P I F   \n1497205002            31-Mar-06        $45,450.00         $0.00      CHGOFF   \n1333844003            11-Mar-98       $291,000.00         $0.00       P I F   \n9612943001            31-Dec-96        $30,000.00         $0.00       P I F   \n2185585006            31-Jan-07        $50,000.00         $0.00      CHGOFF   \n\n              ChgOffPrinGr        GrAppv      SBA_Appv  \nLoanNr_ChkDgt                                           \n5893754007          $0.00    $10,000.00     $5,000.00   \n3842804010          $0.00    $60,000.00    $45,000.00   \n9096044001      $7,422.00    $10,000.00     $5,000.00   \n2982214007          $0.00    $26,000.00    $20,800.00   \n4365925008          $0.00   $201,500.00   $181,350.00   \n...                    ...           ...           ...  \n3204824000          $0.00   $500,000.00   $375,000.00   \n1497205002     $44,450.00    $45,000.00    $22,500.00   \n1333844003          $0.00   $291,000.00   $291,000.00   \n9612943001          $0.00    $30,000.00    $24,000.00   \n2185585006     $50,000.00    $50,000.00    $25,000.00   \n\n[716542 rows x 26 columns]",
      "text/html": "<div>\n<style scoped>\n    .dataframe tbody tr th:only-of-type {\n        vertical-align: middle;\n    }\n\n    .dataframe tbody tr th {\n        vertical-align: top;\n    }\n\n    .dataframe thead th {\n        text-align: right;\n    }\n</style>\n<table border=\"1\" class=\"dataframe\">\n  <thead>\n    <tr style=\"text-align: right;\">\n      <th></th>\n      <th>Name</th>\n      <th>City</th>\n      <th>State</th>\n      <th>Zip</th>\n      <th>Bank</th>\n      <th>BankState</th>\n      <th>NAICS</th>\n      <th>ApprovalDate</th>\n      <th>ApprovalFY</th>\n      <th>Term</th>\n      <th>...</th>\n      <th>RevLineCr</th>\n      <th>LowDoc</th>\n      <th>ChgOffDate</th>\n      <th>DisbursementDate</th>\n      <th>DisbursementGross</th>\n      <th>BalanceGross</th>\n      <th>MIS_Status</th>\n      <th>ChgOffPrinGr</th>\n      <th>GrAppv</th>\n      <th>SBA_Appv</th>\n    </tr>\n    <tr>\n      <th>LoanNr_ChkDgt</th>\n      <th></th>\n      <th></th>\n      <th></th>\n      <th></th>\n      <th></th>\n      <th></th>\n      <th></th>\n      <th></th>\n      <th></th>\n      <th></th>\n      <th></th>\n      <th></th>\n      <th></th>\n      <th></th>\n      <th></th>\n      <th></th>\n      <th></th>\n      <th></th>\n      <th></th>\n      <th></th>\n      <th></th>\n    </tr>\n  </thead>\n  <tbody>\n    <tr>\n      <th>5893754007</th>\n      <td>KUT-N-KLIP LAWN SERVICE</td>\n      <td>DUNEDIN</td>\n      <td>FL</td>\n      <td>34597</td>\n      <td>BANK OF AMERICA NATL ASSOC</td>\n      <td>NC</td>\n      <td>561730</td>\n      <td>22-Nov-02</td>\n      <td>2003</td>\n      <td>84</td>\n      <td>...</td>\n      <td>Y</td>\n      <td>N</td>\n      <td>NaN</td>\n      <td>31-Jan-03</td>\n      <td>$10,000.00</td>\n      <td>$0.00</td>\n      <td>P I F</td>\n      <td>$0.00</td>\n      <td>$10,000.00</td>\n      <td>$5,000.00</td>\n    </tr>\n    <tr>\n      <th>3842804010</th>\n      <td>AMERICANA VINEYARDS/WINERY,INC</td>\n      <td>INTERLAKEN</td>\n      <td>NY</td>\n      <td>14748</td>\n      <td>ALTERNATIVES FCU</td>\n      <td>NY</td>\n      <td>312130</td>\n      <td>18-Jul-00</td>\n      <td>2000</td>\n      <td>12</td>\n      <td>...</td>\n      <td>N</td>\n      <td>N</td>\n      <td>NaN</td>\n      <td>30-Sep-00</td>\n      <td>$60,000.00</td>\n      <td>$0.00</td>\n      <td>P I F</td>\n      <td>$0.00</td>\n      <td>$60,000.00</td>\n      <td>$45,000.00</td>\n    </tr>\n    <tr>\n      <th>9096044001</th>\n      <td>WILD WOOD CHAINSAW CARVINGS</td>\n      <td>MAQUOKETA</td>\n      <td>IA</td>\n      <td>52060</td>\n      <td>BBCN BANK</td>\n      <td>CA</td>\n      <td>453998</td>\n      <td>13-Sep-05</td>\n      <td>2005</td>\n      <td>48</td>\n      <td>...</td>\n      <td>0</td>\n      <td>N</td>\n      <td>3-Nov-08</td>\n      <td>30-Sep-05</td>\n      <td>$10,000.00</td>\n      <td>$0.00</td>\n      <td>CHGOFF</td>\n      <td>$7,422.00</td>\n      <td>$10,000.00</td>\n      <td>$5,000.00</td>\n    </tr>\n    <tr>\n      <th>2982214007</th>\n      <td>SQUEAKY DOOR MARKET</td>\n      <td>LOWER BRULE</td>\n      <td>SD</td>\n      <td>57548</td>\n      <td>WELLS FARGO BANK NATL ASSOC</td>\n      <td>SD</td>\n      <td>445110</td>\n      <td>2-Jun-99</td>\n      <td>1999</td>\n      <td>60</td>\n      <td>...</td>\n      <td>0</td>\n      <td>Y</td>\n      <td>NaN</td>\n      <td>30-Sep-99</td>\n      <td>$26,000.00</td>\n      <td>$0.00</td>\n      <td>P I F</td>\n      <td>$0.00</td>\n      <td>$26,000.00</td>\n      <td>$20,800.00</td>\n    </tr>\n    <tr>\n      <th>4365925008</th>\n      <td>BGR The Burger Joint</td>\n      <td>Mobile</td>\n      <td>AL</td>\n      <td>36693</td>\n      <td>TRUSTMARK NATIONAL BANK</td>\n      <td>AL</td>\n      <td>722110</td>\n      <td>15-Nov-10</td>\n      <td>2011</td>\n      <td>84</td>\n      <td>...</td>\n      <td>N</td>\n      <td>NaN</td>\n      <td>NaN</td>\n      <td>1-Mar-11</td>\n      <td>$201,500.00</td>\n      <td>$0.00</td>\n      <td>P I F</td>\n      <td>$0.00</td>\n      <td>$201,500.00</td>\n      <td>$181,350.00</td>\n    </tr>\n    <tr>\n      <th>...</th>\n      <td>...</td>\n      <td>...</td>\n      <td>...</td>\n      <td>...</td>\n      <td>...</td>\n      <td>...</td>\n      <td>...</td>\n      <td>...</td>\n      <td>...</td>\n      <td>...</td>\n      <td>...</td>\n      <td>...</td>\n      <td>...</td>\n      <td>...</td>\n      <td>...</td>\n      <td>...</td>\n      <td>...</td>\n      <td>...</td>\n      <td>...</td>\n      <td>...</td>\n      <td>...</td>\n    </tr>\n    <tr>\n      <th>3204824000</th>\n      <td>THE CORNER ANIMAL HOSPITAL</td>\n      <td>SETAUKET</td>\n      <td>NY</td>\n      <td>11733</td>\n      <td>UNITY BANK</td>\n      <td>NJ</td>\n      <td>541940</td>\n      <td>27-Sep-99</td>\n      <td>1999</td>\n      <td>228</td>\n      <td>...</td>\n      <td>0</td>\n      <td>N</td>\n      <td>NaN</td>\n      <td>30-Apr-00</td>\n      <td>$500,000.00</td>\n      <td>$0.00</td>\n      <td>P I F</td>\n      <td>$0.00</td>\n      <td>$500,000.00</td>\n      <td>$375,000.00</td>\n    </tr>\n    <tr>\n      <th>1497205002</th>\n      <td>USAccessories</td>\n      <td>EL MONTE</td>\n      <td>CA</td>\n      <td>91731</td>\n      <td>BANK OF AMERICA NATL ASSOC</td>\n      <td>NC</td>\n      <td>422320</td>\n      <td>13-Oct-05</td>\n      <td>2006</td>\n      <td>57</td>\n      <td>...</td>\n      <td>T</td>\n      <td>N</td>\n      <td>14-Aug-08</td>\n      <td>31-Mar-06</td>\n      <td>$45,450.00</td>\n      <td>$0.00</td>\n      <td>CHGOFF</td>\n      <td>$44,450.00</td>\n      <td>$45,000.00</td>\n      <td>$22,500.00</td>\n    </tr>\n    <tr>\n      <th>1333844003</th>\n      <td>ZADEDA FARMS, INC.</td>\n      <td>KINGSTON</td>\n      <td>NH</td>\n      <td>3848</td>\n      <td>GRANITE ST. ECONOMIC DEVEL COR</td>\n      <td>NH</td>\n      <td>0</td>\n      <td>10-Jun-97</td>\n      <td>1997</td>\n      <td>240</td>\n      <td>...</td>\n      <td>N</td>\n      <td>N</td>\n      <td>NaN</td>\n      <td>11-Mar-98</td>\n      <td>$291,000.00</td>\n      <td>$0.00</td>\n      <td>P I F</td>\n      <td>$0.00</td>\n      <td>$291,000.00</td>\n      <td>$291,000.00</td>\n    </tr>\n    <tr>\n      <th>9612943001</th>\n      <td>DR. ROB'S GARAGE</td>\n      <td>OXFORD</td>\n      <td>ME</td>\n      <td>4270</td>\n      <td>NORTHEAST BANK</td>\n      <td>ME</td>\n      <td>811111</td>\n      <td>7-Oct-96</td>\n      <td>1997</td>\n      <td>120</td>\n      <td>...</td>\n      <td>N</td>\n      <td>Y</td>\n      <td>NaN</td>\n      <td>31-Dec-96</td>\n      <td>$30,000.00</td>\n      <td>$0.00</td>\n      <td>P I F</td>\n      <td>$0.00</td>\n      <td>$30,000.00</td>\n      <td>$24,000.00</td>\n    </tr>\n    <tr>\n      <th>2185585006</th>\n      <td>SANG YUL LEE DBA MEN IN BLACK</td>\n      <td>ANNANDALE</td>\n      <td>VA</td>\n      <td>22003</td>\n      <td>PNC BANK, NATIONAL ASSOCIATION</td>\n      <td>DE</td>\n      <td>722110</td>\n      <td>20-Dec-06</td>\n      <td>2007</td>\n      <td>12</td>\n      <td>...</td>\n      <td>Y</td>\n      <td>N</td>\n      <td>9-Mar-08</td>\n      <td>31-Jan-07</td>\n      <td>$50,000.00</td>\n      <td>$0.00</td>\n      <td>CHGOFF</td>\n      <td>$50,000.00</td>\n      <td>$50,000.00</td>\n      <td>$25,000.00</td>\n    </tr>\n  </tbody>\n</table>\n<p>716542 rows × 26 columns</p>\n</div>"
     },
     "execution_count": 6,
     "metadata": {},
     "output_type": "execute_result"
    }
   ],
   "source": [
    "df\n"
   ],
   "metadata": {
    "collapsed": false,
    "pycharm": {
     "name": "#%%\n"
    }
   }
  },
  {
   "cell_type": "markdown",
   "source": [
    "## Name"
   ],
   "metadata": {
    "collapsed": false,
    "pycharm": {
     "name": "#%% md\n",
     "is_executing": true
    }
   }
  },
  {
   "cell_type": "code",
   "execution_count": 7,
   "outputs": [
    {
     "data": {
      "text/plain": "10"
     },
     "execution_count": 7,
     "metadata": {},
     "output_type": "execute_result"
    }
   ],
   "source": [
    "df['Name'].isnull().sum()\n"
   ],
   "metadata": {
    "collapsed": false,
    "pycharm": {
     "name": "#%%\n"
    }
   }
  },
  {
   "cell_type": "code",
   "execution_count": 8,
   "outputs": [
    {
     "data": {
      "text/plain": "LoanNr_ChkDgt\n5893754007           KUT-N-KLIP LAWN SERVICE\n3842804010    AMERICANA VINEYARDS/WINERY,INC\n9096044001       WILD WOOD CHAINSAW CARVINGS\n2982214007               SQUEAKY DOOR MARKET\n4365925008              BGR The Burger Joint\n                           ...              \n3204824000        THE CORNER ANIMAL HOSPITAL\n1497205002                     USAccessories\n1333844003                ZADEDA FARMS, INC.\n9612943001                  DR. ROB'S GARAGE\n2185585006     SANG YUL LEE DBA MEN IN BLACK\nName: Name, Length: 716542, dtype: object"
     },
     "execution_count": 8,
     "metadata": {},
     "output_type": "execute_result"
    }
   ],
   "source": [
    "df['Name']"
   ],
   "metadata": {
    "collapsed": false,
    "pycharm": {
     "name": "#%%\n"
    }
   }
  },
  {
   "cell_type": "code",
   "execution_count": 9,
   "outputs": [
    {
     "data": {
      "text/plain": " INC    85071\nINC.    83225\n LLC    55889\nInc.    27898\nTION    10900\n Inc     7897\nPANY     6822\nNTER     5630\nVICE     4691\nCORP     4392\nName: Name, dtype: int64"
     },
     "execution_count": 9,
     "metadata": {},
     "output_type": "execute_result"
    }
   ],
   "source": [
    "test = df['Name'].apply(lambda x: str(x)[-4:])\n",
    "test.value_counts()[:10]\n"
   ],
   "metadata": {
    "collapsed": false,
    "pycharm": {
     "name": "#%%\n"
    }
   }
  },
  {
   "cell_type": "code",
   "execution_count": 10,
   "outputs": [
    {
     "name": "stdout",
     "output_type": "stream",
     "text": [
      "INC\n",
      "P I F     0.842268\n",
      "CHGOFF    0.157732\n",
      "Name: MIS_Status, dtype: float64\n",
      "INC.\n",
      "P I F     0.881959\n",
      "CHGOFF    0.118041\n",
      "Name: MIS_Status, dtype: float64\n",
      "LLC\n",
      "P I F     0.777689\n",
      "CHGOFF    0.222311\n",
      "Name: MIS_Status, dtype: float64\n",
      "Inc.\n",
      "P I F     0.686644\n",
      "CHGOFF    0.313356\n",
      "Name: MIS_Status, dtype: float64\n",
      "TION\n",
      "P I F     0.851009\n",
      "CHGOFF    0.148991\n",
      "Name: MIS_Status, dtype: float64\n",
      "Inc\n",
      "P I F     0.708054\n",
      "CHGOFF    0.291946\n",
      "Name: MIS_Status, dtype: float64\n",
      "PANY\n",
      "P I F     0.879214\n",
      "CHGOFF    0.120786\n",
      "Name: MIS_Status, dtype: float64\n"
     ]
    }
   ],
   "source": [
    "most_used_ends = ['INC', 'INC.', 'LLC', 'Inc.', 'TION', 'Inc', 'PANY']\n",
    "for end in most_used_ends:\n",
    "    end_filt = df['Name'].str.endswith(end, na=False)\n",
    "    print(end)\n",
    "    print(df[end_filt][label].value_counts(normalize=True))\n",
    "\n"
   ],
   "metadata": {
    "collapsed": false,
    "pycharm": {
     "name": "#%%\n"
    }
   }
  },
  {
   "cell_type": "code",
   "execution_count": 11,
   "outputs": [
    {
     "data": {
      "text/plain": "P I F     0.8249\nCHGOFF    0.1751\nName: MIS_Status, dtype: float64"
     },
     "execution_count": 11,
     "metadata": {},
     "output_type": "execute_result"
    }
   ],
   "source": [
    "df = get_endings(df)\n",
    "df[df['name_end'] == 'Other'][label].value_counts(normalize=True)\n"
   ],
   "metadata": {
    "collapsed": false,
    "pycharm": {
     "name": "#%%\n"
    }
   }
  },
  {
   "cell_type": "code",
   "execution_count": 12,
   "outputs": [
    {
     "data": {
      "text/plain": "Other    435186\nINC       87097\nINC.      83225\nLLC       57505\nInc.      27898\nTION      10900\nInc        7909\nPANY       6822\nName: name_end, dtype: int64"
     },
     "execution_count": 12,
     "metadata": {},
     "output_type": "execute_result"
    }
   ],
   "source": [
    "df['name_end'].value_counts()\n"
   ],
   "metadata": {
    "collapsed": false,
    "pycharm": {
     "name": "#%%\n"
    }
   }
  },
  {
   "cell_type": "markdown",
   "source": [
    "## City"
   ],
   "metadata": {
    "collapsed": false,
    "pycharm": {
     "name": "#%% md\n"
    }
   }
  },
  {
   "cell_type": "code",
   "execution_count": 13,
   "outputs": [
    {
     "data": {
      "text/plain": "23"
     },
     "execution_count": 13,
     "metadata": {},
     "output_type": "execute_result"
    }
   ],
   "source": [
    "df['City'].isnull().sum()"
   ],
   "metadata": {
    "collapsed": false,
    "pycharm": {
     "name": "#%%\n"
    }
   }
  },
  {
   "cell_type": "code",
   "execution_count": 14,
   "outputs": [
    {
     "data": {
      "text/plain": "              name_end City State    Zip                            Bank  \\\nLoanNr_ChkDgt                                                              \n5554512008        INC.  NaN    KY  40209  CAPITAL ACCESS CORP - KENTUCKY   \n2884182004       Other  NaN    CA  92102       CDC SMALL BUS. FINAN CORP   \n4247472004         INC  NaN    MA   2169  SOUTH SHORE ECONOMIC DEVEL COR   \n1330603010       Other  NaN    UT  84109    MOUNTAIN W. SMALL BUS. FINAN   \n3391402005        PANY  NaN    MO  63103        ST. LOUIS LOCAL DEVEL CO   \n4247502000        PANY  NaN    MA   2108        BOSTON LOCAL DEVELOPMENT   \n3258222000       Other  NaN    OH  44115            GROWTH CAPITAL CORP.   \n2884192007       Other  NaN    CA  92102       CDC SMALL BUS. FINAN CORP   \n3403402003        TION  NaN    WA  98104      EVERGREEN BUSINESS CAPITAL   \n3662512006       Other  NaN    TX  78204              ACCION TEXAS, INC.   \n4247422000         INC  NaN    MA   2169  SOUTH SHORE ECONOMIC DEVEL COR   \n2884202008         INC  NaN    CA  92102       CDC SMALL BUS. FINAN CORP   \n3391492010        PANY  NaN    MO  63013        ST. LOUIS LOCAL DEVEL CO   \n3391472004        PANY  NaN    MO  63105  BUSINESS FINAN CORP OF ST. LOU   \n2884232006       Other  NaN    CA  92102       CDC SMALL BUS. FINAN CORP   \n3391452009       Other  NaN    MO  63103        ST. LOUIS LOCAL DEVEL CO   \n2268732010         INC  NaN    LA  70130  NEW ORLEANS REGIONAL BUS. DEVE   \n3438122002       Other  NaN    NE  50309    IOWA BUSINESS GROWTH COMPANY   \n7756831000       Other  NaN    MI  48502              FORWARD DEVEL CORP   \n4247702001         INC  NaN    MA   2165           BAY COLONY DEVEL CORP   \n3386722002       Other  NaN    MO  63103        ST. LOUIS LOCAL DEVEL CO   \n2716822007       Other  NaN    IL  60624       BANK - AMERICA NATL ASSOC   \n5622822010       Other  NaN    NC  28402           WILMINGTON BUS. DEVEL   \n\n              BankState  NAICS ApprovalDate ApprovalFY  Term  ...  RevLineCr  \\\nLoanNr_ChkDgt                                                 ...              \n5554512008           KY      0    16-Jun-81       1981   300  ...          N   \n2884182004           CA      0    16-Apr-81       1981   180  ...          N   \n4247472004           MA      0    17-Mar-81       1981   180  ...          N   \n1330603010           UT      0    15-Dec-81       1982   300  ...          N   \n3391402005           MO      0    21-Jul-81       1981   180  ...          N   \n4247502000           MA      0     1-Apr-81       1981   180  ...          N   \n3258222000           OH      0    18-Nov-81       1982   300  ...          N   \n2884192007           CA      0    15-Jun-81       1981   300  ...          N   \n3403402003           WA      0     8-Jun-81       1981   300  ...          N   \n3662512006           TX      0     2-Jun-81       1981   300  ...          N   \n4247422000           MA      0    30-Jan-81       1981   240  ...          N   \n2884202008           CA      0    26-Jun-81       1981   180  ...          N   \n3391492010           MO      0    24-Feb-81       1981   240  ...          N   \n3391472004           MO      0     4-Mar-81       1981   240  ...          N   \n2884232006           CA      0    29-Jul-81       1981   240  ...          N   \n3391452009           MO      0    11-May-81       1981   240  ...          N   \n2268732010           LA      0    17-Dec-81       1982   240  ...          N   \n3438122002           IA      0     7-Oct-81       1982   180  ...          N   \n7756831000           MI      0     3-Mar-81       1981   240  ...          N   \n4247702001           MA      0    18-Sep-81       1981   180  ...          N   \n3386722002           MO      0    16-Oct-81       1982   300  ...          N   \n2716822007           IL      0    10-Apr-81       1981   300  ...          N   \n5622822010           NC      0    13-Jul-81       1981   240  ...          N   \n\n               LowDoc  ChgOffDate  DisbursementDate  DisbursementGross  \\\nLoanNr_ChkDgt                                                            \n5554512008          N         NaN          5-Aug-81        $87,000.00    \n2884182004          N         NaN          6-Jan-82       $488,000.00    \n4247472004          N         NaN          6-Jan-82       $210,000.00    \n1330603010          N         NaN          6-Jan-82       $190,000.00    \n3391402005          N         NaN          4-Nov-81        $83,000.00    \n4247502000          N         NaN          9-Sep-81       $165,000.00    \n3258222000          N         NaN         10-Feb-82       $205,000.00    \n2884192007          N         NaN         10-Sep-81       $203,000.00    \n3403402003          N         NaN         10-Feb-82       $458,000.00    \n3662512006          N         NaN          9-Sep-81        $74,000.00    \n4247422000          N         NaN          9-Dec-81       $156,000.00    \n2884202008          N         NaN         10-Sep-81       $407,000.00    \n3391492010          N         NaN         10-Jun-81       $107,000.00    \n3391472004          N         NaN         10-Jun-81       $111,000.00    \n2884232006          N         NaN         10-Sep-81       $159,000.00    \n3391452009          N         NaN          5-Aug-81        $74,000.00    \n2268732010          N         NaN         10-Feb-82       $500,000.00    \n3438122002          N         NaN          6-Jan-82       $225,000.00    \n7756831000          N         NaN         10-Feb-82       $162,000.00    \n4247702001          N         NaN         10-Feb-82        $95,000.00    \n3386722002          N         NaN          6-Jan-82        $25,000.00    \n2716822007          N         NaN          4-Nov-81       $150,000.00    \n5622822010          N         NaN          4-Nov-81        $47,000.00    \n\n               BalanceGross MIS_Status ChgOffPrinGr        GrAppv  \\\nLoanNr_ChkDgt                                                       \n5554512008           $0.00       P I F       $0.00    $87,000.00    \n2884182004           $0.00       P I F       $0.00   $488,000.00    \n4247472004           $0.00       P I F       $0.00   $210,000.00    \n1330603010           $0.00       P I F       $0.00   $190,000.00    \n3391402005           $0.00       P I F       $0.00    $83,000.00    \n4247502000           $0.00       P I F       $0.00   $165,000.00    \n3258222000           $0.00       P I F       $0.00   $205,000.00    \n2884192007           $0.00       P I F       $0.00   $211,000.00    \n3403402003           $0.00       P I F       $0.00   $458,000.00    \n3662512006           $0.00       P I F       $0.00    $74,000.00    \n4247422000           $0.00       P I F       $0.00   $156,000.00    \n2884202008           $0.00       P I F       $0.00   $407,000.00    \n3391492010           $0.00       P I F       $0.00   $107,000.00    \n3391472004           $0.00       P I F       $0.00   $111,000.00    \n2884232006           $0.00       P I F       $0.00   $159,000.00    \n3391452009           $0.00       P I F       $0.00    $74,000.00    \n2268732010           $0.00       P I F       $0.00   $500,000.00    \n3438122002           $0.00       P I F       $0.00   $225,000.00    \n7756831000           $0.00       P I F       $0.00   $162,000.00    \n4247702001           $0.00       P I F       $0.00    $95,000.00    \n3386722002           $0.00       P I F       $0.00    $25,000.00    \n2716822007           $0.00       P I F       $0.00   $150,000.00    \n5622822010           $0.00       P I F       $0.00    $47,000.00    \n\n                   SBA_Appv  \nLoanNr_ChkDgt                \n5554512008      $87,000.00   \n2884182004     $488,000.00   \n4247472004     $210,000.00   \n1330603010     $190,000.00   \n3391402005      $83,000.00   \n4247502000     $165,000.00   \n3258222000     $205,000.00   \n2884192007     $211,000.00   \n3403402003     $458,000.00   \n3662512006      $74,000.00   \n4247422000     $156,000.00   \n2884202008     $407,000.00   \n3391492010     $107,000.00   \n3391472004     $111,000.00   \n2884232006     $159,000.00   \n3391452009      $74,000.00   \n2268732010     $500,000.00   \n3438122002     $225,000.00   \n7756831000     $162,000.00   \n4247702001      $95,000.00   \n3386722002      $25,000.00   \n2716822007     $150,000.00   \n5622822010      $47,000.00   \n\n[23 rows x 26 columns]",
      "text/html": "<div>\n<style scoped>\n    .dataframe tbody tr th:only-of-type {\n        vertical-align: middle;\n    }\n\n    .dataframe tbody tr th {\n        vertical-align: top;\n    }\n\n    .dataframe thead th {\n        text-align: right;\n    }\n</style>\n<table border=\"1\" class=\"dataframe\">\n  <thead>\n    <tr style=\"text-align: right;\">\n      <th></th>\n      <th>name_end</th>\n      <th>City</th>\n      <th>State</th>\n      <th>Zip</th>\n      <th>Bank</th>\n      <th>BankState</th>\n      <th>NAICS</th>\n      <th>ApprovalDate</th>\n      <th>ApprovalFY</th>\n      <th>Term</th>\n      <th>...</th>\n      <th>RevLineCr</th>\n      <th>LowDoc</th>\n      <th>ChgOffDate</th>\n      <th>DisbursementDate</th>\n      <th>DisbursementGross</th>\n      <th>BalanceGross</th>\n      <th>MIS_Status</th>\n      <th>ChgOffPrinGr</th>\n      <th>GrAppv</th>\n      <th>SBA_Appv</th>\n    </tr>\n    <tr>\n      <th>LoanNr_ChkDgt</th>\n      <th></th>\n      <th></th>\n      <th></th>\n      <th></th>\n      <th></th>\n      <th></th>\n      <th></th>\n      <th></th>\n      <th></th>\n      <th></th>\n      <th></th>\n      <th></th>\n      <th></th>\n      <th></th>\n      <th></th>\n      <th></th>\n      <th></th>\n      <th></th>\n      <th></th>\n      <th></th>\n      <th></th>\n    </tr>\n  </thead>\n  <tbody>\n    <tr>\n      <th>5554512008</th>\n      <td>INC.</td>\n      <td>NaN</td>\n      <td>KY</td>\n      <td>40209</td>\n      <td>CAPITAL ACCESS CORP - KENTUCKY</td>\n      <td>KY</td>\n      <td>0</td>\n      <td>16-Jun-81</td>\n      <td>1981</td>\n      <td>300</td>\n      <td>...</td>\n      <td>N</td>\n      <td>N</td>\n      <td>NaN</td>\n      <td>5-Aug-81</td>\n      <td>$87,000.00</td>\n      <td>$0.00</td>\n      <td>P I F</td>\n      <td>$0.00</td>\n      <td>$87,000.00</td>\n      <td>$87,000.00</td>\n    </tr>\n    <tr>\n      <th>2884182004</th>\n      <td>Other</td>\n      <td>NaN</td>\n      <td>CA</td>\n      <td>92102</td>\n      <td>CDC SMALL BUS. FINAN CORP</td>\n      <td>CA</td>\n      <td>0</td>\n      <td>16-Apr-81</td>\n      <td>1981</td>\n      <td>180</td>\n      <td>...</td>\n      <td>N</td>\n      <td>N</td>\n      <td>NaN</td>\n      <td>6-Jan-82</td>\n      <td>$488,000.00</td>\n      <td>$0.00</td>\n      <td>P I F</td>\n      <td>$0.00</td>\n      <td>$488,000.00</td>\n      <td>$488,000.00</td>\n    </tr>\n    <tr>\n      <th>4247472004</th>\n      <td>INC</td>\n      <td>NaN</td>\n      <td>MA</td>\n      <td>2169</td>\n      <td>SOUTH SHORE ECONOMIC DEVEL COR</td>\n      <td>MA</td>\n      <td>0</td>\n      <td>17-Mar-81</td>\n      <td>1981</td>\n      <td>180</td>\n      <td>...</td>\n      <td>N</td>\n      <td>N</td>\n      <td>NaN</td>\n      <td>6-Jan-82</td>\n      <td>$210,000.00</td>\n      <td>$0.00</td>\n      <td>P I F</td>\n      <td>$0.00</td>\n      <td>$210,000.00</td>\n      <td>$210,000.00</td>\n    </tr>\n    <tr>\n      <th>1330603010</th>\n      <td>Other</td>\n      <td>NaN</td>\n      <td>UT</td>\n      <td>84109</td>\n      <td>MOUNTAIN W. SMALL BUS. FINAN</td>\n      <td>UT</td>\n      <td>0</td>\n      <td>15-Dec-81</td>\n      <td>1982</td>\n      <td>300</td>\n      <td>...</td>\n      <td>N</td>\n      <td>N</td>\n      <td>NaN</td>\n      <td>6-Jan-82</td>\n      <td>$190,000.00</td>\n      <td>$0.00</td>\n      <td>P I F</td>\n      <td>$0.00</td>\n      <td>$190,000.00</td>\n      <td>$190,000.00</td>\n    </tr>\n    <tr>\n      <th>3391402005</th>\n      <td>PANY</td>\n      <td>NaN</td>\n      <td>MO</td>\n      <td>63103</td>\n      <td>ST. LOUIS LOCAL DEVEL CO</td>\n      <td>MO</td>\n      <td>0</td>\n      <td>21-Jul-81</td>\n      <td>1981</td>\n      <td>180</td>\n      <td>...</td>\n      <td>N</td>\n      <td>N</td>\n      <td>NaN</td>\n      <td>4-Nov-81</td>\n      <td>$83,000.00</td>\n      <td>$0.00</td>\n      <td>P I F</td>\n      <td>$0.00</td>\n      <td>$83,000.00</td>\n      <td>$83,000.00</td>\n    </tr>\n    <tr>\n      <th>4247502000</th>\n      <td>PANY</td>\n      <td>NaN</td>\n      <td>MA</td>\n      <td>2108</td>\n      <td>BOSTON LOCAL DEVELOPMENT</td>\n      <td>MA</td>\n      <td>0</td>\n      <td>1-Apr-81</td>\n      <td>1981</td>\n      <td>180</td>\n      <td>...</td>\n      <td>N</td>\n      <td>N</td>\n      <td>NaN</td>\n      <td>9-Sep-81</td>\n      <td>$165,000.00</td>\n      <td>$0.00</td>\n      <td>P I F</td>\n      <td>$0.00</td>\n      <td>$165,000.00</td>\n      <td>$165,000.00</td>\n    </tr>\n    <tr>\n      <th>3258222000</th>\n      <td>Other</td>\n      <td>NaN</td>\n      <td>OH</td>\n      <td>44115</td>\n      <td>GROWTH CAPITAL CORP.</td>\n      <td>OH</td>\n      <td>0</td>\n      <td>18-Nov-81</td>\n      <td>1982</td>\n      <td>300</td>\n      <td>...</td>\n      <td>N</td>\n      <td>N</td>\n      <td>NaN</td>\n      <td>10-Feb-82</td>\n      <td>$205,000.00</td>\n      <td>$0.00</td>\n      <td>P I F</td>\n      <td>$0.00</td>\n      <td>$205,000.00</td>\n      <td>$205,000.00</td>\n    </tr>\n    <tr>\n      <th>2884192007</th>\n      <td>Other</td>\n      <td>NaN</td>\n      <td>CA</td>\n      <td>92102</td>\n      <td>CDC SMALL BUS. FINAN CORP</td>\n      <td>CA</td>\n      <td>0</td>\n      <td>15-Jun-81</td>\n      <td>1981</td>\n      <td>300</td>\n      <td>...</td>\n      <td>N</td>\n      <td>N</td>\n      <td>NaN</td>\n      <td>10-Sep-81</td>\n      <td>$203,000.00</td>\n      <td>$0.00</td>\n      <td>P I F</td>\n      <td>$0.00</td>\n      <td>$211,000.00</td>\n      <td>$211,000.00</td>\n    </tr>\n    <tr>\n      <th>3403402003</th>\n      <td>TION</td>\n      <td>NaN</td>\n      <td>WA</td>\n      <td>98104</td>\n      <td>EVERGREEN BUSINESS CAPITAL</td>\n      <td>WA</td>\n      <td>0</td>\n      <td>8-Jun-81</td>\n      <td>1981</td>\n      <td>300</td>\n      <td>...</td>\n      <td>N</td>\n      <td>N</td>\n      <td>NaN</td>\n      <td>10-Feb-82</td>\n      <td>$458,000.00</td>\n      <td>$0.00</td>\n      <td>P I F</td>\n      <td>$0.00</td>\n      <td>$458,000.00</td>\n      <td>$458,000.00</td>\n    </tr>\n    <tr>\n      <th>3662512006</th>\n      <td>Other</td>\n      <td>NaN</td>\n      <td>TX</td>\n      <td>78204</td>\n      <td>ACCION TEXAS, INC.</td>\n      <td>TX</td>\n      <td>0</td>\n      <td>2-Jun-81</td>\n      <td>1981</td>\n      <td>300</td>\n      <td>...</td>\n      <td>N</td>\n      <td>N</td>\n      <td>NaN</td>\n      <td>9-Sep-81</td>\n      <td>$74,000.00</td>\n      <td>$0.00</td>\n      <td>P I F</td>\n      <td>$0.00</td>\n      <td>$74,000.00</td>\n      <td>$74,000.00</td>\n    </tr>\n    <tr>\n      <th>4247422000</th>\n      <td>INC</td>\n      <td>NaN</td>\n      <td>MA</td>\n      <td>2169</td>\n      <td>SOUTH SHORE ECONOMIC DEVEL COR</td>\n      <td>MA</td>\n      <td>0</td>\n      <td>30-Jan-81</td>\n      <td>1981</td>\n      <td>240</td>\n      <td>...</td>\n      <td>N</td>\n      <td>N</td>\n      <td>NaN</td>\n      <td>9-Dec-81</td>\n      <td>$156,000.00</td>\n      <td>$0.00</td>\n      <td>P I F</td>\n      <td>$0.00</td>\n      <td>$156,000.00</td>\n      <td>$156,000.00</td>\n    </tr>\n    <tr>\n      <th>2884202008</th>\n      <td>INC</td>\n      <td>NaN</td>\n      <td>CA</td>\n      <td>92102</td>\n      <td>CDC SMALL BUS. FINAN CORP</td>\n      <td>CA</td>\n      <td>0</td>\n      <td>26-Jun-81</td>\n      <td>1981</td>\n      <td>180</td>\n      <td>...</td>\n      <td>N</td>\n      <td>N</td>\n      <td>NaN</td>\n      <td>10-Sep-81</td>\n      <td>$407,000.00</td>\n      <td>$0.00</td>\n      <td>P I F</td>\n      <td>$0.00</td>\n      <td>$407,000.00</td>\n      <td>$407,000.00</td>\n    </tr>\n    <tr>\n      <th>3391492010</th>\n      <td>PANY</td>\n      <td>NaN</td>\n      <td>MO</td>\n      <td>63013</td>\n      <td>ST. LOUIS LOCAL DEVEL CO</td>\n      <td>MO</td>\n      <td>0</td>\n      <td>24-Feb-81</td>\n      <td>1981</td>\n      <td>240</td>\n      <td>...</td>\n      <td>N</td>\n      <td>N</td>\n      <td>NaN</td>\n      <td>10-Jun-81</td>\n      <td>$107,000.00</td>\n      <td>$0.00</td>\n      <td>P I F</td>\n      <td>$0.00</td>\n      <td>$107,000.00</td>\n      <td>$107,000.00</td>\n    </tr>\n    <tr>\n      <th>3391472004</th>\n      <td>PANY</td>\n      <td>NaN</td>\n      <td>MO</td>\n      <td>63105</td>\n      <td>BUSINESS FINAN CORP OF ST. LOU</td>\n      <td>MO</td>\n      <td>0</td>\n      <td>4-Mar-81</td>\n      <td>1981</td>\n      <td>240</td>\n      <td>...</td>\n      <td>N</td>\n      <td>N</td>\n      <td>NaN</td>\n      <td>10-Jun-81</td>\n      <td>$111,000.00</td>\n      <td>$0.00</td>\n      <td>P I F</td>\n      <td>$0.00</td>\n      <td>$111,000.00</td>\n      <td>$111,000.00</td>\n    </tr>\n    <tr>\n      <th>2884232006</th>\n      <td>Other</td>\n      <td>NaN</td>\n      <td>CA</td>\n      <td>92102</td>\n      <td>CDC SMALL BUS. FINAN CORP</td>\n      <td>CA</td>\n      <td>0</td>\n      <td>29-Jul-81</td>\n      <td>1981</td>\n      <td>240</td>\n      <td>...</td>\n      <td>N</td>\n      <td>N</td>\n      <td>NaN</td>\n      <td>10-Sep-81</td>\n      <td>$159,000.00</td>\n      <td>$0.00</td>\n      <td>P I F</td>\n      <td>$0.00</td>\n      <td>$159,000.00</td>\n      <td>$159,000.00</td>\n    </tr>\n    <tr>\n      <th>3391452009</th>\n      <td>Other</td>\n      <td>NaN</td>\n      <td>MO</td>\n      <td>63103</td>\n      <td>ST. LOUIS LOCAL DEVEL CO</td>\n      <td>MO</td>\n      <td>0</td>\n      <td>11-May-81</td>\n      <td>1981</td>\n      <td>240</td>\n      <td>...</td>\n      <td>N</td>\n      <td>N</td>\n      <td>NaN</td>\n      <td>5-Aug-81</td>\n      <td>$74,000.00</td>\n      <td>$0.00</td>\n      <td>P I F</td>\n      <td>$0.00</td>\n      <td>$74,000.00</td>\n      <td>$74,000.00</td>\n    </tr>\n    <tr>\n      <th>2268732010</th>\n      <td>INC</td>\n      <td>NaN</td>\n      <td>LA</td>\n      <td>70130</td>\n      <td>NEW ORLEANS REGIONAL BUS. DEVE</td>\n      <td>LA</td>\n      <td>0</td>\n      <td>17-Dec-81</td>\n      <td>1982</td>\n      <td>240</td>\n      <td>...</td>\n      <td>N</td>\n      <td>N</td>\n      <td>NaN</td>\n      <td>10-Feb-82</td>\n      <td>$500,000.00</td>\n      <td>$0.00</td>\n      <td>P I F</td>\n      <td>$0.00</td>\n      <td>$500,000.00</td>\n      <td>$500,000.00</td>\n    </tr>\n    <tr>\n      <th>3438122002</th>\n      <td>Other</td>\n      <td>NaN</td>\n      <td>NE</td>\n      <td>50309</td>\n      <td>IOWA BUSINESS GROWTH COMPANY</td>\n      <td>IA</td>\n      <td>0</td>\n      <td>7-Oct-81</td>\n      <td>1982</td>\n      <td>180</td>\n      <td>...</td>\n      <td>N</td>\n      <td>N</td>\n      <td>NaN</td>\n      <td>6-Jan-82</td>\n      <td>$225,000.00</td>\n      <td>$0.00</td>\n      <td>P I F</td>\n      <td>$0.00</td>\n      <td>$225,000.00</td>\n      <td>$225,000.00</td>\n    </tr>\n    <tr>\n      <th>7756831000</th>\n      <td>Other</td>\n      <td>NaN</td>\n      <td>MI</td>\n      <td>48502</td>\n      <td>FORWARD DEVEL CORP</td>\n      <td>MI</td>\n      <td>0</td>\n      <td>3-Mar-81</td>\n      <td>1981</td>\n      <td>240</td>\n      <td>...</td>\n      <td>N</td>\n      <td>N</td>\n      <td>NaN</td>\n      <td>10-Feb-82</td>\n      <td>$162,000.00</td>\n      <td>$0.00</td>\n      <td>P I F</td>\n      <td>$0.00</td>\n      <td>$162,000.00</td>\n      <td>$162,000.00</td>\n    </tr>\n    <tr>\n      <th>4247702001</th>\n      <td>INC</td>\n      <td>NaN</td>\n      <td>MA</td>\n      <td>2165</td>\n      <td>BAY COLONY DEVEL CORP</td>\n      <td>MA</td>\n      <td>0</td>\n      <td>18-Sep-81</td>\n      <td>1981</td>\n      <td>180</td>\n      <td>...</td>\n      <td>N</td>\n      <td>N</td>\n      <td>NaN</td>\n      <td>10-Feb-82</td>\n      <td>$95,000.00</td>\n      <td>$0.00</td>\n      <td>P I F</td>\n      <td>$0.00</td>\n      <td>$95,000.00</td>\n      <td>$95,000.00</td>\n    </tr>\n    <tr>\n      <th>3386722002</th>\n      <td>Other</td>\n      <td>NaN</td>\n      <td>MO</td>\n      <td>63103</td>\n      <td>ST. LOUIS LOCAL DEVEL CO</td>\n      <td>MO</td>\n      <td>0</td>\n      <td>16-Oct-81</td>\n      <td>1982</td>\n      <td>300</td>\n      <td>...</td>\n      <td>N</td>\n      <td>N</td>\n      <td>NaN</td>\n      <td>6-Jan-82</td>\n      <td>$25,000.00</td>\n      <td>$0.00</td>\n      <td>P I F</td>\n      <td>$0.00</td>\n      <td>$25,000.00</td>\n      <td>$25,000.00</td>\n    </tr>\n    <tr>\n      <th>2716822007</th>\n      <td>Other</td>\n      <td>NaN</td>\n      <td>IL</td>\n      <td>60624</td>\n      <td>BANK - AMERICA NATL ASSOC</td>\n      <td>IL</td>\n      <td>0</td>\n      <td>10-Apr-81</td>\n      <td>1981</td>\n      <td>300</td>\n      <td>...</td>\n      <td>N</td>\n      <td>N</td>\n      <td>NaN</td>\n      <td>4-Nov-81</td>\n      <td>$150,000.00</td>\n      <td>$0.00</td>\n      <td>P I F</td>\n      <td>$0.00</td>\n      <td>$150,000.00</td>\n      <td>$150,000.00</td>\n    </tr>\n    <tr>\n      <th>5622822010</th>\n      <td>Other</td>\n      <td>NaN</td>\n      <td>NC</td>\n      <td>28402</td>\n      <td>WILMINGTON BUS. DEVEL</td>\n      <td>NC</td>\n      <td>0</td>\n      <td>13-Jul-81</td>\n      <td>1981</td>\n      <td>240</td>\n      <td>...</td>\n      <td>N</td>\n      <td>N</td>\n      <td>NaN</td>\n      <td>4-Nov-81</td>\n      <td>$47,000.00</td>\n      <td>$0.00</td>\n      <td>P I F</td>\n      <td>$0.00</td>\n      <td>$47,000.00</td>\n      <td>$47,000.00</td>\n    </tr>\n  </tbody>\n</table>\n<p>23 rows × 26 columns</p>\n</div>"
     },
     "execution_count": 14,
     "metadata": {},
     "output_type": "execute_result"
    }
   ],
   "source": [
    "df[df['City'].isnull()]"
   ],
   "metadata": {
    "collapsed": false,
    "pycharm": {
     "name": "#%%\n"
    }
   }
  },
  {
   "cell_type": "code",
   "execution_count": 15,
   "outputs": [
    {
     "data": {
      "text/plain": "29799"
     },
     "execution_count": 15,
     "metadata": {},
     "output_type": "execute_result"
    }
   ],
   "source": [
    "df['City'].nunique()"
   ],
   "metadata": {
    "collapsed": false,
    "pycharm": {
     "name": "#%%\n"
    }
   }
  },
  {
   "cell_type": "code",
   "execution_count": 16,
   "outputs": [
    {
     "data": {
      "text/plain": "LOS ANGELES    9242\nHOUSTON        8179\nNEW YORK       6323\nCHICAGO        4852\nMIAMI          4484\nSAN DIEGO      4258\nDALLAS         4019\nPHOENIX        3585\nLAS VEGAS      3504\nSPRINGFIELD    3002\nName: City, dtype: int64"
     },
     "execution_count": 16,
     "metadata": {},
     "output_type": "execute_result"
    }
   ],
   "source": [
    "city_val_counts = df['City'].value_counts()[:10]\n",
    "city_val_counts"
   ],
   "metadata": {
    "collapsed": false,
    "pycharm": {
     "name": "#%%\n"
    }
   }
  },
  {
   "cell_type": "code",
   "execution_count": 17,
   "outputs": [
    {
     "name": "stdout",
     "output_type": "stream",
     "text": [
      "Current city: LOS ANGELES\n",
      "P I F     0.722679\n",
      "CHGOFF    0.277321\n",
      "Name: MIS_Status, dtype: float64\n",
      "Current city: HOUSTON\n",
      "P I F     0.786037\n",
      "CHGOFF    0.213963\n",
      "Name: MIS_Status, dtype: float64\n",
      "Current city: NEW YORK\n",
      "P I F     0.778744\n",
      "CHGOFF    0.221256\n",
      "Name: MIS_Status, dtype: float64\n",
      "Current city: CHICAGO\n",
      "P I F     0.725062\n",
      "CHGOFF    0.274938\n",
      "Name: MIS_Status, dtype: float64\n",
      "Current city: MIAMI\n",
      "P I F     0.673283\n",
      "CHGOFF    0.326717\n",
      "Name: MIS_Status, dtype: float64\n",
      "Current city: SAN DIEGO\n",
      "P I F     0.849225\n",
      "CHGOFF    0.150775\n",
      "Name: MIS_Status, dtype: float64\n",
      "Current city: DALLAS\n",
      "P I F     0.801692\n",
      "CHGOFF    0.198308\n",
      "Name: MIS_Status, dtype: float64\n",
      "Current city: PHOENIX\n",
      "P I F     0.811715\n",
      "CHGOFF    0.188285\n",
      "Name: MIS_Status, dtype: float64\n",
      "Current city: LAS VEGAS\n",
      "P I F     0.747717\n",
      "CHGOFF    0.252283\n",
      "Name: MIS_Status, dtype: float64\n",
      "Current city: SPRINGFIELD\n",
      "P I F     0.867422\n",
      "CHGOFF    0.132578\n",
      "Name: MIS_Status, dtype: float64\n"
     ]
    }
   ],
   "source": [
    "top_cities = city_val_counts.index\n",
    "for city in top_cities:\n",
    "    print(f'Current city: {city}')\n",
    "    print(df[df['City'] == city][label].value_counts(normalize=True))"
   ],
   "metadata": {
    "collapsed": false,
    "pycharm": {
     "name": "#%%\n"
    }
   }
  },
  {
   "cell_type": "code",
   "execution_count": 18,
   "outputs": [],
   "source": [
    "# preprocessing\n",
    "df = drop_col(df, 'City')\n"
   ],
   "metadata": {
    "collapsed": false,
    "pycharm": {
     "name": "#%%\n"
    }
   }
  },
  {
   "cell_type": "code",
   "execution_count": 19,
   "outputs": [
    {
     "data": {
      "text/plain": "              name_end State    Zip                            Bank BankState  \\\nLoanNr_ChkDgt                                                                   \n5893754007       Other    FL  34597      BANK OF AMERICA NATL ASSOC        NC   \n3842804010         INC    NY  14748                ALTERNATIVES FCU        NY   \n9096044001       Other    IA  52060                       BBCN BANK        CA   \n2982214007       Other    SD  57548     WELLS FARGO BANK NATL ASSOC        SD   \n4365925008       Other    AL  36693         TRUSTMARK NATIONAL BANK        AL   \n...                ...   ...    ...                             ...       ...   \n3204824000       Other    NY  11733                      UNITY BANK        NJ   \n1497205002       Other    CA  91731      BANK OF AMERICA NATL ASSOC        NC   \n1333844003        INC.    NH   3848  GRANITE ST. ECONOMIC DEVEL COR        NH   \n9612943001       Other    ME   4270                  NORTHEAST BANK        ME   \n2185585006       Other    VA  22003  PNC BANK, NATIONAL ASSOCIATION        DE   \n\n                NAICS ApprovalDate ApprovalFY  Term  NoEmp  ...  RevLineCr  \\\nLoanNr_ChkDgt                                               ...              \n5893754007     561730    22-Nov-02       2003    84      1  ...          Y   \n3842804010     312130    18-Jul-00       2000    12      9  ...          N   \n9096044001     453998    13-Sep-05       2005    48      1  ...          0   \n2982214007     445110     2-Jun-99       1999    60      9  ...          0   \n4365925008     722110    15-Nov-10       2011    84      1  ...          N   \n...               ...          ...        ...   ...    ...  ...        ...   \n3204824000     541940    27-Sep-99       1999   228      2  ...          0   \n1497205002     422320    13-Oct-05       2006    57      1  ...          T   \n1333844003          0    10-Jun-97       1997   240      8  ...          N   \n9612943001     811111     7-Oct-96       1997   120      1  ...          N   \n2185585006     722110    20-Dec-06       2007    12      1  ...          Y   \n\n               LowDoc  ChgOffDate  DisbursementDate  DisbursementGross  \\\nLoanNr_ChkDgt                                                            \n5893754007          N         NaN         31-Jan-03        $10,000.00    \n3842804010          N         NaN         30-Sep-00        $60,000.00    \n9096044001          N    3-Nov-08         30-Sep-05        $10,000.00    \n2982214007          Y         NaN         30-Sep-99        $26,000.00    \n4365925008        NaN         NaN          1-Mar-11       $201,500.00    \n...               ...         ...               ...                ...   \n3204824000          N         NaN         30-Apr-00       $500,000.00    \n1497205002          N   14-Aug-08         31-Mar-06        $45,450.00    \n1333844003          N         NaN         11-Mar-98       $291,000.00    \n9612943001          Y         NaN         31-Dec-96        $30,000.00    \n2185585006          N    9-Mar-08         31-Jan-07        $50,000.00    \n\n              BalanceGross MIS_Status ChgOffPrinGr        GrAppv      SBA_Appv  \nLoanNr_ChkDgt                                                                   \n5893754007          $0.00       P I F       $0.00    $10,000.00     $5,000.00   \n3842804010          $0.00       P I F       $0.00    $60,000.00    $45,000.00   \n9096044001          $0.00      CHGOFF   $7,422.00    $10,000.00     $5,000.00   \n2982214007          $0.00       P I F       $0.00    $26,000.00    $20,800.00   \n4365925008          $0.00       P I F       $0.00   $201,500.00   $181,350.00   \n...                    ...        ...          ...           ...           ...  \n3204824000          $0.00       P I F       $0.00   $500,000.00   $375,000.00   \n1497205002          $0.00      CHGOFF  $44,450.00    $45,000.00    $22,500.00   \n1333844003          $0.00       P I F       $0.00   $291,000.00   $291,000.00   \n9612943001          $0.00       P I F       $0.00    $30,000.00    $24,000.00   \n2185585006          $0.00      CHGOFF  $50,000.00    $50,000.00    $25,000.00   \n\n[716542 rows x 25 columns]",
      "text/html": "<div>\n<style scoped>\n    .dataframe tbody tr th:only-of-type {\n        vertical-align: middle;\n    }\n\n    .dataframe tbody tr th {\n        vertical-align: top;\n    }\n\n    .dataframe thead th {\n        text-align: right;\n    }\n</style>\n<table border=\"1\" class=\"dataframe\">\n  <thead>\n    <tr style=\"text-align: right;\">\n      <th></th>\n      <th>name_end</th>\n      <th>State</th>\n      <th>Zip</th>\n      <th>Bank</th>\n      <th>BankState</th>\n      <th>NAICS</th>\n      <th>ApprovalDate</th>\n      <th>ApprovalFY</th>\n      <th>Term</th>\n      <th>NoEmp</th>\n      <th>...</th>\n      <th>RevLineCr</th>\n      <th>LowDoc</th>\n      <th>ChgOffDate</th>\n      <th>DisbursementDate</th>\n      <th>DisbursementGross</th>\n      <th>BalanceGross</th>\n      <th>MIS_Status</th>\n      <th>ChgOffPrinGr</th>\n      <th>GrAppv</th>\n      <th>SBA_Appv</th>\n    </tr>\n    <tr>\n      <th>LoanNr_ChkDgt</th>\n      <th></th>\n      <th></th>\n      <th></th>\n      <th></th>\n      <th></th>\n      <th></th>\n      <th></th>\n      <th></th>\n      <th></th>\n      <th></th>\n      <th></th>\n      <th></th>\n      <th></th>\n      <th></th>\n      <th></th>\n      <th></th>\n      <th></th>\n      <th></th>\n      <th></th>\n      <th></th>\n      <th></th>\n    </tr>\n  </thead>\n  <tbody>\n    <tr>\n      <th>5893754007</th>\n      <td>Other</td>\n      <td>FL</td>\n      <td>34597</td>\n      <td>BANK OF AMERICA NATL ASSOC</td>\n      <td>NC</td>\n      <td>561730</td>\n      <td>22-Nov-02</td>\n      <td>2003</td>\n      <td>84</td>\n      <td>1</td>\n      <td>...</td>\n      <td>Y</td>\n      <td>N</td>\n      <td>NaN</td>\n      <td>31-Jan-03</td>\n      <td>$10,000.00</td>\n      <td>$0.00</td>\n      <td>P I F</td>\n      <td>$0.00</td>\n      <td>$10,000.00</td>\n      <td>$5,000.00</td>\n    </tr>\n    <tr>\n      <th>3842804010</th>\n      <td>INC</td>\n      <td>NY</td>\n      <td>14748</td>\n      <td>ALTERNATIVES FCU</td>\n      <td>NY</td>\n      <td>312130</td>\n      <td>18-Jul-00</td>\n      <td>2000</td>\n      <td>12</td>\n      <td>9</td>\n      <td>...</td>\n      <td>N</td>\n      <td>N</td>\n      <td>NaN</td>\n      <td>30-Sep-00</td>\n      <td>$60,000.00</td>\n      <td>$0.00</td>\n      <td>P I F</td>\n      <td>$0.00</td>\n      <td>$60,000.00</td>\n      <td>$45,000.00</td>\n    </tr>\n    <tr>\n      <th>9096044001</th>\n      <td>Other</td>\n      <td>IA</td>\n      <td>52060</td>\n      <td>BBCN BANK</td>\n      <td>CA</td>\n      <td>453998</td>\n      <td>13-Sep-05</td>\n      <td>2005</td>\n      <td>48</td>\n      <td>1</td>\n      <td>...</td>\n      <td>0</td>\n      <td>N</td>\n      <td>3-Nov-08</td>\n      <td>30-Sep-05</td>\n      <td>$10,000.00</td>\n      <td>$0.00</td>\n      <td>CHGOFF</td>\n      <td>$7,422.00</td>\n      <td>$10,000.00</td>\n      <td>$5,000.00</td>\n    </tr>\n    <tr>\n      <th>2982214007</th>\n      <td>Other</td>\n      <td>SD</td>\n      <td>57548</td>\n      <td>WELLS FARGO BANK NATL ASSOC</td>\n      <td>SD</td>\n      <td>445110</td>\n      <td>2-Jun-99</td>\n      <td>1999</td>\n      <td>60</td>\n      <td>9</td>\n      <td>...</td>\n      <td>0</td>\n      <td>Y</td>\n      <td>NaN</td>\n      <td>30-Sep-99</td>\n      <td>$26,000.00</td>\n      <td>$0.00</td>\n      <td>P I F</td>\n      <td>$0.00</td>\n      <td>$26,000.00</td>\n      <td>$20,800.00</td>\n    </tr>\n    <tr>\n      <th>4365925008</th>\n      <td>Other</td>\n      <td>AL</td>\n      <td>36693</td>\n      <td>TRUSTMARK NATIONAL BANK</td>\n      <td>AL</td>\n      <td>722110</td>\n      <td>15-Nov-10</td>\n      <td>2011</td>\n      <td>84</td>\n      <td>1</td>\n      <td>...</td>\n      <td>N</td>\n      <td>NaN</td>\n      <td>NaN</td>\n      <td>1-Mar-11</td>\n      <td>$201,500.00</td>\n      <td>$0.00</td>\n      <td>P I F</td>\n      <td>$0.00</td>\n      <td>$201,500.00</td>\n      <td>$181,350.00</td>\n    </tr>\n    <tr>\n      <th>...</th>\n      <td>...</td>\n      <td>...</td>\n      <td>...</td>\n      <td>...</td>\n      <td>...</td>\n      <td>...</td>\n      <td>...</td>\n      <td>...</td>\n      <td>...</td>\n      <td>...</td>\n      <td>...</td>\n      <td>...</td>\n      <td>...</td>\n      <td>...</td>\n      <td>...</td>\n      <td>...</td>\n      <td>...</td>\n      <td>...</td>\n      <td>...</td>\n      <td>...</td>\n      <td>...</td>\n    </tr>\n    <tr>\n      <th>3204824000</th>\n      <td>Other</td>\n      <td>NY</td>\n      <td>11733</td>\n      <td>UNITY BANK</td>\n      <td>NJ</td>\n      <td>541940</td>\n      <td>27-Sep-99</td>\n      <td>1999</td>\n      <td>228</td>\n      <td>2</td>\n      <td>...</td>\n      <td>0</td>\n      <td>N</td>\n      <td>NaN</td>\n      <td>30-Apr-00</td>\n      <td>$500,000.00</td>\n      <td>$0.00</td>\n      <td>P I F</td>\n      <td>$0.00</td>\n      <td>$500,000.00</td>\n      <td>$375,000.00</td>\n    </tr>\n    <tr>\n      <th>1497205002</th>\n      <td>Other</td>\n      <td>CA</td>\n      <td>91731</td>\n      <td>BANK OF AMERICA NATL ASSOC</td>\n      <td>NC</td>\n      <td>422320</td>\n      <td>13-Oct-05</td>\n      <td>2006</td>\n      <td>57</td>\n      <td>1</td>\n      <td>...</td>\n      <td>T</td>\n      <td>N</td>\n      <td>14-Aug-08</td>\n      <td>31-Mar-06</td>\n      <td>$45,450.00</td>\n      <td>$0.00</td>\n      <td>CHGOFF</td>\n      <td>$44,450.00</td>\n      <td>$45,000.00</td>\n      <td>$22,500.00</td>\n    </tr>\n    <tr>\n      <th>1333844003</th>\n      <td>INC.</td>\n      <td>NH</td>\n      <td>3848</td>\n      <td>GRANITE ST. ECONOMIC DEVEL COR</td>\n      <td>NH</td>\n      <td>0</td>\n      <td>10-Jun-97</td>\n      <td>1997</td>\n      <td>240</td>\n      <td>8</td>\n      <td>...</td>\n      <td>N</td>\n      <td>N</td>\n      <td>NaN</td>\n      <td>11-Mar-98</td>\n      <td>$291,000.00</td>\n      <td>$0.00</td>\n      <td>P I F</td>\n      <td>$0.00</td>\n      <td>$291,000.00</td>\n      <td>$291,000.00</td>\n    </tr>\n    <tr>\n      <th>9612943001</th>\n      <td>Other</td>\n      <td>ME</td>\n      <td>4270</td>\n      <td>NORTHEAST BANK</td>\n      <td>ME</td>\n      <td>811111</td>\n      <td>7-Oct-96</td>\n      <td>1997</td>\n      <td>120</td>\n      <td>1</td>\n      <td>...</td>\n      <td>N</td>\n      <td>Y</td>\n      <td>NaN</td>\n      <td>31-Dec-96</td>\n      <td>$30,000.00</td>\n      <td>$0.00</td>\n      <td>P I F</td>\n      <td>$0.00</td>\n      <td>$30,000.00</td>\n      <td>$24,000.00</td>\n    </tr>\n    <tr>\n      <th>2185585006</th>\n      <td>Other</td>\n      <td>VA</td>\n      <td>22003</td>\n      <td>PNC BANK, NATIONAL ASSOCIATION</td>\n      <td>DE</td>\n      <td>722110</td>\n      <td>20-Dec-06</td>\n      <td>2007</td>\n      <td>12</td>\n      <td>1</td>\n      <td>...</td>\n      <td>Y</td>\n      <td>N</td>\n      <td>9-Mar-08</td>\n      <td>31-Jan-07</td>\n      <td>$50,000.00</td>\n      <td>$0.00</td>\n      <td>CHGOFF</td>\n      <td>$50,000.00</td>\n      <td>$50,000.00</td>\n      <td>$25,000.00</td>\n    </tr>\n  </tbody>\n</table>\n<p>716542 rows × 25 columns</p>\n</div>"
     },
     "execution_count": 19,
     "metadata": {},
     "output_type": "execute_result"
    }
   ],
   "source": [
    "df"
   ],
   "metadata": {
    "collapsed": false,
    "pycharm": {
     "name": "#%%\n"
    }
   }
  },
  {
   "cell_type": "markdown",
   "source": [
    "## State"
   ],
   "metadata": {
    "collapsed": false,
    "pycharm": {
     "name": "#%% md\n"
    }
   }
  },
  {
   "cell_type": "code",
   "execution_count": 20,
   "outputs": [
    {
     "name": "stdout",
     "output_type": "stream",
     "text": [
      "Null values: 12\n",
      "Unique: 51\n",
      "Vals: \n",
      " CA    104270\n",
      "TX     56009\n",
      "NY     45965\n",
      "FL     32857\n",
      "PA     27793\n",
      "OH     25962\n",
      "IL     23610\n",
      "MA     20030\n",
      "MN     19519\n",
      "NJ     19212\n",
      "WA     18554\n",
      "GA     17740\n",
      "WI     16859\n",
      "MO     16471\n",
      "CO     16451\n",
      "MI     16405\n",
      "UT     14952\n",
      "AZ     14101\n",
      "NC     11343\n",
      "IN     11211\n",
      "MD     10604\n",
      "VA     10596\n",
      "CT      9634\n",
      "IA      9576\n",
      "NH      9573\n",
      "KS      9193\n",
      "OR      8872\n",
      "OK      7893\n",
      "LA      7651\n",
      "TN      7597\n",
      "ID      7501\n",
      "RI      7161\n",
      "MT      6963\n",
      "AL      6656\n",
      "NV      6384\n",
      "KY      6200\n",
      "MS      6116\n",
      "NE      5112\n",
      "AR      5098\n",
      "NM      4825\n",
      "ME      4795\n",
      "SC      4486\n",
      "VT      4332\n",
      "ND      4214\n",
      "SD      3505\n",
      "HI      2847\n",
      "WV      2614\n",
      "WY      2252\n",
      "AK      1931\n",
      "DE      1743\n",
      "DC      1292\n",
      "Name: State, dtype: int64\n",
      "Current city: CA\n",
      "P I F     0.814625\n",
      "CHGOFF    0.185375\n",
      "Name: MIS_Status, dtype: float64\n",
      "Current city: TX\n",
      "P I F     0.811227\n",
      "CHGOFF    0.188773\n",
      "Name: MIS_Status, dtype: float64\n",
      "Current city: NY\n",
      "P I F     0.798803\n",
      "CHGOFF    0.201197\n",
      "Name: MIS_Status, dtype: float64\n",
      "Current city: FL\n",
      "P I F     0.726999\n",
      "CHGOFF    0.273001\n",
      "Name: MIS_Status, dtype: float64\n",
      "Current city: PA\n",
      "P I F     0.852805\n",
      "CHGOFF    0.147195\n",
      "Name: MIS_Status, dtype: float64\n",
      "Current city: OH\n",
      "P I F     0.836068\n",
      "CHGOFF    0.163932\n",
      "Name: MIS_Status, dtype: float64\n",
      "Current city: IL\n",
      "P I F     0.773359\n",
      "CHGOFF    0.226641\n",
      "Name: MIS_Status, dtype: float64\n",
      "Current city: MA\n",
      "P I F     0.870394\n",
      "CHGOFF    0.129606\n",
      "Name: MIS_Status, dtype: float64\n",
      "Current city: MN\n",
      "P I F     0.882576\n",
      "CHGOFF    0.117424\n",
      "Name: MIS_Status, dtype: float64\n",
      "Current city: NJ\n",
      "P I F     0.800593\n",
      "CHGOFF    0.199407\n",
      "Name: MIS_Status, dtype: float64\n"
     ]
    }
   ],
   "source": [
    "basic_cat_col_data(df, 'State', label, show_vals=51)"
   ],
   "metadata": {
    "collapsed": false,
    "pycharm": {
     "name": "#%%\n"
    }
   }
  },
  {
   "cell_type": "code",
   "execution_count": 21,
   "outputs": [],
   "source": [
    "df = states_to_rate_categories(df, label)\n"
   ],
   "metadata": {
    "collapsed": false,
    "pycharm": {
     "name": "#%%\n"
    }
   }
  },
  {
   "cell_type": "code",
   "execution_count": 22,
   "outputs": [
    {
     "data": {
      "text/plain": "P I F     0.922681\nCHGOFF    0.077319\nName: MIS_Status, dtype: float64"
     },
     "execution_count": 22,
     "metadata": {},
     "output_type": "execute_result"
    }
   ],
   "source": [
    "df[df['State'] == 'u_11'][label].value_counts(normalize=True)"
   ],
   "metadata": {
    "collapsed": false,
    "pycharm": {
     "name": "#%%\n"
    }
   }
  },
  {
   "cell_type": "code",
   "execution_count": 23,
   "outputs": [
    {
     "data": {
      "text/plain": "u_23     306788\nu_19     162330\nu_15     139468\nu_max     81883\nu_11      26061\nName: State, dtype: int64"
     },
     "execution_count": 23,
     "metadata": {},
     "output_type": "execute_result"
    }
   ],
   "source": [
    "val_counts = df['State'].value_counts()\n",
    "val_counts"
   ],
   "metadata": {
    "collapsed": false,
    "pycharm": {
     "name": "#%%\n"
    }
   }
  },
  {
   "cell_type": "markdown",
   "source": [
    "## Zip"
   ],
   "metadata": {
    "collapsed": false,
    "pycharm": {
     "name": "#%% md\n",
     "is_executing": true
    }
   }
  },
  {
   "cell_type": "code",
   "execution_count": 24,
   "outputs": [
    {
     "name": "stdout",
     "output_type": "stream",
     "text": [
      "Null values: 0\n",
      "Unique: 31741\n",
      "Vals: \n",
      " 10001    759\n",
      "90015    738\n",
      "93401    618\n",
      "90010    585\n",
      "33166    528\n",
      "Name: Zip, dtype: int64\n",
      "Current city: 10001\n",
      "P I F     0.740448\n",
      "CHGOFF    0.259552\n",
      "Name: MIS_Status, dtype: float64\n",
      "Current city: 90015\n",
      "P I F     0.693767\n",
      "CHGOFF    0.306233\n",
      "Name: MIS_Status, dtype: float64\n",
      "Current city: 93401\n",
      "P I F     0.904531\n",
      "CHGOFF    0.095469\n",
      "Name: MIS_Status, dtype: float64\n",
      "Current city: 90010\n",
      "CHGOFF    0.538462\n",
      "P I F     0.461538\n",
      "Name: MIS_Status, dtype: float64\n",
      "Current city: 33166\n",
      "P I F     0.69697\n",
      "CHGOFF    0.30303\n",
      "Name: MIS_Status, dtype: float64\n"
     ]
    }
   ],
   "source": [
    "basic_cat_col_data(df, 'Zip', label, 5)"
   ],
   "metadata": {
    "collapsed": false,
    "pycharm": {
     "name": "#%%\n"
    }
   }
  },
  {
   "cell_type": "code",
   "execution_count": 25,
   "outputs": [],
   "source": [
    "df = drop_col(df, 'Zip')"
   ],
   "metadata": {
    "collapsed": false,
    "pycharm": {
     "name": "#%%\n"
    }
   }
  },
  {
   "cell_type": "code",
   "execution_count": 26,
   "outputs": [
    {
     "data": {
      "text/plain": "              name_end  State                            Bank BankState  \\\nLoanNr_ChkDgt                                                             \n5893754007       Other  u_max      BANK OF AMERICA NATL ASSOC        NC   \n3842804010         INC   u_23                ALTERNATIVES FCU        NY   \n9096044001       Other   u_15                       BBCN BANK        CA   \n2982214007       Other   u_11     WELLS FARGO BANK NATL ASSOC        SD   \n4365925008       Other   u_19         TRUSTMARK NATIONAL BANK        AL   \n...                ...    ...                             ...       ...   \n3204824000       Other   u_23                      UNITY BANK        NJ   \n1497205002       Other   u_23      BANK OF AMERICA NATL ASSOC        NC   \n1333844003        INC.   u_15  GRANITE ST. ECONOMIC DEVEL COR        NH   \n9612943001       Other   u_11                  NORTHEAST BANK        ME   \n2185585006       Other   u_23  PNC BANK, NATIONAL ASSOCIATION        DE   \n\n                NAICS ApprovalDate ApprovalFY  Term  NoEmp  NewExist  ...  \\\nLoanNr_ChkDgt                                                         ...   \n5893754007     561730    22-Nov-02       2003    84      1       1.0  ...   \n3842804010     312130    18-Jul-00       2000    12      9       1.0  ...   \n9096044001     453998    13-Sep-05       2005    48      1       1.0  ...   \n2982214007     445110     2-Jun-99       1999    60      9       1.0  ...   \n4365925008     722110    15-Nov-10       2011    84      1       2.0  ...   \n...               ...          ...        ...   ...    ...       ...  ...   \n3204824000     541940    27-Sep-99       1999   228      2       2.0  ...   \n1497205002     422320    13-Oct-05       2006    57      1       2.0  ...   \n1333844003          0    10-Jun-97       1997   240      8       2.0  ...   \n9612943001     811111     7-Oct-96       1997   120      1       1.0  ...   \n2185585006     722110    20-Dec-06       2007    12      1       1.0  ...   \n\n               RevLineCr  LowDoc  ChgOffDate  DisbursementDate  \\\nLoanNr_ChkDgt                                                    \n5893754007             Y       N         NaN         31-Jan-03   \n3842804010             N       N         NaN         30-Sep-00   \n9096044001             0       N    3-Nov-08         30-Sep-05   \n2982214007             0       Y         NaN         30-Sep-99   \n4365925008             N     NaN         NaN          1-Mar-11   \n...                  ...     ...         ...               ...   \n3204824000             0       N         NaN         30-Apr-00   \n1497205002             T       N   14-Aug-08         31-Mar-06   \n1333844003             N       N         NaN         11-Mar-98   \n9612943001             N       Y         NaN         31-Dec-96   \n2185585006             Y       N    9-Mar-08         31-Jan-07   \n\n              DisbursementGross BalanceGross MIS_Status ChgOffPrinGr  \\\nLoanNr_ChkDgt                                                          \n5893754007          $10,000.00        $0.00       P I F       $0.00    \n3842804010          $60,000.00        $0.00       P I F       $0.00    \n9096044001          $10,000.00        $0.00      CHGOFF   $7,422.00    \n2982214007          $26,000.00        $0.00       P I F       $0.00    \n4365925008         $201,500.00        $0.00       P I F       $0.00    \n...                         ...          ...        ...          ...   \n3204824000         $500,000.00        $0.00       P I F       $0.00    \n1497205002          $45,450.00        $0.00      CHGOFF  $44,450.00    \n1333844003         $291,000.00        $0.00       P I F       $0.00    \n9612943001          $30,000.00        $0.00       P I F       $0.00    \n2185585006          $50,000.00        $0.00      CHGOFF  $50,000.00    \n\n                     GrAppv      SBA_Appv  \nLoanNr_ChkDgt                              \n5893754007      $10,000.00     $5,000.00   \n3842804010      $60,000.00    $45,000.00   \n9096044001      $10,000.00     $5,000.00   \n2982214007      $26,000.00    $20,800.00   \n4365925008     $201,500.00   $181,350.00   \n...                     ...           ...  \n3204824000     $500,000.00   $375,000.00   \n1497205002      $45,000.00    $22,500.00   \n1333844003     $291,000.00   $291,000.00   \n9612943001      $30,000.00    $24,000.00   \n2185585006      $50,000.00    $25,000.00   \n\n[716530 rows x 24 columns]",
      "text/html": "<div>\n<style scoped>\n    .dataframe tbody tr th:only-of-type {\n        vertical-align: middle;\n    }\n\n    .dataframe tbody tr th {\n        vertical-align: top;\n    }\n\n    .dataframe thead th {\n        text-align: right;\n    }\n</style>\n<table border=\"1\" class=\"dataframe\">\n  <thead>\n    <tr style=\"text-align: right;\">\n      <th></th>\n      <th>name_end</th>\n      <th>State</th>\n      <th>Bank</th>\n      <th>BankState</th>\n      <th>NAICS</th>\n      <th>ApprovalDate</th>\n      <th>ApprovalFY</th>\n      <th>Term</th>\n      <th>NoEmp</th>\n      <th>NewExist</th>\n      <th>...</th>\n      <th>RevLineCr</th>\n      <th>LowDoc</th>\n      <th>ChgOffDate</th>\n      <th>DisbursementDate</th>\n      <th>DisbursementGross</th>\n      <th>BalanceGross</th>\n      <th>MIS_Status</th>\n      <th>ChgOffPrinGr</th>\n      <th>GrAppv</th>\n      <th>SBA_Appv</th>\n    </tr>\n    <tr>\n      <th>LoanNr_ChkDgt</th>\n      <th></th>\n      <th></th>\n      <th></th>\n      <th></th>\n      <th></th>\n      <th></th>\n      <th></th>\n      <th></th>\n      <th></th>\n      <th></th>\n      <th></th>\n      <th></th>\n      <th></th>\n      <th></th>\n      <th></th>\n      <th></th>\n      <th></th>\n      <th></th>\n      <th></th>\n      <th></th>\n      <th></th>\n    </tr>\n  </thead>\n  <tbody>\n    <tr>\n      <th>5893754007</th>\n      <td>Other</td>\n      <td>u_max</td>\n      <td>BANK OF AMERICA NATL ASSOC</td>\n      <td>NC</td>\n      <td>561730</td>\n      <td>22-Nov-02</td>\n      <td>2003</td>\n      <td>84</td>\n      <td>1</td>\n      <td>1.0</td>\n      <td>...</td>\n      <td>Y</td>\n      <td>N</td>\n      <td>NaN</td>\n      <td>31-Jan-03</td>\n      <td>$10,000.00</td>\n      <td>$0.00</td>\n      <td>P I F</td>\n      <td>$0.00</td>\n      <td>$10,000.00</td>\n      <td>$5,000.00</td>\n    </tr>\n    <tr>\n      <th>3842804010</th>\n      <td>INC</td>\n      <td>u_23</td>\n      <td>ALTERNATIVES FCU</td>\n      <td>NY</td>\n      <td>312130</td>\n      <td>18-Jul-00</td>\n      <td>2000</td>\n      <td>12</td>\n      <td>9</td>\n      <td>1.0</td>\n      <td>...</td>\n      <td>N</td>\n      <td>N</td>\n      <td>NaN</td>\n      <td>30-Sep-00</td>\n      <td>$60,000.00</td>\n      <td>$0.00</td>\n      <td>P I F</td>\n      <td>$0.00</td>\n      <td>$60,000.00</td>\n      <td>$45,000.00</td>\n    </tr>\n    <tr>\n      <th>9096044001</th>\n      <td>Other</td>\n      <td>u_15</td>\n      <td>BBCN BANK</td>\n      <td>CA</td>\n      <td>453998</td>\n      <td>13-Sep-05</td>\n      <td>2005</td>\n      <td>48</td>\n      <td>1</td>\n      <td>1.0</td>\n      <td>...</td>\n      <td>0</td>\n      <td>N</td>\n      <td>3-Nov-08</td>\n      <td>30-Sep-05</td>\n      <td>$10,000.00</td>\n      <td>$0.00</td>\n      <td>CHGOFF</td>\n      <td>$7,422.00</td>\n      <td>$10,000.00</td>\n      <td>$5,000.00</td>\n    </tr>\n    <tr>\n      <th>2982214007</th>\n      <td>Other</td>\n      <td>u_11</td>\n      <td>WELLS FARGO BANK NATL ASSOC</td>\n      <td>SD</td>\n      <td>445110</td>\n      <td>2-Jun-99</td>\n      <td>1999</td>\n      <td>60</td>\n      <td>9</td>\n      <td>1.0</td>\n      <td>...</td>\n      <td>0</td>\n      <td>Y</td>\n      <td>NaN</td>\n      <td>30-Sep-99</td>\n      <td>$26,000.00</td>\n      <td>$0.00</td>\n      <td>P I F</td>\n      <td>$0.00</td>\n      <td>$26,000.00</td>\n      <td>$20,800.00</td>\n    </tr>\n    <tr>\n      <th>4365925008</th>\n      <td>Other</td>\n      <td>u_19</td>\n      <td>TRUSTMARK NATIONAL BANK</td>\n      <td>AL</td>\n      <td>722110</td>\n      <td>15-Nov-10</td>\n      <td>2011</td>\n      <td>84</td>\n      <td>1</td>\n      <td>2.0</td>\n      <td>...</td>\n      <td>N</td>\n      <td>NaN</td>\n      <td>NaN</td>\n      <td>1-Mar-11</td>\n      <td>$201,500.00</td>\n      <td>$0.00</td>\n      <td>P I F</td>\n      <td>$0.00</td>\n      <td>$201,500.00</td>\n      <td>$181,350.00</td>\n    </tr>\n    <tr>\n      <th>...</th>\n      <td>...</td>\n      <td>...</td>\n      <td>...</td>\n      <td>...</td>\n      <td>...</td>\n      <td>...</td>\n      <td>...</td>\n      <td>...</td>\n      <td>...</td>\n      <td>...</td>\n      <td>...</td>\n      <td>...</td>\n      <td>...</td>\n      <td>...</td>\n      <td>...</td>\n      <td>...</td>\n      <td>...</td>\n      <td>...</td>\n      <td>...</td>\n      <td>...</td>\n      <td>...</td>\n    </tr>\n    <tr>\n      <th>3204824000</th>\n      <td>Other</td>\n      <td>u_23</td>\n      <td>UNITY BANK</td>\n      <td>NJ</td>\n      <td>541940</td>\n      <td>27-Sep-99</td>\n      <td>1999</td>\n      <td>228</td>\n      <td>2</td>\n      <td>2.0</td>\n      <td>...</td>\n      <td>0</td>\n      <td>N</td>\n      <td>NaN</td>\n      <td>30-Apr-00</td>\n      <td>$500,000.00</td>\n      <td>$0.00</td>\n      <td>P I F</td>\n      <td>$0.00</td>\n      <td>$500,000.00</td>\n      <td>$375,000.00</td>\n    </tr>\n    <tr>\n      <th>1497205002</th>\n      <td>Other</td>\n      <td>u_23</td>\n      <td>BANK OF AMERICA NATL ASSOC</td>\n      <td>NC</td>\n      <td>422320</td>\n      <td>13-Oct-05</td>\n      <td>2006</td>\n      <td>57</td>\n      <td>1</td>\n      <td>2.0</td>\n      <td>...</td>\n      <td>T</td>\n      <td>N</td>\n      <td>14-Aug-08</td>\n      <td>31-Mar-06</td>\n      <td>$45,450.00</td>\n      <td>$0.00</td>\n      <td>CHGOFF</td>\n      <td>$44,450.00</td>\n      <td>$45,000.00</td>\n      <td>$22,500.00</td>\n    </tr>\n    <tr>\n      <th>1333844003</th>\n      <td>INC.</td>\n      <td>u_15</td>\n      <td>GRANITE ST. ECONOMIC DEVEL COR</td>\n      <td>NH</td>\n      <td>0</td>\n      <td>10-Jun-97</td>\n      <td>1997</td>\n      <td>240</td>\n      <td>8</td>\n      <td>2.0</td>\n      <td>...</td>\n      <td>N</td>\n      <td>N</td>\n      <td>NaN</td>\n      <td>11-Mar-98</td>\n      <td>$291,000.00</td>\n      <td>$0.00</td>\n      <td>P I F</td>\n      <td>$0.00</td>\n      <td>$291,000.00</td>\n      <td>$291,000.00</td>\n    </tr>\n    <tr>\n      <th>9612943001</th>\n      <td>Other</td>\n      <td>u_11</td>\n      <td>NORTHEAST BANK</td>\n      <td>ME</td>\n      <td>811111</td>\n      <td>7-Oct-96</td>\n      <td>1997</td>\n      <td>120</td>\n      <td>1</td>\n      <td>1.0</td>\n      <td>...</td>\n      <td>N</td>\n      <td>Y</td>\n      <td>NaN</td>\n      <td>31-Dec-96</td>\n      <td>$30,000.00</td>\n      <td>$0.00</td>\n      <td>P I F</td>\n      <td>$0.00</td>\n      <td>$30,000.00</td>\n      <td>$24,000.00</td>\n    </tr>\n    <tr>\n      <th>2185585006</th>\n      <td>Other</td>\n      <td>u_23</td>\n      <td>PNC BANK, NATIONAL ASSOCIATION</td>\n      <td>DE</td>\n      <td>722110</td>\n      <td>20-Dec-06</td>\n      <td>2007</td>\n      <td>12</td>\n      <td>1</td>\n      <td>1.0</td>\n      <td>...</td>\n      <td>Y</td>\n      <td>N</td>\n      <td>9-Mar-08</td>\n      <td>31-Jan-07</td>\n      <td>$50,000.00</td>\n      <td>$0.00</td>\n      <td>CHGOFF</td>\n      <td>$50,000.00</td>\n      <td>$50,000.00</td>\n      <td>$25,000.00</td>\n    </tr>\n  </tbody>\n</table>\n<p>716530 rows × 24 columns</p>\n</div>"
     },
     "execution_count": 26,
     "metadata": {},
     "output_type": "execute_result"
    }
   ],
   "source": [
    "df"
   ],
   "metadata": {
    "collapsed": false,
    "pycharm": {
     "name": "#%%\n"
    }
   }
  },
  {
   "cell_type": "markdown",
   "source": [
    "## Bank"
   ],
   "metadata": {
    "collapsed": false,
    "pycharm": {
     "name": "#%% md\n",
     "is_executing": true
    }
   }
  },
  {
   "cell_type": "code",
   "execution_count": 27,
   "outputs": [
    {
     "name": "stdout",
     "output_type": "stream",
     "text": [
      "Null values: 63\n",
      "Unique: 5593\n",
      "Vals: \n",
      " BANK OF AMERICA NATL ASSOC        69602\n",
      "WELLS FARGO BANK NATL ASSOC       50631\n",
      "JPMORGAN CHASE BANK NATL ASSOC    38510\n",
      "U.S. BANK NATIONAL ASSOCIATION    28147\n",
      "CITIZENS BANK NATL ASSOC          26890\n",
      "PNC BANK, NATIONAL ASSOCIATION    21921\n",
      "BBCN BANK                         18366\n",
      "CAPITAL ONE NATL ASSOC            17787\n",
      "MANUFACTURERS & TRADERS TR CO      8987\n",
      "READYCAP LENDING, LLC              8500\n",
      "Name: Bank, dtype: int64\n",
      "Current city: BANK OF AMERICA NATL ASSOC\n",
      "P I F     0.724103\n",
      "CHGOFF    0.275897\n",
      "Name: MIS_Status, dtype: float64\n",
      "Current city: WELLS FARGO BANK NATL ASSOC\n",
      "P I F     0.858822\n",
      "CHGOFF    0.141178\n",
      "Name: MIS_Status, dtype: float64\n",
      "Current city: JPMORGAN CHASE BANK NATL ASSOC\n",
      "P I F     0.723656\n",
      "CHGOFF    0.276344\n",
      "Name: MIS_Status, dtype: float64\n",
      "Current city: U.S. BANK NATIONAL ASSOCIATION\n",
      "P I F     0.827264\n",
      "CHGOFF    0.172736\n",
      "Name: MIS_Status, dtype: float64\n",
      "Current city: CITIZENS BANK NATL ASSOC\n",
      "P I F     0.775009\n",
      "CHGOFF    0.224991\n",
      "Name: MIS_Status, dtype: float64\n",
      "Current city: PNC BANK, NATIONAL ASSOCIATION\n",
      "P I F     0.805529\n",
      "CHGOFF    0.194471\n",
      "Name: MIS_Status, dtype: float64\n",
      "Current city: BBCN BANK\n",
      "CHGOFF    0.548949\n",
      "P I F     0.451051\n",
      "Name: MIS_Status, dtype: float64\n",
      "Current city: CAPITAL ONE NATL ASSOC\n",
      "P I F     0.589532\n",
      "CHGOFF    0.410468\n",
      "Name: MIS_Status, dtype: float64\n",
      "Current city: MANUFACTURERS & TRADERS TR CO\n",
      "P I F     0.868477\n",
      "CHGOFF    0.131523\n",
      "Name: MIS_Status, dtype: float64\n",
      "Current city: READYCAP LENDING, LLC\n",
      "P I F     0.736235\n",
      "CHGOFF    0.263765\n",
      "Name: MIS_Status, dtype: float64\n"
     ]
    }
   ],
   "source": [
    "basic_cat_col_data(df, 'Bank', label, 10)\n",
    "\n"
   ],
   "metadata": {
    "collapsed": false,
    "pycharm": {
     "name": "#%%\n"
    }
   }
  }
 ],
 "metadata": {
  "kernelspec": {
   "display_name": "Python 3",
   "language": "python",
   "name": "python3"
  },
  "language_info": {
   "codemirror_mode": {
    "name": "ipython",
    "version": 2
   },
   "file_extension": ".py",
   "mimetype": "text/x-python",
   "name": "python",
   "nbconvert_exporter": "python",
   "pygments_lexer": "ipython2",
   "version": "2.7.6"
  }
 },
 "nbformat": 4,
 "nbformat_minor": 0
}