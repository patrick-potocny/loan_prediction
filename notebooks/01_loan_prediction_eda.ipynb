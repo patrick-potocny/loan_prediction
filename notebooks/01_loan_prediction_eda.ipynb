{
 "cells": [
  {
   "cell_type": "markdown",
   "metadata": {
    "collapsed": true,
    "pycharm": {
     "name": "#%% md\n"
    }
   },
   "source": [
    "# EDA\n",
    "\n"
   ]
  },
  {
   "cell_type": "code",
   "execution_count": 1,
   "outputs": [],
   "source": [
    "import pandas as pd\n",
    "import seaborn as sns\n",
    "\n",
    "from loan_prediction.config import split_train\n",
    "from loan_prediction.custom_funcs import *"
   ],
   "metadata": {
    "collapsed": false,
    "pycharm": {
     "name": "#%%\n"
    }
   }
  },
  {
   "cell_type": "code",
   "execution_count": 2,
   "outputs": [
    {
     "name": "stderr",
     "output_type": "stream",
     "text": [
      "c:\\users\\patoj\\anaconda3\\envs\\deep_learning\\lib\\site-packages\\IPython\\core\\interactiveshell.py:3155: DtypeWarning: Columns (9) have mixed types.Specify dtype option on import or set low_memory=False.\n",
      "  has_raised = await self.run_ast_nodes(code_ast.body, cell_name,\n"
     ]
    }
   ],
   "source": [
    "df = pd.read_csv(split_train, index_col='LoanNr_ChkDgt')\n",
    "label = 'MIS_Status'"
   ],
   "metadata": {
    "collapsed": false,
    "pycharm": {
     "name": "#%%\n"
    }
   }
  },
  {
   "cell_type": "code",
   "execution_count": 3,
   "outputs": [
    {
     "data": {
      "text/plain": "                 Zip          NAICS           Term          NoEmp  \\\ncount  717733.000000  717733.000000  717733.000000  717733.000000   \nmean    53843.424372  398731.357524     110.815890      11.395040   \nstd     31170.958176  263247.877448      78.897445      73.554447   \nmin         0.000000       0.000000       0.000000       0.000000   \n25%     27609.000000  235210.000000      60.000000       2.000000   \n50%     55413.000000  445310.000000      84.000000       4.000000   \n75%     83705.000000  561730.000000     120.000000      10.000000   \nmax     99999.000000  928120.000000     569.000000    9999.000000   \n\n            NewExist     CreateJob    RetainedJob  FranchiseCode  \\\ncount  717633.000000  717733.00000  717733.000000  717733.000000   \nmean        1.280255       8.40327      10.780751    2756.751296   \nstd         0.451716     236.30060     236.906138   12765.072160   \nmin         0.000000       0.00000       0.000000       0.000000   \n25%         1.000000       0.00000       0.000000       1.000000   \n50%         1.000000       0.00000       1.000000       1.000000   \n75%         2.000000       1.00000       4.000000       1.000000   \nmax         2.000000    8800.00000    9500.000000   99999.000000   \n\n          UrbanRural  \ncount  717733.000000  \nmean        0.756929  \nstd         0.646117  \nmin         0.000000  \n25%         0.000000  \n50%         1.000000  \n75%         1.000000  \nmax         2.000000  ",
      "text/html": "<div>\n<style scoped>\n    .dataframe tbody tr th:only-of-type {\n        vertical-align: middle;\n    }\n\n    .dataframe tbody tr th {\n        vertical-align: top;\n    }\n\n    .dataframe thead th {\n        text-align: right;\n    }\n</style>\n<table border=\"1\" class=\"dataframe\">\n  <thead>\n    <tr style=\"text-align: right;\">\n      <th></th>\n      <th>Zip</th>\n      <th>NAICS</th>\n      <th>Term</th>\n      <th>NoEmp</th>\n      <th>NewExist</th>\n      <th>CreateJob</th>\n      <th>RetainedJob</th>\n      <th>FranchiseCode</th>\n      <th>UrbanRural</th>\n    </tr>\n  </thead>\n  <tbody>\n    <tr>\n      <th>count</th>\n      <td>717733.000000</td>\n      <td>717733.000000</td>\n      <td>717733.000000</td>\n      <td>717733.000000</td>\n      <td>717633.000000</td>\n      <td>717733.00000</td>\n      <td>717733.000000</td>\n      <td>717733.000000</td>\n      <td>717733.000000</td>\n    </tr>\n    <tr>\n      <th>mean</th>\n      <td>53843.424372</td>\n      <td>398731.357524</td>\n      <td>110.815890</td>\n      <td>11.395040</td>\n      <td>1.280255</td>\n      <td>8.40327</td>\n      <td>10.780751</td>\n      <td>2756.751296</td>\n      <td>0.756929</td>\n    </tr>\n    <tr>\n      <th>std</th>\n      <td>31170.958176</td>\n      <td>263247.877448</td>\n      <td>78.897445</td>\n      <td>73.554447</td>\n      <td>0.451716</td>\n      <td>236.30060</td>\n      <td>236.906138</td>\n      <td>12765.072160</td>\n      <td>0.646117</td>\n    </tr>\n    <tr>\n      <th>min</th>\n      <td>0.000000</td>\n      <td>0.000000</td>\n      <td>0.000000</td>\n      <td>0.000000</td>\n      <td>0.000000</td>\n      <td>0.00000</td>\n      <td>0.000000</td>\n      <td>0.000000</td>\n      <td>0.000000</td>\n    </tr>\n    <tr>\n      <th>25%</th>\n      <td>27609.000000</td>\n      <td>235210.000000</td>\n      <td>60.000000</td>\n      <td>2.000000</td>\n      <td>1.000000</td>\n      <td>0.00000</td>\n      <td>0.000000</td>\n      <td>1.000000</td>\n      <td>0.000000</td>\n    </tr>\n    <tr>\n      <th>50%</th>\n      <td>55413.000000</td>\n      <td>445310.000000</td>\n      <td>84.000000</td>\n      <td>4.000000</td>\n      <td>1.000000</td>\n      <td>0.00000</td>\n      <td>1.000000</td>\n      <td>1.000000</td>\n      <td>1.000000</td>\n    </tr>\n    <tr>\n      <th>75%</th>\n      <td>83705.000000</td>\n      <td>561730.000000</td>\n      <td>120.000000</td>\n      <td>10.000000</td>\n      <td>2.000000</td>\n      <td>1.00000</td>\n      <td>4.000000</td>\n      <td>1.000000</td>\n      <td>1.000000</td>\n    </tr>\n    <tr>\n      <th>max</th>\n      <td>99999.000000</td>\n      <td>928120.000000</td>\n      <td>569.000000</td>\n      <td>9999.000000</td>\n      <td>2.000000</td>\n      <td>8800.00000</td>\n      <td>9500.000000</td>\n      <td>99999.000000</td>\n      <td>2.000000</td>\n    </tr>\n  </tbody>\n</table>\n</div>"
     },
     "execution_count": 3,
     "metadata": {},
     "output_type": "execute_result"
    }
   ],
   "source": [
    "df.describe()"
   ],
   "metadata": {
    "collapsed": false,
    "pycharm": {
     "name": "#%%\n"
    }
   }
  },
  {
   "cell_type": "code",
   "execution_count": 4,
   "outputs": [
    {
     "name": "stdout",
     "output_type": "stream",
     "text": [
      "<class 'pandas.core.frame.DataFrame'>\n",
      "Int64Index: 717733 entries, 5893754007 to 2185585006\n",
      "Data columns (total 26 columns):\n",
      " #   Column             Non-Null Count   Dtype  \n",
      "---  ------             --------------   -----  \n",
      " 0   Name               717723 non-null  object \n",
      " 1   City               717708 non-null  object \n",
      " 2   State              717721 non-null  object \n",
      " 3   Zip                717733 non-null  int64  \n",
      " 4   Bank               716506 non-null  object \n",
      " 5   BankState          716499 non-null  object \n",
      " 6   NAICS              717733 non-null  int64  \n",
      " 7   ApprovalDate       717733 non-null  object \n",
      " 8   ApprovalFY         717733 non-null  object \n",
      " 9   Term               717733 non-null  int64  \n",
      " 10  NoEmp              717733 non-null  int64  \n",
      " 11  NewExist           717633 non-null  float64\n",
      " 12  CreateJob          717733 non-null  int64  \n",
      " 13  RetainedJob        717733 non-null  int64  \n",
      " 14  FranchiseCode      717733 non-null  int64  \n",
      " 15  UrbanRural         717733 non-null  int64  \n",
      " 16  RevLineCr          714120 non-null  object \n",
      " 17  LowDoc             715669 non-null  object \n",
      " 18  ChgOffDate         129893 non-null  object \n",
      " 19  DisbursementDate   715982 non-null  object \n",
      " 20  DisbursementGross  717733 non-null  object \n",
      " 21  BalanceGross       717733 non-null  object \n",
      " 22  MIS_Status         717733 non-null  object \n",
      " 23  ChgOffPrinGr       717733 non-null  object \n",
      " 24  GrAppv             717733 non-null  object \n",
      " 25  SBA_Appv           717733 non-null  object \n",
      "dtypes: float64(1), int64(8), object(17)\n",
      "memory usage: 147.8+ MB\n"
     ]
    }
   ],
   "source": [
    "df.info()"
   ],
   "metadata": {
    "collapsed": false,
    "pycharm": {
     "name": "#%%\n"
    }
   }
  },
  {
   "cell_type": "code",
   "execution_count": 5,
   "outputs": [
    {
     "data": {
      "text/plain": "Name                     10\nCity                     25\nState                    12\nZip                       0\nBank                   1227\nBankState              1234\nNAICS                     0\nApprovalDate              0\nApprovalFY                0\nTerm                      0\nNoEmp                     0\nNewExist                100\nCreateJob                 0\nRetainedJob               0\nFranchiseCode             0\nUrbanRural                0\nRevLineCr              3613\nLowDoc                 2064\nChgOffDate           587840\nDisbursementDate       1751\nDisbursementGross         0\nBalanceGross              0\nMIS_Status                0\nChgOffPrinGr              0\nGrAppv                    0\nSBA_Appv                  0\ndtype: int64"
     },
     "execution_count": 5,
     "metadata": {},
     "output_type": "execute_result"
    }
   ],
   "source": [
    "df.isnull().sum()"
   ],
   "metadata": {
    "collapsed": false,
    "pycharm": {
     "name": "#%%\n"
    }
   }
  },
  {
   "cell_type": "code",
   "execution_count": 6,
   "outputs": [],
   "source": [
    "# preprocessing\n",
    "df = drop_na(df)"
   ],
   "metadata": {
    "collapsed": false,
    "pycharm": {
     "name": "#%%\n"
    }
   }
  },
  {
   "cell_type": "code",
   "execution_count": 7,
   "outputs": [
    {
     "data": {
      "text/plain": "Name                      0\nCity                      0\nState                     0\nZip                       0\nBank                      0\nBankState                 0\nNAICS                     0\nApprovalDate              0\nApprovalFY                0\nTerm                      0\nNoEmp                     0\nNewExist                  0\nCreateJob                 0\nRetainedJob               0\nFranchiseCode             0\nUrbanRural                0\nRevLineCr                 0\nLowDoc                    0\nChgOffDate           580324\nDisbursementDate          0\nDisbursementGross         0\nBalanceGross              0\nMIS_Status                0\nChgOffPrinGr              0\nGrAppv                    0\nSBA_Appv                  0\ndtype: int64"
     },
     "execution_count": 7,
     "metadata": {},
     "output_type": "execute_result"
    }
   ],
   "source": [
    "df.isnull().sum()\n"
   ],
   "metadata": {
    "collapsed": false,
    "pycharm": {
     "name": "#%%\n"
    }
   }
  },
  {
   "cell_type": "code",
   "execution_count": 8,
   "outputs": [
    {
     "data": {
      "text/plain": "                                         Name         City State    Zip  \\\nLoanNr_ChkDgt                                                             \n5893754007            KUT-N-KLIP LAWN SERVICE      DUNEDIN    FL  34597   \n3842804010     AMERICANA VINEYARDS/WINERY,INC   INTERLAKEN    NY  14748   \n9096044001        WILD WOOD CHAINSAW CARVINGS    MAQUOKETA    IA  52060   \n2982214007                SQUEAKY DOOR MARKET  LOWER BRULE    SD  57548   \n2576085006     RAMZI AFIF KHOURY DBA DOLLAR Z     PACIFICA    CA  94044   \n...                                       ...          ...   ...    ...   \n3204824000         THE CORNER ANIMAL HOSPITAL     SETAUKET    NY  11733   \n1497205002                      USAccessories     EL MONTE    CA  91731   \n1333844003                 ZADEDA FARMS, INC.     KINGSTON    NH   3848   \n9612943001                   DR. ROB'S GARAGE       OXFORD    ME   4270   \n2185585006      SANG YUL LEE DBA MEN IN BLACK    ANNANDALE    VA  22003   \n\n                                         Bank BankState   NAICS ApprovalDate  \\\nLoanNr_ChkDgt                                                                  \n5893754007         BANK OF AMERICA NATL ASSOC        NC  561730    22-Nov-02   \n3842804010                   ALTERNATIVES FCU        NY  312130    18-Jul-00   \n9096044001                          BBCN BANK        CA  453998    13-Sep-05   \n2982214007        WELLS FARGO BANK NATL ASSOC        SD  445110     2-Jun-99   \n2576085006             CAPITAL ONE NATL ASSOC        VA  452990    17-Jul-07   \n...                                       ...       ...     ...          ...   \n3204824000                         UNITY BANK        NJ  541940    27-Sep-99   \n1497205002         BANK OF AMERICA NATL ASSOC        NC  422320    13-Oct-05   \n1333844003     GRANITE ST. ECONOMIC DEVEL COR        NH       0    10-Jun-97   \n9612943001                     NORTHEAST BANK        ME  811111     7-Oct-96   \n2185585006     PNC BANK, NATIONAL ASSOCIATION        DE  722110    20-Dec-06   \n\n              ApprovalFY  Term  ...  RevLineCr  LowDoc  ChgOffDate  \\\nLoanNr_ChkDgt                   ...                                  \n5893754007          2003    84  ...          Y       N         NaN   \n3842804010          2000    12  ...          N       N         NaN   \n9096044001          2005    48  ...          0       N    3-Nov-08   \n2982214007          1999    60  ...          0       Y         NaN   \n2576085006          2007    66  ...          N       N   10-Jul-10   \n...                  ...   ...  ...        ...     ...         ...   \n3204824000          1999   228  ...          0       N         NaN   \n1497205002          2006    57  ...          T       N   14-Aug-08   \n1333844003          1997   240  ...          N       N         NaN   \n9612943001          1997   120  ...          N       Y         NaN   \n2185585006          2007    12  ...          Y       N    9-Mar-08   \n\n               DisbursementDate  DisbursementGross  BalanceGross MIS_Status  \\\nLoanNr_ChkDgt                                                                 \n5893754007            31-Jan-03        $10,000.00         $0.00       P I F   \n3842804010            30-Sep-00        $60,000.00         $0.00       P I F   \n9096044001            30-Sep-05        $10,000.00         $0.00      CHGOFF   \n2982214007            30-Sep-99        $26,000.00         $0.00       P I F   \n2576085006            31-Aug-07       $100,000.00         $0.00      CHGOFF   \n...                         ...                ...           ...        ...   \n3204824000            30-Apr-00       $500,000.00         $0.00       P I F   \n1497205002            31-Mar-06        $45,450.00         $0.00      CHGOFF   \n1333844003            11-Mar-98       $291,000.00         $0.00       P I F   \n9612943001            31-Dec-96        $30,000.00         $0.00       P I F   \n2185585006            31-Jan-07        $50,000.00         $0.00      CHGOFF   \n\n              ChgOffPrinGr        GrAppv      SBA_Appv  \nLoanNr_ChkDgt                                           \n5893754007          $0.00    $10,000.00     $5,000.00   \n3842804010          $0.00    $60,000.00    $45,000.00   \n9096044001      $7,422.00    $10,000.00     $5,000.00   \n2982214007          $0.00    $26,000.00    $20,800.00   \n2576085006     $86,893.00   $100,000.00    $50,000.00   \n...                    ...           ...           ...  \n3204824000          $0.00   $500,000.00   $375,000.00   \n1497205002     $44,450.00    $45,000.00    $22,500.00   \n1333844003          $0.00   $291,000.00   $291,000.00   \n9612943001          $0.00    $30,000.00    $24,000.00   \n2185585006     $50,000.00    $50,000.00    $25,000.00   \n\n[708966 rows x 26 columns]",
      "text/html": "<div>\n<style scoped>\n    .dataframe tbody tr th:only-of-type {\n        vertical-align: middle;\n    }\n\n    .dataframe tbody tr th {\n        vertical-align: top;\n    }\n\n    .dataframe thead th {\n        text-align: right;\n    }\n</style>\n<table border=\"1\" class=\"dataframe\">\n  <thead>\n    <tr style=\"text-align: right;\">\n      <th></th>\n      <th>Name</th>\n      <th>City</th>\n      <th>State</th>\n      <th>Zip</th>\n      <th>Bank</th>\n      <th>BankState</th>\n      <th>NAICS</th>\n      <th>ApprovalDate</th>\n      <th>ApprovalFY</th>\n      <th>Term</th>\n      <th>...</th>\n      <th>RevLineCr</th>\n      <th>LowDoc</th>\n      <th>ChgOffDate</th>\n      <th>DisbursementDate</th>\n      <th>DisbursementGross</th>\n      <th>BalanceGross</th>\n      <th>MIS_Status</th>\n      <th>ChgOffPrinGr</th>\n      <th>GrAppv</th>\n      <th>SBA_Appv</th>\n    </tr>\n    <tr>\n      <th>LoanNr_ChkDgt</th>\n      <th></th>\n      <th></th>\n      <th></th>\n      <th></th>\n      <th></th>\n      <th></th>\n      <th></th>\n      <th></th>\n      <th></th>\n      <th></th>\n      <th></th>\n      <th></th>\n      <th></th>\n      <th></th>\n      <th></th>\n      <th></th>\n      <th></th>\n      <th></th>\n      <th></th>\n      <th></th>\n      <th></th>\n    </tr>\n  </thead>\n  <tbody>\n    <tr>\n      <th>5893754007</th>\n      <td>KUT-N-KLIP LAWN SERVICE</td>\n      <td>DUNEDIN</td>\n      <td>FL</td>\n      <td>34597</td>\n      <td>BANK OF AMERICA NATL ASSOC</td>\n      <td>NC</td>\n      <td>561730</td>\n      <td>22-Nov-02</td>\n      <td>2003</td>\n      <td>84</td>\n      <td>...</td>\n      <td>Y</td>\n      <td>N</td>\n      <td>NaN</td>\n      <td>31-Jan-03</td>\n      <td>$10,000.00</td>\n      <td>$0.00</td>\n      <td>P I F</td>\n      <td>$0.00</td>\n      <td>$10,000.00</td>\n      <td>$5,000.00</td>\n    </tr>\n    <tr>\n      <th>3842804010</th>\n      <td>AMERICANA VINEYARDS/WINERY,INC</td>\n      <td>INTERLAKEN</td>\n      <td>NY</td>\n      <td>14748</td>\n      <td>ALTERNATIVES FCU</td>\n      <td>NY</td>\n      <td>312130</td>\n      <td>18-Jul-00</td>\n      <td>2000</td>\n      <td>12</td>\n      <td>...</td>\n      <td>N</td>\n      <td>N</td>\n      <td>NaN</td>\n      <td>30-Sep-00</td>\n      <td>$60,000.00</td>\n      <td>$0.00</td>\n      <td>P I F</td>\n      <td>$0.00</td>\n      <td>$60,000.00</td>\n      <td>$45,000.00</td>\n    </tr>\n    <tr>\n      <th>9096044001</th>\n      <td>WILD WOOD CHAINSAW CARVINGS</td>\n      <td>MAQUOKETA</td>\n      <td>IA</td>\n      <td>52060</td>\n      <td>BBCN BANK</td>\n      <td>CA</td>\n      <td>453998</td>\n      <td>13-Sep-05</td>\n      <td>2005</td>\n      <td>48</td>\n      <td>...</td>\n      <td>0</td>\n      <td>N</td>\n      <td>3-Nov-08</td>\n      <td>30-Sep-05</td>\n      <td>$10,000.00</td>\n      <td>$0.00</td>\n      <td>CHGOFF</td>\n      <td>$7,422.00</td>\n      <td>$10,000.00</td>\n      <td>$5,000.00</td>\n    </tr>\n    <tr>\n      <th>2982214007</th>\n      <td>SQUEAKY DOOR MARKET</td>\n      <td>LOWER BRULE</td>\n      <td>SD</td>\n      <td>57548</td>\n      <td>WELLS FARGO BANK NATL ASSOC</td>\n      <td>SD</td>\n      <td>445110</td>\n      <td>2-Jun-99</td>\n      <td>1999</td>\n      <td>60</td>\n      <td>...</td>\n      <td>0</td>\n      <td>Y</td>\n      <td>NaN</td>\n      <td>30-Sep-99</td>\n      <td>$26,000.00</td>\n      <td>$0.00</td>\n      <td>P I F</td>\n      <td>$0.00</td>\n      <td>$26,000.00</td>\n      <td>$20,800.00</td>\n    </tr>\n    <tr>\n      <th>2576085006</th>\n      <td>RAMZI AFIF KHOURY DBA DOLLAR Z</td>\n      <td>PACIFICA</td>\n      <td>CA</td>\n      <td>94044</td>\n      <td>CAPITAL ONE NATL ASSOC</td>\n      <td>VA</td>\n      <td>452990</td>\n      <td>17-Jul-07</td>\n      <td>2007</td>\n      <td>66</td>\n      <td>...</td>\n      <td>N</td>\n      <td>N</td>\n      <td>10-Jul-10</td>\n      <td>31-Aug-07</td>\n      <td>$100,000.00</td>\n      <td>$0.00</td>\n      <td>CHGOFF</td>\n      <td>$86,893.00</td>\n      <td>$100,000.00</td>\n      <td>$50,000.00</td>\n    </tr>\n    <tr>\n      <th>...</th>\n      <td>...</td>\n      <td>...</td>\n      <td>...</td>\n      <td>...</td>\n      <td>...</td>\n      <td>...</td>\n      <td>...</td>\n      <td>...</td>\n      <td>...</td>\n      <td>...</td>\n      <td>...</td>\n      <td>...</td>\n      <td>...</td>\n      <td>...</td>\n      <td>...</td>\n      <td>...</td>\n      <td>...</td>\n      <td>...</td>\n      <td>...</td>\n      <td>...</td>\n      <td>...</td>\n    </tr>\n    <tr>\n      <th>3204824000</th>\n      <td>THE CORNER ANIMAL HOSPITAL</td>\n      <td>SETAUKET</td>\n      <td>NY</td>\n      <td>11733</td>\n      <td>UNITY BANK</td>\n      <td>NJ</td>\n      <td>541940</td>\n      <td>27-Sep-99</td>\n      <td>1999</td>\n      <td>228</td>\n      <td>...</td>\n      <td>0</td>\n      <td>N</td>\n      <td>NaN</td>\n      <td>30-Apr-00</td>\n      <td>$500,000.00</td>\n      <td>$0.00</td>\n      <td>P I F</td>\n      <td>$0.00</td>\n      <td>$500,000.00</td>\n      <td>$375,000.00</td>\n    </tr>\n    <tr>\n      <th>1497205002</th>\n      <td>USAccessories</td>\n      <td>EL MONTE</td>\n      <td>CA</td>\n      <td>91731</td>\n      <td>BANK OF AMERICA NATL ASSOC</td>\n      <td>NC</td>\n      <td>422320</td>\n      <td>13-Oct-05</td>\n      <td>2006</td>\n      <td>57</td>\n      <td>...</td>\n      <td>T</td>\n      <td>N</td>\n      <td>14-Aug-08</td>\n      <td>31-Mar-06</td>\n      <td>$45,450.00</td>\n      <td>$0.00</td>\n      <td>CHGOFF</td>\n      <td>$44,450.00</td>\n      <td>$45,000.00</td>\n      <td>$22,500.00</td>\n    </tr>\n    <tr>\n      <th>1333844003</th>\n      <td>ZADEDA FARMS, INC.</td>\n      <td>KINGSTON</td>\n      <td>NH</td>\n      <td>3848</td>\n      <td>GRANITE ST. ECONOMIC DEVEL COR</td>\n      <td>NH</td>\n      <td>0</td>\n      <td>10-Jun-97</td>\n      <td>1997</td>\n      <td>240</td>\n      <td>...</td>\n      <td>N</td>\n      <td>N</td>\n      <td>NaN</td>\n      <td>11-Mar-98</td>\n      <td>$291,000.00</td>\n      <td>$0.00</td>\n      <td>P I F</td>\n      <td>$0.00</td>\n      <td>$291,000.00</td>\n      <td>$291,000.00</td>\n    </tr>\n    <tr>\n      <th>9612943001</th>\n      <td>DR. ROB'S GARAGE</td>\n      <td>OXFORD</td>\n      <td>ME</td>\n      <td>4270</td>\n      <td>NORTHEAST BANK</td>\n      <td>ME</td>\n      <td>811111</td>\n      <td>7-Oct-96</td>\n      <td>1997</td>\n      <td>120</td>\n      <td>...</td>\n      <td>N</td>\n      <td>Y</td>\n      <td>NaN</td>\n      <td>31-Dec-96</td>\n      <td>$30,000.00</td>\n      <td>$0.00</td>\n      <td>P I F</td>\n      <td>$0.00</td>\n      <td>$30,000.00</td>\n      <td>$24,000.00</td>\n    </tr>\n    <tr>\n      <th>2185585006</th>\n      <td>SANG YUL LEE DBA MEN IN BLACK</td>\n      <td>ANNANDALE</td>\n      <td>VA</td>\n      <td>22003</td>\n      <td>PNC BANK, NATIONAL ASSOCIATION</td>\n      <td>DE</td>\n      <td>722110</td>\n      <td>20-Dec-06</td>\n      <td>2007</td>\n      <td>12</td>\n      <td>...</td>\n      <td>Y</td>\n      <td>N</td>\n      <td>9-Mar-08</td>\n      <td>31-Jan-07</td>\n      <td>$50,000.00</td>\n      <td>$0.00</td>\n      <td>CHGOFF</td>\n      <td>$50,000.00</td>\n      <td>$50,000.00</td>\n      <td>$25,000.00</td>\n    </tr>\n  </tbody>\n</table>\n<p>708966 rows × 26 columns</p>\n</div>"
     },
     "execution_count": 8,
     "metadata": {},
     "output_type": "execute_result"
    }
   ],
   "source": [
    "df"
   ],
   "metadata": {
    "collapsed": false,
    "pycharm": {
     "name": "#%%\n"
    }
   }
  },
  {
   "cell_type": "markdown",
   "source": [
    "## Name"
   ],
   "metadata": {
    "collapsed": false,
    "pycharm": {
     "name": "#%% md\n",
     "is_executing": true
    }
   }
  },
  {
   "cell_type": "code",
   "execution_count": 9,
   "outputs": [
    {
     "data": {
      "text/plain": "0"
     },
     "execution_count": 9,
     "metadata": {},
     "output_type": "execute_result"
    }
   ],
   "source": [
    "df['Name'].isnull().sum()\n"
   ],
   "metadata": {
    "collapsed": false,
    "pycharm": {
     "name": "#%%\n"
    }
   }
  },
  {
   "cell_type": "code",
   "execution_count": 10,
   "outputs": [
    {
     "data": {
      "text/plain": "LoanNr_ChkDgt\n5893754007           KUT-N-KLIP LAWN SERVICE\n3842804010    AMERICANA VINEYARDS/WINERY,INC\n9096044001       WILD WOOD CHAINSAW CARVINGS\n2982214007               SQUEAKY DOOR MARKET\n2576085006    RAMZI AFIF KHOURY DBA DOLLAR Z\n                           ...              \n3204824000        THE CORNER ANIMAL HOSPITAL\n1497205002                     USAccessories\n1333844003                ZADEDA FARMS, INC.\n9612943001                  DR. ROB'S GARAGE\n2185585006     SANG YUL LEE DBA MEN IN BLACK\nName: Name, Length: 708966, dtype: object"
     },
     "execution_count": 10,
     "metadata": {},
     "output_type": "execute_result"
    }
   ],
   "source": [
    "df['Name']"
   ],
   "metadata": {
    "collapsed": false,
    "pycharm": {
     "name": "#%%\n"
    }
   }
  },
  {
   "cell_type": "code",
   "execution_count": 11,
   "outputs": [
    {
     "data": {
      "text/plain": " INC    84375\nINC.    82305\n LLC    55047\nInc.    27429\nTION    10792\n Inc     7779\nPANY     6755\nNTER     5580\nVICE     4653\nCORP     4360\nName: Name, dtype: int64"
     },
     "execution_count": 11,
     "metadata": {},
     "output_type": "execute_result"
    }
   ],
   "source": [
    "test = df['Name'].apply(lambda x: str(x)[-4:])\n",
    "test.value_counts()[:10]\n"
   ],
   "metadata": {
    "collapsed": false,
    "pycharm": {
     "name": "#%%\n"
    }
   }
  },
  {
   "cell_type": "code",
   "execution_count": 12,
   "outputs": [
    {
     "name": "stdout",
     "output_type": "stream",
     "text": [
      "INC\n",
      "P I F     0.842281\n",
      "CHGOFF    0.157719\n",
      "Name: MIS_Status, dtype: float64\n",
      "INC.\n",
      "P I F     0.881733\n",
      "CHGOFF    0.118267\n",
      "Name: MIS_Status, dtype: float64\n",
      "LLC\n",
      "P I F     0.77819\n",
      "CHGOFF    0.22181\n",
      "Name: MIS_Status, dtype: float64\n",
      "Inc.\n",
      "P I F     0.684531\n",
      "CHGOFF    0.315469\n",
      "Name: MIS_Status, dtype: float64\n",
      "TION\n",
      "P I F     0.850259\n",
      "CHGOFF    0.149741\n",
      "Name: MIS_Status, dtype: float64\n",
      "Inc\n",
      "P I F     0.705686\n",
      "CHGOFF    0.294314\n",
      "Name: MIS_Status, dtype: float64\n",
      "PANY\n",
      "P I F     0.878905\n",
      "CHGOFF    0.121095\n",
      "Name: MIS_Status, dtype: float64\n"
     ]
    }
   ],
   "source": [
    "most_used_ends = ['INC', 'INC.', 'LLC', 'Inc.', 'TION', 'Inc', 'PANY']\n",
    "for end in most_used_ends:\n",
    "    end_filt = df['Name'].str.endswith(end, na=False)\n",
    "    print(end)\n",
    "    print(df[end_filt][label].value_counts(normalize=True))\n",
    "\n"
   ],
   "metadata": {
    "collapsed": false,
    "pycharm": {
     "name": "#%%\n"
    }
   }
  },
  {
   "cell_type": "code",
   "execution_count": 13,
   "outputs": [
    {
     "data": {
      "text/plain": "P I F     0.824697\nCHGOFF    0.175303\nName: MIS_Status, dtype: float64"
     },
     "execution_count": 13,
     "metadata": {},
     "output_type": "execute_result"
    }
   ],
   "source": [
    "df = get_endings(df)\n",
    "df[df['name_end'] == 'Other'][label].value_counts(normalize=True)\n"
   ],
   "metadata": {
    "collapsed": false,
    "pycharm": {
     "name": "#%%\n"
    }
   }
  },
  {
   "cell_type": "code",
   "execution_count": 14,
   "outputs": [
    {
     "data": {
      "text/plain": "Other    430876\nINC       86375\nINC.      82305\nLLC       56643\nInc.      27429\nTION      10792\nInc        7791\nPANY       6755\nName: name_end, dtype: int64"
     },
     "execution_count": 14,
     "metadata": {},
     "output_type": "execute_result"
    }
   ],
   "source": [
    "df['name_end'].value_counts()\n"
   ],
   "metadata": {
    "collapsed": false,
    "pycharm": {
     "name": "#%%\n"
    }
   }
  },
  {
   "cell_type": "markdown",
   "source": [
    "## City"
   ],
   "metadata": {
    "collapsed": false,
    "pycharm": {
     "name": "#%% md\n"
    }
   }
  },
  {
   "cell_type": "code",
   "execution_count": 15,
   "outputs": [
    {
     "data": {
      "text/plain": "0"
     },
     "execution_count": 15,
     "metadata": {},
     "output_type": "execute_result"
    }
   ],
   "source": [
    "df['City'].isnull().sum()"
   ],
   "metadata": {
    "collapsed": false,
    "pycharm": {
     "name": "#%%\n"
    }
   }
  },
  {
   "cell_type": "code",
   "execution_count": 16,
   "outputs": [
    {
     "data": {
      "text/plain": "Empty DataFrame\nColumns: [name_end, City, State, Zip, Bank, BankState, NAICS, ApprovalDate, ApprovalFY, Term, NoEmp, NewExist, CreateJob, RetainedJob, FranchiseCode, UrbanRural, RevLineCr, LowDoc, ChgOffDate, DisbursementDate, DisbursementGross, BalanceGross, MIS_Status, ChgOffPrinGr, GrAppv, SBA_Appv]\nIndex: []\n\n[0 rows x 26 columns]",
      "text/html": "<div>\n<style scoped>\n    .dataframe tbody tr th:only-of-type {\n        vertical-align: middle;\n    }\n\n    .dataframe tbody tr th {\n        vertical-align: top;\n    }\n\n    .dataframe thead th {\n        text-align: right;\n    }\n</style>\n<table border=\"1\" class=\"dataframe\">\n  <thead>\n    <tr style=\"text-align: right;\">\n      <th></th>\n      <th>name_end</th>\n      <th>City</th>\n      <th>State</th>\n      <th>Zip</th>\n      <th>Bank</th>\n      <th>BankState</th>\n      <th>NAICS</th>\n      <th>ApprovalDate</th>\n      <th>ApprovalFY</th>\n      <th>Term</th>\n      <th>...</th>\n      <th>RevLineCr</th>\n      <th>LowDoc</th>\n      <th>ChgOffDate</th>\n      <th>DisbursementDate</th>\n      <th>DisbursementGross</th>\n      <th>BalanceGross</th>\n      <th>MIS_Status</th>\n      <th>ChgOffPrinGr</th>\n      <th>GrAppv</th>\n      <th>SBA_Appv</th>\n    </tr>\n    <tr>\n      <th>LoanNr_ChkDgt</th>\n      <th></th>\n      <th></th>\n      <th></th>\n      <th></th>\n      <th></th>\n      <th></th>\n      <th></th>\n      <th></th>\n      <th></th>\n      <th></th>\n      <th></th>\n      <th></th>\n      <th></th>\n      <th></th>\n      <th></th>\n      <th></th>\n      <th></th>\n      <th></th>\n      <th></th>\n      <th></th>\n      <th></th>\n    </tr>\n  </thead>\n  <tbody>\n  </tbody>\n</table>\n<p>0 rows × 26 columns</p>\n</div>"
     },
     "execution_count": 16,
     "metadata": {},
     "output_type": "execute_result"
    }
   ],
   "source": [
    "df[df['City'].isnull()]"
   ],
   "metadata": {
    "collapsed": false,
    "pycharm": {
     "name": "#%%\n"
    }
   }
  },
  {
   "cell_type": "code",
   "execution_count": 17,
   "outputs": [
    {
     "data": {
      "text/plain": "29575"
     },
     "execution_count": 17,
     "metadata": {},
     "output_type": "execute_result"
    }
   ],
   "source": [
    "df['City'].nunique()"
   ],
   "metadata": {
    "collapsed": false,
    "pycharm": {
     "name": "#%%\n"
    }
   }
  },
  {
   "cell_type": "code",
   "execution_count": 18,
   "outputs": [
    {
     "data": {
      "text/plain": "LOS ANGELES    9188\nHOUSTON        8114\nNEW YORK       6264\nCHICAGO        4802\nMIAMI          4444\nSAN DIEGO      4232\nDALLAS         3992\nPHOENIX        3546\nLAS VEGAS      3474\nBROOKLYN       2970\nName: City, dtype: int64"
     },
     "execution_count": 18,
     "metadata": {},
     "output_type": "execute_result"
    }
   ],
   "source": [
    "city_val_counts = df['City'].value_counts()[:10]\n",
    "city_val_counts"
   ],
   "metadata": {
    "collapsed": false,
    "pycharm": {
     "name": "#%%\n"
    }
   }
  },
  {
   "cell_type": "code",
   "execution_count": 19,
   "outputs": [
    {
     "name": "stdout",
     "output_type": "stream",
     "text": [
      "Current city: LOS ANGELES\n",
      "P I F     0.722573\n",
      "CHGOFF    0.277427\n",
      "Name: MIS_Status, dtype: float64\n",
      "Current city: HOUSTON\n",
      "P I F     0.785556\n",
      "CHGOFF    0.214444\n",
      "Name: MIS_Status, dtype: float64\n",
      "Current city: NEW YORK\n",
      "P I F     0.777778\n",
      "CHGOFF    0.222222\n",
      "Name: MIS_Status, dtype: float64\n",
      "Current city: CHICAGO\n",
      "P I F     0.724698\n",
      "CHGOFF    0.275302\n",
      "Name: MIS_Status, dtype: float64\n",
      "Current city: MIAMI\n",
      "P I F     0.671242\n",
      "CHGOFF    0.328758\n",
      "Name: MIS_Status, dtype: float64\n",
      "Current city: SAN DIEGO\n",
      "P I F     0.849716\n",
      "CHGOFF    0.150284\n",
      "Name: MIS_Status, dtype: float64\n",
      "Current city: DALLAS\n",
      "P I F     0.802104\n",
      "CHGOFF    0.197896\n",
      "Name: MIS_Status, dtype: float64\n",
      "Current city: PHOENIX\n",
      "P I F     0.812183\n",
      "CHGOFF    0.187817\n",
      "Name: MIS_Status, dtype: float64\n",
      "Current city: LAS VEGAS\n",
      "P I F     0.748129\n",
      "CHGOFF    0.251871\n",
      "Name: MIS_Status, dtype: float64\n",
      "Current city: BROOKLYN\n",
      "P I F     0.664983\n",
      "CHGOFF    0.335017\n",
      "Name: MIS_Status, dtype: float64\n"
     ]
    }
   ],
   "source": [
    "top_cities = city_val_counts.index\n",
    "for city in top_cities:\n",
    "    print(f'Current city: {city}')\n",
    "    print(df[df['City'] == city][label].value_counts(normalize=True))"
   ],
   "metadata": {
    "collapsed": false,
    "pycharm": {
     "name": "#%%\n"
    }
   }
  },
  {
   "cell_type": "code",
   "execution_count": 20,
   "outputs": [],
   "source": [
    "# preprocessing\n",
    "df = drop_col(df, 'City')\n"
   ],
   "metadata": {
    "collapsed": false,
    "pycharm": {
     "name": "#%%\n"
    }
   }
  },
  {
   "cell_type": "code",
   "execution_count": 21,
   "outputs": [
    {
     "data": {
      "text/plain": "              name_end State    Zip                            Bank BankState  \\\nLoanNr_ChkDgt                                                                   \n5893754007       Other    FL  34597      BANK OF AMERICA NATL ASSOC        NC   \n3842804010         INC    NY  14748                ALTERNATIVES FCU        NY   \n9096044001       Other    IA  52060                       BBCN BANK        CA   \n2982214007       Other    SD  57548     WELLS FARGO BANK NATL ASSOC        SD   \n2576085006       Other    CA  94044          CAPITAL ONE NATL ASSOC        VA   \n...                ...   ...    ...                             ...       ...   \n3204824000       Other    NY  11733                      UNITY BANK        NJ   \n1497205002       Other    CA  91731      BANK OF AMERICA NATL ASSOC        NC   \n1333844003        INC.    NH   3848  GRANITE ST. ECONOMIC DEVEL COR        NH   \n9612943001       Other    ME   4270                  NORTHEAST BANK        ME   \n2185585006       Other    VA  22003  PNC BANK, NATIONAL ASSOCIATION        DE   \n\n                NAICS ApprovalDate ApprovalFY  Term  NoEmp  ...  RevLineCr  \\\nLoanNr_ChkDgt                                               ...              \n5893754007     561730    22-Nov-02       2003    84      1  ...          Y   \n3842804010     312130    18-Jul-00       2000    12      9  ...          N   \n9096044001     453998    13-Sep-05       2005    48      1  ...          0   \n2982214007     445110     2-Jun-99       1999    60      9  ...          0   \n2576085006     452990    17-Jul-07       2007    66      3  ...          N   \n...               ...          ...        ...   ...    ...  ...        ...   \n3204824000     541940    27-Sep-99       1999   228      2  ...          0   \n1497205002     422320    13-Oct-05       2006    57      1  ...          T   \n1333844003          0    10-Jun-97       1997   240      8  ...          N   \n9612943001     811111     7-Oct-96       1997   120      1  ...          N   \n2185585006     722110    20-Dec-06       2007    12      1  ...          Y   \n\n               LowDoc  ChgOffDate  DisbursementDate  DisbursementGross  \\\nLoanNr_ChkDgt                                                            \n5893754007          N         NaN         31-Jan-03        $10,000.00    \n3842804010          N         NaN         30-Sep-00        $60,000.00    \n9096044001          N    3-Nov-08         30-Sep-05        $10,000.00    \n2982214007          Y         NaN         30-Sep-99        $26,000.00    \n2576085006          N   10-Jul-10         31-Aug-07       $100,000.00    \n...               ...         ...               ...                ...   \n3204824000          N         NaN         30-Apr-00       $500,000.00    \n1497205002          N   14-Aug-08         31-Mar-06        $45,450.00    \n1333844003          N         NaN         11-Mar-98       $291,000.00    \n9612943001          Y         NaN         31-Dec-96        $30,000.00    \n2185585006          N    9-Mar-08         31-Jan-07        $50,000.00    \n\n              BalanceGross MIS_Status ChgOffPrinGr        GrAppv      SBA_Appv  \nLoanNr_ChkDgt                                                                   \n5893754007          $0.00       P I F       $0.00    $10,000.00     $5,000.00   \n3842804010          $0.00       P I F       $0.00    $60,000.00    $45,000.00   \n9096044001          $0.00      CHGOFF   $7,422.00    $10,000.00     $5,000.00   \n2982214007          $0.00       P I F       $0.00    $26,000.00    $20,800.00   \n2576085006          $0.00      CHGOFF  $86,893.00   $100,000.00    $50,000.00   \n...                    ...        ...          ...           ...           ...  \n3204824000          $0.00       P I F       $0.00   $500,000.00   $375,000.00   \n1497205002          $0.00      CHGOFF  $44,450.00    $45,000.00    $22,500.00   \n1333844003          $0.00       P I F       $0.00   $291,000.00   $291,000.00   \n9612943001          $0.00       P I F       $0.00    $30,000.00    $24,000.00   \n2185585006          $0.00      CHGOFF  $50,000.00    $50,000.00    $25,000.00   \n\n[708966 rows x 25 columns]",
      "text/html": "<div>\n<style scoped>\n    .dataframe tbody tr th:only-of-type {\n        vertical-align: middle;\n    }\n\n    .dataframe tbody tr th {\n        vertical-align: top;\n    }\n\n    .dataframe thead th {\n        text-align: right;\n    }\n</style>\n<table border=\"1\" class=\"dataframe\">\n  <thead>\n    <tr style=\"text-align: right;\">\n      <th></th>\n      <th>name_end</th>\n      <th>State</th>\n      <th>Zip</th>\n      <th>Bank</th>\n      <th>BankState</th>\n      <th>NAICS</th>\n      <th>ApprovalDate</th>\n      <th>ApprovalFY</th>\n      <th>Term</th>\n      <th>NoEmp</th>\n      <th>...</th>\n      <th>RevLineCr</th>\n      <th>LowDoc</th>\n      <th>ChgOffDate</th>\n      <th>DisbursementDate</th>\n      <th>DisbursementGross</th>\n      <th>BalanceGross</th>\n      <th>MIS_Status</th>\n      <th>ChgOffPrinGr</th>\n      <th>GrAppv</th>\n      <th>SBA_Appv</th>\n    </tr>\n    <tr>\n      <th>LoanNr_ChkDgt</th>\n      <th></th>\n      <th></th>\n      <th></th>\n      <th></th>\n      <th></th>\n      <th></th>\n      <th></th>\n      <th></th>\n      <th></th>\n      <th></th>\n      <th></th>\n      <th></th>\n      <th></th>\n      <th></th>\n      <th></th>\n      <th></th>\n      <th></th>\n      <th></th>\n      <th></th>\n      <th></th>\n      <th></th>\n    </tr>\n  </thead>\n  <tbody>\n    <tr>\n      <th>5893754007</th>\n      <td>Other</td>\n      <td>FL</td>\n      <td>34597</td>\n      <td>BANK OF AMERICA NATL ASSOC</td>\n      <td>NC</td>\n      <td>561730</td>\n      <td>22-Nov-02</td>\n      <td>2003</td>\n      <td>84</td>\n      <td>1</td>\n      <td>...</td>\n      <td>Y</td>\n      <td>N</td>\n      <td>NaN</td>\n      <td>31-Jan-03</td>\n      <td>$10,000.00</td>\n      <td>$0.00</td>\n      <td>P I F</td>\n      <td>$0.00</td>\n      <td>$10,000.00</td>\n      <td>$5,000.00</td>\n    </tr>\n    <tr>\n      <th>3842804010</th>\n      <td>INC</td>\n      <td>NY</td>\n      <td>14748</td>\n      <td>ALTERNATIVES FCU</td>\n      <td>NY</td>\n      <td>312130</td>\n      <td>18-Jul-00</td>\n      <td>2000</td>\n      <td>12</td>\n      <td>9</td>\n      <td>...</td>\n      <td>N</td>\n      <td>N</td>\n      <td>NaN</td>\n      <td>30-Sep-00</td>\n      <td>$60,000.00</td>\n      <td>$0.00</td>\n      <td>P I F</td>\n      <td>$0.00</td>\n      <td>$60,000.00</td>\n      <td>$45,000.00</td>\n    </tr>\n    <tr>\n      <th>9096044001</th>\n      <td>Other</td>\n      <td>IA</td>\n      <td>52060</td>\n      <td>BBCN BANK</td>\n      <td>CA</td>\n      <td>453998</td>\n      <td>13-Sep-05</td>\n      <td>2005</td>\n      <td>48</td>\n      <td>1</td>\n      <td>...</td>\n      <td>0</td>\n      <td>N</td>\n      <td>3-Nov-08</td>\n      <td>30-Sep-05</td>\n      <td>$10,000.00</td>\n      <td>$0.00</td>\n      <td>CHGOFF</td>\n      <td>$7,422.00</td>\n      <td>$10,000.00</td>\n      <td>$5,000.00</td>\n    </tr>\n    <tr>\n      <th>2982214007</th>\n      <td>Other</td>\n      <td>SD</td>\n      <td>57548</td>\n      <td>WELLS FARGO BANK NATL ASSOC</td>\n      <td>SD</td>\n      <td>445110</td>\n      <td>2-Jun-99</td>\n      <td>1999</td>\n      <td>60</td>\n      <td>9</td>\n      <td>...</td>\n      <td>0</td>\n      <td>Y</td>\n      <td>NaN</td>\n      <td>30-Sep-99</td>\n      <td>$26,000.00</td>\n      <td>$0.00</td>\n      <td>P I F</td>\n      <td>$0.00</td>\n      <td>$26,000.00</td>\n      <td>$20,800.00</td>\n    </tr>\n    <tr>\n      <th>2576085006</th>\n      <td>Other</td>\n      <td>CA</td>\n      <td>94044</td>\n      <td>CAPITAL ONE NATL ASSOC</td>\n      <td>VA</td>\n      <td>452990</td>\n      <td>17-Jul-07</td>\n      <td>2007</td>\n      <td>66</td>\n      <td>3</td>\n      <td>...</td>\n      <td>N</td>\n      <td>N</td>\n      <td>10-Jul-10</td>\n      <td>31-Aug-07</td>\n      <td>$100,000.00</td>\n      <td>$0.00</td>\n      <td>CHGOFF</td>\n      <td>$86,893.00</td>\n      <td>$100,000.00</td>\n      <td>$50,000.00</td>\n    </tr>\n    <tr>\n      <th>...</th>\n      <td>...</td>\n      <td>...</td>\n      <td>...</td>\n      <td>...</td>\n      <td>...</td>\n      <td>...</td>\n      <td>...</td>\n      <td>...</td>\n      <td>...</td>\n      <td>...</td>\n      <td>...</td>\n      <td>...</td>\n      <td>...</td>\n      <td>...</td>\n      <td>...</td>\n      <td>...</td>\n      <td>...</td>\n      <td>...</td>\n      <td>...</td>\n      <td>...</td>\n      <td>...</td>\n    </tr>\n    <tr>\n      <th>3204824000</th>\n      <td>Other</td>\n      <td>NY</td>\n      <td>11733</td>\n      <td>UNITY BANK</td>\n      <td>NJ</td>\n      <td>541940</td>\n      <td>27-Sep-99</td>\n      <td>1999</td>\n      <td>228</td>\n      <td>2</td>\n      <td>...</td>\n      <td>0</td>\n      <td>N</td>\n      <td>NaN</td>\n      <td>30-Apr-00</td>\n      <td>$500,000.00</td>\n      <td>$0.00</td>\n      <td>P I F</td>\n      <td>$0.00</td>\n      <td>$500,000.00</td>\n      <td>$375,000.00</td>\n    </tr>\n    <tr>\n      <th>1497205002</th>\n      <td>Other</td>\n      <td>CA</td>\n      <td>91731</td>\n      <td>BANK OF AMERICA NATL ASSOC</td>\n      <td>NC</td>\n      <td>422320</td>\n      <td>13-Oct-05</td>\n      <td>2006</td>\n      <td>57</td>\n      <td>1</td>\n      <td>...</td>\n      <td>T</td>\n      <td>N</td>\n      <td>14-Aug-08</td>\n      <td>31-Mar-06</td>\n      <td>$45,450.00</td>\n      <td>$0.00</td>\n      <td>CHGOFF</td>\n      <td>$44,450.00</td>\n      <td>$45,000.00</td>\n      <td>$22,500.00</td>\n    </tr>\n    <tr>\n      <th>1333844003</th>\n      <td>INC.</td>\n      <td>NH</td>\n      <td>3848</td>\n      <td>GRANITE ST. ECONOMIC DEVEL COR</td>\n      <td>NH</td>\n      <td>0</td>\n      <td>10-Jun-97</td>\n      <td>1997</td>\n      <td>240</td>\n      <td>8</td>\n      <td>...</td>\n      <td>N</td>\n      <td>N</td>\n      <td>NaN</td>\n      <td>11-Mar-98</td>\n      <td>$291,000.00</td>\n      <td>$0.00</td>\n      <td>P I F</td>\n      <td>$0.00</td>\n      <td>$291,000.00</td>\n      <td>$291,000.00</td>\n    </tr>\n    <tr>\n      <th>9612943001</th>\n      <td>Other</td>\n      <td>ME</td>\n      <td>4270</td>\n      <td>NORTHEAST BANK</td>\n      <td>ME</td>\n      <td>811111</td>\n      <td>7-Oct-96</td>\n      <td>1997</td>\n      <td>120</td>\n      <td>1</td>\n      <td>...</td>\n      <td>N</td>\n      <td>Y</td>\n      <td>NaN</td>\n      <td>31-Dec-96</td>\n      <td>$30,000.00</td>\n      <td>$0.00</td>\n      <td>P I F</td>\n      <td>$0.00</td>\n      <td>$30,000.00</td>\n      <td>$24,000.00</td>\n    </tr>\n    <tr>\n      <th>2185585006</th>\n      <td>Other</td>\n      <td>VA</td>\n      <td>22003</td>\n      <td>PNC BANK, NATIONAL ASSOCIATION</td>\n      <td>DE</td>\n      <td>722110</td>\n      <td>20-Dec-06</td>\n      <td>2007</td>\n      <td>12</td>\n      <td>1</td>\n      <td>...</td>\n      <td>Y</td>\n      <td>N</td>\n      <td>9-Mar-08</td>\n      <td>31-Jan-07</td>\n      <td>$50,000.00</td>\n      <td>$0.00</td>\n      <td>CHGOFF</td>\n      <td>$50,000.00</td>\n      <td>$50,000.00</td>\n      <td>$25,000.00</td>\n    </tr>\n  </tbody>\n</table>\n<p>708966 rows × 25 columns</p>\n</div>"
     },
     "execution_count": 21,
     "metadata": {},
     "output_type": "execute_result"
    }
   ],
   "source": [
    "df"
   ],
   "metadata": {
    "collapsed": false,
    "pycharm": {
     "name": "#%%\n"
    }
   }
  },
  {
   "cell_type": "markdown",
   "source": [
    "## State"
   ],
   "metadata": {
    "collapsed": false,
    "pycharm": {
     "name": "#%% md\n"
    }
   }
  },
  {
   "cell_type": "code",
   "execution_count": 22,
   "outputs": [
    {
     "name": "stdout",
     "output_type": "stream",
     "text": [
      "Null values: 0\n",
      "Unique: 51\n",
      "Vals: \n",
      " CA    103482\n",
      "TX     55378\n",
      "NY     45599\n",
      "FL     32489\n",
      "PA     27557\n",
      "OH     25748\n",
      "IL     23318\n",
      "MA     19800\n",
      "MN     19346\n",
      "NJ     19072\n",
      "WA     18346\n",
      "GA     17555\n",
      "WI     16664\n",
      "MO     16293\n",
      "CO     16257\n",
      "MI     16231\n",
      "UT     14835\n",
      "AZ     13932\n",
      "NC     11174\n",
      "IN     11079\n",
      "MD     10474\n",
      "VA     10380\n",
      "CT      9538\n",
      "NH      9461\n",
      "IA      9455\n",
      "KS      9085\n",
      "OR      8801\n",
      "OK      7789\n",
      "LA      7546\n",
      "TN      7471\n",
      "ID      7413\n",
      "RI      7105\n",
      "MT      6864\n",
      "AL      6571\n",
      "NV      6328\n",
      "KY      6128\n",
      "MS      6040\n",
      "NE      5027\n",
      "AR      5026\n",
      "NM      4758\n",
      "ME      4734\n",
      "SC      4425\n",
      "VT      4279\n",
      "ND      4176\n",
      "SD      3451\n",
      "HI      2806\n",
      "WV      2569\n",
      "WY      2219\n",
      "AK      1891\n",
      "DE      1720\n",
      "DC      1281\n",
      "Name: State, dtype: int64\n",
      "Current category: CA\n",
      "P I F     0.814567\n",
      "CHGOFF    0.185433\n",
      "Name: MIS_Status, dtype: float64\n",
      "Current category: TX\n",
      "P I F     0.811297\n",
      "CHGOFF    0.188703\n",
      "Name: MIS_Status, dtype: float64\n",
      "Current category: NY\n",
      "P I F     0.798175\n",
      "CHGOFF    0.201825\n",
      "Name: MIS_Status, dtype: float64\n",
      "Current category: FL\n",
      "P I F     0.725815\n",
      "CHGOFF    0.274185\n",
      "Name: MIS_Status, dtype: float64\n",
      "Current category: PA\n",
      "P I F     0.852451\n",
      "CHGOFF    0.147549\n",
      "Name: MIS_Status, dtype: float64\n",
      "Current category: OH\n",
      "P I F     0.83591\n",
      "CHGOFF    0.16409\n",
      "Name: MIS_Status, dtype: float64\n",
      "Current category: IL\n",
      "P I F     0.773094\n",
      "CHGOFF    0.226906\n",
      "Name: MIS_Status, dtype: float64\n",
      "Current category: MA\n",
      "P I F     0.870404\n",
      "CHGOFF    0.129596\n",
      "Name: MIS_Status, dtype: float64\n",
      "Current category: MN\n",
      "P I F     0.882146\n",
      "CHGOFF    0.117854\n",
      "Name: MIS_Status, dtype: float64\n",
      "Current category: NJ\n",
      "P I F     0.799969\n",
      "CHGOFF    0.200031\n",
      "Name: MIS_Status, dtype: float64\n",
      "Current category: WA\n",
      "P I F     0.857244\n",
      "CHGOFF    0.142756\n",
      "Name: MIS_Status, dtype: float64\n",
      "Current category: GA\n",
      "P I F     0.760125\n",
      "CHGOFF    0.239875\n",
      "Name: MIS_Status, dtype: float64\n",
      "Current category: WI\n",
      "P I F     0.8777\n",
      "CHGOFF    0.1223\n",
      "Name: MIS_Status, dtype: float64\n",
      "Current category: MO\n",
      "P I F     0.846253\n",
      "CHGOFF    0.153747\n",
      "Name: MIS_Status, dtype: float64\n",
      "Current category: CO\n",
      "P I F     0.820324\n",
      "CHGOFF    0.179676\n",
      "Name: MIS_Status, dtype: float64\n",
      "Current category: MI\n",
      "P I F     0.775122\n",
      "CHGOFF    0.224878\n",
      "Name: MIS_Status, dtype: float64\n",
      "Current category: UT\n",
      "P I F     0.822649\n",
      "CHGOFF    0.177351\n",
      "Name: MIS_Status, dtype: float64\n",
      "Current category: AZ\n",
      "P I F     0.790841\n",
      "CHGOFF    0.209159\n",
      "Name: MIS_Status, dtype: float64\n",
      "Current category: NC\n",
      "P I F     0.809468\n",
      "CHGOFF    0.190532\n",
      "Name: MIS_Status, dtype: float64\n",
      "Current category: IN\n",
      "P I F     0.822728\n",
      "CHGOFF    0.177272\n",
      "Name: MIS_Status, dtype: float64\n",
      "Current category: MD\n",
      "P I F     0.803227\n",
      "CHGOFF    0.196773\n",
      "Name: MIS_Status, dtype: float64\n",
      "Current category: VA\n",
      "P I F     0.810501\n",
      "CHGOFF    0.189499\n",
      "Name: MIS_Status, dtype: float64\n",
      "Current category: CT\n",
      "P I F     0.857517\n",
      "CHGOFF    0.142483\n",
      "Name: MIS_Status, dtype: float64\n",
      "Current category: NH\n",
      "P I F     0.892189\n",
      "CHGOFF    0.107811\n",
      "Name: MIS_Status, dtype: float64\n",
      "Current category: IA\n",
      "P I F     0.885034\n",
      "CHGOFF    0.114966\n",
      "Name: MIS_Status, dtype: float64\n",
      "Current category: KS\n",
      "P I F     0.867694\n",
      "CHGOFF    0.132306\n",
      "Name: MIS_Status, dtype: float64\n",
      "Current category: OR\n",
      "P I F     0.847517\n",
      "CHGOFF    0.152483\n",
      "Name: MIS_Status, dtype: float64\n",
      "Current category: OK\n",
      "P I F     0.846579\n",
      "CHGOFF    0.153421\n",
      "Name: MIS_Status, dtype: float64\n",
      "Current category: LA\n",
      "P I F     0.816592\n",
      "CHGOFF    0.183408\n",
      "Name: MIS_Status, dtype: float64\n",
      "Current category: TN\n",
      "P I F     0.785972\n",
      "CHGOFF    0.214028\n",
      "Name: MIS_Status, dtype: float64\n",
      "Current category: ID\n",
      "P I F     0.859166\n",
      "CHGOFF    0.140834\n",
      "Name: MIS_Status, dtype: float64\n",
      "Current category: RI\n",
      "P I F     0.884448\n",
      "CHGOFF    0.115552\n",
      "Name: MIS_Status, dtype: float64\n",
      "Current category: MT\n",
      "P I F     0.933712\n",
      "CHGOFF    0.066288\n",
      "Name: MIS_Status, dtype: float64\n",
      "Current category: AL\n",
      "P I F     0.834424\n",
      "CHGOFF    0.165576\n",
      "Name: MIS_Status, dtype: float64\n",
      "Current category: NV\n",
      "P I F     0.770386\n",
      "CHGOFF    0.229614\n",
      "Name: MIS_Status, dtype: float64\n",
      "Current category: KY\n",
      "P I F     0.806789\n",
      "CHGOFF    0.193211\n",
      "Name: MIS_Status, dtype: float64\n",
      "Current category: MS\n",
      "P I F     0.841391\n",
      "CHGOFF    0.158609\n",
      "Name: MIS_Status, dtype: float64\n",
      "Current category: NE\n",
      "P I F     0.889596\n",
      "CHGOFF    0.110404\n",
      "Name: MIS_Status, dtype: float64\n",
      "Current category: AR\n",
      "P I F     0.831277\n",
      "CHGOFF    0.168723\n",
      "Name: MIS_Status, dtype: float64\n",
      "Current category: NM\n",
      "P I F     0.894704\n",
      "CHGOFF    0.105296\n",
      "Name: MIS_Status, dtype: float64\n",
      "Current category: ME\n",
      "P I F     0.902408\n",
      "CHGOFF    0.097592\n",
      "Name: MIS_Status, dtype: float64\n",
      "Current category: SC\n",
      "P I F     0.797288\n",
      "CHGOFF    0.202712\n",
      "Name: MIS_Status, dtype: float64\n",
      "Current category: VT\n",
      "P I F     0.925917\n",
      "CHGOFF    0.074083\n",
      "Name: MIS_Status, dtype: float64\n",
      "Current category: ND\n",
      "P I F     0.922414\n",
      "CHGOFF    0.077586\n",
      "Name: MIS_Status, dtype: float64\n",
      "Current category: SD\n",
      "P I F     0.922921\n",
      "CHGOFF    0.077079\n",
      "Name: MIS_Status, dtype: float64\n",
      "Current category: HI\n",
      "P I F     0.84355\n",
      "CHGOFF    0.15645\n",
      "Name: MIS_Status, dtype: float64\n",
      "Current category: WV\n",
      "P I F     0.838848\n",
      "CHGOFF    0.161152\n",
      "Name: MIS_Status, dtype: float64\n",
      "Current category: WY\n",
      "P I F     0.92429\n",
      "CHGOFF    0.07571\n",
      "Name: MIS_Status, dtype: float64\n",
      "Current category: AK\n",
      "P I F     0.879429\n",
      "CHGOFF    0.120571\n",
      "Name: MIS_Status, dtype: float64\n",
      "Current category: DE\n",
      "P I F     0.82093\n",
      "CHGOFF    0.17907\n",
      "Name: MIS_Status, dtype: float64\n",
      "Current category: DC\n",
      "P I F     0.754879\n",
      "CHGOFF    0.245121\n",
      "Name: MIS_Status, dtype: float64\n"
     ]
    }
   ],
   "source": [
    "basic_cat_col_data(df, 'State', label, show_vals=51)"
   ],
   "metadata": {
    "collapsed": false,
    "pycharm": {
     "name": "#%%\n"
    }
   }
  },
  {
   "cell_type": "code",
   "execution_count": 23,
   "outputs": [],
   "source": [
    "# df = states_to_rate_categories(df, label)\n"
   ],
   "metadata": {
    "collapsed": false,
    "pycharm": {
     "name": "#%%\n"
    }
   }
  },
  {
   "cell_type": "code",
   "execution_count": 24,
   "outputs": [
    {
     "data": {
      "text/plain": "Series([], Name: MIS_Status, dtype: float64)"
     },
     "execution_count": 24,
     "metadata": {},
     "output_type": "execute_result"
    }
   ],
   "source": [
    "df[df['State'] == 'u_11'][label].value_counts(normalize=True)"
   ],
   "metadata": {
    "collapsed": false,
    "pycharm": {
     "name": "#%%\n"
    }
   }
  },
  {
   "cell_type": "code",
   "execution_count": 25,
   "outputs": [
    {
     "data": {
      "text/plain": "CA    103482\nTX     55378\nNY     45599\nFL     32489\nPA     27557\nOH     25748\nIL     23318\nMA     19800\nMN     19346\nNJ     19072\nWA     18346\nGA     17555\nWI     16664\nMO     16293\nCO     16257\nMI     16231\nUT     14835\nAZ     13932\nNC     11174\nIN     11079\nMD     10474\nVA     10380\nCT      9538\nNH      9461\nIA      9455\nKS      9085\nOR      8801\nOK      7789\nLA      7546\nTN      7471\nID      7413\nRI      7105\nMT      6864\nAL      6571\nNV      6328\nKY      6128\nMS      6040\nNE      5027\nAR      5026\nNM      4758\nME      4734\nSC      4425\nVT      4279\nND      4176\nSD      3451\nHI      2806\nWV      2569\nWY      2219\nAK      1891\nDE      1720\nDC      1281\nName: State, dtype: int64"
     },
     "execution_count": 25,
     "metadata": {},
     "output_type": "execute_result"
    }
   ],
   "source": [
    "val_counts = df['State'].value_counts()\n",
    "val_counts"
   ],
   "metadata": {
    "collapsed": false,
    "pycharm": {
     "name": "#%%\n"
    }
   }
  },
  {
   "cell_type": "markdown",
   "source": [
    "## Zip"
   ],
   "metadata": {
    "collapsed": false,
    "pycharm": {
     "name": "#%% md\n",
     "is_executing": true
    }
   }
  },
  {
   "cell_type": "code",
   "execution_count": 26,
   "outputs": [
    {
     "name": "stdout",
     "output_type": "stream",
     "text": [
      "Null values: 0\n",
      "Unique: 31654\n",
      "Vals: \n",
      " 10001    749\n",
      "90015    732\n",
      "93401    611\n",
      "90010    583\n",
      "33166    525\n",
      "Name: Zip, dtype: int64\n",
      "Current category: 10001\n",
      "P I F     0.738318\n",
      "CHGOFF    0.261682\n",
      "Name: MIS_Status, dtype: float64\n",
      "Current category: 90015\n",
      "P I F     0.692623\n",
      "CHGOFF    0.307377\n",
      "Name: MIS_Status, dtype: float64\n",
      "Current category: 93401\n",
      "P I F     0.903437\n",
      "CHGOFF    0.096563\n",
      "Name: MIS_Status, dtype: float64\n",
      "Current category: 90010\n",
      "CHGOFF    0.540309\n",
      "P I F     0.459691\n",
      "Name: MIS_Status, dtype: float64\n",
      "Current category: 33166\n",
      "P I F     0.695238\n",
      "CHGOFF    0.304762\n",
      "Name: MIS_Status, dtype: float64\n"
     ]
    }
   ],
   "source": [
    "basic_cat_col_data(df, 'Zip', label, 5)"
   ],
   "metadata": {
    "collapsed": false,
    "pycharm": {
     "name": "#%%\n"
    }
   }
  },
  {
   "cell_type": "code",
   "execution_count": 27,
   "outputs": [],
   "source": [
    "df = drop_col(df, 'Zip')"
   ],
   "metadata": {
    "collapsed": false,
    "pycharm": {
     "name": "#%%\n"
    }
   }
  },
  {
   "cell_type": "code",
   "execution_count": 28,
   "outputs": [
    {
     "data": {
      "text/plain": "              name_end State                            Bank BankState  \\\nLoanNr_ChkDgt                                                            \n5893754007       Other    FL      BANK OF AMERICA NATL ASSOC        NC   \n3842804010         INC    NY                ALTERNATIVES FCU        NY   \n9096044001       Other    IA                       BBCN BANK        CA   \n2982214007       Other    SD     WELLS FARGO BANK NATL ASSOC        SD   \n2576085006       Other    CA          CAPITAL ONE NATL ASSOC        VA   \n...                ...   ...                             ...       ...   \n3204824000       Other    NY                      UNITY BANK        NJ   \n1497205002       Other    CA      BANK OF AMERICA NATL ASSOC        NC   \n1333844003        INC.    NH  GRANITE ST. ECONOMIC DEVEL COR        NH   \n9612943001       Other    ME                  NORTHEAST BANK        ME   \n2185585006       Other    VA  PNC BANK, NATIONAL ASSOCIATION        DE   \n\n                NAICS ApprovalDate ApprovalFY  Term  NoEmp  NewExist  ...  \\\nLoanNr_ChkDgt                                                         ...   \n5893754007     561730    22-Nov-02       2003    84      1       1.0  ...   \n3842804010     312130    18-Jul-00       2000    12      9       1.0  ...   \n9096044001     453998    13-Sep-05       2005    48      1       1.0  ...   \n2982214007     445110     2-Jun-99       1999    60      9       1.0  ...   \n2576085006     452990    17-Jul-07       2007    66      3       1.0  ...   \n...               ...          ...        ...   ...    ...       ...  ...   \n3204824000     541940    27-Sep-99       1999   228      2       2.0  ...   \n1497205002     422320    13-Oct-05       2006    57      1       2.0  ...   \n1333844003          0    10-Jun-97       1997   240      8       2.0  ...   \n9612943001     811111     7-Oct-96       1997   120      1       1.0  ...   \n2185585006     722110    20-Dec-06       2007    12      1       1.0  ...   \n\n               RevLineCr  LowDoc  ChgOffDate  DisbursementDate  \\\nLoanNr_ChkDgt                                                    \n5893754007             Y       N         NaN         31-Jan-03   \n3842804010             N       N         NaN         30-Sep-00   \n9096044001             0       N    3-Nov-08         30-Sep-05   \n2982214007             0       Y         NaN         30-Sep-99   \n2576085006             N       N   10-Jul-10         31-Aug-07   \n...                  ...     ...         ...               ...   \n3204824000             0       N         NaN         30-Apr-00   \n1497205002             T       N   14-Aug-08         31-Mar-06   \n1333844003             N       N         NaN         11-Mar-98   \n9612943001             N       Y         NaN         31-Dec-96   \n2185585006             Y       N    9-Mar-08         31-Jan-07   \n\n              DisbursementGross BalanceGross MIS_Status ChgOffPrinGr  \\\nLoanNr_ChkDgt                                                          \n5893754007          $10,000.00        $0.00       P I F       $0.00    \n3842804010          $60,000.00        $0.00       P I F       $0.00    \n9096044001          $10,000.00        $0.00      CHGOFF   $7,422.00    \n2982214007          $26,000.00        $0.00       P I F       $0.00    \n2576085006         $100,000.00        $0.00      CHGOFF  $86,893.00    \n...                         ...          ...        ...          ...   \n3204824000         $500,000.00        $0.00       P I F       $0.00    \n1497205002          $45,450.00        $0.00      CHGOFF  $44,450.00    \n1333844003         $291,000.00        $0.00       P I F       $0.00    \n9612943001          $30,000.00        $0.00       P I F       $0.00    \n2185585006          $50,000.00        $0.00      CHGOFF  $50,000.00    \n\n                     GrAppv      SBA_Appv  \nLoanNr_ChkDgt                              \n5893754007      $10,000.00     $5,000.00   \n3842804010      $60,000.00    $45,000.00   \n9096044001      $10,000.00     $5,000.00   \n2982214007      $26,000.00    $20,800.00   \n2576085006     $100,000.00    $50,000.00   \n...                     ...           ...  \n3204824000     $500,000.00   $375,000.00   \n1497205002      $45,000.00    $22,500.00   \n1333844003     $291,000.00   $291,000.00   \n9612943001      $30,000.00    $24,000.00   \n2185585006      $50,000.00    $25,000.00   \n\n[708966 rows x 24 columns]",
      "text/html": "<div>\n<style scoped>\n    .dataframe tbody tr th:only-of-type {\n        vertical-align: middle;\n    }\n\n    .dataframe tbody tr th {\n        vertical-align: top;\n    }\n\n    .dataframe thead th {\n        text-align: right;\n    }\n</style>\n<table border=\"1\" class=\"dataframe\">\n  <thead>\n    <tr style=\"text-align: right;\">\n      <th></th>\n      <th>name_end</th>\n      <th>State</th>\n      <th>Bank</th>\n      <th>BankState</th>\n      <th>NAICS</th>\n      <th>ApprovalDate</th>\n      <th>ApprovalFY</th>\n      <th>Term</th>\n      <th>NoEmp</th>\n      <th>NewExist</th>\n      <th>...</th>\n      <th>RevLineCr</th>\n      <th>LowDoc</th>\n      <th>ChgOffDate</th>\n      <th>DisbursementDate</th>\n      <th>DisbursementGross</th>\n      <th>BalanceGross</th>\n      <th>MIS_Status</th>\n      <th>ChgOffPrinGr</th>\n      <th>GrAppv</th>\n      <th>SBA_Appv</th>\n    </tr>\n    <tr>\n      <th>LoanNr_ChkDgt</th>\n      <th></th>\n      <th></th>\n      <th></th>\n      <th></th>\n      <th></th>\n      <th></th>\n      <th></th>\n      <th></th>\n      <th></th>\n      <th></th>\n      <th></th>\n      <th></th>\n      <th></th>\n      <th></th>\n      <th></th>\n      <th></th>\n      <th></th>\n      <th></th>\n      <th></th>\n      <th></th>\n      <th></th>\n    </tr>\n  </thead>\n  <tbody>\n    <tr>\n      <th>5893754007</th>\n      <td>Other</td>\n      <td>FL</td>\n      <td>BANK OF AMERICA NATL ASSOC</td>\n      <td>NC</td>\n      <td>561730</td>\n      <td>22-Nov-02</td>\n      <td>2003</td>\n      <td>84</td>\n      <td>1</td>\n      <td>1.0</td>\n      <td>...</td>\n      <td>Y</td>\n      <td>N</td>\n      <td>NaN</td>\n      <td>31-Jan-03</td>\n      <td>$10,000.00</td>\n      <td>$0.00</td>\n      <td>P I F</td>\n      <td>$0.00</td>\n      <td>$10,000.00</td>\n      <td>$5,000.00</td>\n    </tr>\n    <tr>\n      <th>3842804010</th>\n      <td>INC</td>\n      <td>NY</td>\n      <td>ALTERNATIVES FCU</td>\n      <td>NY</td>\n      <td>312130</td>\n      <td>18-Jul-00</td>\n      <td>2000</td>\n      <td>12</td>\n      <td>9</td>\n      <td>1.0</td>\n      <td>...</td>\n      <td>N</td>\n      <td>N</td>\n      <td>NaN</td>\n      <td>30-Sep-00</td>\n      <td>$60,000.00</td>\n      <td>$0.00</td>\n      <td>P I F</td>\n      <td>$0.00</td>\n      <td>$60,000.00</td>\n      <td>$45,000.00</td>\n    </tr>\n    <tr>\n      <th>9096044001</th>\n      <td>Other</td>\n      <td>IA</td>\n      <td>BBCN BANK</td>\n      <td>CA</td>\n      <td>453998</td>\n      <td>13-Sep-05</td>\n      <td>2005</td>\n      <td>48</td>\n      <td>1</td>\n      <td>1.0</td>\n      <td>...</td>\n      <td>0</td>\n      <td>N</td>\n      <td>3-Nov-08</td>\n      <td>30-Sep-05</td>\n      <td>$10,000.00</td>\n      <td>$0.00</td>\n      <td>CHGOFF</td>\n      <td>$7,422.00</td>\n      <td>$10,000.00</td>\n      <td>$5,000.00</td>\n    </tr>\n    <tr>\n      <th>2982214007</th>\n      <td>Other</td>\n      <td>SD</td>\n      <td>WELLS FARGO BANK NATL ASSOC</td>\n      <td>SD</td>\n      <td>445110</td>\n      <td>2-Jun-99</td>\n      <td>1999</td>\n      <td>60</td>\n      <td>9</td>\n      <td>1.0</td>\n      <td>...</td>\n      <td>0</td>\n      <td>Y</td>\n      <td>NaN</td>\n      <td>30-Sep-99</td>\n      <td>$26,000.00</td>\n      <td>$0.00</td>\n      <td>P I F</td>\n      <td>$0.00</td>\n      <td>$26,000.00</td>\n      <td>$20,800.00</td>\n    </tr>\n    <tr>\n      <th>2576085006</th>\n      <td>Other</td>\n      <td>CA</td>\n      <td>CAPITAL ONE NATL ASSOC</td>\n      <td>VA</td>\n      <td>452990</td>\n      <td>17-Jul-07</td>\n      <td>2007</td>\n      <td>66</td>\n      <td>3</td>\n      <td>1.0</td>\n      <td>...</td>\n      <td>N</td>\n      <td>N</td>\n      <td>10-Jul-10</td>\n      <td>31-Aug-07</td>\n      <td>$100,000.00</td>\n      <td>$0.00</td>\n      <td>CHGOFF</td>\n      <td>$86,893.00</td>\n      <td>$100,000.00</td>\n      <td>$50,000.00</td>\n    </tr>\n    <tr>\n      <th>...</th>\n      <td>...</td>\n      <td>...</td>\n      <td>...</td>\n      <td>...</td>\n      <td>...</td>\n      <td>...</td>\n      <td>...</td>\n      <td>...</td>\n      <td>...</td>\n      <td>...</td>\n      <td>...</td>\n      <td>...</td>\n      <td>...</td>\n      <td>...</td>\n      <td>...</td>\n      <td>...</td>\n      <td>...</td>\n      <td>...</td>\n      <td>...</td>\n      <td>...</td>\n      <td>...</td>\n    </tr>\n    <tr>\n      <th>3204824000</th>\n      <td>Other</td>\n      <td>NY</td>\n      <td>UNITY BANK</td>\n      <td>NJ</td>\n      <td>541940</td>\n      <td>27-Sep-99</td>\n      <td>1999</td>\n      <td>228</td>\n      <td>2</td>\n      <td>2.0</td>\n      <td>...</td>\n      <td>0</td>\n      <td>N</td>\n      <td>NaN</td>\n      <td>30-Apr-00</td>\n      <td>$500,000.00</td>\n      <td>$0.00</td>\n      <td>P I F</td>\n      <td>$0.00</td>\n      <td>$500,000.00</td>\n      <td>$375,000.00</td>\n    </tr>\n    <tr>\n      <th>1497205002</th>\n      <td>Other</td>\n      <td>CA</td>\n      <td>BANK OF AMERICA NATL ASSOC</td>\n      <td>NC</td>\n      <td>422320</td>\n      <td>13-Oct-05</td>\n      <td>2006</td>\n      <td>57</td>\n      <td>1</td>\n      <td>2.0</td>\n      <td>...</td>\n      <td>T</td>\n      <td>N</td>\n      <td>14-Aug-08</td>\n      <td>31-Mar-06</td>\n      <td>$45,450.00</td>\n      <td>$0.00</td>\n      <td>CHGOFF</td>\n      <td>$44,450.00</td>\n      <td>$45,000.00</td>\n      <td>$22,500.00</td>\n    </tr>\n    <tr>\n      <th>1333844003</th>\n      <td>INC.</td>\n      <td>NH</td>\n      <td>GRANITE ST. ECONOMIC DEVEL COR</td>\n      <td>NH</td>\n      <td>0</td>\n      <td>10-Jun-97</td>\n      <td>1997</td>\n      <td>240</td>\n      <td>8</td>\n      <td>2.0</td>\n      <td>...</td>\n      <td>N</td>\n      <td>N</td>\n      <td>NaN</td>\n      <td>11-Mar-98</td>\n      <td>$291,000.00</td>\n      <td>$0.00</td>\n      <td>P I F</td>\n      <td>$0.00</td>\n      <td>$291,000.00</td>\n      <td>$291,000.00</td>\n    </tr>\n    <tr>\n      <th>9612943001</th>\n      <td>Other</td>\n      <td>ME</td>\n      <td>NORTHEAST BANK</td>\n      <td>ME</td>\n      <td>811111</td>\n      <td>7-Oct-96</td>\n      <td>1997</td>\n      <td>120</td>\n      <td>1</td>\n      <td>1.0</td>\n      <td>...</td>\n      <td>N</td>\n      <td>Y</td>\n      <td>NaN</td>\n      <td>31-Dec-96</td>\n      <td>$30,000.00</td>\n      <td>$0.00</td>\n      <td>P I F</td>\n      <td>$0.00</td>\n      <td>$30,000.00</td>\n      <td>$24,000.00</td>\n    </tr>\n    <tr>\n      <th>2185585006</th>\n      <td>Other</td>\n      <td>VA</td>\n      <td>PNC BANK, NATIONAL ASSOCIATION</td>\n      <td>DE</td>\n      <td>722110</td>\n      <td>20-Dec-06</td>\n      <td>2007</td>\n      <td>12</td>\n      <td>1</td>\n      <td>1.0</td>\n      <td>...</td>\n      <td>Y</td>\n      <td>N</td>\n      <td>9-Mar-08</td>\n      <td>31-Jan-07</td>\n      <td>$50,000.00</td>\n      <td>$0.00</td>\n      <td>CHGOFF</td>\n      <td>$50,000.00</td>\n      <td>$50,000.00</td>\n      <td>$25,000.00</td>\n    </tr>\n  </tbody>\n</table>\n<p>708966 rows × 24 columns</p>\n</div>"
     },
     "execution_count": 28,
     "metadata": {},
     "output_type": "execute_result"
    }
   ],
   "source": [
    "df"
   ],
   "metadata": {
    "collapsed": false,
    "pycharm": {
     "name": "#%%\n"
    }
   }
  },
  {
   "cell_type": "markdown",
   "source": [
    "## Bank"
   ],
   "metadata": {
    "collapsed": false,
    "pycharm": {
     "name": "#%% md\n",
     "is_executing": true
    }
   }
  },
  {
   "cell_type": "code",
   "execution_count": 29,
   "outputs": [
    {
     "name": "stdout",
     "output_type": "stream",
     "text": [
      "Null values: 0\n",
      "Unique: 5579\n",
      "Vals: \n",
      " BANK OF AMERICA NATL ASSOC        69043\n",
      "WELLS FARGO BANK NATL ASSOC       50210\n",
      "JPMORGAN CHASE BANK NATL ASSOC    37954\n",
      "U.S. BANK NATIONAL ASSOCIATION    27853\n",
      "CITIZENS BANK NATL ASSOC          26727\n",
      "PNC BANK, NATIONAL ASSOCIATION    21774\n",
      "BBCN BANK                         18238\n",
      "CAPITAL ONE NATL ASSOC            17766\n",
      "MANUFACTURERS & TRADERS TR CO      8912\n",
      "READYCAP LENDING, LLC              8459\n",
      "Name: Bank, dtype: int64\n",
      "Current category: BANK OF AMERICA NATL ASSOC\n",
      "P I F     0.723245\n",
      "CHGOFF    0.276755\n",
      "Name: MIS_Status, dtype: float64\n",
      "Current category: WELLS FARGO BANK NATL ASSOC\n",
      "P I F     0.858096\n",
      "CHGOFF    0.141904\n",
      "Name: MIS_Status, dtype: float64\n",
      "Current category: JPMORGAN CHASE BANK NATL ASSOC\n",
      "P I F     0.721242\n",
      "CHGOFF    0.278758\n",
      "Name: MIS_Status, dtype: float64\n",
      "Current category: U.S. BANK NATIONAL ASSOCIATION\n",
      "P I F     0.826949\n",
      "CHGOFF    0.173051\n",
      "Name: MIS_Status, dtype: float64\n",
      "Current category: CITIZENS BANK NATL ASSOC\n",
      "P I F     0.773749\n",
      "CHGOFF    0.226251\n",
      "Name: MIS_Status, dtype: float64\n",
      "Current category: PNC BANK, NATIONAL ASSOCIATION\n",
      "P I F     0.804859\n",
      "CHGOFF    0.195141\n",
      "Name: MIS_Status, dtype: float64\n",
      "Current category: BBCN BANK\n",
      "CHGOFF    0.547757\n",
      "P I F     0.452243\n",
      "Name: MIS_Status, dtype: float64\n",
      "Current category: CAPITAL ONE NATL ASSOC\n",
      "P I F     0.589215\n",
      "CHGOFF    0.410785\n",
      "Name: MIS_Status, dtype: float64\n",
      "Current category: MANUFACTURERS & TRADERS TR CO\n",
      "P I F     0.86838\n",
      "CHGOFF    0.13162\n",
      "Name: MIS_Status, dtype: float64\n",
      "Current category: READYCAP LENDING, LLC\n",
      "P I F     0.735193\n",
      "CHGOFF    0.264807\n",
      "Name: MIS_Status, dtype: float64\n"
     ]
    }
   ],
   "source": [
    "basic_cat_col_data(df, 'Bank', label, 10)\n"
   ],
   "metadata": {
    "collapsed": false,
    "pycharm": {
     "name": "#%%\n"
    }
   }
  },
  {
   "cell_type": "code",
   "execution_count": 30,
   "outputs": [
    {
     "data": {
      "text/plain": "286936"
     },
     "execution_count": 30,
     "metadata": {},
     "output_type": "execute_result"
    }
   ],
   "source": [
    "df['Bank'].value_counts()[:10].sum()"
   ],
   "metadata": {
    "collapsed": false,
    "pycharm": {
     "name": "#%%\n"
    }
   }
  },
  {
   "cell_type": "code",
   "execution_count": 31,
   "outputs": [],
   "source": [
    "df = drop_col(df, 'Bank')"
   ],
   "metadata": {
    "collapsed": false,
    "pycharm": {
     "name": "#%%\n"
    }
   }
  },
  {
   "cell_type": "markdown",
   "source": [
    "## BankState\n"
   ],
   "metadata": {
    "collapsed": false,
    "pycharm": {
     "name": "#%% md\n",
     "is_executing": true
    }
   }
  },
  {
   "cell_type": "code",
   "execution_count": 32,
   "outputs": [
    {
     "name": "stdout",
     "output_type": "stream",
     "text": [
      "Null values: 0\n",
      "Unique: 56\n",
      "Vals: \n",
      " CA    93247\n",
      "NC    63161\n",
      "IL    51949\n",
      "OH    46278\n",
      "SD    40366\n",
      "TX    37761\n",
      "RI    35066\n",
      "NY    31405\n",
      "VA    23041\n",
      "DE    19555\n",
      "MN    15883\n",
      "UT    14992\n",
      "PA    13525\n",
      "WI    12257\n",
      "MO    11730\n",
      "GA    10918\n",
      "FL    10884\n",
      "MA    10883\n",
      "AL     9620\n",
      "OR     8941\n",
      "WA     8431\n",
      "CO     8364\n",
      "CT     7817\n",
      "IA     7811\n",
      "NJ     7525\n",
      "KS     7010\n",
      "MT     6173\n",
      "IN     6024\n",
      "SC     5927\n",
      "MI     5821\n",
      "OK     5732\n",
      "MD     5550\n",
      "NH     5339\n",
      "AR     4990\n",
      "MS     4675\n",
      "TN     4451\n",
      "NE     4201\n",
      "ND     4055\n",
      "LA     3985\n",
      "VT     3753\n",
      "NM     3460\n",
      "NV     3447\n",
      "KY     3443\n",
      "ID     3426\n",
      "DC     3149\n",
      "AZ     3141\n",
      "ME     2928\n",
      "HI     2320\n",
      "WY     1709\n",
      "WV     1577\n",
      "AK     1133\n",
      "PR      129\n",
      "GU        5\n",
      "EN        1\n",
      "AN        1\n",
      "VI        1\n",
      "Name: BankState, dtype: int64\n",
      "Current category: CA\n",
      "P I F     0.781687\n",
      "CHGOFF    0.218313\n",
      "Name: MIS_Status, dtype: float64\n",
      "Current category: NC\n",
      "P I F     0.705229\n",
      "CHGOFF    0.294771\n",
      "Name: MIS_Status, dtype: float64\n",
      "Current category: IL\n",
      "P I F     0.774702\n",
      "CHGOFF    0.225298\n",
      "Name: MIS_Status, dtype: float64\n",
      "Current category: OH\n",
      "P I F     0.841501\n",
      "CHGOFF    0.158499\n",
      "Name: MIS_Status, dtype: float64\n",
      "Current category: SD\n",
      "P I F     0.819477\n",
      "CHGOFF    0.180523\n",
      "Name: MIS_Status, dtype: float64\n",
      "Current category: TX\n",
      "P I F     0.862053\n",
      "CHGOFF    0.137947\n",
      "Name: MIS_Status, dtype: float64\n",
      "Current category: RI\n",
      "P I F     0.794359\n",
      "CHGOFF    0.205641\n",
      "Name: MIS_Status, dtype: float64\n",
      "Current category: NY\n",
      "P I F     0.830919\n",
      "CHGOFF    0.169081\n",
      "Name: MIS_Status, dtype: float64\n",
      "Current category: VA\n",
      "P I F     0.616857\n",
      "CHGOFF    0.383143\n",
      "Name: MIS_Status, dtype: float64\n",
      "Current category: DE\n",
      "P I F     0.746152\n",
      "CHGOFF    0.253848\n",
      "Name: MIS_Status, dtype: float64\n",
      "Current category: MN\n",
      "P I F     0.921929\n",
      "CHGOFF    0.078071\n",
      "Name: MIS_Status, dtype: float64\n",
      "Current category: UT\n",
      "P I F     0.832577\n",
      "CHGOFF    0.167423\n",
      "Name: MIS_Status, dtype: float64\n",
      "Current category: PA\n",
      "P I F     0.92281\n",
      "CHGOFF    0.07719\n",
      "Name: MIS_Status, dtype: float64\n",
      "Current category: WI\n",
      "P I F     0.880966\n",
      "CHGOFF    0.119034\n",
      "Name: MIS_Status, dtype: float64\n",
      "Current category: MO\n",
      "P I F     0.872549\n",
      "CHGOFF    0.127451\n",
      "Name: MIS_Status, dtype: float64\n",
      "Current category: GA\n",
      "P I F     0.903279\n",
      "CHGOFF    0.096721\n",
      "Name: MIS_Status, dtype: float64\n",
      "Current category: FL\n",
      "P I F     0.840408\n",
      "CHGOFF    0.159592\n",
      "Name: MIS_Status, dtype: float64\n",
      "Current category: MA\n",
      "P I F     0.933566\n",
      "CHGOFF    0.066434\n",
      "Name: MIS_Status, dtype: float64\n",
      "Current category: AL\n",
      "P I F     0.866008\n",
      "CHGOFF    0.133992\n",
      "Name: MIS_Status, dtype: float64\n",
      "Current category: OR\n",
      "P I F     0.824181\n",
      "CHGOFF    0.175819\n",
      "Name: MIS_Status, dtype: float64\n",
      "Current category: WA\n",
      "P I F     0.92148\n",
      "CHGOFF    0.07852\n",
      "Name: MIS_Status, dtype: float64\n",
      "Current category: CO\n",
      "P I F     0.934242\n",
      "CHGOFF    0.065758\n",
      "Name: MIS_Status, dtype: float64\n",
      "Current category: CT\n",
      "P I F     0.861584\n",
      "CHGOFF    0.138416\n",
      "Name: MIS_Status, dtype: float64\n",
      "Current category: IA\n",
      "P I F     0.895148\n",
      "CHGOFF    0.104852\n",
      "Name: MIS_Status, dtype: float64\n",
      "Current category: NJ\n",
      "P I F     0.907774\n",
      "CHGOFF    0.092226\n",
      "Name: MIS_Status, dtype: float64\n",
      "Current category: KS\n",
      "P I F     0.901427\n",
      "CHGOFF    0.098573\n",
      "Name: MIS_Status, dtype: float64\n",
      "Current category: MT\n",
      "P I F     0.945731\n",
      "CHGOFF    0.054269\n",
      "Name: MIS_Status, dtype: float64\n",
      "Current category: IN\n",
      "P I F     0.90488\n",
      "CHGOFF    0.09512\n",
      "Name: MIS_Status, dtype: float64\n",
      "Current category: SC\n",
      "P I F     0.84714\n",
      "CHGOFF    0.15286\n",
      "Name: MIS_Status, dtype: float64\n",
      "Current category: MI\n",
      "P I F     0.914619\n",
      "CHGOFF    0.085381\n",
      "Name: MIS_Status, dtype: float64\n",
      "Current category: OK\n",
      "P I F     0.888521\n",
      "CHGOFF    0.111479\n",
      "Name: MIS_Status, dtype: float64\n",
      "Current category: MD\n",
      "P I F     0.920901\n",
      "CHGOFF    0.079099\n",
      "Name: MIS_Status, dtype: float64\n",
      "Current category: NH\n",
      "P I F     0.946994\n",
      "CHGOFF    0.053006\n",
      "Name: MIS_Status, dtype: float64\n",
      "Current category: AR\n",
      "P I F     0.870341\n",
      "CHGOFF    0.129659\n",
      "Name: MIS_Status, dtype: float64\n",
      "Current category: MS\n",
      "P I F     0.896684\n",
      "CHGOFF    0.103316\n",
      "Name: MIS_Status, dtype: float64\n",
      "Current category: TN\n",
      "P I F     0.895304\n",
      "CHGOFF    0.104696\n",
      "Name: MIS_Status, dtype: float64\n",
      "Current category: NE\n",
      "P I F     0.901928\n",
      "CHGOFF    0.098072\n",
      "Name: MIS_Status, dtype: float64\n",
      "Current category: ND\n",
      "P I F     0.924538\n",
      "CHGOFF    0.075462\n",
      "Name: MIS_Status, dtype: float64\n",
      "Current category: LA\n",
      "P I F     0.890841\n",
      "CHGOFF    0.109159\n",
      "Name: MIS_Status, dtype: float64\n",
      "Current category: VT\n",
      "P I F     0.945111\n",
      "CHGOFF    0.054889\n",
      "Name: MIS_Status, dtype: float64\n",
      "Current category: NM\n",
      "P I F     0.918497\n",
      "CHGOFF    0.081503\n",
      "Name: MIS_Status, dtype: float64\n",
      "Current category: NV\n",
      "P I F     0.910647\n",
      "CHGOFF    0.089353\n",
      "Name: MIS_Status, dtype: float64\n",
      "Current category: KY\n",
      "P I F     0.857392\n",
      "CHGOFF    0.142608\n",
      "Name: MIS_Status, dtype: float64\n",
      "Current category: ID\n",
      "P I F     0.905429\n",
      "CHGOFF    0.094571\n",
      "Name: MIS_Status, dtype: float64\n",
      "Current category: DC\n",
      "P I F     0.918387\n",
      "CHGOFF    0.081613\n",
      "Name: MIS_Status, dtype: float64\n",
      "Current category: AZ\n",
      "P I F     0.930277\n",
      "CHGOFF    0.069723\n",
      "Name: MIS_Status, dtype: float64\n",
      "Current category: ME\n",
      "P I F     0.928962\n",
      "CHGOFF    0.071038\n",
      "Name: MIS_Status, dtype: float64\n",
      "Current category: HI\n",
      "P I F     0.897845\n",
      "CHGOFF    0.102155\n",
      "Name: MIS_Status, dtype: float64\n",
      "Current category: WY\n",
      "P I F     0.946752\n",
      "CHGOFF    0.053248\n",
      "Name: MIS_Status, dtype: float64\n",
      "Current category: WV\n",
      "P I F     0.862397\n",
      "CHGOFF    0.137603\n",
      "Name: MIS_Status, dtype: float64\n",
      "Current category: AK\n",
      "P I F     0.913504\n",
      "CHGOFF    0.086496\n",
      "Name: MIS_Status, dtype: float64\n",
      "Current category: PR\n",
      "P I F     0.767442\n",
      "CHGOFF    0.232558\n",
      "Name: MIS_Status, dtype: float64\n",
      "Current category: GU\n",
      "P I F    1.0\n",
      "Name: MIS_Status, dtype: float64\n",
      "Current category: EN\n",
      "P I F    1.0\n",
      "Name: MIS_Status, dtype: float64\n",
      "Current category: AN\n",
      "P I F    1.0\n",
      "Name: MIS_Status, dtype: float64\n",
      "Current category: VI\n",
      "P I F    1.0\n",
      "Name: MIS_Status, dtype: float64\n"
     ]
    }
   ],
   "source": [
    "basic_cat_col_data(df, 'BankState', label, 56)"
   ],
   "metadata": {
    "collapsed": false,
    "pycharm": {
     "name": "#%%\n"
    }
   }
  },
  {
   "cell_type": "code",
   "execution_count": 33,
   "outputs": [],
   "source": [
    "# df = replace_small_states(df)\n",
    "#\n",
    "# basic_cat_col_data(df, 'BankState', label, 56)"
   ],
   "metadata": {
    "collapsed": false,
    "pycharm": {
     "name": "#%%\n"
    }
   }
  },
  {
   "cell_type": "code",
   "execution_count": 34,
   "outputs": [
    {
     "data": {
      "text/plain": "P I F     0.894745\nCHGOFF    0.105255\nName: MIS_Status, dtype: float64"
     },
     "execution_count": 34,
     "metadata": {},
     "output_type": "execute_result"
    }
   ],
   "source": [
    "df[df['State'] == df['BankState']][label].value_counts(normalize=True)"
   ],
   "metadata": {
    "collapsed": false,
    "pycharm": {
     "name": "#%%\n"
    }
   }
  },
  {
   "cell_type": "code",
   "execution_count": 35,
   "outputs": [
    {
     "data": {
      "text/plain": "P I F     0.744667\nCHGOFF    0.255333\nName: MIS_Status, dtype: float64"
     },
     "execution_count": 35,
     "metadata": {},
     "output_type": "execute_result"
    }
   ],
   "source": [
    "df[df['State'] != df['BankState']][label].value_counts(normalize=True)\n"
   ],
   "metadata": {
    "collapsed": false,
    "pycharm": {
     "name": "#%%\n"
    }
   }
  },
  {
   "cell_type": "code",
   "execution_count": 36,
   "outputs": [],
   "source": [
    "df = tranform_bank_state(df)"
   ],
   "metadata": {
    "collapsed": false,
    "pycharm": {
     "name": "#%%\n"
    }
   }
  },
  {
   "cell_type": "code",
   "execution_count": 37,
   "outputs": [
    {
     "data": {
      "text/plain": "              name_end State  same_state   NAICS ApprovalDate ApprovalFY  \\\nLoanNr_ChkDgt                                                              \n5893754007       Other    FL       False  561730    22-Nov-02       2003   \n3842804010         INC    NY        True  312130    18-Jul-00       2000   \n9096044001       Other    IA       False  453998    13-Sep-05       2005   \n2982214007       Other    SD        True  445110     2-Jun-99       1999   \n2576085006       Other    CA       False  452990    17-Jul-07       2007   \n...                ...   ...         ...     ...          ...        ...   \n3204824000       Other    NY       False  541940    27-Sep-99       1999   \n1497205002       Other    CA       False  422320    13-Oct-05       2006   \n1333844003        INC.    NH        True       0    10-Jun-97       1997   \n9612943001       Other    ME        True  811111     7-Oct-96       1997   \n2185585006       Other    VA       False  722110    20-Dec-06       2007   \n\n               Term  NoEmp  NewExist  CreateJob  ...  RevLineCr  LowDoc  \\\nLoanNr_ChkDgt                                    ...                      \n5893754007       84      1       1.0          0  ...          Y       N   \n3842804010       12      9       1.0          0  ...          N       N   \n9096044001       48      1       1.0          0  ...          0       N   \n2982214007       60      9       1.0          0  ...          0       Y   \n2576085006       66      3       1.0          1  ...          N       N   \n...             ...    ...       ...        ...  ...        ...     ...   \n3204824000      228      2       2.0          4  ...          0       N   \n1497205002       57      1       2.0          0  ...          T       N   \n1333844003      240      8       2.0          8  ...          N       N   \n9612943001      120      1       1.0          0  ...          N       Y   \n2185585006       12      1       1.0          3  ...          Y       N   \n\n               ChgOffDate DisbursementDate DisbursementGross BalanceGross  \\\nLoanNr_ChkDgt                                                               \n5893754007            NaN        31-Jan-03       $10,000.00        $0.00    \n3842804010            NaN        30-Sep-00       $60,000.00        $0.00    \n9096044001       3-Nov-08        30-Sep-05       $10,000.00        $0.00    \n2982214007            NaN        30-Sep-99       $26,000.00        $0.00    \n2576085006      10-Jul-10        31-Aug-07      $100,000.00        $0.00    \n...                   ...              ...               ...          ...   \n3204824000            NaN        30-Apr-00      $500,000.00        $0.00    \n1497205002      14-Aug-08        31-Mar-06       $45,450.00        $0.00    \n1333844003            NaN        11-Mar-98      $291,000.00        $0.00    \n9612943001            NaN        31-Dec-96       $30,000.00        $0.00    \n2185585006       9-Mar-08        31-Jan-07       $50,000.00        $0.00    \n\n              MIS_Status ChgOffPrinGr        GrAppv      SBA_Appv  \nLoanNr_ChkDgt                                                      \n5893754007         P I F       $0.00    $10,000.00     $5,000.00   \n3842804010         P I F       $0.00    $60,000.00    $45,000.00   \n9096044001        CHGOFF   $7,422.00    $10,000.00     $5,000.00   \n2982214007         P I F       $0.00    $26,000.00    $20,800.00   \n2576085006        CHGOFF  $86,893.00   $100,000.00    $50,000.00   \n...                  ...          ...           ...           ...  \n3204824000         P I F       $0.00   $500,000.00   $375,000.00   \n1497205002        CHGOFF  $44,450.00    $45,000.00    $22,500.00   \n1333844003         P I F       $0.00   $291,000.00   $291,000.00   \n9612943001         P I F       $0.00    $30,000.00    $24,000.00   \n2185585006        CHGOFF  $50,000.00    $50,000.00    $25,000.00   \n\n[708966 rows x 23 columns]",
      "text/html": "<div>\n<style scoped>\n    .dataframe tbody tr th:only-of-type {\n        vertical-align: middle;\n    }\n\n    .dataframe tbody tr th {\n        vertical-align: top;\n    }\n\n    .dataframe thead th {\n        text-align: right;\n    }\n</style>\n<table border=\"1\" class=\"dataframe\">\n  <thead>\n    <tr style=\"text-align: right;\">\n      <th></th>\n      <th>name_end</th>\n      <th>State</th>\n      <th>same_state</th>\n      <th>NAICS</th>\n      <th>ApprovalDate</th>\n      <th>ApprovalFY</th>\n      <th>Term</th>\n      <th>NoEmp</th>\n      <th>NewExist</th>\n      <th>CreateJob</th>\n      <th>...</th>\n      <th>RevLineCr</th>\n      <th>LowDoc</th>\n      <th>ChgOffDate</th>\n      <th>DisbursementDate</th>\n      <th>DisbursementGross</th>\n      <th>BalanceGross</th>\n      <th>MIS_Status</th>\n      <th>ChgOffPrinGr</th>\n      <th>GrAppv</th>\n      <th>SBA_Appv</th>\n    </tr>\n    <tr>\n      <th>LoanNr_ChkDgt</th>\n      <th></th>\n      <th></th>\n      <th></th>\n      <th></th>\n      <th></th>\n      <th></th>\n      <th></th>\n      <th></th>\n      <th></th>\n      <th></th>\n      <th></th>\n      <th></th>\n      <th></th>\n      <th></th>\n      <th></th>\n      <th></th>\n      <th></th>\n      <th></th>\n      <th></th>\n      <th></th>\n      <th></th>\n    </tr>\n  </thead>\n  <tbody>\n    <tr>\n      <th>5893754007</th>\n      <td>Other</td>\n      <td>FL</td>\n      <td>False</td>\n      <td>561730</td>\n      <td>22-Nov-02</td>\n      <td>2003</td>\n      <td>84</td>\n      <td>1</td>\n      <td>1.0</td>\n      <td>0</td>\n      <td>...</td>\n      <td>Y</td>\n      <td>N</td>\n      <td>NaN</td>\n      <td>31-Jan-03</td>\n      <td>$10,000.00</td>\n      <td>$0.00</td>\n      <td>P I F</td>\n      <td>$0.00</td>\n      <td>$10,000.00</td>\n      <td>$5,000.00</td>\n    </tr>\n    <tr>\n      <th>3842804010</th>\n      <td>INC</td>\n      <td>NY</td>\n      <td>True</td>\n      <td>312130</td>\n      <td>18-Jul-00</td>\n      <td>2000</td>\n      <td>12</td>\n      <td>9</td>\n      <td>1.0</td>\n      <td>0</td>\n      <td>...</td>\n      <td>N</td>\n      <td>N</td>\n      <td>NaN</td>\n      <td>30-Sep-00</td>\n      <td>$60,000.00</td>\n      <td>$0.00</td>\n      <td>P I F</td>\n      <td>$0.00</td>\n      <td>$60,000.00</td>\n      <td>$45,000.00</td>\n    </tr>\n    <tr>\n      <th>9096044001</th>\n      <td>Other</td>\n      <td>IA</td>\n      <td>False</td>\n      <td>453998</td>\n      <td>13-Sep-05</td>\n      <td>2005</td>\n      <td>48</td>\n      <td>1</td>\n      <td>1.0</td>\n      <td>0</td>\n      <td>...</td>\n      <td>0</td>\n      <td>N</td>\n      <td>3-Nov-08</td>\n      <td>30-Sep-05</td>\n      <td>$10,000.00</td>\n      <td>$0.00</td>\n      <td>CHGOFF</td>\n      <td>$7,422.00</td>\n      <td>$10,000.00</td>\n      <td>$5,000.00</td>\n    </tr>\n    <tr>\n      <th>2982214007</th>\n      <td>Other</td>\n      <td>SD</td>\n      <td>True</td>\n      <td>445110</td>\n      <td>2-Jun-99</td>\n      <td>1999</td>\n      <td>60</td>\n      <td>9</td>\n      <td>1.0</td>\n      <td>0</td>\n      <td>...</td>\n      <td>0</td>\n      <td>Y</td>\n      <td>NaN</td>\n      <td>30-Sep-99</td>\n      <td>$26,000.00</td>\n      <td>$0.00</td>\n      <td>P I F</td>\n      <td>$0.00</td>\n      <td>$26,000.00</td>\n      <td>$20,800.00</td>\n    </tr>\n    <tr>\n      <th>2576085006</th>\n      <td>Other</td>\n      <td>CA</td>\n      <td>False</td>\n      <td>452990</td>\n      <td>17-Jul-07</td>\n      <td>2007</td>\n      <td>66</td>\n      <td>3</td>\n      <td>1.0</td>\n      <td>1</td>\n      <td>...</td>\n      <td>N</td>\n      <td>N</td>\n      <td>10-Jul-10</td>\n      <td>31-Aug-07</td>\n      <td>$100,000.00</td>\n      <td>$0.00</td>\n      <td>CHGOFF</td>\n      <td>$86,893.00</td>\n      <td>$100,000.00</td>\n      <td>$50,000.00</td>\n    </tr>\n    <tr>\n      <th>...</th>\n      <td>...</td>\n      <td>...</td>\n      <td>...</td>\n      <td>...</td>\n      <td>...</td>\n      <td>...</td>\n      <td>...</td>\n      <td>...</td>\n      <td>...</td>\n      <td>...</td>\n      <td>...</td>\n      <td>...</td>\n      <td>...</td>\n      <td>...</td>\n      <td>...</td>\n      <td>...</td>\n      <td>...</td>\n      <td>...</td>\n      <td>...</td>\n      <td>...</td>\n      <td>...</td>\n    </tr>\n    <tr>\n      <th>3204824000</th>\n      <td>Other</td>\n      <td>NY</td>\n      <td>False</td>\n      <td>541940</td>\n      <td>27-Sep-99</td>\n      <td>1999</td>\n      <td>228</td>\n      <td>2</td>\n      <td>2.0</td>\n      <td>4</td>\n      <td>...</td>\n      <td>0</td>\n      <td>N</td>\n      <td>NaN</td>\n      <td>30-Apr-00</td>\n      <td>$500,000.00</td>\n      <td>$0.00</td>\n      <td>P I F</td>\n      <td>$0.00</td>\n      <td>$500,000.00</td>\n      <td>$375,000.00</td>\n    </tr>\n    <tr>\n      <th>1497205002</th>\n      <td>Other</td>\n      <td>CA</td>\n      <td>False</td>\n      <td>422320</td>\n      <td>13-Oct-05</td>\n      <td>2006</td>\n      <td>57</td>\n      <td>1</td>\n      <td>2.0</td>\n      <td>0</td>\n      <td>...</td>\n      <td>T</td>\n      <td>N</td>\n      <td>14-Aug-08</td>\n      <td>31-Mar-06</td>\n      <td>$45,450.00</td>\n      <td>$0.00</td>\n      <td>CHGOFF</td>\n      <td>$44,450.00</td>\n      <td>$45,000.00</td>\n      <td>$22,500.00</td>\n    </tr>\n    <tr>\n      <th>1333844003</th>\n      <td>INC.</td>\n      <td>NH</td>\n      <td>True</td>\n      <td>0</td>\n      <td>10-Jun-97</td>\n      <td>1997</td>\n      <td>240</td>\n      <td>8</td>\n      <td>2.0</td>\n      <td>8</td>\n      <td>...</td>\n      <td>N</td>\n      <td>N</td>\n      <td>NaN</td>\n      <td>11-Mar-98</td>\n      <td>$291,000.00</td>\n      <td>$0.00</td>\n      <td>P I F</td>\n      <td>$0.00</td>\n      <td>$291,000.00</td>\n      <td>$291,000.00</td>\n    </tr>\n    <tr>\n      <th>9612943001</th>\n      <td>Other</td>\n      <td>ME</td>\n      <td>True</td>\n      <td>811111</td>\n      <td>7-Oct-96</td>\n      <td>1997</td>\n      <td>120</td>\n      <td>1</td>\n      <td>1.0</td>\n      <td>0</td>\n      <td>...</td>\n      <td>N</td>\n      <td>Y</td>\n      <td>NaN</td>\n      <td>31-Dec-96</td>\n      <td>$30,000.00</td>\n      <td>$0.00</td>\n      <td>P I F</td>\n      <td>$0.00</td>\n      <td>$30,000.00</td>\n      <td>$24,000.00</td>\n    </tr>\n    <tr>\n      <th>2185585006</th>\n      <td>Other</td>\n      <td>VA</td>\n      <td>False</td>\n      <td>722110</td>\n      <td>20-Dec-06</td>\n      <td>2007</td>\n      <td>12</td>\n      <td>1</td>\n      <td>1.0</td>\n      <td>3</td>\n      <td>...</td>\n      <td>Y</td>\n      <td>N</td>\n      <td>9-Mar-08</td>\n      <td>31-Jan-07</td>\n      <td>$50,000.00</td>\n      <td>$0.00</td>\n      <td>CHGOFF</td>\n      <td>$50,000.00</td>\n      <td>$50,000.00</td>\n      <td>$25,000.00</td>\n    </tr>\n  </tbody>\n</table>\n<p>708966 rows × 23 columns</p>\n</div>"
     },
     "execution_count": 37,
     "metadata": {},
     "output_type": "execute_result"
    }
   ],
   "source": [
    "df"
   ],
   "metadata": {
    "collapsed": false,
    "pycharm": {
     "name": "#%%\n"
    }
   }
  },
  {
   "cell_type": "markdown",
   "source": [
    "## NAICS"
   ],
   "metadata": {
    "collapsed": false,
    "pycharm": {
     "name": "#%% md\n"
    }
   }
  },
  {
   "cell_type": "code",
   "execution_count": 38,
   "outputs": [
    {
     "name": "stdout",
     "output_type": "stream",
     "text": [
      "Null values: 0\n",
      "Unique: 1304\n",
      "Vals: \n",
      " 0         158409\n",
      "722110     22232\n",
      "722211     15454\n",
      "811111     11554\n",
      "621210     11189\n",
      "624410      8048\n",
      "812112      7223\n",
      "561730      7032\n",
      "621310      6926\n",
      "812320      6273\n",
      "Name: NAICS, dtype: int64\n",
      "Current category: 0\n",
      "P I F     0.916886\n",
      "CHGOFF    0.083114\n",
      "Name: MIS_Status, dtype: float64\n",
      "Current category: 722110\n",
      "P I F     0.761965\n",
      "CHGOFF    0.238035\n",
      "Name: MIS_Status, dtype: float64\n",
      "Current category: 722211\n",
      "P I F     0.747509\n",
      "CHGOFF    0.252491\n",
      "Name: MIS_Status, dtype: float64\n",
      "Current category: 811111\n",
      "P I F     0.843864\n",
      "CHGOFF    0.156136\n",
      "Name: MIS_Status, dtype: float64\n",
      "Current category: 621210\n",
      "P I F     0.96005\n",
      "CHGOFF    0.03995\n",
      "Name: MIS_Status, dtype: float64\n",
      "Current category: 624410\n",
      "P I F     0.877982\n",
      "CHGOFF    0.122018\n",
      "Name: MIS_Status, dtype: float64\n",
      "Current category: 812112\n",
      "P I F     0.742351\n",
      "CHGOFF    0.257649\n",
      "Name: MIS_Status, dtype: float64\n",
      "Current category: 561730\n",
      "P I F     0.807594\n",
      "CHGOFF    0.192406\n",
      "Name: MIS_Status, dtype: float64\n",
      "Current category: 621310\n",
      "P I F     0.860959\n",
      "CHGOFF    0.139041\n",
      "Name: MIS_Status, dtype: float64\n",
      "Current category: 812320\n",
      "P I F     0.809501\n",
      "CHGOFF    0.190499\n",
      "Name: MIS_Status, dtype: float64\n"
     ]
    }
   ],
   "source": [
    "basic_cat_col_data(df, 'NAICS', label, 10)"
   ],
   "metadata": {
    "collapsed": false,
    "pycharm": {
     "name": "#%%\n"
    }
   }
  },
  {
   "cell_type": "code",
   "execution_count": 39,
   "outputs": [],
   "source": [
    "df = transform_naics_col(df)"
   ],
   "metadata": {
    "collapsed": false,
    "pycharm": {
     "name": "#%%\n"
    }
   }
  },
  {
   "cell_type": "code",
   "execution_count": 40,
   "outputs": [
    {
     "name": "stdout",
     "output_type": "stream",
     "text": [
      "Null values: 0\n",
      "Unique: 20\n",
      "Vals: \n",
      " 0        158409\n",
      "44        67047\n",
      "81        57331\n",
      "54        53725\n",
      "72        53635\n",
      "23        52507\n",
      "62        43783\n",
      "42        38462\n",
      "45        33607\n",
      "33        30233\n",
      "56        25763\n",
      "48        16053\n",
      "32        14041\n",
      "71        11575\n",
      "53        10812\n",
      "31         9285\n",
      "Other      9206\n",
      "51         8977\n",
      "52         7474\n",
      "11         7041\n",
      "Name: NAICS, dtype: int64\n",
      "Current category: 0\n",
      "P I F     0.916886\n",
      "CHGOFF    0.083114\n",
      "Name: MIS_Status, dtype: float64\n",
      "Current category: 44\n",
      "P I F     0.775426\n",
      "CHGOFF    0.224574\n",
      "Name: MIS_Status, dtype: float64\n",
      "Current category: 81\n",
      "P I F     0.802271\n",
      "CHGOFF    0.197729\n",
      "Name: MIS_Status, dtype: float64\n",
      "Current category: 54\n",
      "P I F     0.81033\n",
      "CHGOFF    0.18967\n",
      "Name: MIS_Status, dtype: float64\n",
      "Current category: 72\n",
      "P I F     0.779211\n",
      "CHGOFF    0.220789\n",
      "Name: MIS_Status, dtype: float64\n",
      "Current category: 23\n",
      "P I F     0.765307\n",
      "CHGOFF    0.234693\n",
      "Name: MIS_Status, dtype: float64\n",
      "Current category: 62\n",
      "P I F     0.89754\n",
      "CHGOFF    0.10246\n",
      "Name: MIS_Status, dtype: float64\n",
      "Current category: 42\n",
      "P I F     0.80482\n",
      "CHGOFF    0.19518\n",
      "Name: MIS_Status, dtype: float64\n",
      "Current category: 45\n",
      "P I F     0.764186\n",
      "CHGOFF    0.235814\n",
      "Name: MIS_Status, dtype: float64\n",
      "Current category: 33\n",
      "P I F     0.864254\n",
      "CHGOFF    0.135746\n",
      "Name: MIS_Status, dtype: float64\n",
      "Current category: 56\n",
      "P I F     0.764779\n",
      "CHGOFF    0.235221\n",
      "Name: MIS_Status, dtype: float64\n",
      "Current category: 48\n",
      "P I F     0.730455\n",
      "CHGOFF    0.269545\n",
      "Name: MIS_Status, dtype: float64\n",
      "Current category: 32\n",
      "P I F     0.834983\n",
      "CHGOFF    0.165017\n",
      "Name: MIS_Status, dtype: float64\n",
      "Current category: 71\n",
      "P I F     0.794816\n",
      "CHGOFF    0.205184\n",
      "Name: MIS_Status, dtype: float64\n",
      "Current category: 53\n",
      "P I F     0.709767\n",
      "CHGOFF    0.290233\n",
      "Name: MIS_Status, dtype: float64\n",
      "Current category: 31\n",
      "P I F     0.806462\n",
      "CHGOFF    0.193538\n",
      "Name: MIS_Status, dtype: float64\n",
      "Current category: Other\n",
      "P I F     0.791875\n",
      "CHGOFF    0.208125\n",
      "Name: MIS_Status, dtype: float64\n",
      "Current category: 51\n",
      "P I F     0.752813\n",
      "CHGOFF    0.247187\n",
      "Name: MIS_Status, dtype: float64\n",
      "Current category: 52\n",
      "P I F     0.718625\n",
      "CHGOFF    0.281375\n",
      "Name: MIS_Status, dtype: float64\n",
      "Current category: 11\n",
      "P I F     0.90811\n",
      "CHGOFF    0.09189\n",
      "Name: MIS_Status, dtype: float64\n"
     ]
    }
   ],
   "source": [
    "basic_cat_col_data(df, 'NAICS', label, 25)"
   ],
   "metadata": {
    "collapsed": false,
    "pycharm": {
     "name": "#%%\n"
    }
   }
  },
  {
   "cell_type": "markdown",
   "source": [
    "## ApprovalDate"
   ],
   "metadata": {
    "collapsed": false,
    "pycharm": {
     "name": "#%% md\n"
    }
   }
  },
  {
   "cell_type": "code",
   "execution_count": 41,
   "outputs": [
    {
     "name": "stdout",
     "output_type": "stream",
     "text": [
      "Null values: 0\n",
      "Unique: 9543\n",
      "Vals: \n",
      " 7-Jul-93     910\n",
      "30-Jan-04    831\n",
      "8-Jul-93     623\n",
      "4-Oct-04     511\n",
      "30-Sep-03    501\n",
      "30-Jun-05    431\n",
      "6-Jul-93     427\n",
      "18-Apr-05    419\n",
      "21-Jan-05    385\n",
      "19-Dec-03    384\n",
      "Name: ApprovalDate, dtype: int64\n",
      "Current category: 7-Jul-93\n",
      "P I F     0.976923\n",
      "CHGOFF    0.023077\n",
      "Name: MIS_Status, dtype: float64\n",
      "Current category: 30-Jan-04\n",
      "P I F     0.807461\n",
      "CHGOFF    0.192539\n",
      "Name: MIS_Status, dtype: float64\n",
      "Current category: 8-Jul-93\n",
      "P I F     0.990369\n",
      "CHGOFF    0.009631\n",
      "Name: MIS_Status, dtype: float64\n",
      "Current category: 4-Oct-04\n",
      "P I F     0.798434\n",
      "CHGOFF    0.201566\n",
      "Name: MIS_Status, dtype: float64\n",
      "Current category: 30-Sep-03\n",
      "P I F     0.846307\n",
      "CHGOFF    0.153693\n",
      "Name: MIS_Status, dtype: float64\n",
      "Current category: 30-Jun-05\n",
      "P I F     0.698376\n",
      "CHGOFF    0.301624\n",
      "Name: MIS_Status, dtype: float64\n",
      "Current category: 6-Jul-93\n",
      "P I F     0.985948\n",
      "CHGOFF    0.014052\n",
      "Name: MIS_Status, dtype: float64\n",
      "Current category: 18-Apr-05\n",
      "P I F     0.701671\n",
      "CHGOFF    0.298329\n",
      "Name: MIS_Status, dtype: float64\n",
      "Current category: 21-Jan-05\n",
      "P I F     0.714286\n",
      "CHGOFF    0.285714\n",
      "Name: MIS_Status, dtype: float64\n",
      "Current category: 19-Dec-03\n",
      "P I F     0.828125\n",
      "CHGOFF    0.171875\n",
      "Name: MIS_Status, dtype: float64\n"
     ]
    }
   ],
   "source": [
    "basic_cat_col_data(df, 'ApprovalDate', label, 10)\n"
   ],
   "metadata": {
    "collapsed": false,
    "pycharm": {
     "name": "#%%\n"
    }
   }
  },
  {
   "cell_type": "code",
   "execution_count": 42,
   "outputs": [],
   "source": [
    "df = approval_date_to_datetime(df)"
   ],
   "metadata": {
    "collapsed": false,
    "pycharm": {
     "name": "#%%\n"
    }
   }
  },
  {
   "cell_type": "code",
   "execution_count": 43,
   "outputs": [
    {
     "data": {
      "text/plain": "LoanNr_ChkDgt\n5008795002   2011-12-21\n5612875009   2012-12-05\n4941095007   2011-11-03\n4530705006   2011-02-02\n5936685007   2013-02-21\n                ...    \n4955775000   2011-11-15\n5270665004   2012-06-18\n4461495010   2010-12-21\n4141855001   2010-06-24\n3978415006   2010-03-19\nName: ApprovalDate, Length: 25078, dtype: datetime64[ns]"
     },
     "execution_count": 43,
     "metadata": {},
     "output_type": "execute_result"
    }
   ],
   "source": [
    "df[df['ApprovalDate'] > '2010']['ApprovalDate']"
   ],
   "metadata": {
    "collapsed": false,
    "pycharm": {
     "name": "#%%\n"
    }
   }
  },
  {
   "cell_type": "markdown",
   "source": [
    "## ApprovalFY"
   ],
   "metadata": {
    "collapsed": false
   }
  },
  {
   "cell_type": "code",
   "execution_count": 44,
   "outputs": [
    {
     "name": "stdout",
     "output_type": "stream",
     "text": [
      "Null values: 0\n",
      "Unique: 94\n",
      "Vals: \n",
      " 2005    33856\n",
      "2006    32956\n",
      "2007    31165\n",
      "2004    29847\n",
      "2005    27608\n",
      "2006    27492\n",
      "2007    26033\n",
      "2003    25289\n",
      "2004    24634\n",
      "2003    20937\n",
      "Name: ApprovalFY, dtype: int64\n",
      "Current category: 2005\n",
      "P I F     0.746603\n",
      "CHGOFF    0.253397\n",
      "Name: MIS_Status, dtype: float64\n",
      "Current category: 2006\n",
      "P I F     0.647925\n",
      "CHGOFF    0.352075\n",
      "Name: MIS_Status, dtype: float64\n",
      "Current category: 2007\n",
      "P I F     0.5691\n",
      "CHGOFF    0.4309\n",
      "Name: MIS_Status, dtype: float64\n",
      "Current category: 2004\n",
      "P I F     0.819111\n",
      "CHGOFF    0.180889\n",
      "Name: MIS_Status, dtype: float64\n",
      "Current category: 2005\n",
      "P I F     0.749602\n",
      "CHGOFF    0.250398\n",
      "Name: MIS_Status, dtype: float64\n",
      "Current category: 2006\n",
      "P I F     0.649534\n",
      "CHGOFF    0.350466\n",
      "Name: MIS_Status, dtype: float64\n",
      "Current category: 2007\n",
      "P I F     0.57308\n",
      "CHGOFF    0.42692\n",
      "Name: MIS_Status, dtype: float64\n",
      "Current category: 2003\n",
      "P I F     0.851161\n",
      "CHGOFF    0.148839\n",
      "Name: MIS_Status, dtype: float64\n",
      "Current category: 2004\n",
      "P I F     0.820533\n",
      "CHGOFF    0.179467\n",
      "Name: MIS_Status, dtype: float64\n",
      "Current category: 2003\n",
      "P I F     0.855949\n",
      "CHGOFF    0.144051\n",
      "Name: MIS_Status, dtype: float64\n"
     ]
    }
   ],
   "source": [
    "basic_cat_col_data(df, 'ApprovalFY', label, 10)\n",
    "\n"
   ],
   "metadata": {
    "collapsed": false,
    "pycharm": {
     "name": "#%%\n"
    }
   }
  },
  {
   "cell_type": "code",
   "execution_count": 45,
   "outputs": [
    {
     "data": {
      "text/plain": "Index([   2005,    2006,    2007,    2004,  '2005',  '2006',  '2007',    2003,\n        '2004',  '2003',    2002,    1995,    1996,    2008,    1999,    1997,\n          2001,    2000,  '2002',    1998,  '1995',  '1996',  '2008',    1994,\n        '1997',  '2000',  '1999',  '2001',  '1998',  '1994',    1993,    1992,\n        '1993',    2009,  '1992',    2010,    1991,  '2009',    1990,  '2010',\n          1989,  '1991',  '1990',    2011,  '1989',  '2011',    2012,  '2012',\n          2013,    1987,    1986,  '2013',    1984,    1985,    1988,  '1987',\n        '1986',  '1984',  '1988',    1983,  '1985',  '1983',    1982,    1981,\n        '1982',  '1981',    1980,  '1980',    1979,  '1979',    2014,  '2014',\n          1978,  '1978',    1977,  '1977',  '1976',    1976,    1974,    1973,\n        '1973',    1975,    1972,  '1974', '1976A',  '1971',  '1975',  '1972',\n        '1970',    1971,  '1969',    1970,  '1968',    1969],\n      dtype='object')"
     },
     "execution_count": 45,
     "metadata": {},
     "output_type": "execute_result"
    }
   ],
   "source": [
    "df['ApprovalFY'].value_counts().index"
   ],
   "metadata": {
    "collapsed": false,
    "pycharm": {
     "name": "#%%\n"
    }
   }
  },
  {
   "cell_type": "code",
   "execution_count": 46,
   "outputs": [],
   "source": [
    "df = clean_approval_fy_col(df)"
   ],
   "metadata": {
    "collapsed": false,
    "pycharm": {
     "name": "#%%\n"
    }
   }
  },
  {
   "cell_type": "code",
   "execution_count": 47,
   "outputs": [
    {
     "name": "stdout",
     "output_type": "stream",
     "text": [
      "Null values: 0\n",
      "Unique: 47\n",
      "Vals: \n",
      " 2005    61464\n",
      "2006    60448\n",
      "2007    57198\n",
      "2004    54481\n",
      "2003    46226\n",
      "2002    35360\n",
      "1995    33409\n",
      "1996    31989\n",
      "2008    30834\n",
      "1997    30056\n",
      "Name: ApprovalFY, dtype: int64\n",
      "Current category: 2005\n",
      "P I F     0.74795\n",
      "CHGOFF    0.25205\n",
      "Name: MIS_Status, dtype: float64\n",
      "Current category: 2006\n",
      "P I F     0.648657\n",
      "CHGOFF    0.351343\n",
      "Name: MIS_Status, dtype: float64\n",
      "Current category: 2007\n",
      "P I F     0.570912\n",
      "CHGOFF    0.429088\n",
      "Name: MIS_Status, dtype: float64\n",
      "Current category: 2004\n",
      "P I F     0.819754\n",
      "CHGOFF    0.180246\n",
      "Name: MIS_Status, dtype: float64\n",
      "Current category: 2003\n",
      "P I F     0.853329\n",
      "CHGOFF    0.146671\n",
      "Name: MIS_Status, dtype: float64\n",
      "Current category: 2002\n",
      "P I F     0.881787\n",
      "CHGOFF    0.118213\n",
      "Name: MIS_Status, dtype: float64\n",
      "Current category: 1995\n",
      "P I F     0.971774\n",
      "CHGOFF    0.028226\n",
      "Name: MIS_Status, dtype: float64\n",
      "Current category: 1996\n",
      "P I F     0.958861\n",
      "CHGOFF    0.041139\n",
      "Name: MIS_Status, dtype: float64\n",
      "Current category: 2008\n",
      "P I F     0.59136\n",
      "CHGOFF    0.40864\n",
      "Name: MIS_Status, dtype: float64\n",
      "Current category: 1997\n",
      "P I F     0.940311\n",
      "CHGOFF    0.059689\n",
      "Name: MIS_Status, dtype: float64\n"
     ]
    }
   ],
   "source": [
    "basic_cat_col_data(df, 'ApprovalFY', label, 10)\n"
   ],
   "metadata": {
    "collapsed": false,
    "pycharm": {
     "name": "#%%\n"
    }
   }
  },
  {
   "cell_type": "code",
   "execution_count": 48,
   "outputs": [
    {
     "data": {
      "text/plain": "2005    61464\n2006    60448\n2007    57198\n2004    54481\n2003    46226\n2002    35360\n1995    33409\n1996    31989\n2008    30834\n1997    30056\n1999    29917\n2000    29764\n2001    29673\n1998    28649\n1994    25089\n1993    18522\n1992    16579\n2009    14671\n2010    12832\n1991    12394\n1990    11689\n1989    10385\n2011     9371\n2012     4498\n2013     1877\n1987     1768\n1986     1657\n1984     1562\n1985     1517\n1988     1488\n1983     1291\n1982      550\n1981      444\n1980      335\n1979      280\n2014      219\n1978      185\n1977      103\n1976       63\n1973       34\n1974       31\n1975       20\n1972       19\n1971       13\n1970        8\n1969        3\n1968        1\nName: ApprovalFY, dtype: int64"
     },
     "execution_count": 48,
     "metadata": {},
     "output_type": "execute_result"
    }
   ],
   "source": [
    "df['ApprovalFY'].value_counts()"
   ],
   "metadata": {
    "collapsed": false,
    "pycharm": {
     "name": "#%%\n"
    }
   }
  },
  {
   "cell_type": "markdown",
   "source": [
    "## Term"
   ],
   "metadata": {
    "collapsed": false,
    "pycharm": {
     "name": "#%% md\n",
     "is_executing": true
    }
   }
  },
  {
   "cell_type": "code",
   "execution_count": 49,
   "outputs": [
    {
     "name": "stdout",
     "output_type": "stream",
     "text": [
      "Null values: 0\n",
      "Unique: 399\n",
      "Vals: \n",
      " 84     180464\n",
      "60      70936\n",
      "240     67941\n",
      "120     61338\n",
      "300     35510\n",
      "180     22179\n",
      "36      15462\n",
      "12      13389\n",
      "48      12285\n",
      "72       7463\n",
      "24       5724\n",
      "96       5535\n",
      "90       5475\n",
      "66       4131\n",
      "87       3987\n",
      "63       3617\n",
      "83       3285\n",
      "108      3140\n",
      "144      2552\n",
      "6        2430\n",
      "59       2417\n",
      "61       2409\n",
      "42       2359\n",
      "288      2309\n",
      "54       2248\n",
      "62       2243\n",
      "64       2136\n",
      "78       2128\n",
      "58       2087\n",
      "55       2001\n",
      "276      1996\n",
      "50       1993\n",
      "82       1988\n",
      "57       1979\n",
      "47       1957\n",
      "40       1953\n",
      "49       1952\n",
      "39       1950\n",
      "56       1949\n",
      "51       1946\n",
      "Name: Term, dtype: int64\n",
      "Current category: 84\n",
      "P I F     0.991599\n",
      "CHGOFF    0.008401\n",
      "Name: MIS_Status, dtype: float64\n",
      "Current category: 60\n",
      "P I F     0.972877\n",
      "CHGOFF    0.027123\n",
      "Name: MIS_Status, dtype: float64\n",
      "Current category: 240\n",
      "P I F     0.997836\n",
      "CHGOFF    0.002164\n",
      "Name: MIS_Status, dtype: float64\n",
      "Current category: 120\n",
      "P I F     0.987626\n",
      "CHGOFF    0.012374\n",
      "Name: MIS_Status, dtype: float64\n",
      "Current category: 300\n",
      "P I F     0.998536\n",
      "CHGOFF    0.001464\n",
      "Name: MIS_Status, dtype: float64\n",
      "Current category: 180\n",
      "P I F     0.988097\n",
      "CHGOFF    0.011903\n",
      "Name: MIS_Status, dtype: float64\n",
      "Current category: 36\n",
      "P I F     0.897491\n",
      "CHGOFF    0.102509\n",
      "Name: MIS_Status, dtype: float64\n",
      "Current category: 12\n",
      "P I F     0.927254\n",
      "CHGOFF    0.072746\n",
      "Name: MIS_Status, dtype: float64\n",
      "Current category: 48\n",
      "P I F     0.864062\n",
      "CHGOFF    0.135938\n",
      "Name: MIS_Status, dtype: float64\n",
      "Current category: 72\n",
      "P I F     0.850998\n",
      "CHGOFF    0.149002\n",
      "Name: MIS_Status, dtype: float64\n",
      "Current category: 24\n",
      "P I F     0.809923\n",
      "CHGOFF    0.190077\n",
      "Name: MIS_Status, dtype: float64\n",
      "Current category: 96\n",
      "P I F     0.912918\n",
      "CHGOFF    0.087082\n",
      "Name: MIS_Status, dtype: float64\n",
      "Current category: 90\n",
      "P I F     0.925297\n",
      "CHGOFF    0.074703\n",
      "Name: MIS_Status, dtype: float64\n",
      "Current category: 66\n",
      "P I F     0.635681\n",
      "CHGOFF    0.364319\n",
      "Name: MIS_Status, dtype: float64\n",
      "Current category: 87\n",
      "P I F     0.905694\n",
      "CHGOFF    0.094306\n",
      "Name: MIS_Status, dtype: float64\n",
      "Current category: 63\n",
      "P I F     0.542715\n",
      "CHGOFF    0.457285\n",
      "Name: MIS_Status, dtype: float64\n",
      "Current category: 83\n",
      "P I F     0.877626\n",
      "CHGOFF    0.122374\n",
      "Name: MIS_Status, dtype: float64\n",
      "Current category: 108\n",
      "P I F     0.907006\n",
      "CHGOFF    0.092994\n",
      "Name: MIS_Status, dtype: float64\n",
      "Current category: 144\n",
      "P I F     0.962774\n",
      "CHGOFF    0.037226\n",
      "Name: MIS_Status, dtype: float64\n",
      "Current category: 6\n",
      "P I F     0.536214\n",
      "CHGOFF    0.463786\n",
      "Name: MIS_Status, dtype: float64\n",
      "Current category: 59\n",
      "CHGOFF    0.679355\n",
      "P I F     0.320645\n",
      "Name: MIS_Status, dtype: float64\n",
      "Current category: 61\n",
      "CHGOFF    0.717725\n",
      "P I F     0.282275\n",
      "Name: MIS_Status, dtype: float64\n",
      "Current category: 42\n",
      "CHGOFF    0.740992\n",
      "P I F     0.259008\n",
      "Name: MIS_Status, dtype: float64\n",
      "Current category: 288\n",
      "P I F     0.990472\n",
      "CHGOFF    0.009528\n",
      "Name: MIS_Status, dtype: float64\n",
      "Current category: 54\n",
      "CHGOFF    0.769573\n",
      "P I F     0.230427\n",
      "Name: MIS_Status, dtype: float64\n",
      "Current category: 62\n",
      "CHGOFF    0.744984\n",
      "P I F     0.255016\n",
      "Name: MIS_Status, dtype: float64\n",
      "Current category: 64\n",
      "CHGOFF    0.735955\n",
      "P I F     0.264045\n",
      "Name: MIS_Status, dtype: float64\n",
      "Current category: 78\n",
      "P I F     0.794173\n",
      "CHGOFF    0.205827\n",
      "Name: MIS_Status, dtype: float64\n",
      "Current category: 58\n",
      "CHGOFF    0.781505\n",
      "P I F     0.218495\n",
      "Name: MIS_Status, dtype: float64\n",
      "Current category: 55\n",
      "CHGOFF    0.86057\n",
      "P I F     0.13943\n",
      "Name: MIS_Status, dtype: float64\n",
      "Current category: 276\n",
      "P I F     0.981463\n",
      "CHGOFF    0.018537\n",
      "Name: MIS_Status, dtype: float64\n",
      "Current category: 50\n",
      "CHGOFF    0.839438\n",
      "P I F     0.160562\n",
      "Name: MIS_Status, dtype: float64\n",
      "Current category: 82\n",
      "P I F     0.81992\n",
      "CHGOFF    0.18008\n",
      "Name: MIS_Status, dtype: float64\n",
      "Current category: 57\n",
      "CHGOFF    0.836786\n",
      "P I F     0.163214\n",
      "Name: MIS_Status, dtype: float64\n",
      "Current category: 47\n",
      "CHGOFF    0.814512\n",
      "P I F     0.185488\n",
      "Name: MIS_Status, dtype: float64\n",
      "Current category: 40\n",
      "CHGOFF    0.875064\n",
      "P I F     0.124936\n",
      "Name: MIS_Status, dtype: float64\n",
      "Current category: 49\n",
      "CHGOFF    0.850922\n",
      "P I F     0.149078\n",
      "Name: MIS_Status, dtype: float64\n",
      "Current category: 39\n",
      "CHGOFF    0.82359\n",
      "P I F     0.17641\n",
      "Name: MIS_Status, dtype: float64\n",
      "Current category: 56\n",
      "CHGOFF    0.860441\n",
      "P I F     0.139559\n",
      "Name: MIS_Status, dtype: float64\n",
      "Current category: 51\n",
      "CHGOFF    0.840699\n",
      "P I F     0.159301\n",
      "Name: MIS_Status, dtype: float64\n"
     ]
    }
   ],
   "source": [
    "basic_cat_col_data(df, 'Term', label, 40)"
   ],
   "metadata": {
    "collapsed": false,
    "pycharm": {
     "name": "#%%\n"
    }
   }
  },
  {
   "cell_type": "code",
   "execution_count": 50,
   "outputs": [],
   "source": [
    "val_counts = df['Term'].value_counts()"
   ],
   "metadata": {
    "collapsed": false,
    "pycharm": {
     "name": "#%%\n"
    }
   }
  },
  {
   "cell_type": "code",
   "execution_count": 51,
   "outputs": [
    {
     "data": {
      "text/plain": "84     180464\n60      70936\n240     67941\n120     61338\n300     35510\n        ...  \n124       546\n103       531\n104       522\n107       511\n121       503\nName: Term, Length: 135, dtype: int64"
     },
     "execution_count": 51,
     "metadata": {},
     "output_type": "execute_result"
    }
   ],
   "source": [
    "val_counts[val_counts > 500]\n"
   ],
   "metadata": {
    "collapsed": false,
    "pycharm": {
     "name": "#%%\n"
    }
   }
  },
  {
   "cell_type": "code",
   "execution_count": 52,
   "outputs": [
    {
     "data": {
      "text/plain": "0         639\n1        1263\n2        1417\n3        1686\n4        1704\n5        1485\n6        2430\n7        1412\n8        1358\n9        1494\n10       1217\n11       1361\n12      13389\n13       1622\n14       1208\n15       1236\n16       1153\n17       1175\n18       1494\n19       1249\n20       1300\n21       1260\n22       1250\n23       1484\n24       5724\n25       1452\n26       1398\n27       1438\n28       1468\n29       1386\n30       1730\n31       1580\n32       1509\n33       1542\n34       1672\n35       1809\n36      15462\n37       1793\n38       1837\n39       1950\n40       1953\n41       1859\n42       2359\n43       1801\n44       1781\n45       1775\n46       1851\n47       1957\n48      12285\n49       1952\n50       1993\n51       1946\n52       1921\n53       1906\n54       2248\n55       2001\n56       1949\n57       1979\n58       2087\n59       2417\n60      70936\n61       2409\n62       2243\n63       3617\n64       2136\n65       1940\n66       4131\n67       1701\n68       1680\n69       1703\n70       1677\n71       1794\n72       7463\n73       1473\n74       1178\n75       1270\n76        970\n77        853\n78       2128\n79        903\n80       1008\n81       1222\n82       1988\n83       3285\n84     180464\n85       1389\n86       1102\n87       3987\n88       1143\n89        813\n90       5475\n91        653\n92        670\n93        827\n94        668\n95        737\n96       5535\n97        604\n98        630\n99        768\n100       592\n101       546\n102      1176\n103       531\n104       522\n105       585\n106       477\n107       511\n108      3140\n109       417\n110       444\n111       563\n112       382\n113       352\n114       611\n115       317\n116       275\n117       459\n118       558\n119       798\n120     61338\n121       503\n122       455\n123      1639\n124       546\n125       310\n126      1554\n127       143\n128       167\n129       214\n130       180\n131       188\n132       566\n133       110\n134       141\n135       121\n136       131\n137       139\n138       156\n139        98\n140       179\n141       137\n142       129\n143       176\n144      2552\n145       125\n146       134\n147       176\n148       129\n149       122\n150       217\n151       104\n152       108\n153       114\n154       112\n155       119\n156       786\n157       104\n158        94\n159       115\n160        95\n161        93\n162       153\n163       116\n164        94\n165        90\n166        99\n167       103\n168       834\n169        85\n170        96\n171        95\n172        75\n173        65\n174       204\n175       122\n176       115\n177       164\n178       183\n179       344\n180     22179\n181       220\n182       182\n183       479\n184       186\n185       143\n186       813\n187       107\n188        89\n189       148\n190        93\n191        80\n192       757\n193        68\n194        75\n195       101\n196        76\n197        75\n198       135\n199        69\n200       104\n201        98\n202        91\n203        94\n204       977\n205       105\n206        82\n207       120\n208        90\n209       101\n210       206\n211        70\n212        91\n213        89\n214        75\n215        90\n216      1542\n217        87\n218        96\n219       154\n220       103\n221        82\n222       188\n223        79\n224        76\n225        96\n226        70\n227        81\n228       948\n229        85\n230        86\n231        98\n232        85\n233        71\n234       133\n235        75\n236        83\n237       101\n238       142\n239       193\n240     67941\n241       220\n242       171\n243       463\n244       223\n245       134\n246       944\n247        97\n248       113\n249       262\n250        89\n251        74\n252      1333\n253        79\n254        82\n255       109\n256        81\n257        76\n258       174\n259        84\n260        78\n261        98\n262        74\n263        69\n264      1759\n265        99\n266        77\n267       118\n268       103\n269        90\n270       240\n271        62\n272        71\n273       110\n274        77\n275        68\n276      1996\n277        80\n278        97\n279       127\n280        87\n281        70\n282       293\n283        56\n284        74\n285       106\n286        52\n287        50\n288      2309\n289        67\n290        69\n291       151\n292        55\n293        61\n294       303\n295        66\n296        66\n297       105\n298        97\n299       187\n300     35510\n301       114\n302       130\n303       329\n304       169\n305       104\n306       719\n307        88\n308        70\n309       203\n310        54\n311        37\n312       118\n313        11\n314        17\n315         9\n316         5\n317         8\n318        15\n319         6\n320         7\n321         6\n322         4\n323         7\n324         7\n325         4\n326         3\n327         3\n328         3\n329         3\n330         7\n333         3\n334         4\n336         4\n338         1\n339         1\n340        16\n342         3\n343         1\n345         1\n346         1\n347         2\n348         9\n349         5\n350         6\n351         1\n352         1\n353         1\n354         3\n355         2\n356         4\n357         3\n358         4\n359         3\n360        39\n361         1\n363         1\n364         2\n365         1\n366         1\n367         1\n368         1\n370         2\n372         2\n374         1\n381         1\n385         2\n386         3\n388         3\n389         6\n391         2\n398         1\n402         1\n403         1\n404         1\n412         1\n413         1\n414         1\n418         1\n419         1\n421         2\n425         1\n428         1\n429         1\n430         1\n434         1\n435         1\n438         1\n440         1\n443         1\n445         1\n449         1\n461         1\n480         1\n481         1\n505         1\n511         1\n527         1\n569         1\nName: Term, dtype: int64"
     },
     "execution_count": 52,
     "metadata": {},
     "output_type": "execute_result"
    }
   ],
   "source": [
    "pd.set_option('display.max_rows', None)\n",
    "val_counts.sort_index()\n"
   ],
   "metadata": {
    "collapsed": false,
    "pycharm": {
     "name": "#%%\n"
    }
   }
  },
  {
   "cell_type": "code",
   "execution_count": 53,
   "outputs": [
    {
     "data": {
      "text/plain": "<AxesSubplot:>"
     },
     "execution_count": 53,
     "metadata": {},
     "output_type": "execute_result"
    },
    {
     "data": {
      "text/plain": "<Figure size 432x288 with 1 Axes>",
      "image/png": "[encoded data removed]"
     },
     "metadata": {
      "needs_background": "light"
     },
     "output_type": "display_data"
    }
   ],
   "source": [
    "df['Term'].hist()"
   ],
   "metadata": {
    "collapsed": false,
    "pycharm": {
     "name": "#%%\n"
    }
   }
  },
  {
   "cell_type": "code",
   "execution_count": 54,
   "outputs": [
    {
     "data": {
      "text/plain": "P I F     2372\nCHGOFF      65\nName: MIS_Status, dtype: int64"
     },
     "execution_count": 54,
     "metadata": {},
     "output_type": "execute_result"
    }
   ],
   "source": [
    "df[df['Term'] > 300][label].value_counts()\n"
   ],
   "metadata": {
    "collapsed": false,
    "pycharm": {
     "name": "#%%\n"
    }
   }
  }
 ],
 "metadata": {
  "kernelspec": {
   "display_name": "Python 3",
   "language": "python",
   "name": "python3"
  },
  "language_info": {
   "codemirror_mode": {
    "name": "ipython",
    "version": 2
   },
   "file_extension": ".py",
   "mimetype": "text/x-python",
   "name": "python",
   "nbconvert_exporter": "python",
   "pygments_lexer": "ipython2",
   "version": "2.7.6"
  }
 },
 "nbformat": 4,
 "nbformat_minor": 0
}